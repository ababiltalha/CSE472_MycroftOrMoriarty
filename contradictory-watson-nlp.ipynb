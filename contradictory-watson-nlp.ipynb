{
 "cells": [
  {
   "cell_type": "markdown",
   "id": "2b18b87e",
   "metadata": {
    "execution": {
     "iopub.execute_input": "2022-12-26T13:44:47.552299Z",
     "iopub.status.busy": "2022-12-26T13:44:47.551809Z",
     "iopub.status.idle": "2022-12-26T13:44:49.155834Z",
     "shell.execute_reply": "2022-12-26T13:44:49.154626Z",
     "shell.execute_reply.started": "2022-12-26T13:44:47.552241Z"
    },
    "papermill": {
     "duration": 0.010813,
     "end_time": "2024-02-20T05:14:01.685287",
     "exception": false,
     "start_time": "2024-02-20T05:14:01.674474",
     "status": "completed"
    },
    "tags": []
   },
   "source": [
    "Inspired from [@jhoward](https://www.kaggle.com/jhoward)'s [notebook](https://www.kaggle.com/code/jhoward/iterate-like-a-grandmaster/notebook) & [@asfurnica](https://www.kaggle.com/asfurnica)'s [notebook](https://www.kaggle.com/code/asfurnica/fast-ai-watson-entry)\n",
    "\n",
    "augmented data sources (thanks to [@tuckerarrants](https://www.kaggle.com/tuckerarrants)):\n",
    "- [back translated](https://www.kaggle.com/datasets/tuckerarrants/contradictorywatsontwicetranslatedaug)\n",
    "- [multiple translations](https://www.kaggle.com/datasets/tuckerarrants/contradictorytranslatedtrain)"
   ]
  },
  {
   "cell_type": "code",
   "execution_count": 1,
   "id": "8e7d6626",
   "metadata": {
    "execution": {
     "iopub.execute_input": "2024-02-20T05:14:01.706157Z",
     "iopub.status.busy": "2024-02-20T05:14:01.705702Z",
     "iopub.status.idle": "2024-02-20T05:14:14.184184Z",
     "shell.execute_reply": "2024-02-20T05:14:14.183133Z"
    },
    "papermill": {
     "duration": 12.491953,
     "end_time": "2024-02-20T05:14:14.186837",
     "exception": false,
     "start_time": "2024-02-20T05:14:01.694884",
     "status": "completed"
    },
    "tags": []
   },
   "outputs": [
    {
     "name": "stdout",
     "output_type": "stream",
     "text": [
      "\u001b[33mWARNING: Running pip as the 'root' user can result in broken permissions and conflicting behaviour with the system package manager. It is recommended to use a virtual environment instead: https://pip.pypa.io/warnings/venv\u001b[0m\u001b[33m\r\n",
      "\u001b[0m"
     ]
    }
   ],
   "source": [
    "!pip install -q --user datasets sentencepiece accelerate"
   ]
  },
  {
   "cell_type": "code",
   "execution_count": 2,
   "id": "d2245d95",
   "metadata": {
    "execution": {
     "iopub.execute_input": "2024-02-20T05:14:14.208151Z",
     "iopub.status.busy": "2024-02-20T05:14:14.207845Z",
     "iopub.status.idle": "2024-02-20T05:14:22.290081Z",
     "shell.execute_reply": "2024-02-20T05:14:22.288970Z"
    },
    "papermill": {
     "duration": 8.095824,
     "end_time": "2024-02-20T05:14:22.292943",
     "exception": false,
     "start_time": "2024-02-20T05:14:14.197119",
     "status": "completed"
    },
    "tags": []
   },
   "outputs": [],
   "source": [
    "import pandas as pd\n",
    "import numpy as np\n",
    "\n",
    "from transformers import AutoModelForSequenceClassification, AutoTokenizer, Trainer, TrainingArguments\n",
    "from datasets import Dataset, DatasetDict, load_metric\n",
    "from sklearn.model_selection import StratifiedGroupKFold\n",
    "from scipy import stats as st"
   ]
  },
  {
   "cell_type": "code",
   "execution_count": 3,
   "id": "73302d78",
   "metadata": {
    "execution": {
     "iopub.execute_input": "2024-02-20T05:14:22.315779Z",
     "iopub.status.busy": "2024-02-20T05:14:22.314857Z",
     "iopub.status.idle": "2024-02-20T05:14:22.460112Z",
     "shell.execute_reply": "2024-02-20T05:14:22.459276Z"
    },
    "papermill": {
     "duration": 0.158574,
     "end_time": "2024-02-20T05:14:22.462503",
     "exception": false,
     "start_time": "2024-02-20T05:14:22.303929",
     "status": "completed"
    },
    "tags": []
   },
   "outputs": [],
   "source": [
    "path = '../input/contradictory-my-dear-watson'\n",
    "orig = {\n",
    "    'train': pd.read_csv(f'{path}/train.csv'),\n",
    "    'test': pd.read_csv(f'{path}/test.csv'),\n",
    "}"
   ]
  },
  {
   "cell_type": "code",
   "execution_count": 4,
   "id": "84cc647f",
   "metadata": {
    "execution": {
     "iopub.execute_input": "2024-02-20T05:14:22.483293Z",
     "iopub.status.busy": "2024-02-20T05:14:22.482968Z",
     "iopub.status.idle": "2024-02-20T05:14:22.487787Z",
     "shell.execute_reply": "2024-02-20T05:14:22.486936Z"
    },
    "papermill": {
     "duration": 0.01734,
     "end_time": "2024-02-20T05:14:22.489838",
     "exception": false,
     "start_time": "2024-02-20T05:14:22.472498",
     "status": "completed"
    },
    "tags": []
   },
   "outputs": [],
   "source": [
    "INCLUDE_FULL_TRANSLATION = True\n",
    "INCLUDE_BACK_TRANSLATION = True"
   ]
  },
  {
   "cell_type": "code",
   "execution_count": 5,
   "id": "b7102d56",
   "metadata": {
    "execution": {
     "iopub.execute_input": "2024-02-20T05:14:22.511508Z",
     "iopub.status.busy": "2024-02-20T05:14:22.511175Z",
     "iopub.status.idle": "2024-02-20T05:14:23.461434Z",
     "shell.execute_reply": "2024-02-20T05:14:23.460389Z"
    },
    "papermill": {
     "duration": 0.962827,
     "end_time": "2024-02-20T05:14:23.463644",
     "exception": false,
     "start_time": "2024-02-20T05:14:22.500817",
     "status": "completed"
    },
    "tags": []
   },
   "outputs": [
    {
     "data": {
      "text/plain": [
       "(96960, 6)"
      ]
     },
     "execution_count": 5,
     "metadata": {},
     "output_type": "execute_result"
    }
   ],
   "source": [
    "df = orig['train']\n",
    "test_df = orig['test']\n",
    "\n",
    "if INCLUDE_FULL_TRANSLATION:\n",
    "    path = '../input/contradictorytranslatedtrain'\n",
    "    full_translations = {\n",
    "        'en': pd.read_csv(f'{path}/train_en.csv'),\n",
    "        'bg': pd.read_csv(f'{path}/train_bg.csv'),\n",
    "        'hi': pd.read_csv(f'{path}/train_hi.csv'),\n",
    "        'vi': pd.read_csv(f'{path}/train_vi.csv'),\n",
    "    }\n",
    "    df = pd.concat((df, *[full_translations[lang] for lang in full_translations.keys()]), ignore_index=True)\n",
    "\n",
    "if INCLUDE_BACK_TRANSLATION:    \n",
    "    path = '../input/contradictorywatsontwicetranslatedaug/'\n",
    "    back_translations = {\n",
    "        'train': {\n",
    "            'once': pd.read_csv(f'{path}/translation_aug_train.csv'),\n",
    "            'twice': pd.read_csv(f'{path}/twice_translated_aug_train.csv'),\n",
    "            'thrice': pd.read_csv(f'{path}/thrice_translation_aug_train.csv').drop('Unnamed: 0', axis=1),\n",
    "        },\n",
    "        'test': {\n",
    "            'once': pd.read_csv(f'{path}/translation_aug_test.csv'),\n",
    "            'twice': pd.read_csv(f'{path}/twice_translated_aug_test.csv'),\n",
    "            'thrice': pd.read_csv(f'{path}/thrice_translation_aug_test.csv').drop('Unnamed: 0', axis=1),\n",
    "        }\n",
    "    }\n",
    "    df = pd.concat((df, *[back_translations['train'][k] for k in back_translations['train'].keys()]), ignore_index=True)\n",
    "    \n",
    "\n",
    "df.rename(columns={'label': 'labels'}, inplace=True)\n",
    "df.shape"
   ]
  },
  {
   "cell_type": "code",
   "execution_count": 6,
   "id": "29bc67aa",
   "metadata": {
    "execution": {
     "iopub.execute_input": "2024-02-20T05:14:23.484299Z",
     "iopub.status.busy": "2024-02-20T05:14:23.483981Z",
     "iopub.status.idle": "2024-02-20T05:14:23.498615Z",
     "shell.execute_reply": "2024-02-20T05:14:23.497677Z"
    },
    "papermill": {
     "duration": 0.027314,
     "end_time": "2024-02-20T05:14:23.500702",
     "exception": false,
     "start_time": "2024-02-20T05:14:23.473388",
     "status": "completed"
    },
    "tags": []
   },
   "outputs": [
    {
     "data": {
      "text/html": [
       "<div>\n",
       "<style scoped>\n",
       "    .dataframe tbody tr th:only-of-type {\n",
       "        vertical-align: middle;\n",
       "    }\n",
       "\n",
       "    .dataframe tbody tr th {\n",
       "        vertical-align: top;\n",
       "    }\n",
       "\n",
       "    .dataframe thead th {\n",
       "        text-align: right;\n",
       "    }\n",
       "</style>\n",
       "<table border=\"1\" class=\"dataframe\">\n",
       "  <thead>\n",
       "    <tr style=\"text-align: right;\">\n",
       "      <th></th>\n",
       "      <th>id</th>\n",
       "      <th>premise</th>\n",
       "      <th>hypothesis</th>\n",
       "      <th>lang_abv</th>\n",
       "      <th>language</th>\n",
       "      <th>labels</th>\n",
       "    </tr>\n",
       "  </thead>\n",
       "  <tbody>\n",
       "    <tr>\n",
       "      <th>0</th>\n",
       "      <td>5130fd2cb5</td>\n",
       "      <td>and these comments were considered in formulat...</td>\n",
       "      <td>The rules developed in the interim were put to...</td>\n",
       "      <td>en</td>\n",
       "      <td>English</td>\n",
       "      <td>0</td>\n",
       "    </tr>\n",
       "    <tr>\n",
       "      <th>1</th>\n",
       "      <td>5b72532a0b</td>\n",
       "      <td>These are issues that we wrestle with in pract...</td>\n",
       "      <td>Practice groups are not permitted to work on t...</td>\n",
       "      <td>en</td>\n",
       "      <td>English</td>\n",
       "      <td>2</td>\n",
       "    </tr>\n",
       "    <tr>\n",
       "      <th>2</th>\n",
       "      <td>3931fbe82a</td>\n",
       "      <td>Des petites choses comme celles-là font une di...</td>\n",
       "      <td>J'essayais d'accomplir quelque chose.</td>\n",
       "      <td>fr</td>\n",
       "      <td>French</td>\n",
       "      <td>0</td>\n",
       "    </tr>\n",
       "    <tr>\n",
       "      <th>3</th>\n",
       "      <td>5622f0c60b</td>\n",
       "      <td>you know they can't really defend themselves l...</td>\n",
       "      <td>They can't defend themselves because of their ...</td>\n",
       "      <td>en</td>\n",
       "      <td>English</td>\n",
       "      <td>0</td>\n",
       "    </tr>\n",
       "    <tr>\n",
       "      <th>4</th>\n",
       "      <td>86aaa48b45</td>\n",
       "      <td>ในการเล่นบทบาทสมมุติก็เช่นกัน โอกาสที่จะได้แสด...</td>\n",
       "      <td>เด็กสามารถเห็นได้ว่าชาติพันธุ์แตกต่างกันอย่างไร</td>\n",
       "      <td>th</td>\n",
       "      <td>Thai</td>\n",
       "      <td>1</td>\n",
       "    </tr>\n",
       "  </tbody>\n",
       "</table>\n",
       "</div>"
      ],
      "text/plain": [
       "           id                                            premise  \\\n",
       "0  5130fd2cb5  and these comments were considered in formulat...   \n",
       "1  5b72532a0b  These are issues that we wrestle with in pract...   \n",
       "2  3931fbe82a  Des petites choses comme celles-là font une di...   \n",
       "3  5622f0c60b  you know they can't really defend themselves l...   \n",
       "4  86aaa48b45  ในการเล่นบทบาทสมมุติก็เช่นกัน โอกาสที่จะได้แสด...   \n",
       "\n",
       "                                          hypothesis lang_abv language  labels  \n",
       "0  The rules developed in the interim were put to...       en  English       0  \n",
       "1  Practice groups are not permitted to work on t...       en  English       2  \n",
       "2              J'essayais d'accomplir quelque chose.       fr   French       0  \n",
       "3  They can't defend themselves because of their ...       en  English       0  \n",
       "4    เด็กสามารถเห็นได้ว่าชาติพันธุ์แตกต่างกันอย่างไร       th     Thai       1  "
      ]
     },
     "execution_count": 6,
     "metadata": {},
     "output_type": "execute_result"
    }
   ],
   "source": [
    "df.head()"
   ]
  },
  {
   "cell_type": "code",
   "execution_count": 7,
   "id": "2484af2b",
   "metadata": {
    "execution": {
     "iopub.execute_input": "2024-02-20T05:14:23.521824Z",
     "iopub.status.busy": "2024-02-20T05:14:23.521520Z",
     "iopub.status.idle": "2024-02-20T05:14:23.533158Z",
     "shell.execute_reply": "2024-02-20T05:14:23.532274Z"
    },
    "papermill": {
     "duration": 0.024636,
     "end_time": "2024-02-20T05:14:23.535242",
     "exception": false,
     "start_time": "2024-02-20T05:14:23.510606",
     "status": "completed"
    },
    "tags": []
   },
   "outputs": [
    {
     "data": {
      "text/html": [
       "<div>\n",
       "<style scoped>\n",
       "    .dataframe tbody tr th:only-of-type {\n",
       "        vertical-align: middle;\n",
       "    }\n",
       "\n",
       "    .dataframe tbody tr th {\n",
       "        vertical-align: top;\n",
       "    }\n",
       "\n",
       "    .dataframe thead th {\n",
       "        text-align: right;\n",
       "    }\n",
       "</style>\n",
       "<table border=\"1\" class=\"dataframe\">\n",
       "  <thead>\n",
       "    <tr style=\"text-align: right;\">\n",
       "      <th></th>\n",
       "      <th>id</th>\n",
       "      <th>premise</th>\n",
       "      <th>hypothesis</th>\n",
       "      <th>lang_abv</th>\n",
       "      <th>language</th>\n",
       "      <th>labels</th>\n",
       "    </tr>\n",
       "  </thead>\n",
       "  <tbody>\n",
       "    <tr>\n",
       "      <th>96955</th>\n",
       "      <td>2b78e2a914</td>\n",
       "      <td>Even well-designed epidemiological outcomes ar...</td>\n",
       "      <td>All studies have the same uncertainty for them.</td>\n",
       "      <td>en</td>\n",
       "      <td>English</td>\n",
       "      <td>2</td>\n",
       "    </tr>\n",
       "    <tr>\n",
       "      <th>96956</th>\n",
       "      <td>7e9943d152</td>\n",
       "      <td>But there are two kinds of joy in doing, and t...</td>\n",
       "      <td>But there are two types of pleasures of doing ...</td>\n",
       "      <td>en</td>\n",
       "      <td>English</td>\n",
       "      <td>0</td>\n",
       "    </tr>\n",
       "    <tr>\n",
       "      <th>96957</th>\n",
       "      <td>5085923e6c</td>\n",
       "      <td>The important thing is that it has taken a lon...</td>\n",
       "      <td>It cannot be moved, not now or ever.</td>\n",
       "      <td>en</td>\n",
       "      <td>English</td>\n",
       "      <td>2</td>\n",
       "    </tr>\n",
       "    <tr>\n",
       "      <th>96958</th>\n",
       "      <td>fc8e2fd1fe</td>\n",
       "      <td>At the western end is a detailed model of the ...</td>\n",
       "      <td>The temple complex is located at the eastern end.</td>\n",
       "      <td>en</td>\n",
       "      <td>English</td>\n",
       "      <td>2</td>\n",
       "    </tr>\n",
       "    <tr>\n",
       "      <th>96959</th>\n",
       "      <td>44301dfb14</td>\n",
       "      <td>Solve yourself? Choose RK, or the father of Tu...</td>\n",
       "      <td>Atatرکrk was the father of the Turkish nation.</td>\n",
       "      <td>en</td>\n",
       "      <td>English</td>\n",
       "      <td>0</td>\n",
       "    </tr>\n",
       "  </tbody>\n",
       "</table>\n",
       "</div>"
      ],
      "text/plain": [
       "               id                                            premise  \\\n",
       "96955  2b78e2a914  Even well-designed epidemiological outcomes ar...   \n",
       "96956  7e9943d152  But there are two kinds of joy in doing, and t...   \n",
       "96957  5085923e6c  The important thing is that it has taken a lon...   \n",
       "96958  fc8e2fd1fe  At the western end is a detailed model of the ...   \n",
       "96959  44301dfb14  Solve yourself? Choose RK, or the father of Tu...   \n",
       "\n",
       "                                              hypothesis lang_abv language  \\\n",
       "96955    All studies have the same uncertainty for them.       en  English   \n",
       "96956  But there are two types of pleasures of doing ...       en  English   \n",
       "96957               It cannot be moved, not now or ever.       en  English   \n",
       "96958  The temple complex is located at the eastern end.       en  English   \n",
       "96959     Atatرکrk was the father of the Turkish nation.       en  English   \n",
       "\n",
       "       labels  \n",
       "96955       2  \n",
       "96956       0  \n",
       "96957       2  \n",
       "96958       2  \n",
       "96959       0  "
      ]
     },
     "execution_count": 7,
     "metadata": {},
     "output_type": "execute_result"
    }
   ],
   "source": [
    "df.tail()"
   ]
  },
  {
   "cell_type": "code",
   "execution_count": 8,
   "id": "f03e710b",
   "metadata": {
    "execution": {
     "iopub.execute_input": "2024-02-20T05:14:23.556612Z",
     "iopub.status.busy": "2024-02-20T05:14:23.556311Z",
     "iopub.status.idle": "2024-02-20T05:14:23.560596Z",
     "shell.execute_reply": "2024-02-20T05:14:23.559641Z"
    },
    "papermill": {
     "duration": 0.017262,
     "end_time": "2024-02-20T05:14:23.562664",
     "exception": false,
     "start_time": "2024-02-20T05:14:23.545402",
     "status": "completed"
    },
    "tags": []
   },
   "outputs": [],
   "source": [
    "np.random.seed(7)"
   ]
  },
  {
   "cell_type": "markdown",
   "id": "95f5cd50",
   "metadata": {
    "papermill": {
     "duration": 0.010104,
     "end_time": "2024-02-20T05:14:23.582847",
     "exception": false,
     "start_time": "2024-02-20T05:14:23.572743",
     "status": "completed"
    },
    "tags": []
   },
   "source": [
    "`Arabic, Bulgarian, Chinese, German, Greek, English, Spanish, French, Hindi, Russian, Swahili, Thai, Turkish, Urdu, and Vietnamese`"
   ]
  },
  {
   "cell_type": "code",
   "execution_count": 9,
   "id": "0661a4f1",
   "metadata": {
    "execution": {
     "iopub.execute_input": "2024-02-20T05:14:23.604659Z",
     "iopub.status.busy": "2024-02-20T05:14:23.604356Z",
     "iopub.status.idle": "2024-02-20T05:14:23.608917Z",
     "shell.execute_reply": "2024-02-20T05:14:23.607980Z"
    },
    "papermill": {
     "duration": 0.017628,
     "end_time": "2024-02-20T05:14:23.611001",
     "exception": false,
     "start_time": "2024-02-20T05:14:23.593373",
     "status": "completed"
    },
    "tags": []
   },
   "outputs": [],
   "source": [
    "model_nm = [\n",
    "#     'bert-base-multilingual-cased',\n",
    "#     'microsoft/deberta-v3-small',\n",
    "#     'facebook/bart-large-mnli',\n",
    "    'MoritzLaurer/mDeBERTa-v3-base-mnli-xnli',\n",
    "#     'MoritzLaurer/DeBERTa-v3-base-mnli-fever-docnli-ling-2c',\n",
    "    # 'MoritzLaurer/DeBERTa-v3-large-mnli-fever-anli-ling-wanli'\n",
    "#     'alan-turing-institute/mt5-large-finetuned-mnli-xtreme-xnli',    \n",
    "][-1]"
   ]
  },
  {
   "cell_type": "code",
   "execution_count": 10,
   "id": "258d564e",
   "metadata": {
    "execution": {
     "iopub.execute_input": "2024-02-20T05:14:23.632861Z",
     "iopub.status.busy": "2024-02-20T05:14:23.632573Z",
     "iopub.status.idle": "2024-02-20T05:14:26.977254Z",
     "shell.execute_reply": "2024-02-20T05:14:26.976151Z"
    },
    "papermill": {
     "duration": 3.358702,
     "end_time": "2024-02-20T05:14:26.980031",
     "exception": false,
     "start_time": "2024-02-20T05:14:23.621329",
     "status": "completed"
    },
    "tags": []
   },
   "outputs": [
    {
     "data": {
      "application/vnd.jupyter.widget-view+json": {
       "model_id": "78c5c16bf4e34283ae81396da0a2a142",
       "version_major": 2,
       "version_minor": 0
      },
      "text/plain": [
       "Downloading:   0%|          | 0.00/1.23k [00:00<?, ?B/s]"
      ]
     },
     "metadata": {},
     "output_type": "display_data"
    },
    {
     "data": {
      "application/vnd.jupyter.widget-view+json": {
       "model_id": "46172635c72c46f69c6ac1483fa5ac16",
       "version_major": 2,
       "version_minor": 0
      },
      "text/plain": [
       "Downloading:   0%|          | 0.00/4.11M [00:00<?, ?B/s]"
      ]
     },
     "metadata": {},
     "output_type": "display_data"
    },
    {
     "data": {
      "application/vnd.jupyter.widget-view+json": {
       "model_id": "ac92a763e4cf487486c42fc2678997f7",
       "version_major": 2,
       "version_minor": 0
      },
      "text/plain": [
       "Downloading:   0%|          | 0.00/23.0 [00:00<?, ?B/s]"
      ]
     },
     "metadata": {},
     "output_type": "display_data"
    },
    {
     "data": {
      "application/vnd.jupyter.widget-view+json": {
       "model_id": "d340ba694cbb4ad180493573872395fa",
       "version_major": 2,
       "version_minor": 0
      },
      "text/plain": [
       "Downloading:   0%|          | 0.00/286 [00:00<?, ?B/s]"
      ]
     },
     "metadata": {},
     "output_type": "display_data"
    }
   ],
   "source": [
    "tkn = AutoTokenizer.from_pretrained(model_nm, use_fast=False)"
   ]
  },
  {
   "cell_type": "code",
   "execution_count": 11,
   "id": "c6cab703",
   "metadata": {
    "execution": {
     "iopub.execute_input": "2024-02-20T05:14:27.004219Z",
     "iopub.status.busy": "2024-02-20T05:14:27.003862Z",
     "iopub.status.idle": "2024-02-20T05:14:27.010491Z",
     "shell.execute_reply": "2024-02-20T05:14:27.009456Z"
    },
    "papermill": {
     "duration": 0.021244,
     "end_time": "2024-02-20T05:14:27.012859",
     "exception": false,
     "start_time": "2024-02-20T05:14:26.991615",
     "status": "completed"
    },
    "tags": []
   },
   "outputs": [
    {
     "data": {
      "text/plain": [
       "['[CLS]', '[SEP]', '[UNK]', '[PAD]', '[MASK]']"
      ]
     },
     "execution_count": 11,
     "metadata": {},
     "output_type": "execute_result"
    }
   ],
   "source": [
    "tkn.all_special_tokens"
   ]
  },
  {
   "cell_type": "code",
   "execution_count": 12,
   "id": "1e9e4d09",
   "metadata": {
    "execution": {
     "iopub.execute_input": "2024-02-20T05:14:27.036993Z",
     "iopub.status.busy": "2024-02-20T05:14:27.036691Z",
     "iopub.status.idle": "2024-02-20T05:14:27.042625Z",
     "shell.execute_reply": "2024-02-20T05:14:27.041708Z"
    },
    "papermill": {
     "duration": 0.020224,
     "end_time": "2024-02-20T05:14:27.044735",
     "exception": false,
     "start_time": "2024-02-20T05:14:27.024511",
     "status": "completed"
    },
    "tags": []
   },
   "outputs": [
    {
     "data": {
      "text/plain": [
       "'[SEP]'"
      ]
     },
     "execution_count": 12,
     "metadata": {},
     "output_type": "execute_result"
    }
   ],
   "source": [
    "tkn.sep_token"
   ]
  },
  {
   "cell_type": "code",
   "execution_count": 13,
   "id": "5c2cbd67",
   "metadata": {
    "execution": {
     "iopub.execute_input": "2024-02-20T05:14:27.067448Z",
     "iopub.status.busy": "2024-02-20T05:14:27.067129Z",
     "iopub.status.idle": "2024-02-20T05:14:27.073121Z",
     "shell.execute_reply": "2024-02-20T05:14:27.072210Z"
    },
    "papermill": {
     "duration": 0.019683,
     "end_time": "2024-02-20T05:14:27.075235",
     "exception": false,
     "start_time": "2024-02-20T05:14:27.055552",
     "status": "completed"
    },
    "tags": []
   },
   "outputs": [],
   "source": [
    "if tkn.all_special_tokens[0].startswith('<'):\n",
    "    special_token = '<:-:>'\n",
    "    if not tkn.sep_token:\n",
    "        sep_token = '<sep>'\n",
    "        tkn.sep_token = sep_token\n",
    "    tkn.add_special_tokens({'additional_special_tokens': [special_token, tkn.sep_token]})\n",
    "else:\n",
    "    special_token = '[:-:]'\n",
    "    tkn.add_special_tokens({'additional_special_tokens': [special_token,]})"
   ]
  },
  {
   "cell_type": "code",
   "execution_count": 14,
   "id": "fcf4d384",
   "metadata": {
    "execution": {
     "iopub.execute_input": "2024-02-20T05:14:27.098987Z",
     "iopub.status.busy": "2024-02-20T05:14:27.098226Z",
     "iopub.status.idle": "2024-02-20T05:14:27.104226Z",
     "shell.execute_reply": "2024-02-20T05:14:27.103358Z"
    },
    "papermill": {
     "duration": 0.019747,
     "end_time": "2024-02-20T05:14:27.106168",
     "exception": false,
     "start_time": "2024-02-20T05:14:27.086421",
     "status": "completed"
    },
    "tags": []
   },
   "outputs": [
    {
     "data": {
      "text/plain": [
       "['[CLS]', '[SEP]', '[UNK]', '[PAD]', '[MASK]', '[:-:]']"
      ]
     },
     "execution_count": 14,
     "metadata": {},
     "output_type": "execute_result"
    }
   ],
   "source": [
    "tkn.all_special_tokens"
   ]
  },
  {
   "cell_type": "code",
   "execution_count": 15,
   "id": "3b7ee48a",
   "metadata": {
    "execution": {
     "iopub.execute_input": "2024-02-20T05:14:27.129842Z",
     "iopub.status.busy": "2024-02-20T05:14:27.129526Z",
     "iopub.status.idle": "2024-02-20T05:14:27.253210Z",
     "shell.execute_reply": "2024-02-20T05:14:27.252383Z"
    },
    "papermill": {
     "duration": 0.138449,
     "end_time": "2024-02-20T05:14:27.255732",
     "exception": false,
     "start_time": "2024-02-20T05:14:27.117283",
     "status": "completed"
    },
    "tags": []
   },
   "outputs": [],
   "source": [
    "df.loc[:, 'sectok'] = special_token\n",
    "test_df.loc[:, 'sectok'] = special_token\n",
    "\n",
    "df.loc[:, \"inputs\"] = (df.sectok + tkn.sep_token + df.premise + tkn.sep_token + df.hypothesis)\n",
    "test_df.loc[:, \"inputs\"] = (test_df.sectok + tkn.sep_token + test_df.premise + tkn.sep_token + test_df.hypothesis)"
   ]
  },
  {
   "cell_type": "code",
   "execution_count": 16,
   "id": "4812c31f",
   "metadata": {
    "execution": {
     "iopub.execute_input": "2024-02-20T05:14:27.280233Z",
     "iopub.status.busy": "2024-02-20T05:14:27.279872Z",
     "iopub.status.idle": "2024-02-20T05:14:27.284824Z",
     "shell.execute_reply": "2024-02-20T05:14:27.283864Z"
    },
    "papermill": {
     "duration": 0.02009,
     "end_time": "2024-02-20T05:14:27.287196",
     "exception": false,
     "start_time": "2024-02-20T05:14:27.267106",
     "status": "completed"
    },
    "tags": []
   },
   "outputs": [],
   "source": [
    "def tokenize_text(x):\n",
    "    return tkn(x['inputs'], padding=True, truncation=True) #padding='max_length'"
   ]
  },
  {
   "cell_type": "code",
   "execution_count": 17,
   "id": "132f8439",
   "metadata": {
    "execution": {
     "iopub.execute_input": "2024-02-20T05:14:27.313095Z",
     "iopub.status.busy": "2024-02-20T05:14:27.312761Z",
     "iopub.status.idle": "2024-02-20T05:15:27.746216Z",
     "shell.execute_reply": "2024-02-20T05:15:27.745105Z"
    },
    "papermill": {
     "duration": 60.458667,
     "end_time": "2024-02-20T05:15:27.757331",
     "exception": false,
     "start_time": "2024-02-20T05:14:27.298664",
     "status": "completed"
    },
    "tags": []
   },
   "outputs": [
    {
     "data": {
      "application/vnd.jupyter.widget-view+json": {
       "model_id": "79078ba4ef804f35acff6ba14bfae9e7",
       "version_major": 2,
       "version_minor": 0
      },
      "text/plain": [
       "  0%|          | 0/97 [00:00<?, ?ba/s]"
      ]
     },
     "metadata": {},
     "output_type": "display_data"
    }
   ],
   "source": [
    "ds = Dataset.from_pandas(df)\n",
    "ds = ds.map(tokenize_text, batched=True, remove_columns=('premise', 'hypothesis', 'language', 'inputs', 'id', 'lang_abv', 'sectok'))"
   ]
  },
  {
   "cell_type": "code",
   "execution_count": 18,
   "id": "f9bdfec2",
   "metadata": {
    "execution": {
     "iopub.execute_input": "2024-02-20T05:15:27.785354Z",
     "iopub.status.busy": "2024-02-20T05:15:27.784953Z",
     "iopub.status.idle": "2024-02-20T05:15:30.794508Z",
     "shell.execute_reply": "2024-02-20T05:15:30.793622Z"
    },
    "papermill": {
     "duration": 3.025782,
     "end_time": "2024-02-20T05:15:30.796739",
     "exception": false,
     "start_time": "2024-02-20T05:15:27.770957",
     "status": "completed"
    },
    "tags": []
   },
   "outputs": [
    {
     "data": {
      "application/vnd.jupyter.widget-view+json": {
       "model_id": "d8d0cb0a4ea940df99a63c1c1e4f769b",
       "version_major": 2,
       "version_minor": 0
      },
      "text/plain": [
       "  0%|          | 0/6 [00:00<?, ?ba/s]"
      ]
     },
     "metadata": {},
     "output_type": "display_data"
    }
   ],
   "source": [
    "test_ds = Dataset.from_pandas(test_df)\n",
    "test_ds = test_ds.map(tokenize_text, batched=True, remove_columns=('premise', 'hypothesis', 'language', 'lang_abv', 'inputs', 'sectok'))"
   ]
  },
  {
   "cell_type": "code",
   "execution_count": 19,
   "id": "01d1a6f5",
   "metadata": {
    "execution": {
     "iopub.execute_input": "2024-02-20T05:15:30.822599Z",
     "iopub.status.busy": "2024-02-20T05:15:30.822132Z",
     "iopub.status.idle": "2024-02-20T05:15:30.828941Z",
     "shell.execute_reply": "2024-02-20T05:15:30.827903Z"
    },
    "papermill": {
     "duration": 0.022422,
     "end_time": "2024-02-20T05:15:30.831353",
     "exception": false,
     "start_time": "2024-02-20T05:15:30.808931",
     "status": "completed"
    },
    "tags": []
   },
   "outputs": [
    {
     "data": {
      "text/plain": [
       "Dataset({\n",
       "    features: ['labels', 'input_ids', 'token_type_ids', 'attention_mask'],\n",
       "    num_rows: 96960\n",
       "})"
      ]
     },
     "execution_count": 19,
     "metadata": {},
     "output_type": "execute_result"
    }
   ],
   "source": [
    "ds"
   ]
  },
  {
   "cell_type": "code",
   "execution_count": 20,
   "id": "29191a04",
   "metadata": {
    "execution": {
     "iopub.execute_input": "2024-02-20T05:15:30.858759Z",
     "iopub.status.busy": "2024-02-20T05:15:30.857846Z",
     "iopub.status.idle": "2024-02-20T05:15:31.222518Z",
     "shell.execute_reply": "2024-02-20T05:15:31.221527Z"
    },
    "papermill": {
     "duration": 0.380907,
     "end_time": "2024-02-20T05:15:31.224882",
     "exception": false,
     "start_time": "2024-02-20T05:15:30.843975",
     "status": "completed"
    },
    "tags": []
   },
   "outputs": [
    {
     "data": {
      "application/vnd.jupyter.widget-view+json": {
       "model_id": "a03ec8885a2d4fdfb8f40c2825af9b5a",
       "version_major": 2,
       "version_minor": 0
      },
      "text/plain": [
       "Downloading builder script:   0%|          | 0.00/1.41k [00:00<?, ?B/s]"
      ]
     },
     "metadata": {},
     "output_type": "display_data"
    }
   ],
   "source": [
    "accuracy = load_metric('accuracy')\n",
    "# f1 = load_metric('f1')\n",
    "\n",
    "def compute_metrics(pred):\n",
    "    labels=pred.label_ids\n",
    "    preds=pred.predictions.argmax(1)\n",
    "#     f1_score=f1.compute(predictions=preds, references=labels, average='weighted')\n",
    "    ac_score=accuracy.compute(predictions=preds, references=labels)\n",
    "    print(ac_score)\n",
    "    return ac_score"
   ]
  },
  {
   "cell_type": "code",
   "execution_count": 21,
   "id": "33f68828",
   "metadata": {
    "execution": {
     "iopub.execute_input": "2024-02-20T05:15:31.250998Z",
     "iopub.status.busy": "2024-02-20T05:15:31.250677Z",
     "iopub.status.idle": "2024-02-20T05:15:31.259389Z",
     "shell.execute_reply": "2024-02-20T05:15:31.258535Z"
    },
    "papermill": {
     "duration": 0.02406,
     "end_time": "2024-02-20T05:15:31.261528",
     "exception": false,
     "start_time": "2024-02-20T05:15:31.237468",
     "status": "completed"
    },
    "tags": []
   },
   "outputs": [],
   "source": [
    "def get_model():\n",
    "    return (AutoModelForSequenceClassification\n",
    "            .from_pretrained(model_nm, num_labels=3,\n",
    "#                              hidden_dropout_prob=0.15,\n",
    "#                              attention_probs_dropout_prob=0.15\n",
    "                            ))\n",
    "\n",
    "def get_trainer(dds, model=None):\n",
    "    if model is None: model = get_model()\n",
    "\n",
    "    args = TrainingArguments('outputs', learning_rate=lr, warmup_ratio=0.1, lr_scheduler_type='cosine', fp16=True, save_strategy='epoch', group_by_length=True,\n",
    "                             evaluation_strategy=\"epoch\", per_device_train_batch_size=bs, per_device_eval_batch_size=bs*2, metric_for_best_model='accuracy', label_smoothing_factor=0.2,\n",
    "                             num_train_epochs=epochs, weight_decay=wd, report_to='none', greater_is_better=True, auto_find_batch_size=True, load_best_model_at_end=True, save_total_limit=1\n",
    "                            )\n",
    "    \n",
    "    \n",
    "    return Trainer(model, args, train_dataset=dds['train'], eval_dataset=dds['valid'],\n",
    "                   tokenizer=tkn, compute_metrics=compute_metrics)"
   ]
  },
  {
   "cell_type": "code",
   "execution_count": 22,
   "id": "6c2b1292",
   "metadata": {
    "execution": {
     "iopub.execute_input": "2024-02-20T05:15:31.287708Z",
     "iopub.status.busy": "2024-02-20T05:15:31.287395Z",
     "iopub.status.idle": "2024-02-20T05:15:31.292866Z",
     "shell.execute_reply": "2024-02-20T05:15:31.291815Z"
    },
    "papermill": {
     "duration": 0.021559,
     "end_time": "2024-02-20T05:15:31.295228",
     "exception": false,
     "start_time": "2024-02-20T05:15:31.273669",
     "status": "completed"
    },
    "tags": []
   },
   "outputs": [],
   "source": [
    "def get_fold(folds, fold_num):\n",
    "    trn_idxs, val_idxs = folds[fold_num]\n",
    "    return DatasetDict({\n",
    "        'train': ds.select(trn_idxs),\n",
    "        'valid': ds.select(val_idxs)\n",
    "    })"
   ]
  },
  {
   "cell_type": "code",
   "execution_count": 23,
   "id": "8a1e0807",
   "metadata": {
    "execution": {
     "iopub.execute_input": "2024-02-20T05:15:31.321806Z",
     "iopub.status.busy": "2024-02-20T05:15:31.321482Z",
     "iopub.status.idle": "2024-02-20T05:15:31.327268Z",
     "shell.execute_reply": "2024-02-20T05:15:31.326149Z"
    },
    "papermill": {
     "duration": 0.021978,
     "end_time": "2024-02-20T05:15:31.329703",
     "exception": false,
     "start_time": "2024-02-20T05:15:31.307725",
     "status": "completed"
    },
    "tags": []
   },
   "outputs": [],
   "source": [
    "def train(ds):\n",
    "    model = get_model()\n",
    "    model.resize_token_embeddings(len(tkn))\n",
    "\n",
    "    print(f'total rows: {ds.num_rows}')\n",
    "    trainer = get_trainer(ds, model)\n",
    "    trainer.train()\n",
    "    return trainer"
   ]
  },
  {
   "cell_type": "code",
   "execution_count": 24,
   "id": "a739865a",
   "metadata": {
    "execution": {
     "iopub.execute_input": "2024-02-20T05:15:31.355658Z",
     "iopub.status.busy": "2024-02-20T05:15:31.355309Z",
     "iopub.status.idle": "2024-02-20T05:15:31.362832Z",
     "shell.execute_reply": "2024-02-20T05:15:31.362033Z"
    },
    "papermill": {
     "duration": 0.022634,
     "end_time": "2024-02-20T05:15:31.364916",
     "exception": false,
     "start_time": "2024-02-20T05:15:31.342282",
     "status": "completed"
    },
    "tags": []
   },
   "outputs": [],
   "source": [
    "def ensemble_train(df, n_folds=4):\n",
    "    cv = StratifiedGroupKFold(n_splits=n_folds)\n",
    "    df = df.sample(frac=1)\n",
    "    folds = list(cv.split(df.index.values, df.labels, groups=df.lang_abv))\n",
    "\n",
    "    trainers = []\n",
    "    for i in range(n_folds):\n",
    "        print(f'training with fold:{i}')\n",
    "        dds = get_fold(folds, i)\n",
    "        model = get_model()\n",
    "        model.resize_token_embeddings(len(tkn))\n",
    "        trainer = get_trainer(dds, model)\n",
    "        trainer.train()\n",
    "        trainers.append(trainer)\n",
    "    \n",
    "    return trainers"
   ]
  },
  {
   "cell_type": "code",
   "execution_count": 25,
   "id": "0f63b906",
   "metadata": {
    "execution": {
     "iopub.execute_input": "2024-02-20T05:15:31.389794Z",
     "iopub.status.busy": "2024-02-20T05:15:31.389514Z",
     "iopub.status.idle": "2024-02-20T05:15:31.395934Z",
     "shell.execute_reply": "2024-02-20T05:15:31.395138Z"
    },
    "papermill": {
     "duration": 0.021425,
     "end_time": "2024-02-20T05:15:31.397976",
     "exception": false,
     "start_time": "2024-02-20T05:15:31.376551",
     "status": "completed"
    },
    "tags": []
   },
   "outputs": [],
   "source": [
    "def train_valid_split(df, valid_pct=0.25):\n",
    "\n",
    "    valid_idxs = df.groupby('lang_abv').apply(lambda x: x.sample(frac=valid_pct)).droplevel(0).index.values\n",
    "    train_idxs = np.setdiff1d(df.index.values, valid_idxs)\n",
    "\n",
    "    np.random.shuffle(train_idxs)\n",
    "    np.random.shuffle(valid_idxs)\n",
    "\n",
    "    dds = DatasetDict({\n",
    "        'train': ds.select(train_idxs),\n",
    "        'valid': ds.select(valid_idxs)\n",
    "    })\n",
    "    \n",
    "    return dds"
   ]
  },
  {
   "cell_type": "code",
   "execution_count": 26,
   "id": "6a589f8b",
   "metadata": {
    "execution": {
     "iopub.execute_input": "2024-02-20T05:15:31.422456Z",
     "iopub.status.busy": "2024-02-20T05:15:31.422130Z",
     "iopub.status.idle": "2024-02-20T05:15:31.538872Z",
     "shell.execute_reply": "2024-02-20T05:15:31.537871Z"
    },
    "papermill": {
     "duration": 0.131478,
     "end_time": "2024-02-20T05:15:31.541148",
     "exception": false,
     "start_time": "2024-02-20T05:15:31.409670",
     "status": "completed"
    },
    "tags": []
   },
   "outputs": [
    {
     "data": {
      "text/plain": [
       "DatasetDict({\n",
       "    train: Dataset({\n",
       "        features: ['labels', 'input_ids', 'token_type_ids', 'attention_mask'],\n",
       "        num_rows: 36361\n",
       "    })\n",
       "    valid: Dataset({\n",
       "        features: ['labels', 'input_ids', 'token_type_ids', 'attention_mask'],\n",
       "        num_rows: 12119\n",
       "    })\n",
       "})"
      ]
     },
     "execution_count": 26,
     "metadata": {},
     "output_type": "execute_result"
    }
   ],
   "source": [
    "train_df = df.sample(frac=.5)\n",
    "dds = train_valid_split(train_df)\n",
    "dds"
   ]
  },
  {
   "cell_type": "code",
   "execution_count": 27,
   "id": "dbabf17d",
   "metadata": {
    "execution": {
     "iopub.execute_input": "2024-02-20T05:15:31.567923Z",
     "iopub.status.busy": "2024-02-20T05:15:31.567513Z",
     "iopub.status.idle": "2024-02-20T05:15:31.572983Z",
     "shell.execute_reply": "2024-02-20T05:15:31.572062Z"
    },
    "papermill": {
     "duration": 0.02143,
     "end_time": "2024-02-20T05:15:31.575046",
     "exception": false,
     "start_time": "2024-02-20T05:15:31.553616",
     "status": "completed"
    },
    "tags": []
   },
   "outputs": [],
   "source": [
    "bs = 16\n",
    "epochs = 1\n",
    "lr = 4e-5\n",
    "wd=0.02\n",
    "\n",
    "# ENSEMBLE = True\n",
    "ENSEMBLE = False\n",
    "n_folds = 2\n",
    "MODE_OR_MEAN = 'mode'  #valid only if ENSEMBLE == True"
   ]
  },
  {
   "cell_type": "code",
   "execution_count": 28,
   "id": "214ae38b",
   "metadata": {
    "execution": {
     "iopub.execute_input": "2024-02-20T05:15:31.601146Z",
     "iopub.status.busy": "2024-02-20T05:15:31.600385Z",
     "iopub.status.idle": "2024-02-20T05:32:31.982592Z",
     "shell.execute_reply": "2024-02-20T05:32:31.981531Z"
    },
    "papermill": {
     "duration": 1020.397718,
     "end_time": "2024-02-20T05:32:31.984976",
     "exception": false,
     "start_time": "2024-02-20T05:15:31.587258",
     "status": "completed"
    },
    "tags": []
   },
   "outputs": [
    {
     "data": {
      "application/vnd.jupyter.widget-view+json": {
       "model_id": "c0a89f96111d4240adf313d36ad37386",
       "version_major": 2,
       "version_minor": 0
      },
      "text/plain": [
       "Downloading:   0%|          | 0.00/1.04k [00:00<?, ?B/s]"
      ]
     },
     "metadata": {},
     "output_type": "display_data"
    },
    {
     "data": {
      "application/vnd.jupyter.widget-view+json": {
       "model_id": "56b097cdefa94b749c32a253721806e3",
       "version_major": 2,
       "version_minor": 0
      },
      "text/plain": [
       "Downloading:   0%|          | 0.00/532M [00:00<?, ?B/s]"
      ]
     },
     "metadata": {},
     "output_type": "display_data"
    },
    {
     "name": "stdout",
     "output_type": "stream",
     "text": [
      "total rows: {'train': 36361, 'valid': 12119}\n"
     ]
    },
    {
     "name": "stderr",
     "output_type": "stream",
     "text": [
      "Using cuda_amp half precision backend\n",
      "/opt/conda/lib/python3.7/site-packages/accelerate/memory_utils.py:26: FutureWarning: memory_utils has been reorganized to utils.memory. Import `find_executable_batchsize` from the main `__init__`: `from accelerate import find_executable_batch_size` to avoid this warning.\n",
      "  FutureWarning,\n",
      "/opt/conda/lib/python3.7/site-packages/transformers/optimization.py:310: FutureWarning: This implementation of AdamW is deprecated and will be removed in a future version. Use the PyTorch implementation torch.optim.AdamW instead, or set `no_deprecation_warning=True` to disable this warning\n",
      "  FutureWarning,\n",
      "***** Running training *****\n",
      "  Num examples = 36361\n",
      "  Num Epochs = 1\n",
      "  Instantaneous batch size per device = 16\n",
      "  Total train batch size (w. parallel, distributed & accumulation) = 32\n",
      "  Gradient Accumulation steps = 1\n",
      "  Total optimization steps = 1137\n"
     ]
    },
    {
     "data": {
      "text/html": [
       "\n",
       "    <div>\n",
       "      \n",
       "      <progress value='1137' max='1137' style='width:300px; height:20px; vertical-align: middle;'></progress>\n",
       "      [1137/1137 16:05, Epoch 1/1]\n",
       "    </div>\n",
       "    <table border=\"1\" class=\"dataframe\">\n",
       "  <thead>\n",
       " <tr style=\"text-align: left;\">\n",
       "      <th>Epoch</th>\n",
       "      <th>Training Loss</th>\n",
       "      <th>Validation Loss</th>\n",
       "      <th>Accuracy</th>\n",
       "    </tr>\n",
       "  </thead>\n",
       "  <tbody>\n",
       "    <tr>\n",
       "      <td>1</td>\n",
       "      <td>1.363100</td>\n",
       "      <td>1.488931</td>\n",
       "      <td>0.815166</td>\n",
       "    </tr>\n",
       "  </tbody>\n",
       "</table><p>"
      ],
      "text/plain": [
       "<IPython.core.display.HTML object>"
      ]
     },
     "metadata": {},
     "output_type": "display_data"
    },
    {
     "name": "stderr",
     "output_type": "stream",
     "text": [
      "***** Running Evaluation *****\n",
      "  Num examples = 12119\n",
      "  Batch size = 64\n"
     ]
    },
    {
     "name": "stdout",
     "output_type": "stream",
     "text": [
      "{'accuracy': 0.8151662678438815}\n"
     ]
    },
    {
     "name": "stderr",
     "output_type": "stream",
     "text": [
      "Saving model checkpoint to outputs/checkpoint-1137\n",
      "Configuration saved in outputs/checkpoint-1137/config.json\n",
      "Model weights saved in outputs/checkpoint-1137/pytorch_model.bin\n",
      "tokenizer config file saved in outputs/checkpoint-1137/tokenizer_config.json\n",
      "Special tokens file saved in outputs/checkpoint-1137/special_tokens_map.json\n",
      "added tokens file saved in outputs/checkpoint-1137/added_tokens.json\n",
      "\n",
      "\n",
      "Training completed. Do not forget to share your model on huggingface.co/models =)\n",
      "\n",
      "\n",
      "Loading best model from outputs/checkpoint-1137 (score: 0.8151662678438815).\n"
     ]
    }
   ],
   "source": [
    "trainer = ensemble_train(train_df, n_folds=n_folds) if ENSEMBLE else train(dds)"
   ]
  },
  {
   "cell_type": "markdown",
   "id": "0d0c9320",
   "metadata": {
    "papermill": {
     "duration": 0.01403,
     "end_time": "2024-02-20T05:32:32.013788",
     "exception": false,
     "start_time": "2024-02-20T05:32:31.999758",
     "status": "completed"
    },
    "tags": []
   },
   "source": [
    "# Predictions"
   ]
  },
  {
   "cell_type": "code",
   "execution_count": 29,
   "id": "f948f1e3",
   "metadata": {
    "execution": {
     "iopub.execute_input": "2024-02-20T05:32:32.045280Z",
     "iopub.status.busy": "2024-02-20T05:32:32.044622Z",
     "iopub.status.idle": "2024-02-20T05:32:57.870723Z",
     "shell.execute_reply": "2024-02-20T05:32:57.869884Z"
    },
    "papermill": {
     "duration": 25.845145,
     "end_time": "2024-02-20T05:32:57.873108",
     "exception": false,
     "start_time": "2024-02-20T05:32:32.027963",
     "status": "completed"
    },
    "tags": []
   },
   "outputs": [
    {
     "name": "stderr",
     "output_type": "stream",
     "text": [
      "The following columns in the test set don't have a corresponding argument in `DebertaV2ForSequenceClassification.forward` and have been ignored: id. If id are not expected by `DebertaV2ForSequenceClassification.forward`,  you can safely ignore this message.\n",
      "***** Running Prediction *****\n",
      "  Num examples = 5195\n",
      "  Batch size = 64\n"
     ]
    },
    {
     "data": {
      "text/html": [
       "\n",
       "    <div>\n",
       "      \n",
       "      <progress value='82' max='82' style='width:300px; height:20px; vertical-align: middle;'></progress>\n",
       "      [82/82 00:25]\n",
       "    </div>\n",
       "    "
      ],
      "text/plain": [
       "<IPython.core.display.HTML object>"
      ]
     },
     "metadata": {},
     "output_type": "display_data"
    }
   ],
   "source": [
    "if not ENSEMBLE:\n",
    "    preds = trainer.predict(test_ds).predictions.argmax(1)\n",
    "else:\n",
    "    preds = np.column_stack((tr.predict(test_ds).predictions.argmax(1) for tr in trainer))\n",
    "    if MODE_OR_MEAN == 'mode':\n",
    "        preds = st.mode(preds, axis=1).mode.ravel()\n",
    "    else: # mean\n",
    "        preds = np.round(preds.mean(axis=1)).astype(int)    "
   ]
  },
  {
   "cell_type": "markdown",
   "id": "bc70b4bc",
   "metadata": {
    "papermill": {
     "duration": 0.015094,
     "end_time": "2024-02-20T05:32:57.904013",
     "exception": false,
     "start_time": "2024-02-20T05:32:57.888919",
     "status": "completed"
    },
    "tags": []
   },
   "source": [
    "# Submission"
   ]
  },
  {
   "cell_type": "code",
   "execution_count": 30,
   "id": "b330e541",
   "metadata": {
    "execution": {
     "iopub.execute_input": "2024-02-20T05:32:57.935283Z",
     "iopub.status.busy": "2024-02-20T05:32:57.934924Z",
     "iopub.status.idle": "2024-02-20T05:32:57.960699Z",
     "shell.execute_reply": "2024-02-20T05:32:57.959878Z"
    },
    "papermill": {
     "duration": 0.044293,
     "end_time": "2024-02-20T05:32:57.962979",
     "exception": false,
     "start_time": "2024-02-20T05:32:57.918686",
     "status": "completed"
    },
    "tags": []
   },
   "outputs": [],
   "source": [
    "pd.DataFrame({'id': test_ds['id'], 'prediction': preds}).to_csv('submission.csv', index=False)"
   ]
  }
 ],
 "metadata": {
  "kaggle": {
   "accelerator": "nvidiaTeslaT4",
   "dataSources": [
    {
     "databundleVersionId": 1408234,
     "sourceId": 21733,
     "sourceType": "competition"
    },
    {
     "datasetId": 829353,
     "sourceId": 1450415,
     "sourceType": "datasetVersion"
    },
    {
     "datasetId": 821000,
     "sourceId": 1473864,
     "sourceType": "datasetVersion"
    }
   ],
   "dockerImageVersionId": 30302,
   "isGpuEnabled": true,
   "isInternetEnabled": true,
   "language": "python",
   "sourceType": "notebook"
  },
  "kernelspec": {
   "display_name": "Python 3",
   "language": "python",
   "name": "python3"
  },
  "language_info": {
   "codemirror_mode": {
    "name": "ipython",
    "version": 3
   },
   "file_extension": ".py",
   "mimetype": "text/x-python",
   "name": "python",
   "nbconvert_exporter": "python",
   "pygments_lexer": "ipython3",
   "version": "3.7.12"
  },
  "papermill": {
   "default_parameters": {},
   "duration": 1148.893635,
   "end_time": "2024-02-20T05:33:01.450988",
   "environment_variables": {},
   "exception": null,
   "input_path": "__notebook__.ipynb",
   "output_path": "__notebook__.ipynb",
   "parameters": {},
   "start_time": "2024-02-20T05:13:52.557353",
   "version": "2.3.4"
  },
  "widgets": {
   "application/vnd.jupyter.widget-state+json": {
    "state": {
     "0050a9161a44439cad59533aa2c09f4f": {
      "model_module": "@jupyter-widgets/base",
      "model_module_version": "1.2.0",
      "model_name": "LayoutModel",
      "state": {
       "_model_module": "@jupyter-widgets/base",
       "_model_module_version": "1.2.0",
       "_model_name": "LayoutModel",
       "_view_count": null,
       "_view_module": "@jupyter-widgets/base",
       "_view_module_version": "1.2.0",
       "_view_name": "LayoutView",
       "align_content": null,
       "align_items": null,
       "align_self": null,
       "border": null,
       "bottom": null,
       "display": null,
       "flex": null,
       "flex_flow": null,
       "grid_area": null,
       "grid_auto_columns": null,
       "grid_auto_flow": null,
       "grid_auto_rows": null,
       "grid_column": null,
       "grid_gap": null,
       "grid_row": null,
       "grid_template_areas": null,
       "grid_template_columns": null,
       "grid_template_rows": null,
       "height": null,
       "justify_content": null,
       "justify_items": null,
       "left": null,
       "margin": null,
       "max_height": null,
       "max_width": null,
       "min_height": null,
       "min_width": null,
       "object_fit": null,
       "object_position": null,
       "order": null,
       "overflow": null,
       "overflow_x": null,
       "overflow_y": null,
       "padding": null,
       "right": null,
       "top": null,
       "visibility": null,
       "width": null
      }
     },
     "01f3e220b72e46a986bb19c5e5d121a7": {
      "model_module": "@jupyter-widgets/controls",
      "model_module_version": "1.5.0",
      "model_name": "DescriptionStyleModel",
      "state": {
       "_model_module": "@jupyter-widgets/controls",
       "_model_module_version": "1.5.0",
       "_model_name": "DescriptionStyleModel",
       "_view_count": null,
       "_view_module": "@jupyter-widgets/base",
       "_view_module_version": "1.2.0",
       "_view_name": "StyleView",
       "description_width": ""
      }
     },
     "0467663c65a04109b55831a05f8f839d": {
      "model_module": "@jupyter-widgets/controls",
      "model_module_version": "1.5.0",
      "model_name": "DescriptionStyleModel",
      "state": {
       "_model_module": "@jupyter-widgets/controls",
       "_model_module_version": "1.5.0",
       "_model_name": "DescriptionStyleModel",
       "_view_count": null,
       "_view_module": "@jupyter-widgets/base",
       "_view_module_version": "1.2.0",
       "_view_name": "StyleView",
       "description_width": ""
      }
     },
     "0514d187314e429b805d30d35a61f8c1": {
      "model_module": "@jupyter-widgets/base",
      "model_module_version": "1.2.0",
      "model_name": "LayoutModel",
      "state": {
       "_model_module": "@jupyter-widgets/base",
       "_model_module_version": "1.2.0",
       "_model_name": "LayoutModel",
       "_view_count": null,
       "_view_module": "@jupyter-widgets/base",
       "_view_module_version": "1.2.0",
       "_view_name": "LayoutView",
       "align_content": null,
       "align_items": null,
       "align_self": null,
       "border": null,
       "bottom": null,
       "display": null,
       "flex": null,
       "flex_flow": null,
       "grid_area": null,
       "grid_auto_columns": null,
       "grid_auto_flow": null,
       "grid_auto_rows": null,
       "grid_column": null,
       "grid_gap": null,
       "grid_row": null,
       "grid_template_areas": null,
       "grid_template_columns": null,
       "grid_template_rows": null,
       "height": null,
       "justify_content": null,
       "justify_items": null,
       "left": null,
       "margin": null,
       "max_height": null,
       "max_width": null,
       "min_height": null,
       "min_width": null,
       "object_fit": null,
       "object_position": null,
       "order": null,
       "overflow": null,
       "overflow_x": null,
       "overflow_y": null,
       "padding": null,
       "right": null,
       "top": null,
       "visibility": null,
       "width": null
      }
     },
     "05ac85c554b845cda66e74f5bee78a04": {
      "model_module": "@jupyter-widgets/base",
      "model_module_version": "1.2.0",
      "model_name": "LayoutModel",
      "state": {
       "_model_module": "@jupyter-widgets/base",
       "_model_module_version": "1.2.0",
       "_model_name": "LayoutModel",
       "_view_count": null,
       "_view_module": "@jupyter-widgets/base",
       "_view_module_version": "1.2.0",
       "_view_name": "LayoutView",
       "align_content": null,
       "align_items": null,
       "align_self": null,
       "border": null,
       "bottom": null,
       "display": null,
       "flex": null,
       "flex_flow": null,
       "grid_area": null,
       "grid_auto_columns": null,
       "grid_auto_flow": null,
       "grid_auto_rows": null,
       "grid_column": null,
       "grid_gap": null,
       "grid_row": null,
       "grid_template_areas": null,
       "grid_template_columns": null,
       "grid_template_rows": null,
       "height": null,
       "justify_content": null,
       "justify_items": null,
       "left": null,
       "margin": null,
       "max_height": null,
       "max_width": null,
       "min_height": null,
       "min_width": null,
       "object_fit": null,
       "object_position": null,
       "order": null,
       "overflow": null,
       "overflow_x": null,
       "overflow_y": null,
       "padding": null,
       "right": null,
       "top": null,
       "visibility": null,
       "width": null
      }
     },
     "05f0cde792f04c0f9395613f17c1512e": {
      "model_module": "@jupyter-widgets/controls",
      "model_module_version": "1.5.0",
      "model_name": "HTMLModel",
      "state": {
       "_dom_classes": [],
       "_model_module": "@jupyter-widgets/controls",
       "_model_module_version": "1.5.0",
       "_model_name": "HTMLModel",
       "_view_count": null,
       "_view_module": "@jupyter-widgets/controls",
       "_view_module_version": "1.5.0",
       "_view_name": "HTMLView",
       "description": "",
       "description_tooltip": null,
       "layout": "IPY_MODEL_747bde24636842fc9d79ed6bfbecc737",
       "placeholder": "​",
       "style": "IPY_MODEL_a69a900bf50742d1851ee7bb807d6060",
       "value": " 1.04k/1.04k [00:00&lt;00:00, 33.0kB/s]"
      }
     },
     "0848d5c3721b4e439d83aaeba945dd3e": {
      "model_module": "@jupyter-widgets/controls",
      "model_module_version": "1.5.0",
      "model_name": "HTMLModel",
      "state": {
       "_dom_classes": [],
       "_model_module": "@jupyter-widgets/controls",
       "_model_module_version": "1.5.0",
       "_model_name": "HTMLModel",
       "_view_count": null,
       "_view_module": "@jupyter-widgets/controls",
       "_view_module_version": "1.5.0",
       "_view_name": "HTMLView",
       "description": "",
       "description_tooltip": null,
       "layout": "IPY_MODEL_1402c427a4424c1f896c88a8486177e3",
       "placeholder": "​",
       "style": "IPY_MODEL_f8ffa039bd534377a7313758cbdf97c3",
       "value": " 4.11M/4.11M [00:00&lt;00:00, 7.20MB/s]"
      }
     },
     "098c12b8531847cf8cd4f0f1e2efc8d5": {
      "model_module": "@jupyter-widgets/base",
      "model_module_version": "1.2.0",
      "model_name": "LayoutModel",
      "state": {
       "_model_module": "@jupyter-widgets/base",
       "_model_module_version": "1.2.0",
       "_model_name": "LayoutModel",
       "_view_count": null,
       "_view_module": "@jupyter-widgets/base",
       "_view_module_version": "1.2.0",
       "_view_name": "LayoutView",
       "align_content": null,
       "align_items": null,
       "align_self": null,
       "border": null,
       "bottom": null,
       "display": null,
       "flex": null,
       "flex_flow": null,
       "grid_area": null,
       "grid_auto_columns": null,
       "grid_auto_flow": null,
       "grid_auto_rows": null,
       "grid_column": null,
       "grid_gap": null,
       "grid_row": null,
       "grid_template_areas": null,
       "grid_template_columns": null,
       "grid_template_rows": null,
       "height": null,
       "justify_content": null,
       "justify_items": null,
       "left": null,
       "margin": null,
       "max_height": null,
       "max_width": null,
       "min_height": null,
       "min_width": null,
       "object_fit": null,
       "object_position": null,
       "order": null,
       "overflow": null,
       "overflow_x": null,
       "overflow_y": null,
       "padding": null,
       "right": null,
       "top": null,
       "visibility": null,
       "width": null
      }
     },
     "0c75bcd78d5342a09cb9161ceecd3d41": {
      "model_module": "@jupyter-widgets/base",
      "model_module_version": "1.2.0",
      "model_name": "LayoutModel",
      "state": {
       "_model_module": "@jupyter-widgets/base",
       "_model_module_version": "1.2.0",
       "_model_name": "LayoutModel",
       "_view_count": null,
       "_view_module": "@jupyter-widgets/base",
       "_view_module_version": "1.2.0",
       "_view_name": "LayoutView",
       "align_content": null,
       "align_items": null,
       "align_self": null,
       "border": null,
       "bottom": null,
       "display": null,
       "flex": null,
       "flex_flow": null,
       "grid_area": null,
       "grid_auto_columns": null,
       "grid_auto_flow": null,
       "grid_auto_rows": null,
       "grid_column": null,
       "grid_gap": null,
       "grid_row": null,
       "grid_template_areas": null,
       "grid_template_columns": null,
       "grid_template_rows": null,
       "height": null,
       "justify_content": null,
       "justify_items": null,
       "left": null,
       "margin": null,
       "max_height": null,
       "max_width": null,
       "min_height": null,
       "min_width": null,
       "object_fit": null,
       "object_position": null,
       "order": null,
       "overflow": null,
       "overflow_x": null,
       "overflow_y": null,
       "padding": null,
       "right": null,
       "top": null,
       "visibility": null,
       "width": null
      }
     },
     "1402c427a4424c1f896c88a8486177e3": {
      "model_module": "@jupyter-widgets/base",
      "model_module_version": "1.2.0",
      "model_name": "LayoutModel",
      "state": {
       "_model_module": "@jupyter-widgets/base",
       "_model_module_version": "1.2.0",
       "_model_name": "LayoutModel",
       "_view_count": null,
       "_view_module": "@jupyter-widgets/base",
       "_view_module_version": "1.2.0",
       "_view_name": "LayoutView",
       "align_content": null,
       "align_items": null,
       "align_self": null,
       "border": null,
       "bottom": null,
       "display": null,
       "flex": null,
       "flex_flow": null,
       "grid_area": null,
       "grid_auto_columns": null,
       "grid_auto_flow": null,
       "grid_auto_rows": null,
       "grid_column": null,
       "grid_gap": null,
       "grid_row": null,
       "grid_template_areas": null,
       "grid_template_columns": null,
       "grid_template_rows": null,
       "height": null,
       "justify_content": null,
       "justify_items": null,
       "left": null,
       "margin": null,
       "max_height": null,
       "max_width": null,
       "min_height": null,
       "min_width": null,
       "object_fit": null,
       "object_position": null,
       "order": null,
       "overflow": null,
       "overflow_x": null,
       "overflow_y": null,
       "padding": null,
       "right": null,
       "top": null,
       "visibility": null,
       "width": null
      }
     },
     "158e271b8afd4a90bfb74990557f646d": {
      "model_module": "@jupyter-widgets/base",
      "model_module_version": "1.2.0",
      "model_name": "LayoutModel",
      "state": {
       "_model_module": "@jupyter-widgets/base",
       "_model_module_version": "1.2.0",
       "_model_name": "LayoutModel",
       "_view_count": null,
       "_view_module": "@jupyter-widgets/base",
       "_view_module_version": "1.2.0",
       "_view_name": "LayoutView",
       "align_content": null,
       "align_items": null,
       "align_self": null,
       "border": null,
       "bottom": null,
       "display": null,
       "flex": null,
       "flex_flow": null,
       "grid_area": null,
       "grid_auto_columns": null,
       "grid_auto_flow": null,
       "grid_auto_rows": null,
       "grid_column": null,
       "grid_gap": null,
       "grid_row": null,
       "grid_template_areas": null,
       "grid_template_columns": null,
       "grid_template_rows": null,
       "height": null,
       "justify_content": null,
       "justify_items": null,
       "left": null,
       "margin": null,
       "max_height": null,
       "max_width": null,
       "min_height": null,
       "min_width": null,
       "object_fit": null,
       "object_position": null,
       "order": null,
       "overflow": null,
       "overflow_x": null,
       "overflow_y": null,
       "padding": null,
       "right": null,
       "top": null,
       "visibility": null,
       "width": null
      }
     },
     "161557cc74b04644aac5d41a0785ebf4": {
      "model_module": "@jupyter-widgets/base",
      "model_module_version": "1.2.0",
      "model_name": "LayoutModel",
      "state": {
       "_model_module": "@jupyter-widgets/base",
       "_model_module_version": "1.2.0",
       "_model_name": "LayoutModel",
       "_view_count": null,
       "_view_module": "@jupyter-widgets/base",
       "_view_module_version": "1.2.0",
       "_view_name": "LayoutView",
       "align_content": null,
       "align_items": null,
       "align_self": null,
       "border": null,
       "bottom": null,
       "display": null,
       "flex": null,
       "flex_flow": null,
       "grid_area": null,
       "grid_auto_columns": null,
       "grid_auto_flow": null,
       "grid_auto_rows": null,
       "grid_column": null,
       "grid_gap": null,
       "grid_row": null,
       "grid_template_areas": null,
       "grid_template_columns": null,
       "grid_template_rows": null,
       "height": null,
       "justify_content": null,
       "justify_items": null,
       "left": null,
       "margin": null,
       "max_height": null,
       "max_width": null,
       "min_height": null,
       "min_width": null,
       "object_fit": null,
       "object_position": null,
       "order": null,
       "overflow": null,
       "overflow_x": null,
       "overflow_y": null,
       "padding": null,
       "right": null,
       "top": null,
       "visibility": null,
       "width": null
      }
     },
     "18771460bfee4096ac95abaf040b6df9": {
      "model_module": "@jupyter-widgets/base",
      "model_module_version": "1.2.0",
      "model_name": "LayoutModel",
      "state": {
       "_model_module": "@jupyter-widgets/base",
       "_model_module_version": "1.2.0",
       "_model_name": "LayoutModel",
       "_view_count": null,
       "_view_module": "@jupyter-widgets/base",
       "_view_module_version": "1.2.0",
       "_view_name": "LayoutView",
       "align_content": null,
       "align_items": null,
       "align_self": null,
       "border": null,
       "bottom": null,
       "display": null,
       "flex": null,
       "flex_flow": null,
       "grid_area": null,
       "grid_auto_columns": null,
       "grid_auto_flow": null,
       "grid_auto_rows": null,
       "grid_column": null,
       "grid_gap": null,
       "grid_row": null,
       "grid_template_areas": null,
       "grid_template_columns": null,
       "grid_template_rows": null,
       "height": null,
       "justify_content": null,
       "justify_items": null,
       "left": null,
       "margin": null,
       "max_height": null,
       "max_width": null,
       "min_height": null,
       "min_width": null,
       "object_fit": null,
       "object_position": null,
       "order": null,
       "overflow": null,
       "overflow_x": null,
       "overflow_y": null,
       "padding": null,
       "right": null,
       "top": null,
       "visibility": null,
       "width": null
      }
     },
     "1d0096a13d7d4cc19825bdd6c7dfb1d8": {
      "model_module": "@jupyter-widgets/controls",
      "model_module_version": "1.5.0",
      "model_name": "HTMLModel",
      "state": {
       "_dom_classes": [],
       "_model_module": "@jupyter-widgets/controls",
       "_model_module_version": "1.5.0",
       "_model_name": "HTMLModel",
       "_view_count": null,
       "_view_module": "@jupyter-widgets/controls",
       "_view_module_version": "1.5.0",
       "_view_name": "HTMLView",
       "description": "",
       "description_tooltip": null,
       "layout": "IPY_MODEL_a8f65c46e76b4728972389cce3b80f76",
       "placeholder": "​",
       "style": "IPY_MODEL_9e5cf6cc4ad34792a3c3df2f0641fa61",
       "value": "Downloading: 100%"
      }
     },
     "1db6f670f2d149b6af050d2a4dbe9ec5": {
      "model_module": "@jupyter-widgets/base",
      "model_module_version": "1.2.0",
      "model_name": "LayoutModel",
      "state": {
       "_model_module": "@jupyter-widgets/base",
       "_model_module_version": "1.2.0",
       "_model_name": "LayoutModel",
       "_view_count": null,
       "_view_module": "@jupyter-widgets/base",
       "_view_module_version": "1.2.0",
       "_view_name": "LayoutView",
       "align_content": null,
       "align_items": null,
       "align_self": null,
       "border": null,
       "bottom": null,
       "display": null,
       "flex": null,
       "flex_flow": null,
       "grid_area": null,
       "grid_auto_columns": null,
       "grid_auto_flow": null,
       "grid_auto_rows": null,
       "grid_column": null,
       "grid_gap": null,
       "grid_row": null,
       "grid_template_areas": null,
       "grid_template_columns": null,
       "grid_template_rows": null,
       "height": null,
       "justify_content": null,
       "justify_items": null,
       "left": null,
       "margin": null,
       "max_height": null,
       "max_width": null,
       "min_height": null,
       "min_width": null,
       "object_fit": null,
       "object_position": null,
       "order": null,
       "overflow": null,
       "overflow_x": null,
       "overflow_y": null,
       "padding": null,
       "right": null,
       "top": null,
       "visibility": null,
       "width": null
      }
     },
     "1ee1023f196c47c7972f3321ad95d3ee": {
      "model_module": "@jupyter-widgets/controls",
      "model_module_version": "1.5.0",
      "model_name": "ProgressStyleModel",
      "state": {
       "_model_module": "@jupyter-widgets/controls",
       "_model_module_version": "1.5.0",
       "_model_name": "ProgressStyleModel",
       "_view_count": null,
       "_view_module": "@jupyter-widgets/base",
       "_view_module_version": "1.2.0",
       "_view_name": "StyleView",
       "bar_color": null,
       "description_width": ""
      }
     },
     "1f4bb7e99723410dae3e2de3fb2739a2": {
      "model_module": "@jupyter-widgets/controls",
      "model_module_version": "1.5.0",
      "model_name": "FloatProgressModel",
      "state": {
       "_dom_classes": [],
       "_model_module": "@jupyter-widgets/controls",
       "_model_module_version": "1.5.0",
       "_model_name": "FloatProgressModel",
       "_view_count": null,
       "_view_module": "@jupyter-widgets/controls",
       "_view_module_version": "1.5.0",
       "_view_name": "ProgressView",
       "bar_style": "success",
       "description": "",
       "description_tooltip": null,
       "layout": "IPY_MODEL_69a3eacdc2da4d33873923a8230a3146",
       "max": 286.0,
       "min": 0.0,
       "orientation": "horizontal",
       "style": "IPY_MODEL_1ee1023f196c47c7972f3321ad95d3ee",
       "value": 286.0
      }
     },
     "20dd746a2c664beda57f722818dc9172": {
      "model_module": "@jupyter-widgets/controls",
      "model_module_version": "1.5.0",
      "model_name": "HTMLModel",
      "state": {
       "_dom_classes": [],
       "_model_module": "@jupyter-widgets/controls",
       "_model_module_version": "1.5.0",
       "_model_name": "HTMLModel",
       "_view_count": null,
       "_view_module": "@jupyter-widgets/controls",
       "_view_module_version": "1.5.0",
       "_view_name": "HTMLView",
       "description": "",
       "description_tooltip": null,
       "layout": "IPY_MODEL_b2c135f413e24d55b9188ed34162977a",
       "placeholder": "​",
       "style": "IPY_MODEL_01f3e220b72e46a986bb19c5e5d121a7",
       "value": "100%"
      }
     },
     "2607cba4d4d645bbbfa696ba794df6dd": {
      "model_module": "@jupyter-widgets/base",
      "model_module_version": "1.2.0",
      "model_name": "LayoutModel",
      "state": {
       "_model_module": "@jupyter-widgets/base",
       "_model_module_version": "1.2.0",
       "_model_name": "LayoutModel",
       "_view_count": null,
       "_view_module": "@jupyter-widgets/base",
       "_view_module_version": "1.2.0",
       "_view_name": "LayoutView",
       "align_content": null,
       "align_items": null,
       "align_self": null,
       "border": null,
       "bottom": null,
       "display": null,
       "flex": null,
       "flex_flow": null,
       "grid_area": null,
       "grid_auto_columns": null,
       "grid_auto_flow": null,
       "grid_auto_rows": null,
       "grid_column": null,
       "grid_gap": null,
       "grid_row": null,
       "grid_template_areas": null,
       "grid_template_columns": null,
       "grid_template_rows": null,
       "height": null,
       "justify_content": null,
       "justify_items": null,
       "left": null,
       "margin": null,
       "max_height": null,
       "max_width": null,
       "min_height": null,
       "min_width": null,
       "object_fit": null,
       "object_position": null,
       "order": null,
       "overflow": null,
       "overflow_x": null,
       "overflow_y": null,
       "padding": null,
       "right": null,
       "top": null,
       "visibility": null,
       "width": null
      }
     },
     "298f9fa5fbff4c5cb0cbd1ec4d66c87e": {
      "model_module": "@jupyter-widgets/base",
      "model_module_version": "1.2.0",
      "model_name": "LayoutModel",
      "state": {
       "_model_module": "@jupyter-widgets/base",
       "_model_module_version": "1.2.0",
       "_model_name": "LayoutModel",
       "_view_count": null,
       "_view_module": "@jupyter-widgets/base",
       "_view_module_version": "1.2.0",
       "_view_name": "LayoutView",
       "align_content": null,
       "align_items": null,
       "align_self": null,
       "border": null,
       "bottom": null,
       "display": null,
       "flex": null,
       "flex_flow": null,
       "grid_area": null,
       "grid_auto_columns": null,
       "grid_auto_flow": null,
       "grid_auto_rows": null,
       "grid_column": null,
       "grid_gap": null,
       "grid_row": null,
       "grid_template_areas": null,
       "grid_template_columns": null,
       "grid_template_rows": null,
       "height": null,
       "justify_content": null,
       "justify_items": null,
       "left": null,
       "margin": null,
       "max_height": null,
       "max_width": null,
       "min_height": null,
       "min_width": null,
       "object_fit": null,
       "object_position": null,
       "order": null,
       "overflow": null,
       "overflow_x": null,
       "overflow_y": null,
       "padding": null,
       "right": null,
       "top": null,
       "visibility": null,
       "width": null
      }
     },
     "2ea999f1d9e84a0b8e5ba5ced9a19c30": {
      "model_module": "@jupyter-widgets/controls",
      "model_module_version": "1.5.0",
      "model_name": "ProgressStyleModel",
      "state": {
       "_model_module": "@jupyter-widgets/controls",
       "_model_module_version": "1.5.0",
       "_model_name": "ProgressStyleModel",
       "_view_count": null,
       "_view_module": "@jupyter-widgets/base",
       "_view_module_version": "1.2.0",
       "_view_name": "StyleView",
       "bar_color": null,
       "description_width": ""
      }
     },
     "316980ca71274040a5b80a7b2ba77abe": {
      "model_module": "@jupyter-widgets/controls",
      "model_module_version": "1.5.0",
      "model_name": "HTMLModel",
      "state": {
       "_dom_classes": [],
       "_model_module": "@jupyter-widgets/controls",
       "_model_module_version": "1.5.0",
       "_model_name": "HTMLModel",
       "_view_count": null,
       "_view_module": "@jupyter-widgets/controls",
       "_view_module_version": "1.5.0",
       "_view_name": "HTMLView",
       "description": "",
       "description_tooltip": null,
       "layout": "IPY_MODEL_1db6f670f2d149b6af050d2a4dbe9ec5",
       "placeholder": "​",
       "style": "IPY_MODEL_7a46c029be4247298c40a98956fa9243",
       "value": "100%"
      }
     },
     "399be78118bd43b4a87fb5770349ff87": {
      "model_module": "@jupyter-widgets/controls",
      "model_module_version": "1.5.0",
      "model_name": "DescriptionStyleModel",
      "state": {
       "_model_module": "@jupyter-widgets/controls",
       "_model_module_version": "1.5.0",
       "_model_name": "DescriptionStyleModel",
       "_view_count": null,
       "_view_module": "@jupyter-widgets/base",
       "_view_module_version": "1.2.0",
       "_view_name": "StyleView",
       "description_width": ""
      }
     },
     "3ad92b06979d495f8d66e29897ef441a": {
      "model_module": "@jupyter-widgets/controls",
      "model_module_version": "1.5.0",
      "model_name": "FloatProgressModel",
      "state": {
       "_dom_classes": [],
       "_model_module": "@jupyter-widgets/controls",
       "_model_module_version": "1.5.0",
       "_model_name": "FloatProgressModel",
       "_view_count": null,
       "_view_module": "@jupyter-widgets/controls",
       "_view_module_version": "1.5.0",
       "_view_name": "ProgressView",
       "bar_style": "success",
       "description": "",
       "description_tooltip": null,
       "layout": "IPY_MODEL_0514d187314e429b805d30d35a61f8c1",
       "max": 6.0,
       "min": 0.0,
       "orientation": "horizontal",
       "style": "IPY_MODEL_bddde93c9196432089bd5170a6333391",
       "value": 6.0
      }
     },
     "3e08873c31564549879ea3e7f2f3da0c": {
      "model_module": "@jupyter-widgets/controls",
      "model_module_version": "1.5.0",
      "model_name": "DescriptionStyleModel",
      "state": {
       "_model_module": "@jupyter-widgets/controls",
       "_model_module_version": "1.5.0",
       "_model_name": "DescriptionStyleModel",
       "_view_count": null,
       "_view_module": "@jupyter-widgets/base",
       "_view_module_version": "1.2.0",
       "_view_name": "StyleView",
       "description_width": ""
      }
     },
     "41686a72f66d41fba6a492cb3e966261": {
      "model_module": "@jupyter-widgets/controls",
      "model_module_version": "1.5.0",
      "model_name": "DescriptionStyleModel",
      "state": {
       "_model_module": "@jupyter-widgets/controls",
       "_model_module_version": "1.5.0",
       "_model_name": "DescriptionStyleModel",
       "_view_count": null,
       "_view_module": "@jupyter-widgets/base",
       "_view_module_version": "1.2.0",
       "_view_name": "StyleView",
       "description_width": ""
      }
     },
     "46172635c72c46f69c6ac1483fa5ac16": {
      "model_module": "@jupyter-widgets/controls",
      "model_module_version": "1.5.0",
      "model_name": "HBoxModel",
      "state": {
       "_dom_classes": [],
       "_model_module": "@jupyter-widgets/controls",
       "_model_module_version": "1.5.0",
       "_model_name": "HBoxModel",
       "_view_count": null,
       "_view_module": "@jupyter-widgets/controls",
       "_view_module_version": "1.5.0",
       "_view_name": "HBoxView",
       "box_style": "",
       "children": [
        "IPY_MODEL_cbeb44cc45af422dbf3912b49de9f659",
        "IPY_MODEL_b2c73c300523414b8396a1191fde3796",
        "IPY_MODEL_0848d5c3721b4e439d83aaeba945dd3e"
       ],
       "layout": "IPY_MODEL_bda97a5fa99349e5a424f465b4b62edf"
      }
     },
     "469b662ad2b64fbf84610da8e9294a52": {
      "model_module": "@jupyter-widgets/controls",
      "model_module_version": "1.5.0",
      "model_name": "ProgressStyleModel",
      "state": {
       "_model_module": "@jupyter-widgets/controls",
       "_model_module_version": "1.5.0",
       "_model_name": "ProgressStyleModel",
       "_view_count": null,
       "_view_module": "@jupyter-widgets/base",
       "_view_module_version": "1.2.0",
       "_view_name": "StyleView",
       "bar_color": null,
       "description_width": ""
      }
     },
     "4cb1df2dce3e4440aaf19e166a0fcb1f": {
      "model_module": "@jupyter-widgets/controls",
      "model_module_version": "1.5.0",
      "model_name": "FloatProgressModel",
      "state": {
       "_dom_classes": [],
       "_model_module": "@jupyter-widgets/controls",
       "_model_module_version": "1.5.0",
       "_model_name": "FloatProgressModel",
       "_view_count": null,
       "_view_module": "@jupyter-widgets/controls",
       "_view_module_version": "1.5.0",
       "_view_name": "ProgressView",
       "bar_style": "success",
       "description": "",
       "description_tooltip": null,
       "layout": "IPY_MODEL_f58b7f3c3c574c08b19e0a06579067aa",
       "max": 1256.0,
       "min": 0.0,
       "orientation": "horizontal",
       "style": "IPY_MODEL_ba2d9ab95d55421da8f3964ac8792622",
       "value": 1256.0
      }
     },
     "56b097cdefa94b749c32a253721806e3": {
      "model_module": "@jupyter-widgets/controls",
      "model_module_version": "1.5.0",
      "model_name": "HBoxModel",
      "state": {
       "_dom_classes": [],
       "_model_module": "@jupyter-widgets/controls",
       "_model_module_version": "1.5.0",
       "_model_name": "HBoxModel",
       "_view_count": null,
       "_view_module": "@jupyter-widgets/controls",
       "_view_module_version": "1.5.0",
       "_view_name": "HBoxView",
       "box_style": "",
       "children": [
        "IPY_MODEL_1d0096a13d7d4cc19825bdd6c7dfb1d8",
        "IPY_MODEL_9b141cf3a1b94cedad61d3868819e666",
        "IPY_MODEL_df0f3628396940599ce181b5b2f0381e"
       ],
       "layout": "IPY_MODEL_d02bb81a4e054bd49213cf7fabeb4d07"
      }
     },
     "6246feedb9214926959f9530aa05b710": {
      "model_module": "@jupyter-widgets/base",
      "model_module_version": "1.2.0",
      "model_name": "LayoutModel",
      "state": {
       "_model_module": "@jupyter-widgets/base",
       "_model_module_version": "1.2.0",
       "_model_name": "LayoutModel",
       "_view_count": null,
       "_view_module": "@jupyter-widgets/base",
       "_view_module_version": "1.2.0",
       "_view_name": "LayoutView",
       "align_content": null,
       "align_items": null,
       "align_self": null,
       "border": null,
       "bottom": null,
       "display": null,
       "flex": null,
       "flex_flow": null,
       "grid_area": null,
       "grid_auto_columns": null,
       "grid_auto_flow": null,
       "grid_auto_rows": null,
       "grid_column": null,
       "grid_gap": null,
       "grid_row": null,
       "grid_template_areas": null,
       "grid_template_columns": null,
       "grid_template_rows": null,
       "height": null,
       "justify_content": null,
       "justify_items": null,
       "left": null,
       "margin": null,
       "max_height": null,
       "max_width": null,
       "min_height": null,
       "min_width": null,
       "object_fit": null,
       "object_position": null,
       "order": null,
       "overflow": null,
       "overflow_x": null,
       "overflow_y": null,
       "padding": null,
       "right": null,
       "top": null,
       "visibility": null,
       "width": null
      }
     },
     "652794f25791467f8133dedfd265610d": {
      "model_module": "@jupyter-widgets/controls",
      "model_module_version": "1.5.0",
      "model_name": "DescriptionStyleModel",
      "state": {
       "_model_module": "@jupyter-widgets/controls",
       "_model_module_version": "1.5.0",
       "_model_name": "DescriptionStyleModel",
       "_view_count": null,
       "_view_module": "@jupyter-widgets/base",
       "_view_module_version": "1.2.0",
       "_view_name": "StyleView",
       "description_width": ""
      }
     },
     "69a3eacdc2da4d33873923a8230a3146": {
      "model_module": "@jupyter-widgets/base",
      "model_module_version": "1.2.0",
      "model_name": "LayoutModel",
      "state": {
       "_model_module": "@jupyter-widgets/base",
       "_model_module_version": "1.2.0",
       "_model_name": "LayoutModel",
       "_view_count": null,
       "_view_module": "@jupyter-widgets/base",
       "_view_module_version": "1.2.0",
       "_view_name": "LayoutView",
       "align_content": null,
       "align_items": null,
       "align_self": null,
       "border": null,
       "bottom": null,
       "display": null,
       "flex": null,
       "flex_flow": null,
       "grid_area": null,
       "grid_auto_columns": null,
       "grid_auto_flow": null,
       "grid_auto_rows": null,
       "grid_column": null,
       "grid_gap": null,
       "grid_row": null,
       "grid_template_areas": null,
       "grid_template_columns": null,
       "grid_template_rows": null,
       "height": null,
       "justify_content": null,
       "justify_items": null,
       "left": null,
       "margin": null,
       "max_height": null,
       "max_width": null,
       "min_height": null,
       "min_width": null,
       "object_fit": null,
       "object_position": null,
       "order": null,
       "overflow": null,
       "overflow_x": null,
       "overflow_y": null,
       "padding": null,
       "right": null,
       "top": null,
       "visibility": null,
       "width": null
      }
     },
     "6f2c652912ad437e909ac048018479fb": {
      "model_module": "@jupyter-widgets/base",
      "model_module_version": "1.2.0",
      "model_name": "LayoutModel",
      "state": {
       "_model_module": "@jupyter-widgets/base",
       "_model_module_version": "1.2.0",
       "_model_name": "LayoutModel",
       "_view_count": null,
       "_view_module": "@jupyter-widgets/base",
       "_view_module_version": "1.2.0",
       "_view_name": "LayoutView",
       "align_content": null,
       "align_items": null,
       "align_self": null,
       "border": null,
       "bottom": null,
       "display": null,
       "flex": null,
       "flex_flow": null,
       "grid_area": null,
       "grid_auto_columns": null,
       "grid_auto_flow": null,
       "grid_auto_rows": null,
       "grid_column": null,
       "grid_gap": null,
       "grid_row": null,
       "grid_template_areas": null,
       "grid_template_columns": null,
       "grid_template_rows": null,
       "height": null,
       "justify_content": null,
       "justify_items": null,
       "left": null,
       "margin": null,
       "max_height": null,
       "max_width": null,
       "min_height": null,
       "min_width": null,
       "object_fit": null,
       "object_position": null,
       "order": null,
       "overflow": null,
       "overflow_x": null,
       "overflow_y": null,
       "padding": null,
       "right": null,
       "top": null,
       "visibility": null,
       "width": null
      }
     },
     "6f3066244a68433b821a49bd347e5a81": {
      "model_module": "@jupyter-widgets/controls",
      "model_module_version": "1.5.0",
      "model_name": "ProgressStyleModel",
      "state": {
       "_model_module": "@jupyter-widgets/controls",
       "_model_module_version": "1.5.0",
       "_model_name": "ProgressStyleModel",
       "_view_count": null,
       "_view_module": "@jupyter-widgets/base",
       "_view_module_version": "1.2.0",
       "_view_name": "StyleView",
       "bar_color": null,
       "description_width": ""
      }
     },
     "71e5592882ed460185618d7b0fa13486": {
      "model_module": "@jupyter-widgets/base",
      "model_module_version": "1.2.0",
      "model_name": "LayoutModel",
      "state": {
       "_model_module": "@jupyter-widgets/base",
       "_model_module_version": "1.2.0",
       "_model_name": "LayoutModel",
       "_view_count": null,
       "_view_module": "@jupyter-widgets/base",
       "_view_module_version": "1.2.0",
       "_view_name": "LayoutView",
       "align_content": null,
       "align_items": null,
       "align_self": null,
       "border": null,
       "bottom": null,
       "display": null,
       "flex": null,
       "flex_flow": null,
       "grid_area": null,
       "grid_auto_columns": null,
       "grid_auto_flow": null,
       "grid_auto_rows": null,
       "grid_column": null,
       "grid_gap": null,
       "grid_row": null,
       "grid_template_areas": null,
       "grid_template_columns": null,
       "grid_template_rows": null,
       "height": null,
       "justify_content": null,
       "justify_items": null,
       "left": null,
       "margin": null,
       "max_height": null,
       "max_width": null,
       "min_height": null,
       "min_width": null,
       "object_fit": null,
       "object_position": null,
       "order": null,
       "overflow": null,
       "overflow_x": null,
       "overflow_y": null,
       "padding": null,
       "right": null,
       "top": null,
       "visibility": null,
       "width": null
      }
     },
     "725bc447fd184b108deb73fd2b6cdaf5": {
      "model_module": "@jupyter-widgets/controls",
      "model_module_version": "1.5.0",
      "model_name": "HTMLModel",
      "state": {
       "_dom_classes": [],
       "_model_module": "@jupyter-widgets/controls",
       "_model_module_version": "1.5.0",
       "_model_name": "HTMLModel",
       "_view_count": null,
       "_view_module": "@jupyter-widgets/controls",
       "_view_module_version": "1.5.0",
       "_view_name": "HTMLView",
       "description": "",
       "description_tooltip": null,
       "layout": "IPY_MODEL_158e271b8afd4a90bfb74990557f646d",
       "placeholder": "​",
       "style": "IPY_MODEL_0467663c65a04109b55831a05f8f839d",
       "value": " 1.23k/1.23k [00:00&lt;00:00, 40.2kB/s]"
      }
     },
     "747bde24636842fc9d79ed6bfbecc737": {
      "model_module": "@jupyter-widgets/base",
      "model_module_version": "1.2.0",
      "model_name": "LayoutModel",
      "state": {
       "_model_module": "@jupyter-widgets/base",
       "_model_module_version": "1.2.0",
       "_model_name": "LayoutModel",
       "_view_count": null,
       "_view_module": "@jupyter-widgets/base",
       "_view_module_version": "1.2.0",
       "_view_name": "LayoutView",
       "align_content": null,
       "align_items": null,
       "align_self": null,
       "border": null,
       "bottom": null,
       "display": null,
       "flex": null,
       "flex_flow": null,
       "grid_area": null,
       "grid_auto_columns": null,
       "grid_auto_flow": null,
       "grid_auto_rows": null,
       "grid_column": null,
       "grid_gap": null,
       "grid_row": null,
       "grid_template_areas": null,
       "grid_template_columns": null,
       "grid_template_rows": null,
       "height": null,
       "justify_content": null,
       "justify_items": null,
       "left": null,
       "margin": null,
       "max_height": null,
       "max_width": null,
       "min_height": null,
       "min_width": null,
       "object_fit": null,
       "object_position": null,
       "order": null,
       "overflow": null,
       "overflow_x": null,
       "overflow_y": null,
       "padding": null,
       "right": null,
       "top": null,
       "visibility": null,
       "width": null
      }
     },
     "74cbc44e753b402db4cd4aea72f93f73": {
      "model_module": "@jupyter-widgets/controls",
      "model_module_version": "1.5.0",
      "model_name": "HTMLModel",
      "state": {
       "_dom_classes": [],
       "_model_module": "@jupyter-widgets/controls",
       "_model_module_version": "1.5.0",
       "_model_name": "HTMLModel",
       "_view_count": null,
       "_view_module": "@jupyter-widgets/controls",
       "_view_module_version": "1.5.0",
       "_view_name": "HTMLView",
       "description": "",
       "description_tooltip": null,
       "layout": "IPY_MODEL_c90cc96e67af4c57ae1bd9db8972a52e",
       "placeholder": "​",
       "style": "IPY_MODEL_e265d759db494c929870dfc665fd9d10",
       "value": " 6/6 [00:02&lt;00:00,  2.43ba/s]"
      }
     },
     "7644d9e0e51b4b1990535d74cfa8ebfb": {
      "model_module": "@jupyter-widgets/controls",
      "model_module_version": "1.5.0",
      "model_name": "HTMLModel",
      "state": {
       "_dom_classes": [],
       "_model_module": "@jupyter-widgets/controls",
       "_model_module_version": "1.5.0",
       "_model_name": "HTMLModel",
       "_view_count": null,
       "_view_module": "@jupyter-widgets/controls",
       "_view_module_version": "1.5.0",
       "_view_name": "HTMLView",
       "description": "",
       "description_tooltip": null,
       "layout": "IPY_MODEL_965ad53269c74cac9dae18d3f4c9089d",
       "placeholder": "​",
       "style": "IPY_MODEL_3e08873c31564549879ea3e7f2f3da0c",
       "value": "Downloading: 100%"
      }
     },
     "7772bd274851494ba52c8f62f2322e45": {
      "model_module": "@jupyter-widgets/controls",
      "model_module_version": "1.5.0",
      "model_name": "DescriptionStyleModel",
      "state": {
       "_model_module": "@jupyter-widgets/controls",
       "_model_module_version": "1.5.0",
       "_model_name": "DescriptionStyleModel",
       "_view_count": null,
       "_view_module": "@jupyter-widgets/base",
       "_view_module_version": "1.2.0",
       "_view_name": "StyleView",
       "description_width": ""
      }
     },
     "77f5df67572143149b882c9e9b991e5a": {
      "model_module": "@jupyter-widgets/controls",
      "model_module_version": "1.5.0",
      "model_name": "FloatProgressModel",
      "state": {
       "_dom_classes": [],
       "_model_module": "@jupyter-widgets/controls",
       "_model_module_version": "1.5.0",
       "_model_name": "FloatProgressModel",
       "_view_count": null,
       "_view_module": "@jupyter-widgets/controls",
       "_view_module_version": "1.5.0",
       "_view_name": "ProgressView",
       "bar_style": "success",
       "description": "",
       "description_tooltip": null,
       "layout": "IPY_MODEL_0050a9161a44439cad59533aa2c09f4f",
       "max": 23.0,
       "min": 0.0,
       "orientation": "horizontal",
       "style": "IPY_MODEL_6f3066244a68433b821a49bd347e5a81",
       "value": 23.0
      }
     },
     "78c5c16bf4e34283ae81396da0a2a142": {
      "model_module": "@jupyter-widgets/controls",
      "model_module_version": "1.5.0",
      "model_name": "HBoxModel",
      "state": {
       "_dom_classes": [],
       "_model_module": "@jupyter-widgets/controls",
       "_model_module_version": "1.5.0",
       "_model_name": "HBoxModel",
       "_view_count": null,
       "_view_module": "@jupyter-widgets/controls",
       "_view_module_version": "1.5.0",
       "_view_name": "HBoxView",
       "box_style": "",
       "children": [
        "IPY_MODEL_c9bff6ae4c92440da4c1e7ee940c1eb7",
        "IPY_MODEL_4cb1df2dce3e4440aaf19e166a0fcb1f",
        "IPY_MODEL_725bc447fd184b108deb73fd2b6cdaf5"
       ],
       "layout": "IPY_MODEL_2607cba4d4d645bbbfa696ba794df6dd"
      }
     },
     "79078ba4ef804f35acff6ba14bfae9e7": {
      "model_module": "@jupyter-widgets/controls",
      "model_module_version": "1.5.0",
      "model_name": "HBoxModel",
      "state": {
       "_dom_classes": [],
       "_model_module": "@jupyter-widgets/controls",
       "_model_module_version": "1.5.0",
       "_model_name": "HBoxModel",
       "_view_count": null,
       "_view_module": "@jupyter-widgets/controls",
       "_view_module_version": "1.5.0",
       "_view_name": "HBoxView",
       "box_style": "",
       "children": [
        "IPY_MODEL_316980ca71274040a5b80a7b2ba77abe",
        "IPY_MODEL_7fb0a6616d5d45768934c2a6af4c26a2",
        "IPY_MODEL_e04526a745184a519d2d1786ca76f390"
       ],
       "layout": "IPY_MODEL_dfced457715343d9a3c76de5eda8dc2a"
      }
     },
     "7a46c029be4247298c40a98956fa9243": {
      "model_module": "@jupyter-widgets/controls",
      "model_module_version": "1.5.0",
      "model_name": "DescriptionStyleModel",
      "state": {
       "_model_module": "@jupyter-widgets/controls",
       "_model_module_version": "1.5.0",
       "_model_name": "DescriptionStyleModel",
       "_view_count": null,
       "_view_module": "@jupyter-widgets/base",
       "_view_module_version": "1.2.0",
       "_view_name": "StyleView",
       "description_width": ""
      }
     },
     "7aec545a62f048faac0574b1abf73169": {
      "model_module": "@jupyter-widgets/controls",
      "model_module_version": "1.5.0",
      "model_name": "DescriptionStyleModel",
      "state": {
       "_model_module": "@jupyter-widgets/controls",
       "_model_module_version": "1.5.0",
       "_model_name": "DescriptionStyleModel",
       "_view_count": null,
       "_view_module": "@jupyter-widgets/base",
       "_view_module_version": "1.2.0",
       "_view_name": "StyleView",
       "description_width": ""
      }
     },
     "7d52da192f4a4e739f9dc99e96da2c6c": {
      "model_module": "@jupyter-widgets/controls",
      "model_module_version": "1.5.0",
      "model_name": "DescriptionStyleModel",
      "state": {
       "_model_module": "@jupyter-widgets/controls",
       "_model_module_version": "1.5.0",
       "_model_name": "DescriptionStyleModel",
       "_view_count": null,
       "_view_module": "@jupyter-widgets/base",
       "_view_module_version": "1.2.0",
       "_view_name": "StyleView",
       "description_width": ""
      }
     },
     "7fb0a6616d5d45768934c2a6af4c26a2": {
      "model_module": "@jupyter-widgets/controls",
      "model_module_version": "1.5.0",
      "model_name": "FloatProgressModel",
      "state": {
       "_dom_classes": [],
       "_model_module": "@jupyter-widgets/controls",
       "_model_module_version": "1.5.0",
       "_model_name": "FloatProgressModel",
       "_view_count": null,
       "_view_module": "@jupyter-widgets/controls",
       "_view_module_version": "1.5.0",
       "_view_name": "ProgressView",
       "bar_style": "success",
       "description": "",
       "description_tooltip": null,
       "layout": "IPY_MODEL_298f9fa5fbff4c5cb0cbd1ec4d66c87e",
       "max": 97.0,
       "min": 0.0,
       "orientation": "horizontal",
       "style": "IPY_MODEL_fe3074eb16994b0ba6f848c1c101da42",
       "value": 97.0
      }
     },
     "80f8e5ec64f646d095418ab570959b63": {
      "model_module": "@jupyter-widgets/base",
      "model_module_version": "1.2.0",
      "model_name": "LayoutModel",
      "state": {
       "_model_module": "@jupyter-widgets/base",
       "_model_module_version": "1.2.0",
       "_model_name": "LayoutModel",
       "_view_count": null,
       "_view_module": "@jupyter-widgets/base",
       "_view_module_version": "1.2.0",
       "_view_name": "LayoutView",
       "align_content": null,
       "align_items": null,
       "align_self": null,
       "border": null,
       "bottom": null,
       "display": null,
       "flex": null,
       "flex_flow": null,
       "grid_area": null,
       "grid_auto_columns": null,
       "grid_auto_flow": null,
       "grid_auto_rows": null,
       "grid_column": null,
       "grid_gap": null,
       "grid_row": null,
       "grid_template_areas": null,
       "grid_template_columns": null,
       "grid_template_rows": null,
       "height": null,
       "justify_content": null,
       "justify_items": null,
       "left": null,
       "margin": null,
       "max_height": null,
       "max_width": null,
       "min_height": null,
       "min_width": null,
       "object_fit": null,
       "object_position": null,
       "order": null,
       "overflow": null,
       "overflow_x": null,
       "overflow_y": null,
       "padding": null,
       "right": null,
       "top": null,
       "visibility": null,
       "width": null
      }
     },
     "854712e9844944d589606c0be4740045": {
      "model_module": "@jupyter-widgets/base",
      "model_module_version": "1.2.0",
      "model_name": "LayoutModel",
      "state": {
       "_model_module": "@jupyter-widgets/base",
       "_model_module_version": "1.2.0",
       "_model_name": "LayoutModel",
       "_view_count": null,
       "_view_module": "@jupyter-widgets/base",
       "_view_module_version": "1.2.0",
       "_view_name": "LayoutView",
       "align_content": null,
       "align_items": null,
       "align_self": null,
       "border": null,
       "bottom": null,
       "display": null,
       "flex": null,
       "flex_flow": null,
       "grid_area": null,
       "grid_auto_columns": null,
       "grid_auto_flow": null,
       "grid_auto_rows": null,
       "grid_column": null,
       "grid_gap": null,
       "grid_row": null,
       "grid_template_areas": null,
       "grid_template_columns": null,
       "grid_template_rows": null,
       "height": null,
       "justify_content": null,
       "justify_items": null,
       "left": null,
       "margin": null,
       "max_height": null,
       "max_width": null,
       "min_height": null,
       "min_width": null,
       "object_fit": null,
       "object_position": null,
       "order": null,
       "overflow": null,
       "overflow_x": null,
       "overflow_y": null,
       "padding": null,
       "right": null,
       "top": null,
       "visibility": null,
       "width": null
      }
     },
     "8c57bc7629d14230945c9dfaabf30ec8": {
      "model_module": "@jupyter-widgets/base",
      "model_module_version": "1.2.0",
      "model_name": "LayoutModel",
      "state": {
       "_model_module": "@jupyter-widgets/base",
       "_model_module_version": "1.2.0",
       "_model_name": "LayoutModel",
       "_view_count": null,
       "_view_module": "@jupyter-widgets/base",
       "_view_module_version": "1.2.0",
       "_view_name": "LayoutView",
       "align_content": null,
       "align_items": null,
       "align_self": null,
       "border": null,
       "bottom": null,
       "display": null,
       "flex": null,
       "flex_flow": null,
       "grid_area": null,
       "grid_auto_columns": null,
       "grid_auto_flow": null,
       "grid_auto_rows": null,
       "grid_column": null,
       "grid_gap": null,
       "grid_row": null,
       "grid_template_areas": null,
       "grid_template_columns": null,
       "grid_template_rows": null,
       "height": null,
       "justify_content": null,
       "justify_items": null,
       "left": null,
       "margin": null,
       "max_height": null,
       "max_width": null,
       "min_height": null,
       "min_width": null,
       "object_fit": null,
       "object_position": null,
       "order": null,
       "overflow": null,
       "overflow_x": null,
       "overflow_y": null,
       "padding": null,
       "right": null,
       "top": null,
       "visibility": null,
       "width": null
      }
     },
     "8de07249da504536bca03ef727b748d1": {
      "model_module": "@jupyter-widgets/controls",
      "model_module_version": "1.5.0",
      "model_name": "HTMLModel",
      "state": {
       "_dom_classes": [],
       "_model_module": "@jupyter-widgets/controls",
       "_model_module_version": "1.5.0",
       "_model_name": "HTMLModel",
       "_view_count": null,
       "_view_module": "@jupyter-widgets/controls",
       "_view_module_version": "1.5.0",
       "_view_name": "HTMLView",
       "description": "",
       "description_tooltip": null,
       "layout": "IPY_MODEL_0c75bcd78d5342a09cb9161ceecd3d41",
       "placeholder": "​",
       "style": "IPY_MODEL_399be78118bd43b4a87fb5770349ff87",
       "value": " 286/286 [00:00&lt;00:00, 9.71kB/s]"
      }
     },
     "8fa9a789604b49b1b4fbeaf30a754580": {
      "model_module": "@jupyter-widgets/base",
      "model_module_version": "1.2.0",
      "model_name": "LayoutModel",
      "state": {
       "_model_module": "@jupyter-widgets/base",
       "_model_module_version": "1.2.0",
       "_model_name": "LayoutModel",
       "_view_count": null,
       "_view_module": "@jupyter-widgets/base",
       "_view_module_version": "1.2.0",
       "_view_name": "LayoutView",
       "align_content": null,
       "align_items": null,
       "align_self": null,
       "border": null,
       "bottom": null,
       "display": null,
       "flex": null,
       "flex_flow": null,
       "grid_area": null,
       "grid_auto_columns": null,
       "grid_auto_flow": null,
       "grid_auto_rows": null,
       "grid_column": null,
       "grid_gap": null,
       "grid_row": null,
       "grid_template_areas": null,
       "grid_template_columns": null,
       "grid_template_rows": null,
       "height": null,
       "justify_content": null,
       "justify_items": null,
       "left": null,
       "margin": null,
       "max_height": null,
       "max_width": null,
       "min_height": null,
       "min_width": null,
       "object_fit": null,
       "object_position": null,
       "order": null,
       "overflow": null,
       "overflow_x": null,
       "overflow_y": null,
       "padding": null,
       "right": null,
       "top": null,
       "visibility": null,
       "width": null
      }
     },
     "9035dd0dc84240638cee27c98ff04b3a": {
      "model_module": "@jupyter-widgets/controls",
      "model_module_version": "1.5.0",
      "model_name": "HTMLModel",
      "state": {
       "_dom_classes": [],
       "_model_module": "@jupyter-widgets/controls",
       "_model_module_version": "1.5.0",
       "_model_name": "HTMLModel",
       "_view_count": null,
       "_view_module": "@jupyter-widgets/controls",
       "_view_module_version": "1.5.0",
       "_view_name": "HTMLView",
       "description": "",
       "description_tooltip": null,
       "layout": "IPY_MODEL_854712e9844944d589606c0be4740045",
       "placeholder": "​",
       "style": "IPY_MODEL_b3d2b8e0f0d448c6bfaca17ea8be2faf",
       "value": "Downloading builder script: "
      }
     },
     "927641fdf98c4864abbe58c49401c491": {
      "model_module": "@jupyter-widgets/controls",
      "model_module_version": "1.5.0",
      "model_name": "DescriptionStyleModel",
      "state": {
       "_model_module": "@jupyter-widgets/controls",
       "_model_module_version": "1.5.0",
       "_model_name": "DescriptionStyleModel",
       "_view_count": null,
       "_view_module": "@jupyter-widgets/base",
       "_view_module_version": "1.2.0",
       "_view_name": "StyleView",
       "description_width": ""
      }
     },
     "965ad53269c74cac9dae18d3f4c9089d": {
      "model_module": "@jupyter-widgets/base",
      "model_module_version": "1.2.0",
      "model_name": "LayoutModel",
      "state": {
       "_model_module": "@jupyter-widgets/base",
       "_model_module_version": "1.2.0",
       "_model_name": "LayoutModel",
       "_view_count": null,
       "_view_module": "@jupyter-widgets/base",
       "_view_module_version": "1.2.0",
       "_view_name": "LayoutView",
       "align_content": null,
       "align_items": null,
       "align_self": null,
       "border": null,
       "bottom": null,
       "display": null,
       "flex": null,
       "flex_flow": null,
       "grid_area": null,
       "grid_auto_columns": null,
       "grid_auto_flow": null,
       "grid_auto_rows": null,
       "grid_column": null,
       "grid_gap": null,
       "grid_row": null,
       "grid_template_areas": null,
       "grid_template_columns": null,
       "grid_template_rows": null,
       "height": null,
       "justify_content": null,
       "justify_items": null,
       "left": null,
       "margin": null,
       "max_height": null,
       "max_width": null,
       "min_height": null,
       "min_width": null,
       "object_fit": null,
       "object_position": null,
       "order": null,
       "overflow": null,
       "overflow_x": null,
       "overflow_y": null,
       "padding": null,
       "right": null,
       "top": null,
       "visibility": null,
       "width": null
      }
     },
     "9b141cf3a1b94cedad61d3868819e666": {
      "model_module": "@jupyter-widgets/controls",
      "model_module_version": "1.5.0",
      "model_name": "FloatProgressModel",
      "state": {
       "_dom_classes": [],
       "_model_module": "@jupyter-widgets/controls",
       "_model_module_version": "1.5.0",
       "_model_name": "FloatProgressModel",
       "_view_count": null,
       "_view_module": "@jupyter-widgets/controls",
       "_view_module_version": "1.5.0",
       "_view_name": "ProgressView",
       "bar_style": "success",
       "description": "",
       "description_tooltip": null,
       "layout": "IPY_MODEL_8c57bc7629d14230945c9dfaabf30ec8",
       "max": 557692715.0,
       "min": 0.0,
       "orientation": "horizontal",
       "style": "IPY_MODEL_2ea999f1d9e84a0b8e5ba5ced9a19c30",
       "value": 557692715.0
      }
     },
     "9e5cf6cc4ad34792a3c3df2f0641fa61": {
      "model_module": "@jupyter-widgets/controls",
      "model_module_version": "1.5.0",
      "model_name": "DescriptionStyleModel",
      "state": {
       "_model_module": "@jupyter-widgets/controls",
       "_model_module_version": "1.5.0",
       "_model_name": "DescriptionStyleModel",
       "_view_count": null,
       "_view_module": "@jupyter-widgets/base",
       "_view_module_version": "1.2.0",
       "_view_name": "StyleView",
       "description_width": ""
      }
     },
     "a03ec8885a2d4fdfb8f40c2825af9b5a": {
      "model_module": "@jupyter-widgets/controls",
      "model_module_version": "1.5.0",
      "model_name": "HBoxModel",
      "state": {
       "_dom_classes": [],
       "_model_module": "@jupyter-widgets/controls",
       "_model_module_version": "1.5.0",
       "_model_name": "HBoxModel",
       "_view_count": null,
       "_view_module": "@jupyter-widgets/controls",
       "_view_module_version": "1.5.0",
       "_view_name": "HBoxView",
       "box_style": "",
       "children": [
        "IPY_MODEL_9035dd0dc84240638cee27c98ff04b3a",
        "IPY_MODEL_d1fe3fbb0bc343c394b0c4319bf2b2c6",
        "IPY_MODEL_ef4282e01b0e496e80baa679569eb3a5"
       ],
       "layout": "IPY_MODEL_80f8e5ec64f646d095418ab570959b63"
      }
     },
     "a28f460e34d74a5e9119c1021313c0a8": {
      "model_module": "@jupyter-widgets/controls",
      "model_module_version": "1.5.0",
      "model_name": "FloatProgressModel",
      "state": {
       "_dom_classes": [],
       "_model_module": "@jupyter-widgets/controls",
       "_model_module_version": "1.5.0",
       "_model_name": "FloatProgressModel",
       "_view_count": null,
       "_view_module": "@jupyter-widgets/controls",
       "_view_module_version": "1.5.0",
       "_view_name": "ProgressView",
       "bar_style": "success",
       "description": "",
       "description_tooltip": null,
       "layout": "IPY_MODEL_161557cc74b04644aac5d41a0785ebf4",
       "max": 1066.0,
       "min": 0.0,
       "orientation": "horizontal",
       "style": "IPY_MODEL_d4d9d3f789254830a2f260efb16759ab",
       "value": 1066.0
      }
     },
     "a699f8fc391a496cb922fb83bc353d1c": {
      "model_module": "@jupyter-widgets/base",
      "model_module_version": "1.2.0",
      "model_name": "LayoutModel",
      "state": {
       "_model_module": "@jupyter-widgets/base",
       "_model_module_version": "1.2.0",
       "_model_name": "LayoutModel",
       "_view_count": null,
       "_view_module": "@jupyter-widgets/base",
       "_view_module_version": "1.2.0",
       "_view_name": "LayoutView",
       "align_content": null,
       "align_items": null,
       "align_self": null,
       "border": null,
       "bottom": null,
       "display": null,
       "flex": null,
       "flex_flow": null,
       "grid_area": null,
       "grid_auto_columns": null,
       "grid_auto_flow": null,
       "grid_auto_rows": null,
       "grid_column": null,
       "grid_gap": null,
       "grid_row": null,
       "grid_template_areas": null,
       "grid_template_columns": null,
       "grid_template_rows": null,
       "height": null,
       "justify_content": null,
       "justify_items": null,
       "left": null,
       "margin": null,
       "max_height": null,
       "max_width": null,
       "min_height": null,
       "min_width": null,
       "object_fit": null,
       "object_position": null,
       "order": null,
       "overflow": null,
       "overflow_x": null,
       "overflow_y": null,
       "padding": null,
       "right": null,
       "top": null,
       "visibility": null,
       "width": null
      }
     },
     "a69a900bf50742d1851ee7bb807d6060": {
      "model_module": "@jupyter-widgets/controls",
      "model_module_version": "1.5.0",
      "model_name": "DescriptionStyleModel",
      "state": {
       "_model_module": "@jupyter-widgets/controls",
       "_model_module_version": "1.5.0",
       "_model_name": "DescriptionStyleModel",
       "_view_count": null,
       "_view_module": "@jupyter-widgets/base",
       "_view_module_version": "1.2.0",
       "_view_name": "StyleView",
       "description_width": ""
      }
     },
     "a8f65c46e76b4728972389cce3b80f76": {
      "model_module": "@jupyter-widgets/base",
      "model_module_version": "1.2.0",
      "model_name": "LayoutModel",
      "state": {
       "_model_module": "@jupyter-widgets/base",
       "_model_module_version": "1.2.0",
       "_model_name": "LayoutModel",
       "_view_count": null,
       "_view_module": "@jupyter-widgets/base",
       "_view_module_version": "1.2.0",
       "_view_name": "LayoutView",
       "align_content": null,
       "align_items": null,
       "align_self": null,
       "border": null,
       "bottom": null,
       "display": null,
       "flex": null,
       "flex_flow": null,
       "grid_area": null,
       "grid_auto_columns": null,
       "grid_auto_flow": null,
       "grid_auto_rows": null,
       "grid_column": null,
       "grid_gap": null,
       "grid_row": null,
       "grid_template_areas": null,
       "grid_template_columns": null,
       "grid_template_rows": null,
       "height": null,
       "justify_content": null,
       "justify_items": null,
       "left": null,
       "margin": null,
       "max_height": null,
       "max_width": null,
       "min_height": null,
       "min_width": null,
       "object_fit": null,
       "object_position": null,
       "order": null,
       "overflow": null,
       "overflow_x": null,
       "overflow_y": null,
       "padding": null,
       "right": null,
       "top": null,
       "visibility": null,
       "width": null
      }
     },
     "ac92a763e4cf487486c42fc2678997f7": {
      "model_module": "@jupyter-widgets/controls",
      "model_module_version": "1.5.0",
      "model_name": "HBoxModel",
      "state": {
       "_dom_classes": [],
       "_model_module": "@jupyter-widgets/controls",
       "_model_module_version": "1.5.0",
       "_model_name": "HBoxModel",
       "_view_count": null,
       "_view_module": "@jupyter-widgets/controls",
       "_view_module_version": "1.5.0",
       "_view_name": "HBoxView",
       "box_style": "",
       "children": [
        "IPY_MODEL_ced64b26c6ed4ed5a02b994d438ee0f3",
        "IPY_MODEL_77f5df67572143149b882c9e9b991e5a",
        "IPY_MODEL_f5ea0ddb3c544a25a55ee3175e24e9c8"
       ],
       "layout": "IPY_MODEL_ff84c1d411674f7e87319b650dac3c3e"
      }
     },
     "adb8a1cbf1b4477ca7bd3cf57c3aa2ef": {
      "model_module": "@jupyter-widgets/controls",
      "model_module_version": "1.5.0",
      "model_name": "DescriptionStyleModel",
      "state": {
       "_model_module": "@jupyter-widgets/controls",
       "_model_module_version": "1.5.0",
       "_model_name": "DescriptionStyleModel",
       "_view_count": null,
       "_view_module": "@jupyter-widgets/base",
       "_view_module_version": "1.2.0",
       "_view_name": "StyleView",
       "description_width": ""
      }
     },
     "b2c135f413e24d55b9188ed34162977a": {
      "model_module": "@jupyter-widgets/base",
      "model_module_version": "1.2.0",
      "model_name": "LayoutModel",
      "state": {
       "_model_module": "@jupyter-widgets/base",
       "_model_module_version": "1.2.0",
       "_model_name": "LayoutModel",
       "_view_count": null,
       "_view_module": "@jupyter-widgets/base",
       "_view_module_version": "1.2.0",
       "_view_name": "LayoutView",
       "align_content": null,
       "align_items": null,
       "align_self": null,
       "border": null,
       "bottom": null,
       "display": null,
       "flex": null,
       "flex_flow": null,
       "grid_area": null,
       "grid_auto_columns": null,
       "grid_auto_flow": null,
       "grid_auto_rows": null,
       "grid_column": null,
       "grid_gap": null,
       "grid_row": null,
       "grid_template_areas": null,
       "grid_template_columns": null,
       "grid_template_rows": null,
       "height": null,
       "justify_content": null,
       "justify_items": null,
       "left": null,
       "margin": null,
       "max_height": null,
       "max_width": null,
       "min_height": null,
       "min_width": null,
       "object_fit": null,
       "object_position": null,
       "order": null,
       "overflow": null,
       "overflow_x": null,
       "overflow_y": null,
       "padding": null,
       "right": null,
       "top": null,
       "visibility": null,
       "width": null
      }
     },
     "b2c73c300523414b8396a1191fde3796": {
      "model_module": "@jupyter-widgets/controls",
      "model_module_version": "1.5.0",
      "model_name": "FloatProgressModel",
      "state": {
       "_dom_classes": [],
       "_model_module": "@jupyter-widgets/controls",
       "_model_module_version": "1.5.0",
       "_model_name": "FloatProgressModel",
       "_view_count": null,
       "_view_module": "@jupyter-widgets/controls",
       "_view_module_version": "1.5.0",
       "_view_name": "ProgressView",
       "bar_style": "success",
       "description": "",
       "description_tooltip": null,
       "layout": "IPY_MODEL_05ac85c554b845cda66e74f5bee78a04",
       "max": 4305025.0,
       "min": 0.0,
       "orientation": "horizontal",
       "style": "IPY_MODEL_fc597f2ee8af4a16b16f750b57cd2ad8",
       "value": 4305025.0
      }
     },
     "b3d2b8e0f0d448c6bfaca17ea8be2faf": {
      "model_module": "@jupyter-widgets/controls",
      "model_module_version": "1.5.0",
      "model_name": "DescriptionStyleModel",
      "state": {
       "_model_module": "@jupyter-widgets/controls",
       "_model_module_version": "1.5.0",
       "_model_name": "DescriptionStyleModel",
       "_view_count": null,
       "_view_module": "@jupyter-widgets/base",
       "_view_module_version": "1.2.0",
       "_view_name": "StyleView",
       "description_width": ""
      }
     },
     "ba2d9ab95d55421da8f3964ac8792622": {
      "model_module": "@jupyter-widgets/controls",
      "model_module_version": "1.5.0",
      "model_name": "ProgressStyleModel",
      "state": {
       "_model_module": "@jupyter-widgets/controls",
       "_model_module_version": "1.5.0",
       "_model_name": "ProgressStyleModel",
       "_view_count": null,
       "_view_module": "@jupyter-widgets/base",
       "_view_module_version": "1.2.0",
       "_view_name": "StyleView",
       "bar_color": null,
       "description_width": ""
      }
     },
     "bda97a5fa99349e5a424f465b4b62edf": {
      "model_module": "@jupyter-widgets/base",
      "model_module_version": "1.2.0",
      "model_name": "LayoutModel",
      "state": {
       "_model_module": "@jupyter-widgets/base",
       "_model_module_version": "1.2.0",
       "_model_name": "LayoutModel",
       "_view_count": null,
       "_view_module": "@jupyter-widgets/base",
       "_view_module_version": "1.2.0",
       "_view_name": "LayoutView",
       "align_content": null,
       "align_items": null,
       "align_self": null,
       "border": null,
       "bottom": null,
       "display": null,
       "flex": null,
       "flex_flow": null,
       "grid_area": null,
       "grid_auto_columns": null,
       "grid_auto_flow": null,
       "grid_auto_rows": null,
       "grid_column": null,
       "grid_gap": null,
       "grid_row": null,
       "grid_template_areas": null,
       "grid_template_columns": null,
       "grid_template_rows": null,
       "height": null,
       "justify_content": null,
       "justify_items": null,
       "left": null,
       "margin": null,
       "max_height": null,
       "max_width": null,
       "min_height": null,
       "min_width": null,
       "object_fit": null,
       "object_position": null,
       "order": null,
       "overflow": null,
       "overflow_x": null,
       "overflow_y": null,
       "padding": null,
       "right": null,
       "top": null,
       "visibility": null,
       "width": null
      }
     },
     "bddde93c9196432089bd5170a6333391": {
      "model_module": "@jupyter-widgets/controls",
      "model_module_version": "1.5.0",
      "model_name": "ProgressStyleModel",
      "state": {
       "_model_module": "@jupyter-widgets/controls",
       "_model_module_version": "1.5.0",
       "_model_name": "ProgressStyleModel",
       "_view_count": null,
       "_view_module": "@jupyter-widgets/base",
       "_view_module_version": "1.2.0",
       "_view_name": "StyleView",
       "bar_color": null,
       "description_width": ""
      }
     },
     "c0a89f96111d4240adf313d36ad37386": {
      "model_module": "@jupyter-widgets/controls",
      "model_module_version": "1.5.0",
      "model_name": "HBoxModel",
      "state": {
       "_dom_classes": [],
       "_model_module": "@jupyter-widgets/controls",
       "_model_module_version": "1.5.0",
       "_model_name": "HBoxModel",
       "_view_count": null,
       "_view_module": "@jupyter-widgets/controls",
       "_view_module_version": "1.5.0",
       "_view_name": "HBoxView",
       "box_style": "",
       "children": [
        "IPY_MODEL_d07ce0ff82514c348aecddf0a23b9d40",
        "IPY_MODEL_a28f460e34d74a5e9119c1021313c0a8",
        "IPY_MODEL_05f0cde792f04c0f9395613f17c1512e"
       ],
       "layout": "IPY_MODEL_de294349cbc1464d88578e4936706792"
      }
     },
     "c90cc96e67af4c57ae1bd9db8972a52e": {
      "model_module": "@jupyter-widgets/base",
      "model_module_version": "1.2.0",
      "model_name": "LayoutModel",
      "state": {
       "_model_module": "@jupyter-widgets/base",
       "_model_module_version": "1.2.0",
       "_model_name": "LayoutModel",
       "_view_count": null,
       "_view_module": "@jupyter-widgets/base",
       "_view_module_version": "1.2.0",
       "_view_name": "LayoutView",
       "align_content": null,
       "align_items": null,
       "align_self": null,
       "border": null,
       "bottom": null,
       "display": null,
       "flex": null,
       "flex_flow": null,
       "grid_area": null,
       "grid_auto_columns": null,
       "grid_auto_flow": null,
       "grid_auto_rows": null,
       "grid_column": null,
       "grid_gap": null,
       "grid_row": null,
       "grid_template_areas": null,
       "grid_template_columns": null,
       "grid_template_rows": null,
       "height": null,
       "justify_content": null,
       "justify_items": null,
       "left": null,
       "margin": null,
       "max_height": null,
       "max_width": null,
       "min_height": null,
       "min_width": null,
       "object_fit": null,
       "object_position": null,
       "order": null,
       "overflow": null,
       "overflow_x": null,
       "overflow_y": null,
       "padding": null,
       "right": null,
       "top": null,
       "visibility": null,
       "width": null
      }
     },
     "c9bff6ae4c92440da4c1e7ee940c1eb7": {
      "model_module": "@jupyter-widgets/controls",
      "model_module_version": "1.5.0",
      "model_name": "HTMLModel",
      "state": {
       "_dom_classes": [],
       "_model_module": "@jupyter-widgets/controls",
       "_model_module_version": "1.5.0",
       "_model_name": "HTMLModel",
       "_view_count": null,
       "_view_module": "@jupyter-widgets/controls",
       "_view_module_version": "1.5.0",
       "_view_name": "HTMLView",
       "description": "",
       "description_tooltip": null,
       "layout": "IPY_MODEL_d9303594dd05499c84bf55e198bd502c",
       "placeholder": "​",
       "style": "IPY_MODEL_927641fdf98c4864abbe58c49401c491",
       "value": "Downloading: 100%"
      }
     },
     "cbeb44cc45af422dbf3912b49de9f659": {
      "model_module": "@jupyter-widgets/controls",
      "model_module_version": "1.5.0",
      "model_name": "HTMLModel",
      "state": {
       "_dom_classes": [],
       "_model_module": "@jupyter-widgets/controls",
       "_model_module_version": "1.5.0",
       "_model_name": "HTMLModel",
       "_view_count": null,
       "_view_module": "@jupyter-widgets/controls",
       "_view_module_version": "1.5.0",
       "_view_name": "HTMLView",
       "description": "",
       "description_tooltip": null,
       "layout": "IPY_MODEL_71e5592882ed460185618d7b0fa13486",
       "placeholder": "​",
       "style": "IPY_MODEL_41686a72f66d41fba6a492cb3e966261",
       "value": "Downloading: 100%"
      }
     },
     "cbec5630a17949d7901ea8f3b661cb3d": {
      "model_module": "@jupyter-widgets/base",
      "model_module_version": "1.2.0",
      "model_name": "LayoutModel",
      "state": {
       "_model_module": "@jupyter-widgets/base",
       "_model_module_version": "1.2.0",
       "_model_name": "LayoutModel",
       "_view_count": null,
       "_view_module": "@jupyter-widgets/base",
       "_view_module_version": "1.2.0",
       "_view_name": "LayoutView",
       "align_content": null,
       "align_items": null,
       "align_self": null,
       "border": null,
       "bottom": null,
       "display": null,
       "flex": null,
       "flex_flow": null,
       "grid_area": null,
       "grid_auto_columns": null,
       "grid_auto_flow": null,
       "grid_auto_rows": null,
       "grid_column": null,
       "grid_gap": null,
       "grid_row": null,
       "grid_template_areas": null,
       "grid_template_columns": null,
       "grid_template_rows": null,
       "height": null,
       "justify_content": null,
       "justify_items": null,
       "left": null,
       "margin": null,
       "max_height": null,
       "max_width": null,
       "min_height": null,
       "min_width": null,
       "object_fit": null,
       "object_position": null,
       "order": null,
       "overflow": null,
       "overflow_x": null,
       "overflow_y": null,
       "padding": null,
       "right": null,
       "top": null,
       "visibility": null,
       "width": null
      }
     },
     "ced64b26c6ed4ed5a02b994d438ee0f3": {
      "model_module": "@jupyter-widgets/controls",
      "model_module_version": "1.5.0",
      "model_name": "HTMLModel",
      "state": {
       "_dom_classes": [],
       "_model_module": "@jupyter-widgets/controls",
       "_model_module_version": "1.5.0",
       "_model_name": "HTMLModel",
       "_view_count": null,
       "_view_module": "@jupyter-widgets/controls",
       "_view_module_version": "1.5.0",
       "_view_name": "HTMLView",
       "description": "",
       "description_tooltip": null,
       "layout": "IPY_MODEL_eb93dddaafa24667859132ff2d6fea3f",
       "placeholder": "​",
       "style": "IPY_MODEL_f1f6a307b8014fb5b5b0e052660004b3",
       "value": "Downloading: 100%"
      }
     },
     "d02bb81a4e054bd49213cf7fabeb4d07": {
      "model_module": "@jupyter-widgets/base",
      "model_module_version": "1.2.0",
      "model_name": "LayoutModel",
      "state": {
       "_model_module": "@jupyter-widgets/base",
       "_model_module_version": "1.2.0",
       "_model_name": "LayoutModel",
       "_view_count": null,
       "_view_module": "@jupyter-widgets/base",
       "_view_module_version": "1.2.0",
       "_view_name": "LayoutView",
       "align_content": null,
       "align_items": null,
       "align_self": null,
       "border": null,
       "bottom": null,
       "display": null,
       "flex": null,
       "flex_flow": null,
       "grid_area": null,
       "grid_auto_columns": null,
       "grid_auto_flow": null,
       "grid_auto_rows": null,
       "grid_column": null,
       "grid_gap": null,
       "grid_row": null,
       "grid_template_areas": null,
       "grid_template_columns": null,
       "grid_template_rows": null,
       "height": null,
       "justify_content": null,
       "justify_items": null,
       "left": null,
       "margin": null,
       "max_height": null,
       "max_width": null,
       "min_height": null,
       "min_width": null,
       "object_fit": null,
       "object_position": null,
       "order": null,
       "overflow": null,
       "overflow_x": null,
       "overflow_y": null,
       "padding": null,
       "right": null,
       "top": null,
       "visibility": null,
       "width": null
      }
     },
     "d07ce0ff82514c348aecddf0a23b9d40": {
      "model_module": "@jupyter-widgets/controls",
      "model_module_version": "1.5.0",
      "model_name": "HTMLModel",
      "state": {
       "_dom_classes": [],
       "_model_module": "@jupyter-widgets/controls",
       "_model_module_version": "1.5.0",
       "_model_name": "HTMLModel",
       "_view_count": null,
       "_view_module": "@jupyter-widgets/controls",
       "_view_module_version": "1.5.0",
       "_view_name": "HTMLView",
       "description": "",
       "description_tooltip": null,
       "layout": "IPY_MODEL_098c12b8531847cf8cd4f0f1e2efc8d5",
       "placeholder": "​",
       "style": "IPY_MODEL_adb8a1cbf1b4477ca7bd3cf57c3aa2ef",
       "value": "Downloading: 100%"
      }
     },
     "d1fe3fbb0bc343c394b0c4319bf2b2c6": {
      "model_module": "@jupyter-widgets/controls",
      "model_module_version": "1.5.0",
      "model_name": "FloatProgressModel",
      "state": {
       "_dom_classes": [],
       "_model_module": "@jupyter-widgets/controls",
       "_model_module_version": "1.5.0",
       "_model_name": "FloatProgressModel",
       "_view_count": null,
       "_view_module": "@jupyter-widgets/controls",
       "_view_module_version": "1.5.0",
       "_view_name": "ProgressView",
       "bar_style": "success",
       "description": "",
       "description_tooltip": null,
       "layout": "IPY_MODEL_a699f8fc391a496cb922fb83bc353d1c",
       "max": 1411.0,
       "min": 0.0,
       "orientation": "horizontal",
       "style": "IPY_MODEL_469b662ad2b64fbf84610da8e9294a52",
       "value": 1411.0
      }
     },
     "d340ba694cbb4ad180493573872395fa": {
      "model_module": "@jupyter-widgets/controls",
      "model_module_version": "1.5.0",
      "model_name": "HBoxModel",
      "state": {
       "_dom_classes": [],
       "_model_module": "@jupyter-widgets/controls",
       "_model_module_version": "1.5.0",
       "_model_name": "HBoxModel",
       "_view_count": null,
       "_view_module": "@jupyter-widgets/controls",
       "_view_module_version": "1.5.0",
       "_view_name": "HBoxView",
       "box_style": "",
       "children": [
        "IPY_MODEL_7644d9e0e51b4b1990535d74cfa8ebfb",
        "IPY_MODEL_1f4bb7e99723410dae3e2de3fb2739a2",
        "IPY_MODEL_8de07249da504536bca03ef727b748d1"
       ],
       "layout": "IPY_MODEL_6246feedb9214926959f9530aa05b710"
      }
     },
     "d4d9d3f789254830a2f260efb16759ab": {
      "model_module": "@jupyter-widgets/controls",
      "model_module_version": "1.5.0",
      "model_name": "ProgressStyleModel",
      "state": {
       "_model_module": "@jupyter-widgets/controls",
       "_model_module_version": "1.5.0",
       "_model_name": "ProgressStyleModel",
       "_view_count": null,
       "_view_module": "@jupyter-widgets/base",
       "_view_module_version": "1.2.0",
       "_view_name": "StyleView",
       "bar_color": null,
       "description_width": ""
      }
     },
     "d8d0cb0a4ea940df99a63c1c1e4f769b": {
      "model_module": "@jupyter-widgets/controls",
      "model_module_version": "1.5.0",
      "model_name": "HBoxModel",
      "state": {
       "_dom_classes": [],
       "_model_module": "@jupyter-widgets/controls",
       "_model_module_version": "1.5.0",
       "_model_name": "HBoxModel",
       "_view_count": null,
       "_view_module": "@jupyter-widgets/controls",
       "_view_module_version": "1.5.0",
       "_view_name": "HBoxView",
       "box_style": "",
       "children": [
        "IPY_MODEL_20dd746a2c664beda57f722818dc9172",
        "IPY_MODEL_3ad92b06979d495f8d66e29897ef441a",
        "IPY_MODEL_74cbc44e753b402db4cd4aea72f93f73"
       ],
       "layout": "IPY_MODEL_18771460bfee4096ac95abaf040b6df9"
      }
     },
     "d9303594dd05499c84bf55e198bd502c": {
      "model_module": "@jupyter-widgets/base",
      "model_module_version": "1.2.0",
      "model_name": "LayoutModel",
      "state": {
       "_model_module": "@jupyter-widgets/base",
       "_model_module_version": "1.2.0",
       "_model_name": "LayoutModel",
       "_view_count": null,
       "_view_module": "@jupyter-widgets/base",
       "_view_module_version": "1.2.0",
       "_view_name": "LayoutView",
       "align_content": null,
       "align_items": null,
       "align_self": null,
       "border": null,
       "bottom": null,
       "display": null,
       "flex": null,
       "flex_flow": null,
       "grid_area": null,
       "grid_auto_columns": null,
       "grid_auto_flow": null,
       "grid_auto_rows": null,
       "grid_column": null,
       "grid_gap": null,
       "grid_row": null,
       "grid_template_areas": null,
       "grid_template_columns": null,
       "grid_template_rows": null,
       "height": null,
       "justify_content": null,
       "justify_items": null,
       "left": null,
       "margin": null,
       "max_height": null,
       "max_width": null,
       "min_height": null,
       "min_width": null,
       "object_fit": null,
       "object_position": null,
       "order": null,
       "overflow": null,
       "overflow_x": null,
       "overflow_y": null,
       "padding": null,
       "right": null,
       "top": null,
       "visibility": null,
       "width": null
      }
     },
     "de294349cbc1464d88578e4936706792": {
      "model_module": "@jupyter-widgets/base",
      "model_module_version": "1.2.0",
      "model_name": "LayoutModel",
      "state": {
       "_model_module": "@jupyter-widgets/base",
       "_model_module_version": "1.2.0",
       "_model_name": "LayoutModel",
       "_view_count": null,
       "_view_module": "@jupyter-widgets/base",
       "_view_module_version": "1.2.0",
       "_view_name": "LayoutView",
       "align_content": null,
       "align_items": null,
       "align_self": null,
       "border": null,
       "bottom": null,
       "display": null,
       "flex": null,
       "flex_flow": null,
       "grid_area": null,
       "grid_auto_columns": null,
       "grid_auto_flow": null,
       "grid_auto_rows": null,
       "grid_column": null,
       "grid_gap": null,
       "grid_row": null,
       "grid_template_areas": null,
       "grid_template_columns": null,
       "grid_template_rows": null,
       "height": null,
       "justify_content": null,
       "justify_items": null,
       "left": null,
       "margin": null,
       "max_height": null,
       "max_width": null,
       "min_height": null,
       "min_width": null,
       "object_fit": null,
       "object_position": null,
       "order": null,
       "overflow": null,
       "overflow_x": null,
       "overflow_y": null,
       "padding": null,
       "right": null,
       "top": null,
       "visibility": null,
       "width": null
      }
     },
     "df0f3628396940599ce181b5b2f0381e": {
      "model_module": "@jupyter-widgets/controls",
      "model_module_version": "1.5.0",
      "model_name": "HTMLModel",
      "state": {
       "_dom_classes": [],
       "_model_module": "@jupyter-widgets/controls",
       "_model_module_version": "1.5.0",
       "_model_name": "HTMLModel",
       "_view_count": null,
       "_view_module": "@jupyter-widgets/controls",
       "_view_module_version": "1.5.0",
       "_view_name": "HTMLView",
       "description": "",
       "description_tooltip": null,
       "layout": "IPY_MODEL_cbec5630a17949d7901ea8f3b661cb3d",
       "placeholder": "​",
       "style": "IPY_MODEL_652794f25791467f8133dedfd265610d",
       "value": " 532M/532M [00:14&lt;00:00, 40.7MB/s]"
      }
     },
     "dfced457715343d9a3c76de5eda8dc2a": {
      "model_module": "@jupyter-widgets/base",
      "model_module_version": "1.2.0",
      "model_name": "LayoutModel",
      "state": {
       "_model_module": "@jupyter-widgets/base",
       "_model_module_version": "1.2.0",
       "_model_name": "LayoutModel",
       "_view_count": null,
       "_view_module": "@jupyter-widgets/base",
       "_view_module_version": "1.2.0",
       "_view_name": "LayoutView",
       "align_content": null,
       "align_items": null,
       "align_self": null,
       "border": null,
       "bottom": null,
       "display": null,
       "flex": null,
       "flex_flow": null,
       "grid_area": null,
       "grid_auto_columns": null,
       "grid_auto_flow": null,
       "grid_auto_rows": null,
       "grid_column": null,
       "grid_gap": null,
       "grid_row": null,
       "grid_template_areas": null,
       "grid_template_columns": null,
       "grid_template_rows": null,
       "height": null,
       "justify_content": null,
       "justify_items": null,
       "left": null,
       "margin": null,
       "max_height": null,
       "max_width": null,
       "min_height": null,
       "min_width": null,
       "object_fit": null,
       "object_position": null,
       "order": null,
       "overflow": null,
       "overflow_x": null,
       "overflow_y": null,
       "padding": null,
       "right": null,
       "top": null,
       "visibility": null,
       "width": null
      }
     },
     "e04526a745184a519d2d1786ca76f390": {
      "model_module": "@jupyter-widgets/controls",
      "model_module_version": "1.5.0",
      "model_name": "HTMLModel",
      "state": {
       "_dom_classes": [],
       "_model_module": "@jupyter-widgets/controls",
       "_model_module_version": "1.5.0",
       "_model_name": "HTMLModel",
       "_view_count": null,
       "_view_module": "@jupyter-widgets/controls",
       "_view_module_version": "1.5.0",
       "_view_name": "HTMLView",
       "description": "",
       "description_tooltip": null,
       "layout": "IPY_MODEL_eaf585ca87254fceae899dcbd0f84a4a",
       "placeholder": "​",
       "style": "IPY_MODEL_7aec545a62f048faac0574b1abf73169",
       "value": " 97/97 [01:00&lt;00:00,  1.84ba/s]"
      }
     },
     "e265d759db494c929870dfc665fd9d10": {
      "model_module": "@jupyter-widgets/controls",
      "model_module_version": "1.5.0",
      "model_name": "DescriptionStyleModel",
      "state": {
       "_model_module": "@jupyter-widgets/controls",
       "_model_module_version": "1.5.0",
       "_model_name": "DescriptionStyleModel",
       "_view_count": null,
       "_view_module": "@jupyter-widgets/base",
       "_view_module_version": "1.2.0",
       "_view_name": "StyleView",
       "description_width": ""
      }
     },
     "eaf585ca87254fceae899dcbd0f84a4a": {
      "model_module": "@jupyter-widgets/base",
      "model_module_version": "1.2.0",
      "model_name": "LayoutModel",
      "state": {
       "_model_module": "@jupyter-widgets/base",
       "_model_module_version": "1.2.0",
       "_model_name": "LayoutModel",
       "_view_count": null,
       "_view_module": "@jupyter-widgets/base",
       "_view_module_version": "1.2.0",
       "_view_name": "LayoutView",
       "align_content": null,
       "align_items": null,
       "align_self": null,
       "border": null,
       "bottom": null,
       "display": null,
       "flex": null,
       "flex_flow": null,
       "grid_area": null,
       "grid_auto_columns": null,
       "grid_auto_flow": null,
       "grid_auto_rows": null,
       "grid_column": null,
       "grid_gap": null,
       "grid_row": null,
       "grid_template_areas": null,
       "grid_template_columns": null,
       "grid_template_rows": null,
       "height": null,
       "justify_content": null,
       "justify_items": null,
       "left": null,
       "margin": null,
       "max_height": null,
       "max_width": null,
       "min_height": null,
       "min_width": null,
       "object_fit": null,
       "object_position": null,
       "order": null,
       "overflow": null,
       "overflow_x": null,
       "overflow_y": null,
       "padding": null,
       "right": null,
       "top": null,
       "visibility": null,
       "width": null
      }
     },
     "eb93dddaafa24667859132ff2d6fea3f": {
      "model_module": "@jupyter-widgets/base",
      "model_module_version": "1.2.0",
      "model_name": "LayoutModel",
      "state": {
       "_model_module": "@jupyter-widgets/base",
       "_model_module_version": "1.2.0",
       "_model_name": "LayoutModel",
       "_view_count": null,
       "_view_module": "@jupyter-widgets/base",
       "_view_module_version": "1.2.0",
       "_view_name": "LayoutView",
       "align_content": null,
       "align_items": null,
       "align_self": null,
       "border": null,
       "bottom": null,
       "display": null,
       "flex": null,
       "flex_flow": null,
       "grid_area": null,
       "grid_auto_columns": null,
       "grid_auto_flow": null,
       "grid_auto_rows": null,
       "grid_column": null,
       "grid_gap": null,
       "grid_row": null,
       "grid_template_areas": null,
       "grid_template_columns": null,
       "grid_template_rows": null,
       "height": null,
       "justify_content": null,
       "justify_items": null,
       "left": null,
       "margin": null,
       "max_height": null,
       "max_width": null,
       "min_height": null,
       "min_width": null,
       "object_fit": null,
       "object_position": null,
       "order": null,
       "overflow": null,
       "overflow_x": null,
       "overflow_y": null,
       "padding": null,
       "right": null,
       "top": null,
       "visibility": null,
       "width": null
      }
     },
     "ef4282e01b0e496e80baa679569eb3a5": {
      "model_module": "@jupyter-widgets/controls",
      "model_module_version": "1.5.0",
      "model_name": "HTMLModel",
      "state": {
       "_dom_classes": [],
       "_model_module": "@jupyter-widgets/controls",
       "_model_module_version": "1.5.0",
       "_model_name": "HTMLModel",
       "_view_count": null,
       "_view_module": "@jupyter-widgets/controls",
       "_view_module_version": "1.5.0",
       "_view_name": "HTMLView",
       "description": "",
       "description_tooltip": null,
       "layout": "IPY_MODEL_6f2c652912ad437e909ac048018479fb",
       "placeholder": "​",
       "style": "IPY_MODEL_7772bd274851494ba52c8f62f2322e45",
       "value": " 3.19k/? [00:00&lt;00:00, 113kB/s]"
      }
     },
     "f1f6a307b8014fb5b5b0e052660004b3": {
      "model_module": "@jupyter-widgets/controls",
      "model_module_version": "1.5.0",
      "model_name": "DescriptionStyleModel",
      "state": {
       "_model_module": "@jupyter-widgets/controls",
       "_model_module_version": "1.5.0",
       "_model_name": "DescriptionStyleModel",
       "_view_count": null,
       "_view_module": "@jupyter-widgets/base",
       "_view_module_version": "1.2.0",
       "_view_name": "StyleView",
       "description_width": ""
      }
     },
     "f58b7f3c3c574c08b19e0a06579067aa": {
      "model_module": "@jupyter-widgets/base",
      "model_module_version": "1.2.0",
      "model_name": "LayoutModel",
      "state": {
       "_model_module": "@jupyter-widgets/base",
       "_model_module_version": "1.2.0",
       "_model_name": "LayoutModel",
       "_view_count": null,
       "_view_module": "@jupyter-widgets/base",
       "_view_module_version": "1.2.0",
       "_view_name": "LayoutView",
       "align_content": null,
       "align_items": null,
       "align_self": null,
       "border": null,
       "bottom": null,
       "display": null,
       "flex": null,
       "flex_flow": null,
       "grid_area": null,
       "grid_auto_columns": null,
       "grid_auto_flow": null,
       "grid_auto_rows": null,
       "grid_column": null,
       "grid_gap": null,
       "grid_row": null,
       "grid_template_areas": null,
       "grid_template_columns": null,
       "grid_template_rows": null,
       "height": null,
       "justify_content": null,
       "justify_items": null,
       "left": null,
       "margin": null,
       "max_height": null,
       "max_width": null,
       "min_height": null,
       "min_width": null,
       "object_fit": null,
       "object_position": null,
       "order": null,
       "overflow": null,
       "overflow_x": null,
       "overflow_y": null,
       "padding": null,
       "right": null,
       "top": null,
       "visibility": null,
       "width": null
      }
     },
     "f5ea0ddb3c544a25a55ee3175e24e9c8": {
      "model_module": "@jupyter-widgets/controls",
      "model_module_version": "1.5.0",
      "model_name": "HTMLModel",
      "state": {
       "_dom_classes": [],
       "_model_module": "@jupyter-widgets/controls",
       "_model_module_version": "1.5.0",
       "_model_name": "HTMLModel",
       "_view_count": null,
       "_view_module": "@jupyter-widgets/controls",
       "_view_module_version": "1.5.0",
       "_view_name": "HTMLView",
       "description": "",
       "description_tooltip": null,
       "layout": "IPY_MODEL_8fa9a789604b49b1b4fbeaf30a754580",
       "placeholder": "​",
       "style": "IPY_MODEL_7d52da192f4a4e739f9dc99e96da2c6c",
       "value": " 23.0/23.0 [00:00&lt;00:00, 816B/s]"
      }
     },
     "f8ffa039bd534377a7313758cbdf97c3": {
      "model_module": "@jupyter-widgets/controls",
      "model_module_version": "1.5.0",
      "model_name": "DescriptionStyleModel",
      "state": {
       "_model_module": "@jupyter-widgets/controls",
       "_model_module_version": "1.5.0",
       "_model_name": "DescriptionStyleModel",
       "_view_count": null,
       "_view_module": "@jupyter-widgets/base",
       "_view_module_version": "1.2.0",
       "_view_name": "StyleView",
       "description_width": ""
      }
     },
     "fc597f2ee8af4a16b16f750b57cd2ad8": {
      "model_module": "@jupyter-widgets/controls",
      "model_module_version": "1.5.0",
      "model_name": "ProgressStyleModel",
      "state": {
       "_model_module": "@jupyter-widgets/controls",
       "_model_module_version": "1.5.0",
       "_model_name": "ProgressStyleModel",
       "_view_count": null,
       "_view_module": "@jupyter-widgets/base",
       "_view_module_version": "1.2.0",
       "_view_name": "StyleView",
       "bar_color": null,
       "description_width": ""
      }
     },
     "fe3074eb16994b0ba6f848c1c101da42": {
      "model_module": "@jupyter-widgets/controls",
      "model_module_version": "1.5.0",
      "model_name": "ProgressStyleModel",
      "state": {
       "_model_module": "@jupyter-widgets/controls",
       "_model_module_version": "1.5.0",
       "_model_name": "ProgressStyleModel",
       "_view_count": null,
       "_view_module": "@jupyter-widgets/base",
       "_view_module_version": "1.2.0",
       "_view_name": "StyleView",
       "bar_color": null,
       "description_width": ""
      }
     },
     "ff84c1d411674f7e87319b650dac3c3e": {
      "model_module": "@jupyter-widgets/base",
      "model_module_version": "1.2.0",
      "model_name": "LayoutModel",
      "state": {
       "_model_module": "@jupyter-widgets/base",
       "_model_module_version": "1.2.0",
       "_model_name": "LayoutModel",
       "_view_count": null,
       "_view_module": "@jupyter-widgets/base",
       "_view_module_version": "1.2.0",
       "_view_name": "LayoutView",
       "align_content": null,
       "align_items": null,
       "align_self": null,
       "border": null,
       "bottom": null,
       "display": null,
       "flex": null,
       "flex_flow": null,
       "grid_area": null,
       "grid_auto_columns": null,
       "grid_auto_flow": null,
       "grid_auto_rows": null,
       "grid_column": null,
       "grid_gap": null,
       "grid_row": null,
       "grid_template_areas": null,
       "grid_template_columns": null,
       "grid_template_rows": null,
       "height": null,
       "justify_content": null,
       "justify_items": null,
       "left": null,
       "margin": null,
       "max_height": null,
       "max_width": null,
       "min_height": null,
       "min_width": null,
       "object_fit": null,
       "object_position": null,
       "order": null,
       "overflow": null,
       "overflow_x": null,
       "overflow_y": null,
       "padding": null,
       "right": null,
       "top": null,
       "visibility": null,
       "width": null
      }
     }
    },
    "version_major": 2,
    "version_minor": 0
   }
  }
 },
 "nbformat": 4,
 "nbformat_minor": 5
}
