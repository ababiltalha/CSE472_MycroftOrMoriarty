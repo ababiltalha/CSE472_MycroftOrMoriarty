{
 "cells": [
  {
   "cell_type": "markdown",
   "id": "6ac7c7b5",
   "metadata": {
    "papermill": {
     "duration": 0.024912,
     "end_time": "2024-02-26T14:34:36.199333",
     "exception": false,
     "start_time": "2024-02-26T14:34:36.174421",
     "status": "completed"
    },
    "tags": []
   },
   "source": [
    "This notebook is part of a series. The notebooks in the series are:\n",
    "\n",
    "- <a href=\"https://www.kaggle.com/code/sambitmukherjee/watson-1-eda-model-validation-schemes\" target=\"_blank\">Watson 1: EDA & Model Validation Schemes</a>\n",
    "- This notebook.\n",
    "- More to be added..."
   ]
  },
  {
   "cell_type": "markdown",
   "id": "c4b0e743",
   "metadata": {
    "papermill": {
     "duration": 0.022982,
     "end_time": "2024-02-26T14:34:36.247593",
     "exception": false,
     "start_time": "2024-02-26T14:34:36.224611",
     "status": "completed"
    },
    "tags": []
   },
   "source": [
    "# Data Import"
   ]
  },
  {
   "cell_type": "markdown",
   "id": "20f28fe6",
   "metadata": {
    "papermill": {
     "duration": 0.02856,
     "end_time": "2024-02-26T14:34:36.299296",
     "exception": false,
     "start_time": "2024-02-26T14:34:36.270736",
     "status": "completed"
    },
    "tags": []
   },
   "source": [
    "We'll read in the training and validation sets created in the previous notebook (<a href=\"https://www.kaggle.com/code/sambitmukherjee/watson-1-eda-model-validation-schemes\" target=\"_blank\">Watson 1: EDA & Model Validation Schemes</a>).\n",
    "\n",
    "First, let's read in the training set."
   ]
  },
  {
   "cell_type": "code",
   "execution_count": 1,
   "id": "ea29ac53",
   "metadata": {
    "execution": {
     "iopub.execute_input": "2024-02-26T14:34:36.351382Z",
     "iopub.status.busy": "2024-02-26T14:34:36.350374Z",
     "iopub.status.idle": "2024-02-26T14:34:36.472591Z",
     "shell.execute_reply": "2024-02-26T14:34:36.471389Z"
    },
    "papermill": {
     "duration": 0.151699,
     "end_time": "2024-02-26T14:34:36.475520",
     "exception": false,
     "start_time": "2024-02-26T14:34:36.323821",
     "status": "completed"
    },
    "tags": []
   },
   "outputs": [
    {
     "data": {
      "text/html": [
       "<div>\n",
       "<style scoped>\n",
       "    .dataframe tbody tr th:only-of-type {\n",
       "        vertical-align: middle;\n",
       "    }\n",
       "\n",
       "    .dataframe tbody tr th {\n",
       "        vertical-align: top;\n",
       "    }\n",
       "\n",
       "    .dataframe thead th {\n",
       "        text-align: right;\n",
       "    }\n",
       "</style>\n",
       "<table border=\"1\" class=\"dataframe\">\n",
       "  <thead>\n",
       "    <tr style=\"text-align: right;\">\n",
       "      <th></th>\n",
       "      <th>id</th>\n",
       "      <th>premise</th>\n",
       "      <th>hypothesis</th>\n",
       "      <th>lang_abv</th>\n",
       "      <th>language</th>\n",
       "      <th>label</th>\n",
       "    </tr>\n",
       "  </thead>\n",
       "  <tbody>\n",
       "    <tr>\n",
       "      <th>0</th>\n",
       "      <td>1af42d1159</td>\n",
       "      <td>Das Büro des Staatsanwalts oder der Richter lehnte es ab, das Gericht der Vereinigten Staaten betreffend die Überwachung der Auslandsgeheimdienste könnte die Beantragung eines FISA-Haftbefehls ablehnen, weil die Agenten einen letzten Anlauf gegen die Strafverfolgung versuchten.</td>\n",
       "      <td>Das FISA-Gericht weist etwa die Hälfte der Haftungsanträge zurück, die sie erhalten.</td>\n",
       "      <td>de</td>\n",
       "      <td>German</td>\n",
       "      <td>1</td>\n",
       "    </tr>\n",
       "    <tr>\n",
       "      <th>1</th>\n",
       "      <td>5828c89e19</td>\n",
       "      <td>now that's an interesting point yeah i mean once the expectations are</td>\n",
       "      <td>That is one of the most interesting things about it.</td>\n",
       "      <td>en</td>\n",
       "      <td>English</td>\n",
       "      <td>1</td>\n",
       "    </tr>\n",
       "    <tr>\n",
       "      <th>2</th>\n",
       "      <td>158b01101d</td>\n",
       "      <td>The elements of this example, repeated across millions of individual tasks, encapsulates the difference between an advanced industrial economy with a high standard of living and a less developed country with a low standard of living.</td>\n",
       "      <td>This example includes no elements of developed and developed economies.</td>\n",
       "      <td>en</td>\n",
       "      <td>English</td>\n",
       "      <td>2</td>\n",
       "    </tr>\n",
       "    <tr>\n",
       "      <th>3</th>\n",
       "      <td>7bfa8a5feb</td>\n",
       "      <td>Filmin bahsetmeyi ihmal ettiği şey, Kaufman'ın kendi ölümünün nasıl üstesinden gelmek istediği hakkında sık sık konuşmuş olmasıydı.</td>\n",
       "      <td>Filmde Kaufman'ın kendi ölümünü değerlendirmesine yer verilmemektedir.</td>\n",
       "      <td>tr</td>\n",
       "      <td>Turkish</td>\n",
       "      <td>0</td>\n",
       "    </tr>\n",
       "    <tr>\n",
       "      <th>4</th>\n",
       "      <td>baf9f0ea77</td>\n",
       "      <td>اس طرح، پی پی جب اعلی حراستی میں ہے،یہ اس کا اپنا دوبارہ ترکیب روکنا ہے.</td>\n",
       "      <td>جب پی پی ایک اعلی ارتکاز رکھتی ہے تو یہ دوبارہ آمیزش کو بڑھا دیتی ہے۔</td>\n",
       "      <td>ur</td>\n",
       "      <td>Urdu</td>\n",
       "      <td>2</td>\n",
       "    </tr>\n",
       "    <tr>\n",
       "      <th>...</th>\n",
       "      <td>...</td>\n",
       "      <td>...</td>\n",
       "      <td>...</td>\n",
       "      <td>...</td>\n",
       "      <td>...</td>\n",
       "      <td>...</td>\n",
       "    </tr>\n",
       "    <tr>\n",
       "      <th>9079</th>\n",
       "      <td>df335f3399</td>\n",
       "      <td>Οι πωλήσεις εισιτηρίων και οι συνδρομές δεν μπορούν να χρηματοδοτήσουν όλη την περίοδό μας.</td>\n",
       "      <td>Για τη χρηματοδότηση της πλήρους σεζόν μας χρειάζονται περισσότερα  από απλώς πωλήσεις εισιτηρίων και συνδρομές.</td>\n",
       "      <td>el</td>\n",
       "      <td>Greek</td>\n",
       "      <td>0</td>\n",
       "    </tr>\n",
       "    <tr>\n",
       "      <th>9080</th>\n",
       "      <td>47eb163ca1</td>\n",
       "      <td>I saw that a faint streak of daylight was showing through the curtains of the windows, and that the clock on the mantelpiece pointed to close upon five o'clock.</td>\n",
       "      <td>I saw that daylight was coming, and heard the people waking up.</td>\n",
       "      <td>en</td>\n",
       "      <td>English</td>\n",
       "      <td>1</td>\n",
       "    </tr>\n",
       "    <tr>\n",
       "      <th>9081</th>\n",
       "      <td>6188687170</td>\n",
       "      <td>LASNNY is one of the oldest and most cost-effective legal services organizations in the United States.</td>\n",
       "      <td>LASNNY is an old legal services organization in Los Angeles.</td>\n",
       "      <td>en</td>\n",
       "      <td>English</td>\n",
       "      <td>1</td>\n",
       "    </tr>\n",
       "    <tr>\n",
       "      <th>9082</th>\n",
       "      <td>0dd28fd9c8</td>\n",
       "      <td>During his disastrous campaign in Russia, he found time in Moscow to draw up a new statute for the Com??die-Francaise (the national theater), which had been dissolved during the Revolution.</td>\n",
       "      <td>Napoleon led the invasion.</td>\n",
       "      <td>en</td>\n",
       "      <td>English</td>\n",
       "      <td>1</td>\n",
       "    </tr>\n",
       "    <tr>\n",
       "      <th>9083</th>\n",
       "      <td>34e4c4b778</td>\n",
       "      <td>Der negativ besetzte Begriff ausgetüftelter Plan tauchte in der Anhörungen mit den Worten des Abgeordneten Jack Brooks auf...</td>\n",
       "      <td>Jack Brooks ist ein Klempner.</td>\n",
       "      <td>de</td>\n",
       "      <td>German</td>\n",
       "      <td>2</td>\n",
       "    </tr>\n",
       "  </tbody>\n",
       "</table>\n",
       "<p>9084 rows × 6 columns</p>\n",
       "</div>"
      ],
      "text/plain": [
       "              id  \\\n",
       "0     1af42d1159   \n",
       "1     5828c89e19   \n",
       "2     158b01101d   \n",
       "3     7bfa8a5feb   \n",
       "4     baf9f0ea77   \n",
       "...          ...   \n",
       "9079  df335f3399   \n",
       "9080  47eb163ca1   \n",
       "9081  6188687170   \n",
       "9082  0dd28fd9c8   \n",
       "9083  34e4c4b778   \n",
       "\n",
       "                                                                                                                                                                                                                                                                                     premise  \\\n",
       "0     Das Büro des Staatsanwalts oder der Richter lehnte es ab, das Gericht der Vereinigten Staaten betreffend die Überwachung der Auslandsgeheimdienste könnte die Beantragung eines FISA-Haftbefehls ablehnen, weil die Agenten einen letzten Anlauf gegen die Strafverfolgung versuchten.   \n",
       "1     now that's an interesting point yeah i mean once the expectations are                                                                                                                                                                                                                    \n",
       "2     The elements of this example, repeated across millions of individual tasks, encapsulates the difference between an advanced industrial economy with a high standard of living and a less developed country with a low standard of living.                                                \n",
       "3     Filmin bahsetmeyi ihmal ettiği şey, Kaufman'ın kendi ölümünün nasıl üstesinden gelmek istediği hakkında sık sık konuşmuş olmasıydı.                                                                                                                                                      \n",
       "4     اس طرح، پی پی جب اعلی حراستی میں ہے،یہ اس کا اپنا دوبارہ ترکیب روکنا ہے.                                                                                                                                                                                                                 \n",
       "...                                                                        ...                                                                                                                                                                                                                 \n",
       "9079  Οι πωλήσεις εισιτηρίων και οι συνδρομές δεν μπορούν να χρηματοδοτήσουν όλη την περίοδό μας.                                                                                                                                                                                              \n",
       "9080  I saw that a faint streak of daylight was showing through the curtains of the windows, and that the clock on the mantelpiece pointed to close upon five o'clock.                                                                                                                         \n",
       "9081  LASNNY is one of the oldest and most cost-effective legal services organizations in the United States.                                                                                                                                                                                   \n",
       "9082  During his disastrous campaign in Russia, he found time in Moscow to draw up a new statute for the Com??die-Francaise (the national theater), which had been dissolved during the Revolution.                                                                                            \n",
       "9083  Der negativ besetzte Begriff ausgetüftelter Plan tauchte in der Anhörungen mit den Worten des Abgeordneten Jack Brooks auf...                                                                                                                                                            \n",
       "\n",
       "                                                                                                            hypothesis  \\\n",
       "0     Das FISA-Gericht weist etwa die Hälfte der Haftungsanträge zurück, die sie erhalten.                               \n",
       "1     That is one of the most interesting things about it.                                                               \n",
       "2     This example includes no elements of developed and developed economies.                                            \n",
       "3     Filmde Kaufman'ın kendi ölümünü değerlendirmesine yer verilmemektedir.                                             \n",
       "4     جب پی پی ایک اعلی ارتکاز رکھتی ہے تو یہ دوبارہ آمیزش کو بڑھا دیتی ہے۔                                              \n",
       "...                                                                     ...                                              \n",
       "9079  Για τη χρηματοδότηση της πλήρους σεζόν μας χρειάζονται περισσότερα  από απλώς πωλήσεις εισιτηρίων και συνδρομές.   \n",
       "9080  I saw that daylight was coming, and heard the people waking up.                                                    \n",
       "9081  LASNNY is an old legal services organization in Los Angeles.                                                       \n",
       "9082  Napoleon led the invasion.                                                                                         \n",
       "9083  Jack Brooks ist ein Klempner.                                                                                      \n",
       "\n",
       "     lang_abv language  label  \n",
       "0     de       German   1      \n",
       "1     en       English  1      \n",
       "2     en       English  2      \n",
       "3     tr       Turkish  0      \n",
       "4     ur       Urdu     2      \n",
       "...   ..        ...    ..      \n",
       "9079  el       Greek    0      \n",
       "9080  en       English  1      \n",
       "9081  en       English  1      \n",
       "9082  en       English  1      \n",
       "9083  de       German   2      \n",
       "\n",
       "[9084 rows x 6 columns]"
      ]
     },
     "execution_count": 1,
     "metadata": {},
     "output_type": "execute_result"
    }
   ],
   "source": [
    "import pandas as pd\n",
    "from pathlib import Path\n",
    "\n",
    "pd.set_option('display.max_colwidth', 0)\n",
    "path = Path('/kaggle/input/watson-1-eda-model-validation-schemes')\n",
    "train_df = pd.read_csv(path/'train_df.csv')\n",
    "train_df"
   ]
  },
  {
   "cell_type": "markdown",
   "id": "4489e2bc",
   "metadata": {
    "papermill": {
     "duration": 0.024078,
     "end_time": "2024-02-26T14:34:36.523537",
     "exception": false,
     "start_time": "2024-02-26T14:34:36.499459",
     "status": "completed"
    },
    "tags": []
   },
   "source": [
    "The training set has 9,084 rows.\n",
    "\n",
    "Next, let's read in the validation set."
   ]
  },
  {
   "cell_type": "code",
   "execution_count": 2,
   "id": "9c4bbb86",
   "metadata": {
    "execution": {
     "iopub.execute_input": "2024-02-26T14:34:36.573028Z",
     "iopub.status.busy": "2024-02-26T14:34:36.572206Z",
     "iopub.status.idle": "2024-02-26T14:34:36.619485Z",
     "shell.execute_reply": "2024-02-26T14:34:36.618476Z"
    },
    "papermill": {
     "duration": 0.074238,
     "end_time": "2024-02-26T14:34:36.621647",
     "exception": false,
     "start_time": "2024-02-26T14:34:36.547409",
     "status": "completed"
    },
    "tags": []
   },
   "outputs": [
    {
     "data": {
      "text/html": [
       "<div>\n",
       "<style scoped>\n",
       "    .dataframe tbody tr th:only-of-type {\n",
       "        vertical-align: middle;\n",
       "    }\n",
       "\n",
       "    .dataframe tbody tr th {\n",
       "        vertical-align: top;\n",
       "    }\n",
       "\n",
       "    .dataframe thead th {\n",
       "        text-align: right;\n",
       "    }\n",
       "</style>\n",
       "<table border=\"1\" class=\"dataframe\">\n",
       "  <thead>\n",
       "    <tr style=\"text-align: right;\">\n",
       "      <th></th>\n",
       "      <th>id</th>\n",
       "      <th>premise</th>\n",
       "      <th>hypothesis</th>\n",
       "      <th>lang_abv</th>\n",
       "      <th>language</th>\n",
       "      <th>label</th>\n",
       "    </tr>\n",
       "  </thead>\n",
       "  <tbody>\n",
       "    <tr>\n",
       "      <th>0</th>\n",
       "      <td>09b4fcf9d0</td>\n",
       "      <td>Хотя я и сейчас не понимаю, как он вообще мог ожидать, что я это сделаю.</td>\n",
       "      <td>Я не понимаю, почему он думал, что я это доделаю.</td>\n",
       "      <td>ru</td>\n",
       "      <td>Russian</td>\n",
       "      <td>0</td>\n",
       "    </tr>\n",
       "    <tr>\n",
       "      <th>1</th>\n",
       "      <td>ccafb35842</td>\n",
       "      <td>Будущее грозит проблемами для SAT.</td>\n",
       "      <td>В SAT нет времени, и в будущем не будет никаких проблем.</td>\n",
       "      <td>ru</td>\n",
       "      <td>Russian</td>\n",
       "      <td>2</td>\n",
       "    </tr>\n",
       "    <tr>\n",
       "      <th>2</th>\n",
       "      <td>d323519cda</td>\n",
       "      <td>Кроме того, резиденты штата Индиана могут получить налоговые льготы с помощью налогового вычета, осуществляемого напрямую из итоговой суммы налоговых поступлений штата.</td>\n",
       "      <td>Жители штата Индиана получают 50% налоговый кредит если они делают пожертвования в театр.</td>\n",
       "      <td>ru</td>\n",
       "      <td>Russian</td>\n",
       "      <td>1</td>\n",
       "    </tr>\n",
       "    <tr>\n",
       "      <th>3</th>\n",
       "      <td>5cabd580f4</td>\n",
       "      <td>Его рука сомкнулась на прикладе одного из пистолетов, который ему швырнули.</td>\n",
       "      <td>Он вооружился, поскольку собирался проникнуть в еще более опасную часть города.</td>\n",
       "      <td>ru</td>\n",
       "      <td>Russian</td>\n",
       "      <td>1</td>\n",
       "    </tr>\n",
       "    <tr>\n",
       "      <th>4</th>\n",
       "      <td>3788391ba2</td>\n",
       "      <td>Это скалистая территория, где фермер по имени Лавер спрятался среди валунов от желающих его убить.</td>\n",
       "      <td>У Ловера на голове была мишень и ему пришлось спрятаться меж камней.</td>\n",
       "      <td>ru</td>\n",
       "      <td>Russian</td>\n",
       "      <td>0</td>\n",
       "    </tr>\n",
       "    <tr>\n",
       "      <th>...</th>\n",
       "      <td>...</td>\n",
       "      <td>...</td>\n",
       "      <td>...</td>\n",
       "      <td>...</td>\n",
       "      <td>...</td>\n",
       "      <td>...</td>\n",
       "    </tr>\n",
       "    <tr>\n",
       "      <th>3031</th>\n",
       "      <td>5c9bb4dc2c</td>\n",
       "      <td>RPH kitabının yayınlanması ile ilgili bir sonraki gerçeğe yol açan kitap turu izler.</td>\n",
       "      <td>Onun için ayırtılabilecek bir tur yoktu.</td>\n",
       "      <td>tr</td>\n",
       "      <td>Turkish</td>\n",
       "      <td>2</td>\n",
       "    </tr>\n",
       "    <tr>\n",
       "      <th>3032</th>\n",
       "      <td>ada7c6260e</td>\n",
       "      <td>Bir İç Çember üyesi olarak, dünyanın en büyük demokrasi kutlaması olan 52. Amerikan Başkanı Göreve Başlama Töreni için tören alanındaki en iyi koltuklardan bazılarını bekleyebilirsiniz.</td>\n",
       "      <td>Amerika Başkanlık Töreni dünyanın en büyük demokrasi kutlaması sayılmaktadır.</td>\n",
       "      <td>tr</td>\n",
       "      <td>Turkish</td>\n",
       "      <td>0</td>\n",
       "    </tr>\n",
       "    <tr>\n",
       "      <th>3033</th>\n",
       "      <td>8368b31d96</td>\n",
       "      <td>Bu şekilde, bir sözcüğün yazımı çoğu kez aynı paradigmaya veya kendi tarihine ait başka kelimelerle ilgilidir.</td>\n",
       "      <td>Bir kelimenin yazılışı onun tarihine bağlıdır.</td>\n",
       "      <td>tr</td>\n",
       "      <td>Turkish</td>\n",
       "      <td>0</td>\n",
       "    </tr>\n",
       "    <tr>\n",
       "      <th>3034</th>\n",
       "      <td>e76350a2e7</td>\n",
       "      <td>Farklı, tamamen farklı paraşütler ve saatte 22.000 milden fazla sesin üç katı olan bir kuş.</td>\n",
       "      <td>Jet saatte 20.000 mil uçar.</td>\n",
       "      <td>tr</td>\n",
       "      <td>Turkish</td>\n",
       "      <td>1</td>\n",
       "    </tr>\n",
       "    <tr>\n",
       "      <th>3035</th>\n",
       "      <td>f9c907d7b5</td>\n",
       "      <td>Daha kesin bir şekilde hedef alabilir ve hedefi daha çok vurabiliriz.</td>\n",
       "      <td>her seferinde başarısız olacağımızı biliyoruz.</td>\n",
       "      <td>tr</td>\n",
       "      <td>Turkish</td>\n",
       "      <td>2</td>\n",
       "    </tr>\n",
       "  </tbody>\n",
       "</table>\n",
       "<p>3036 rows × 6 columns</p>\n",
       "</div>"
      ],
      "text/plain": [
       "              id  \\\n",
       "0     09b4fcf9d0   \n",
       "1     ccafb35842   \n",
       "2     d323519cda   \n",
       "3     5cabd580f4   \n",
       "4     3788391ba2   \n",
       "...          ...   \n",
       "3031  5c9bb4dc2c   \n",
       "3032  ada7c6260e   \n",
       "3033  8368b31d96   \n",
       "3034  e76350a2e7   \n",
       "3035  f9c907d7b5   \n",
       "\n",
       "                                                                                                                                                                                        premise  \\\n",
       "0     Хотя я и сейчас не понимаю, как он вообще мог ожидать, что я это сделаю.                                                                                                                    \n",
       "1     Будущее грозит проблемами для SAT.                                                                                                                                                          \n",
       "2     Кроме того, резиденты штата Индиана могут получить налоговые льготы с помощью налогового вычета, осуществляемого напрямую из итоговой суммы налоговых поступлений штата.                    \n",
       "3     Его рука сомкнулась на прикладе одного из пистолетов, который ему швырнули.                                                                                                                 \n",
       "4     Это скалистая территория, где фермер по имени Лавер спрятался среди валунов от желающих его убить.                                                                                          \n",
       "...                                                                                                  ...                                                                                          \n",
       "3031  RPH kitabının yayınlanması ile ilgili bir sonraki gerçeğe yol açan kitap turu izler.                                                                                                        \n",
       "3032  Bir İç Çember üyesi olarak, dünyanın en büyük demokrasi kutlaması olan 52. Amerikan Başkanı Göreve Başlama Töreni için tören alanındaki en iyi koltuklardan bazılarını bekleyebilirsiniz.   \n",
       "3033  Bu şekilde, bir sözcüğün yazımı çoğu kez aynı paradigmaya veya kendi tarihine ait başka kelimelerle ilgilidir.                                                                              \n",
       "3034  Farklı, tamamen farklı paraşütler ve saatte 22.000 milden fazla sesin üç katı olan bir kuş.                                                                                                 \n",
       "3035  Daha kesin bir şekilde hedef alabilir ve hedefi daha çok vurabiliriz.                                                                                                                       \n",
       "\n",
       "                                                                                     hypothesis  \\\n",
       "0     Я не понимаю, почему он думал, что я это доделаю.                                           \n",
       "1     В SAT нет времени, и в будущем не будет никаких проблем.                                    \n",
       "2     Жители штата Индиана получают 50% налоговый кредит если они делают пожертвования в театр.   \n",
       "3     Он вооружился, поскольку собирался проникнуть в еще более опасную часть города.             \n",
       "4     У Ловера на голове была мишень и ему пришлось спрятаться меж камней.                        \n",
       "...                                                                    ...                        \n",
       "3031  Onun için ayırtılabilecek bir tur yoktu.                                                    \n",
       "3032  Amerika Başkanlık Töreni dünyanın en büyük demokrasi kutlaması sayılmaktadır.               \n",
       "3033  Bir kelimenin yazılışı onun tarihine bağlıdır.                                              \n",
       "3034  Jet saatte 20.000 mil uçar.                                                                 \n",
       "3035  her seferinde başarısız olacağımızı biliyoruz.                                              \n",
       "\n",
       "     lang_abv language  label  \n",
       "0     ru       Russian  0      \n",
       "1     ru       Russian  2      \n",
       "2     ru       Russian  1      \n",
       "3     ru       Russian  1      \n",
       "4     ru       Russian  0      \n",
       "...   ..           ... ..      \n",
       "3031  tr       Turkish  2      \n",
       "3032  tr       Turkish  0      \n",
       "3033  tr       Turkish  0      \n",
       "3034  tr       Turkish  1      \n",
       "3035  tr       Turkish  2      \n",
       "\n",
       "[3036 rows x 6 columns]"
      ]
     },
     "execution_count": 2,
     "metadata": {},
     "output_type": "execute_result"
    }
   ],
   "source": [
    "val_df = pd.read_csv(path/'val_df.csv')\n",
    "val_df"
   ]
  },
  {
   "cell_type": "markdown",
   "id": "38ea3ba0",
   "metadata": {
    "papermill": {
     "duration": 0.023877,
     "end_time": "2024-02-26T14:34:36.670040",
     "exception": false,
     "start_time": "2024-02-26T14:34:36.646163",
     "status": "completed"
    },
    "tags": []
   },
   "source": [
    "The validation set has 3,036 rows.\n",
    "\n",
    "We'll also read in the test set."
   ]
  },
  {
   "cell_type": "code",
   "execution_count": 3,
   "id": "00f8b27f",
   "metadata": {
    "execution": {
     "iopub.execute_input": "2024-02-26T14:34:36.721072Z",
     "iopub.status.busy": "2024-02-26T14:34:36.720081Z",
     "iopub.status.idle": "2024-02-26T14:34:36.794652Z",
     "shell.execute_reply": "2024-02-26T14:34:36.793571Z"
    },
    "papermill": {
     "duration": 0.102429,
     "end_time": "2024-02-26T14:34:36.796880",
     "exception": false,
     "start_time": "2024-02-26T14:34:36.694451",
     "status": "completed"
    },
    "tags": []
   },
   "outputs": [
    {
     "data": {
      "text/html": [
       "<div>\n",
       "<style scoped>\n",
       "    .dataframe tbody tr th:only-of-type {\n",
       "        vertical-align: middle;\n",
       "    }\n",
       "\n",
       "    .dataframe tbody tr th {\n",
       "        vertical-align: top;\n",
       "    }\n",
       "\n",
       "    .dataframe thead th {\n",
       "        text-align: right;\n",
       "    }\n",
       "</style>\n",
       "<table border=\"1\" class=\"dataframe\">\n",
       "  <thead>\n",
       "    <tr style=\"text-align: right;\">\n",
       "      <th></th>\n",
       "      <th>id</th>\n",
       "      <th>premise</th>\n",
       "      <th>hypothesis</th>\n",
       "      <th>lang_abv</th>\n",
       "      <th>language</th>\n",
       "    </tr>\n",
       "  </thead>\n",
       "  <tbody>\n",
       "    <tr>\n",
       "      <th>0</th>\n",
       "      <td>c6d58c3f69</td>\n",
       "      <td>بکس، کیسی، راہیل، یسعیاہ، کیلی، کیلی، اور کولمبین ہائی اسکول کے دوسرے طلبا کے نام سے بکسوں کو نشان زد کیا جائے گا جس نے اس سال پہلے اپنی زندگی کھو دی</td>\n",
       "      <td>کیسی کے لئے کوئی یادگار نہیں ہوگا, کولمین ہائی اسکول کے طالب علموں میں سے ایک جو مر گیا.</td>\n",
       "      <td>ur</td>\n",
       "      <td>Urdu</td>\n",
       "    </tr>\n",
       "    <tr>\n",
       "      <th>1</th>\n",
       "      <td>cefcc82292</td>\n",
       "      <td>هذا هو ما تم نصحنا به.</td>\n",
       "      <td>عندما يتم إخبارهم بما يجب عليهم فعله ، فشلت الإدارة في السماح لنا بالدخول إلى الأسرار التجارية.</td>\n",
       "      <td>ar</td>\n",
       "      <td>Arabic</td>\n",
       "    </tr>\n",
       "    <tr>\n",
       "      <th>2</th>\n",
       "      <td>e98005252c</td>\n",
       "      <td>et cela est en grande partie dû au fait que les mères prennent de la drogue</td>\n",
       "      <td>Les mères se droguent.</td>\n",
       "      <td>fr</td>\n",
       "      <td>French</td>\n",
       "    </tr>\n",
       "    <tr>\n",
       "      <th>3</th>\n",
       "      <td>58518c10ba</td>\n",
       "      <td>与城市及其他公民及社区组织代表就IMA的艺术发展进行对话&amp;amp</td>\n",
       "      <td>IMA与其他组织合作，因为它们都依靠共享资金。</td>\n",
       "      <td>zh</td>\n",
       "      <td>Chinese</td>\n",
       "    </tr>\n",
       "    <tr>\n",
       "      <th>4</th>\n",
       "      <td>c32b0d16df</td>\n",
       "      <td>Она все еще была там.</td>\n",
       "      <td>Мы думали, что она ушла, однако, она осталась.</td>\n",
       "      <td>ru</td>\n",
       "      <td>Russian</td>\n",
       "    </tr>\n",
       "    <tr>\n",
       "      <th>...</th>\n",
       "      <td>...</td>\n",
       "      <td>...</td>\n",
       "      <td>...</td>\n",
       "      <td>...</td>\n",
       "      <td>...</td>\n",
       "    </tr>\n",
       "    <tr>\n",
       "      <th>5190</th>\n",
       "      <td>5f90dd59b0</td>\n",
       "      <td>نیند نے وعدہ کیا کہ موٹل نے سوال میں تحقیق کی.</td>\n",
       "      <td>نیمیتھ کو موٹل کی تفتیش کے لئے معاوضہ دیا جارہا ہے۔</td>\n",
       "      <td>ur</td>\n",
       "      <td>Urdu</td>\n",
       "    </tr>\n",
       "    <tr>\n",
       "      <th>5191</th>\n",
       "      <td>f357a04e86</td>\n",
       "      <td>The  rock  has a soft texture and can be bought in a variety of shapes.</td>\n",
       "      <td>The rock is harder than most types of rock.</td>\n",
       "      <td>en</td>\n",
       "      <td>English</td>\n",
       "    </tr>\n",
       "    <tr>\n",
       "      <th>5192</th>\n",
       "      <td>1f0ea92118</td>\n",
       "      <td>她目前的存在，并考虑到他与沃佛斯顿争执的本质，那是尴尬的。</td>\n",
       "      <td>她在与Wolverstone的打斗结束后才在场的事实被看作是很尴尬的。</td>\n",
       "      <td>zh</td>\n",
       "      <td>Chinese</td>\n",
       "    </tr>\n",
       "    <tr>\n",
       "      <th>5193</th>\n",
       "      <td>0407b48afb</td>\n",
       "      <td>isn't it i can remember i've only been here eight years but i can remember coming to work from i used to live in Wylie and i could see downtown Dallas</td>\n",
       "      <td>I could see downtown Dallas from where I lived in Wylie.</td>\n",
       "      <td>en</td>\n",
       "      <td>English</td>\n",
       "    </tr>\n",
       "    <tr>\n",
       "      <th>5194</th>\n",
       "      <td>16c2f2ab89</td>\n",
       "      <td>In Hong Kong you can have a plate, or even a whole dinner service, hand-painted to your own design.</td>\n",
       "      <td>It's impossible to have a plate hand-painted to your own design in Hong Kong.</td>\n",
       "      <td>en</td>\n",
       "      <td>English</td>\n",
       "    </tr>\n",
       "  </tbody>\n",
       "</table>\n",
       "<p>5195 rows × 5 columns</p>\n",
       "</div>"
      ],
      "text/plain": [
       "              id  \\\n",
       "0     c6d58c3f69   \n",
       "1     cefcc82292   \n",
       "2     e98005252c   \n",
       "3     58518c10ba   \n",
       "4     c32b0d16df   \n",
       "...          ...   \n",
       "5190  5f90dd59b0   \n",
       "5191  f357a04e86   \n",
       "5192  1f0ea92118   \n",
       "5193  0407b48afb   \n",
       "5194  16c2f2ab89   \n",
       "\n",
       "                                                                                                                                                     premise  \\\n",
       "0     بکس، کیسی، راہیل، یسعیاہ، کیلی، کیلی، اور کولمبین ہائی اسکول کے دوسرے طلبا کے نام سے بکسوں کو نشان زد کیا جائے گا جس نے اس سال پہلے اپنی زندگی کھو دی    \n",
       "1     هذا هو ما تم نصحنا به.                                                                                                                                   \n",
       "2     et cela est en grande partie dû au fait que les mères prennent de la drogue                                                                              \n",
       "3     与城市及其他公民及社区组织代表就IMA的艺术发展进行对话&amp                                                                                                                         \n",
       "4     Она все еще была там.                                                                                                                                    \n",
       "...                     ...                                                                                                                                    \n",
       "5190  نیند نے وعدہ کیا کہ موٹل نے سوال میں تحقیق کی.                                                                                                           \n",
       "5191  The  rock  has a soft texture and can be bought in a variety of shapes.                                                                                  \n",
       "5192  她目前的存在，并考虑到他与沃佛斯顿争执的本质，那是尴尬的。                                                                                                                            \n",
       "5193  isn't it i can remember i've only been here eight years but i can remember coming to work from i used to live in Wylie and i could see downtown Dallas   \n",
       "5194  In Hong Kong you can have a plate, or even a whole dinner service, hand-painted to your own design.                                                      \n",
       "\n",
       "                                                                                           hypothesis  \\\n",
       "0     کیسی کے لئے کوئی یادگار نہیں ہوگا, کولمین ہائی اسکول کے طالب علموں میں سے ایک جو مر گیا.          \n",
       "1     عندما يتم إخبارهم بما يجب عليهم فعله ، فشلت الإدارة في السماح لنا بالدخول إلى الأسرار التجارية.   \n",
       "2     Les mères se droguent.                                                                            \n",
       "3     IMA与其他组织合作，因为它们都依靠共享资金。                                                                           \n",
       "4     Мы думали, что она ушла, однако, она осталась.                                                    \n",
       "...                                              ...                                                    \n",
       "5190  نیمیتھ کو موٹل کی تفتیش کے لئے معاوضہ دیا جارہا ہے۔                                               \n",
       "5191  The rock is harder than most types of rock.                                                       \n",
       "5192  她在与Wolverstone的打斗结束后才在场的事实被看作是很尴尬的。                                                               \n",
       "5193  I could see downtown Dallas from where I lived in Wylie.                                          \n",
       "5194  It's impossible to have a plate hand-painted to your own design in Hong Kong.                     \n",
       "\n",
       "     lang_abv language  \n",
       "0     ur       Urdu     \n",
       "1     ar       Arabic   \n",
       "2     fr       French   \n",
       "3     zh       Chinese  \n",
       "4     ru       Russian  \n",
       "...   ..           ...  \n",
       "5190  ur       Urdu     \n",
       "5191  en       English  \n",
       "5192  zh       Chinese  \n",
       "5193  en       English  \n",
       "5194  en       English  \n",
       "\n",
       "[5195 rows x 5 columns]"
      ]
     },
     "execution_count": 3,
     "metadata": {},
     "output_type": "execute_result"
    }
   ],
   "source": [
    "path = Path('/kaggle/input/contradictory-my-dear-watson')\n",
    "test_df = pd.read_csv(path/'test.csv')\n",
    "test_df"
   ]
  },
  {
   "cell_type": "markdown",
   "id": "0679e931",
   "metadata": {
    "papermill": {
     "duration": 0.024951,
     "end_time": "2024-02-26T14:34:36.846617",
     "exception": false,
     "start_time": "2024-02-26T14:34:36.821666",
     "status": "completed"
    },
    "tags": []
   },
   "source": [
    "The test set has 5,195 rows."
   ]
  },
  {
   "cell_type": "markdown",
   "id": "fa8655e6",
   "metadata": {
    "papermill": {
     "duration": 0.024551,
     "end_time": "2024-02-26T14:34:36.896082",
     "exception": false,
     "start_time": "2024-02-26T14:34:36.871531",
     "status": "completed"
    },
    "tags": []
   },
   "source": [
    "# Baseline 1: Always Choosing the Majority Class"
   ]
  },
  {
   "cell_type": "markdown",
   "id": "579e6b9a",
   "metadata": {
    "papermill": {
     "duration": 0.02474,
     "end_time": "2024-02-26T14:34:36.945179",
     "exception": false,
     "start_time": "2024-02-26T14:34:36.920439",
     "status": "completed"
    },
    "tags": []
   },
   "source": [
    "Class distribution in the training set:"
   ]
  },
  {
   "cell_type": "code",
   "execution_count": 4,
   "id": "5e2d6d1f",
   "metadata": {
    "execution": {
     "iopub.execute_input": "2024-02-26T14:34:36.997106Z",
     "iopub.status.busy": "2024-02-26T14:34:36.996361Z",
     "iopub.status.idle": "2024-02-26T14:34:37.008656Z",
     "shell.execute_reply": "2024-02-26T14:34:37.007684Z"
    },
    "papermill": {
     "duration": 0.041359,
     "end_time": "2024-02-26T14:34:37.011003",
     "exception": false,
     "start_time": "2024-02-26T14:34:36.969644",
     "status": "completed"
    },
    "tags": []
   },
   "outputs": [
    {
     "data": {
      "text/plain": [
       "0    3131\n",
       "2    3047\n",
       "1    2906\n",
       "Name: label, dtype: int64"
      ]
     },
     "execution_count": 4,
     "metadata": {},
     "output_type": "execute_result"
    }
   ],
   "source": [
    "train_df['label'].value_counts()"
   ]
  },
  {
   "cell_type": "markdown",
   "id": "42ac58dc",
   "metadata": {
    "papermill": {
     "duration": 0.024293,
     "end_time": "2024-02-26T14:34:37.060237",
     "exception": false,
     "start_time": "2024-02-26T14:34:37.035944",
     "status": "completed"
    },
    "tags": []
   },
   "source": [
    "We see that class `0` (`'entailment'`) is the majority class.\n",
    "\n",
    "In this baseline, our strategy will be to always predict the majority class. Let's do that."
   ]
  },
  {
   "cell_type": "code",
   "execution_count": 5,
   "id": "097fbc82",
   "metadata": {
    "execution": {
     "iopub.execute_input": "2024-02-26T14:34:37.111085Z",
     "iopub.status.busy": "2024-02-26T14:34:37.110633Z",
     "iopub.status.idle": "2024-02-26T14:34:37.115623Z",
     "shell.execute_reply": "2024-02-26T14:34:37.114681Z"
    },
    "papermill": {
     "duration": 0.03298,
     "end_time": "2024-02-26T14:34:37.117833",
     "exception": false,
     "start_time": "2024-02-26T14:34:37.084853",
     "status": "completed"
    },
    "tags": []
   },
   "outputs": [],
   "source": [
    "import numpy as np\n",
    "\n",
    "preds_val = np.zeros(shape=val_df['label'].shape)"
   ]
  },
  {
   "cell_type": "markdown",
   "id": "d92e5c59",
   "metadata": {
    "papermill": {
     "duration": 0.024765,
     "end_time": "2024-02-26T14:34:37.167976",
     "exception": false,
     "start_time": "2024-02-26T14:34:37.143211",
     "status": "completed"
    },
    "tags": []
   },
   "source": [
    "Accuracy score:"
   ]
  },
  {
   "cell_type": "code",
   "execution_count": 6,
   "id": "57d6adcd",
   "metadata": {
    "execution": {
     "iopub.execute_input": "2024-02-26T14:34:37.219023Z",
     "iopub.status.busy": "2024-02-26T14:34:37.218245Z",
     "iopub.status.idle": "2024-02-26T14:34:38.054274Z",
     "shell.execute_reply": "2024-02-26T14:34:38.053226Z"
    },
    "papermill": {
     "duration": 0.864193,
     "end_time": "2024-02-26T14:34:38.056713",
     "exception": false,
     "start_time": "2024-02-26T14:34:37.192520",
     "status": "completed"
    },
    "tags": []
   },
   "outputs": [
    {
     "data": {
      "text/plain": [
       "0.3442028985507246"
      ]
     },
     "execution_count": 6,
     "metadata": {},
     "output_type": "execute_result"
    }
   ],
   "source": [
    "from sklearn.metrics import accuracy_score\n",
    "\n",
    "accuracy_score(val_df['label'], preds_val)"
   ]
  },
  {
   "cell_type": "markdown",
   "id": "4d07e583",
   "metadata": {
    "papermill": {
     "duration": 0.024387,
     "end_time": "2024-02-26T14:34:38.106683",
     "exception": false,
     "start_time": "2024-02-26T14:34:38.082296",
     "status": "completed"
    },
    "tags": []
   },
   "source": [
    "Let's see if we can improve the accuracy in the next baseline."
   ]
  },
  {
   "cell_type": "markdown",
   "id": "4f643a16",
   "metadata": {
    "papermill": {
     "duration": 0.024268,
     "end_time": "2024-02-26T14:34:38.155544",
     "exception": false,
     "start_time": "2024-02-26T14:34:38.131276",
     "status": "completed"
    },
    "tags": []
   },
   "source": [
    "# Baseline 2: Naive Bayes with Bag-of-Characters"
   ]
  },
  {
   "cell_type": "markdown",
   "id": "a1712325",
   "metadata": {
    "papermill": {
     "duration": 0.024318,
     "end_time": "2024-02-26T14:34:38.204402",
     "exception": false,
     "start_time": "2024-02-26T14:34:38.180084",
     "status": "completed"
    },
    "tags": []
   },
   "source": [
    "If this dataset was comprised of English texts only, we could have built a bag-of-words model. But in languages such as Chinese, the concept of a *word* isn't well defined. However, we can try building a bag-of-characters model.\n",
    "\n",
    "Our bag-of-characters needs to include the characters in both the `'premise'` and `'hypothesis'` columns. Additionally, we would like to provide our model the information in the `'language'` column.\n",
    "\n",
    "So let's create a new column (`'text'`) by concatenating the `'language'`, `'premise'` and `'hypothesis'` columns."
   ]
  },
  {
   "cell_type": "code",
   "execution_count": 7,
   "id": "c942b764",
   "metadata": {
    "execution": {
     "iopub.execute_input": "2024-02-26T14:34:38.256758Z",
     "iopub.status.busy": "2024-02-26T14:34:38.255562Z",
     "iopub.status.idle": "2024-02-26T14:34:38.277237Z",
     "shell.execute_reply": "2024-02-26T14:34:38.276203Z"
    },
    "papermill": {
     "duration": 0.05041,
     "end_time": "2024-02-26T14:34:38.279630",
     "exception": false,
     "start_time": "2024-02-26T14:34:38.229220",
     "status": "completed"
    },
    "tags": []
   },
   "outputs": [],
   "source": [
    "train_df['text'] = train_df['language'] + \" \" + train_df['premise'] + \" \" + train_df['hypothesis']\n",
    "val_df['text'] = val_df['language'] + \" \" + val_df['premise'] + \" \" + val_df['hypothesis']"
   ]
  },
  {
   "cell_type": "markdown",
   "id": "8059a902",
   "metadata": {
    "papermill": {
     "duration": 0.024577,
     "end_time": "2024-02-26T14:34:38.329177",
     "exception": false,
     "start_time": "2024-02-26T14:34:38.304600",
     "status": "completed"
    },
    "tags": []
   },
   "source": [
    "We'll use scikit-learn's `CountVectorizer` to create our bag-of-characters. (We can tell it to create a bag-of-characters by changing the `analyzer` argument from its default value of `'word'` to `'char'`.)\n",
    "\n",
    "First, let's create it for the training set."
   ]
  },
  {
   "cell_type": "code",
   "execution_count": 8,
   "id": "5f8bcdab",
   "metadata": {
    "execution": {
     "iopub.execute_input": "2024-02-26T14:34:38.381341Z",
     "iopub.status.busy": "2024-02-26T14:34:38.380278Z",
     "iopub.status.idle": "2024-02-26T14:34:39.040206Z",
     "shell.execute_reply": "2024-02-26T14:34:39.039167Z"
    },
    "papermill": {
     "duration": 0.688478,
     "end_time": "2024-02-26T14:34:39.042520",
     "exception": false,
     "start_time": "2024-02-26T14:34:38.354042",
     "status": "completed"
    },
    "tags": []
   },
   "outputs": [
    {
     "data": {
      "text/plain": [
       "scipy.sparse.csr.csr_matrix"
      ]
     },
     "execution_count": 8,
     "metadata": {},
     "output_type": "execute_result"
    }
   ],
   "source": [
    "from sklearn.feature_extraction.text import CountVectorizer\n",
    "\n",
    "count_vect = CountVectorizer(analyzer='char')\n",
    "X_train_counts = count_vect.fit_transform(train_df['text'])\n",
    "type(X_train_counts)"
   ]
  },
  {
   "cell_type": "markdown",
   "id": "efd90b3c",
   "metadata": {
    "papermill": {
     "duration": 0.024714,
     "end_time": "2024-02-26T14:34:39.092969",
     "exception": false,
     "start_time": "2024-02-26T14:34:39.068255",
     "status": "completed"
    },
    "tags": []
   },
   "source": [
    "Our bag-of-characters is a sparse matrix. Let's check its shape."
   ]
  },
  {
   "cell_type": "code",
   "execution_count": 9,
   "id": "a2bd4e55",
   "metadata": {
    "execution": {
     "iopub.execute_input": "2024-02-26T14:34:39.143785Z",
     "iopub.status.busy": "2024-02-26T14:34:39.143385Z",
     "iopub.status.idle": "2024-02-26T14:34:39.150101Z",
     "shell.execute_reply": "2024-02-26T14:34:39.149074Z"
    },
    "papermill": {
     "duration": 0.034715,
     "end_time": "2024-02-26T14:34:39.152313",
     "exception": false,
     "start_time": "2024-02-26T14:34:39.117598",
     "status": "completed"
    },
    "tags": []
   },
   "outputs": [
    {
     "data": {
      "text/plain": [
       "(9084, 1941)"
      ]
     },
     "execution_count": 9,
     "metadata": {},
     "output_type": "execute_result"
    }
   ],
   "source": [
    "X_train_counts.shape"
   ]
  },
  {
   "cell_type": "markdown",
   "id": "5745f91c",
   "metadata": {
    "papermill": {
     "duration": 0.024781,
     "end_time": "2024-02-26T14:34:39.201953",
     "exception": false,
     "start_time": "2024-02-26T14:34:39.177172",
     "status": "completed"
    },
    "tags": []
   },
   "source": [
    "It contains 1,941 characters. Let's take a look at the first ten rows and the first ten columns."
   ]
  },
  {
   "cell_type": "code",
   "execution_count": 10,
   "id": "8f455be6",
   "metadata": {
    "execution": {
     "iopub.execute_input": "2024-02-26T14:34:39.253578Z",
     "iopub.status.busy": "2024-02-26T14:34:39.252708Z",
     "iopub.status.idle": "2024-02-26T14:34:39.268473Z",
     "shell.execute_reply": "2024-02-26T14:34:39.267515Z"
    },
    "papermill": {
     "duration": 0.044013,
     "end_time": "2024-02-26T14:34:39.270710",
     "exception": false,
     "start_time": "2024-02-26T14:34:39.226697",
     "status": "completed"
    },
    "tags": []
   },
   "outputs": [
    {
     "data": {
      "text/html": [
       "<div>\n",
       "<style scoped>\n",
       "    .dataframe tbody tr th:only-of-type {\n",
       "        vertical-align: middle;\n",
       "    }\n",
       "\n",
       "    .dataframe tbody tr th {\n",
       "        vertical-align: top;\n",
       "    }\n",
       "\n",
       "    .dataframe thead th {\n",
       "        text-align: right;\n",
       "    }\n",
       "</style>\n",
       "<table border=\"1\" class=\"dataframe\">\n",
       "  <thead>\n",
       "    <tr style=\"text-align: right;\">\n",
       "      <th></th>\n",
       "      <th>0</th>\n",
       "      <th>1</th>\n",
       "      <th>2</th>\n",
       "      <th>3</th>\n",
       "      <th>4</th>\n",
       "      <th>5</th>\n",
       "      <th>6</th>\n",
       "      <th>7</th>\n",
       "      <th>8</th>\n",
       "      <th>9</th>\n",
       "    </tr>\n",
       "  </thead>\n",
       "  <tbody>\n",
       "    <tr>\n",
       "      <th>0</th>\n",
       "      <td>48</td>\n",
       "      <td>0</td>\n",
       "      <td>0</td>\n",
       "      <td>0</td>\n",
       "      <td>0</td>\n",
       "      <td>0</td>\n",
       "      <td>0</td>\n",
       "      <td>0</td>\n",
       "      <td>0</td>\n",
       "      <td>0</td>\n",
       "    </tr>\n",
       "    <tr>\n",
       "      <th>1</th>\n",
       "      <td>22</td>\n",
       "      <td>0</td>\n",
       "      <td>0</td>\n",
       "      <td>0</td>\n",
       "      <td>0</td>\n",
       "      <td>0</td>\n",
       "      <td>0</td>\n",
       "      <td>1</td>\n",
       "      <td>0</td>\n",
       "      <td>0</td>\n",
       "    </tr>\n",
       "    <tr>\n",
       "      <th>2</th>\n",
       "      <td>46</td>\n",
       "      <td>0</td>\n",
       "      <td>0</td>\n",
       "      <td>0</td>\n",
       "      <td>0</td>\n",
       "      <td>0</td>\n",
       "      <td>0</td>\n",
       "      <td>0</td>\n",
       "      <td>0</td>\n",
       "      <td>0</td>\n",
       "    </tr>\n",
       "    <tr>\n",
       "      <th>3</th>\n",
       "      <td>24</td>\n",
       "      <td>0</td>\n",
       "      <td>0</td>\n",
       "      <td>0</td>\n",
       "      <td>0</td>\n",
       "      <td>0</td>\n",
       "      <td>0</td>\n",
       "      <td>2</td>\n",
       "      <td>0</td>\n",
       "      <td>0</td>\n",
       "    </tr>\n",
       "    <tr>\n",
       "      <th>4</th>\n",
       "      <td>32</td>\n",
       "      <td>0</td>\n",
       "      <td>0</td>\n",
       "      <td>0</td>\n",
       "      <td>0</td>\n",
       "      <td>0</td>\n",
       "      <td>0</td>\n",
       "      <td>0</td>\n",
       "      <td>0</td>\n",
       "      <td>0</td>\n",
       "    </tr>\n",
       "    <tr>\n",
       "      <th>5</th>\n",
       "      <td>39</td>\n",
       "      <td>0</td>\n",
       "      <td>0</td>\n",
       "      <td>0</td>\n",
       "      <td>0</td>\n",
       "      <td>0</td>\n",
       "      <td>0</td>\n",
       "      <td>2</td>\n",
       "      <td>0</td>\n",
       "      <td>0</td>\n",
       "    </tr>\n",
       "    <tr>\n",
       "      <th>6</th>\n",
       "      <td>72</td>\n",
       "      <td>0</td>\n",
       "      <td>0</td>\n",
       "      <td>0</td>\n",
       "      <td>0</td>\n",
       "      <td>0</td>\n",
       "      <td>0</td>\n",
       "      <td>2</td>\n",
       "      <td>0</td>\n",
       "      <td>0</td>\n",
       "    </tr>\n",
       "    <tr>\n",
       "      <th>7</th>\n",
       "      <td>27</td>\n",
       "      <td>0</td>\n",
       "      <td>0</td>\n",
       "      <td>0</td>\n",
       "      <td>0</td>\n",
       "      <td>0</td>\n",
       "      <td>0</td>\n",
       "      <td>0</td>\n",
       "      <td>0</td>\n",
       "      <td>0</td>\n",
       "    </tr>\n",
       "    <tr>\n",
       "      <th>8</th>\n",
       "      <td>11</td>\n",
       "      <td>0</td>\n",
       "      <td>0</td>\n",
       "      <td>0</td>\n",
       "      <td>0</td>\n",
       "      <td>0</td>\n",
       "      <td>0</td>\n",
       "      <td>0</td>\n",
       "      <td>0</td>\n",
       "      <td>0</td>\n",
       "    </tr>\n",
       "    <tr>\n",
       "      <th>9</th>\n",
       "      <td>16</td>\n",
       "      <td>0</td>\n",
       "      <td>0</td>\n",
       "      <td>0</td>\n",
       "      <td>0</td>\n",
       "      <td>0</td>\n",
       "      <td>0</td>\n",
       "      <td>1</td>\n",
       "      <td>0</td>\n",
       "      <td>0</td>\n",
       "    </tr>\n",
       "  </tbody>\n",
       "</table>\n",
       "</div>"
      ],
      "text/plain": [
       "    0  1  2  3  4  5  6  7  8  9\n",
       "0  48  0  0  0  0  0  0  0  0  0\n",
       "1  22  0  0  0  0  0  0  1  0  0\n",
       "2  46  0  0  0  0  0  0  0  0  0\n",
       "3  24  0  0  0  0  0  0  2  0  0\n",
       "4  32  0  0  0  0  0  0  0  0  0\n",
       "5  39  0  0  0  0  0  0  2  0  0\n",
       "6  72  0  0  0  0  0  0  2  0  0\n",
       "7  27  0  0  0  0  0  0  0  0  0\n",
       "8  11  0  0  0  0  0  0  0  0  0\n",
       "9  16  0  0  0  0  0  0  1  0  0"
      ]
     },
     "execution_count": 10,
     "metadata": {},
     "output_type": "execute_result"
    }
   ],
   "source": [
    "pd.DataFrame.sparse.from_spmatrix(X_train_counts[:10, :10])"
   ]
  },
  {
   "cell_type": "markdown",
   "id": "6ae2ff39",
   "metadata": {
    "papermill": {
     "duration": 0.025016,
     "end_time": "2024-02-26T14:34:39.321340",
     "exception": false,
     "start_time": "2024-02-26T14:34:39.296324",
     "status": "completed"
    },
    "tags": []
   },
   "source": [
    "We see that our feature matrix is extremely sparse.\n",
    "\n",
    "Next, let's create our bag-of-characters for the validation set."
   ]
  },
  {
   "cell_type": "code",
   "execution_count": 11,
   "id": "651a8209",
   "metadata": {
    "execution": {
     "iopub.execute_input": "2024-02-26T14:34:39.373628Z",
     "iopub.status.busy": "2024-02-26T14:34:39.372723Z",
     "iopub.status.idle": "2024-02-26T14:34:39.590584Z",
     "shell.execute_reply": "2024-02-26T14:34:39.589629Z"
    },
    "papermill": {
     "duration": 0.246208,
     "end_time": "2024-02-26T14:34:39.592837",
     "exception": false,
     "start_time": "2024-02-26T14:34:39.346629",
     "status": "completed"
    },
    "tags": []
   },
   "outputs": [
    {
     "data": {
      "text/plain": [
       "(3036, 1941)"
      ]
     },
     "execution_count": 11,
     "metadata": {},
     "output_type": "execute_result"
    }
   ],
   "source": [
    "X_val_counts = count_vect.transform(val_df['text'])\n",
    "X_val_counts.shape"
   ]
  },
  {
   "cell_type": "markdown",
   "id": "82662b74",
   "metadata": {
    "papermill": {
     "duration": 0.02544,
     "end_time": "2024-02-26T14:34:39.644480",
     "exception": false,
     "start_time": "2024-02-26T14:34:39.619040",
     "status": "completed"
    },
    "tags": []
   },
   "source": [
    "Now, let's fit a Naive Bayes classifier on the training set, and obtain predictions on the validation set."
   ]
  },
  {
   "cell_type": "code",
   "execution_count": 12,
   "id": "838dd7c1",
   "metadata": {
    "execution": {
     "iopub.execute_input": "2024-02-26T14:34:39.697944Z",
     "iopub.status.busy": "2024-02-26T14:34:39.697304Z",
     "iopub.status.idle": "2024-02-26T14:34:39.717306Z",
     "shell.execute_reply": "2024-02-26T14:34:39.716198Z"
    },
    "papermill": {
     "duration": 0.049678,
     "end_time": "2024-02-26T14:34:39.719662",
     "exception": false,
     "start_time": "2024-02-26T14:34:39.669984",
     "status": "completed"
    },
    "tags": []
   },
   "outputs": [
    {
     "data": {
      "text/plain": [
       "(3036,)"
      ]
     },
     "execution_count": 12,
     "metadata": {},
     "output_type": "execute_result"
    }
   ],
   "source": [
    "from sklearn.naive_bayes import MultinomialNB\n",
    "\n",
    "clf = MultinomialNB()\n",
    "clf.fit(X_train_counts, train_df['label'])\n",
    "preds_val = clf.predict(X_val_counts)\n",
    "preds_val.shape"
   ]
  },
  {
   "cell_type": "markdown",
   "id": "725d3101",
   "metadata": {
    "papermill": {
     "duration": 0.025237,
     "end_time": "2024-02-26T14:34:39.770982",
     "exception": false,
     "start_time": "2024-02-26T14:34:39.745745",
     "status": "completed"
    },
    "tags": []
   },
   "source": [
    "Let's take a look at the first ten predictions."
   ]
  },
  {
   "cell_type": "code",
   "execution_count": 13,
   "id": "6ef1fe01",
   "metadata": {
    "execution": {
     "iopub.execute_input": "2024-02-26T14:34:39.824512Z",
     "iopub.status.busy": "2024-02-26T14:34:39.823782Z",
     "iopub.status.idle": "2024-02-26T14:34:39.830109Z",
     "shell.execute_reply": "2024-02-26T14:34:39.829234Z"
    },
    "papermill": {
     "duration": 0.035272,
     "end_time": "2024-02-26T14:34:39.832443",
     "exception": false,
     "start_time": "2024-02-26T14:34:39.797171",
     "status": "completed"
    },
    "tags": []
   },
   "outputs": [
    {
     "data": {
      "text/plain": [
       "array([1, 1, 1, 1, 1, 1, 1, 1, 1, 1])"
      ]
     },
     "execution_count": 13,
     "metadata": {},
     "output_type": "execute_result"
    }
   ],
   "source": [
    "preds_val[:10]"
   ]
  },
  {
   "cell_type": "markdown",
   "id": "d7d89928",
   "metadata": {
    "papermill": {
     "duration": 0.025354,
     "end_time": "2024-02-26T14:34:39.883726",
     "exception": false,
     "start_time": "2024-02-26T14:34:39.858372",
     "status": "completed"
    },
    "tags": []
   },
   "source": [
    "Accuracy score:"
   ]
  },
  {
   "cell_type": "code",
   "execution_count": 14,
   "id": "180dc2f8",
   "metadata": {
    "execution": {
     "iopub.execute_input": "2024-02-26T14:34:39.937783Z",
     "iopub.status.busy": "2024-02-26T14:34:39.936807Z",
     "iopub.status.idle": "2024-02-26T14:34:39.944525Z",
     "shell.execute_reply": "2024-02-26T14:34:39.943537Z"
    },
    "papermill": {
     "duration": 0.036761,
     "end_time": "2024-02-26T14:34:39.946833",
     "exception": false,
     "start_time": "2024-02-26T14:34:39.910072",
     "status": "completed"
    },
    "tags": []
   },
   "outputs": [
    {
     "data": {
      "text/plain": [
       "0.35046113306982873"
      ]
     },
     "execution_count": 14,
     "metadata": {},
     "output_type": "execute_result"
    }
   ],
   "source": [
    "accuracy_score(val_df['label'], preds_val)"
   ]
  },
  {
   "cell_type": "markdown",
   "id": "33dee4bf",
   "metadata": {
    "papermill": {
     "duration": 0.026805,
     "end_time": "2024-02-26T14:34:39.999456",
     "exception": false,
     "start_time": "2024-02-26T14:34:39.972651",
     "status": "completed"
    },
    "tags": []
   },
   "source": [
    "Pathetic! Our Naive Bayes classifier has performed almost as poorly as Baseline 1.\n",
    "\n",
    "Let's try to improve it by tuning the `min_df` parameter of `CountVectorizer` (which controls the number of characters in the bag-of-characters). From the <a href=\"https://scikit-learn.org/stable/modules/generated/sklearn.feature_extraction.text.CountVectorizer.html\" target=\"_blank\">documentation</a> of `CountVectorizer`:\n",
    "\n",
    "> **min_df : *float in range [0.0, 1.0] or int, default=1***\n",
    "\n",
    "> When building the vocabulary ignore terms that have a document frequency strictly lower than the given threshold. This value is also called *cut-off* in the literature. If float, the parameter represents a proportion of documents, integer absolute counts. This parameter is ignored if `vocabulary` is not `None`."
   ]
  },
  {
   "cell_type": "code",
   "execution_count": 15,
   "id": "80d0577a",
   "metadata": {
    "execution": {
     "iopub.execute_input": "2024-02-26T14:34:40.052813Z",
     "iopub.status.busy": "2024-02-26T14:34:40.052422Z",
     "iopub.status.idle": "2024-02-26T14:34:53.101499Z",
     "shell.execute_reply": "2024-02-26T14:34:53.100171Z"
    },
    "papermill": {
     "duration": 13.079227,
     "end_time": "2024-02-26T14:34:53.104281",
     "exception": false,
     "start_time": "2024-02-26T14:34:40.025054",
     "status": "completed"
    },
    "tags": []
   },
   "outputs": [
    {
     "name": "stdout",
     "output_type": "stream",
     "text": [
      "Value of `min_df`: 0.0\n",
      "Number of characters in bag-of-characters: 1941\n",
      "Accuracy: 0.35046113306982873\n",
      "---\n",
      "Value of `min_df`: 0.001\n",
      "Number of characters in bag-of-characters: 629\n",
      "Accuracy: 0.35111989459815546\n",
      "---\n",
      "Value of `min_df`: 0.002\n",
      "Number of characters in bag-of-characters: 459\n",
      "Accuracy: 0.35111989459815546\n",
      "---\n",
      "Value of `min_df`: 0.003\n",
      "Number of characters in bag-of-characters: 399\n",
      "Accuracy: 0.35079051383399207\n",
      "---\n",
      "Value of `min_df`: 0.004\n",
      "Number of characters in bag-of-characters: 358\n",
      "Accuracy: 0.35177865612648224\n",
      "---\n",
      "Value of `min_df`: 0.005\n",
      "Number of characters in bag-of-characters: 341\n",
      "Accuracy: 0.35079051383399207\n",
      "---\n",
      "Value of `min_df`: 0.006\n",
      "Number of characters in bag-of-characters: 328\n",
      "Accuracy: 0.35210803689064557\n",
      "---\n",
      "Value of `min_df`: 0.007\n",
      "Number of characters in bag-of-characters: 318\n",
      "Accuracy: 0.35210803689064557\n",
      "---\n",
      "Value of `min_df`: 0.008\n",
      "Number of characters in bag-of-characters: 307\n",
      "Accuracy: 0.35243741765480896\n",
      "---\n",
      "Value of `min_df`: 0.009\n",
      "Number of characters in bag-of-characters: 302\n",
      "Accuracy: 0.35243741765480896\n",
      "---\n",
      "Value of `min_df`: 0.01\n",
      "Number of characters in bag-of-characters: 287\n",
      "Accuracy: 0.35243741765480896\n",
      "---\n",
      "Value of `min_df`: 0.02\n",
      "Number of characters in bag-of-characters: 211\n",
      "Accuracy: 0.35177865612648224\n",
      "---\n",
      "Value of `min_df`: 0.03\n",
      "Number of characters in bag-of-characters: 113\n",
      "Accuracy: 0.3481554677206851\n",
      "---\n",
      "Value of `min_df`: 0.04\n",
      "Number of characters in bag-of-characters: 73\n",
      "Accuracy: 0.33926218708827405\n",
      "---\n",
      "Value of `min_df`: 0.05\n",
      "Number of characters in bag-of-characters: 62\n",
      "Accuracy: 0.33794466403162055\n",
      "---\n"
     ]
    }
   ],
   "source": [
    "min_dfs = [0.0, 0.001, 0.002, 0.003, 0.004, 0.005, 0.006, 0.007, 0.008, 0.009, 0.01, 0.02, 0.03, 0.04, 0.05]\n",
    "for min_df in min_dfs:\n",
    "    count_vect = CountVectorizer(analyzer='char', min_df=min_df)\n",
    "    X_train_counts = count_vect.fit_transform(train_df['text'])\n",
    "    X_val_counts = count_vect.transform(val_df['text'])\n",
    "    clf = MultinomialNB()\n",
    "    clf.fit(X_train_counts, train_df['label'])\n",
    "    preds_val = clf.predict(X_val_counts)\n",
    "    acc = accuracy_score(val_df['label'], preds_val)\n",
    "    print(f\"Value of `min_df`: {min_df}\")\n",
    "    print(f\"Number of characters in bag-of-characters: {X_train_counts.shape[1]}\")\n",
    "    print(f\"Accuracy: {acc}\")\n",
    "    print(\"---\")"
   ]
  },
  {
   "cell_type": "markdown",
   "id": "e1f6d761",
   "metadata": {
    "papermill": {
     "duration": 0.026641,
     "end_time": "2024-02-26T14:34:53.159681",
     "exception": false,
     "start_time": "2024-02-26T14:34:53.133040",
     "status": "completed"
    },
    "tags": []
   },
   "source": [
    "We see that `min_df=0.008` gives us the highest accuracy. Let's use it to train our final Naive Bayes model, and obtain predictions on the validation set."
   ]
  },
  {
   "cell_type": "code",
   "execution_count": 16,
   "id": "db54e0cd",
   "metadata": {
    "execution": {
     "iopub.execute_input": "2024-02-26T14:34:53.215114Z",
     "iopub.status.busy": "2024-02-26T14:34:53.214597Z",
     "iopub.status.idle": "2024-02-26T14:34:54.079401Z",
     "shell.execute_reply": "2024-02-26T14:34:54.078420Z"
    },
    "papermill": {
     "duration": 0.895214,
     "end_time": "2024-02-26T14:34:54.081926",
     "exception": false,
     "start_time": "2024-02-26T14:34:53.186712",
     "status": "completed"
    },
    "tags": []
   },
   "outputs": [
    {
     "data": {
      "text/plain": [
       "(3036,)"
      ]
     },
     "execution_count": 16,
     "metadata": {},
     "output_type": "execute_result"
    }
   ],
   "source": [
    "count_vect = CountVectorizer(analyzer='char', min_df=0.008)\n",
    "X_train_counts = count_vect.fit_transform(train_df['text'])\n",
    "X_val_counts = count_vect.transform(val_df['text'])\n",
    "clf = MultinomialNB()\n",
    "clf.fit(X_train_counts, train_df['label'])\n",
    "preds_val = clf.predict(X_val_counts)\n",
    "preds_val.shape"
   ]
  },
  {
   "cell_type": "markdown",
   "id": "8d6c5ef1",
   "metadata": {
    "papermill": {
     "duration": 0.027014,
     "end_time": "2024-02-26T14:34:54.137314",
     "exception": false,
     "start_time": "2024-02-26T14:34:54.110300",
     "status": "completed"
    },
    "tags": []
   },
   "source": [
    "Accuracy score:"
   ]
  },
  {
   "cell_type": "code",
   "execution_count": 17,
   "id": "7475aced",
   "metadata": {
    "execution": {
     "iopub.execute_input": "2024-02-26T14:34:54.193225Z",
     "iopub.status.busy": "2024-02-26T14:34:54.192418Z",
     "iopub.status.idle": "2024-02-26T14:34:54.199696Z",
     "shell.execute_reply": "2024-02-26T14:34:54.198830Z"
    },
    "papermill": {
     "duration": 0.037366,
     "end_time": "2024-02-26T14:34:54.201951",
     "exception": false,
     "start_time": "2024-02-26T14:34:54.164585",
     "status": "completed"
    },
    "tags": []
   },
   "outputs": [
    {
     "data": {
      "text/plain": [
       "0.35243741765480896"
      ]
     },
     "execution_count": 17,
     "metadata": {},
     "output_type": "execute_result"
    }
   ],
   "source": [
    "accuracy_score(val_df['label'], preds_val)"
   ]
  },
  {
   "cell_type": "markdown",
   "id": "519566de",
   "metadata": {
    "papermill": {
     "duration": 0.026697,
     "end_time": "2024-02-26T14:34:54.255978",
     "exception": false,
     "start_time": "2024-02-26T14:34:54.229281",
     "status": "completed"
    },
    "tags": []
   },
   "source": [
    "We've managed to marginally outperform Baseline 1.\n",
    "\n",
    "Let's see if we can improve the accuracy in the next baseline."
   ]
  },
  {
   "cell_type": "markdown",
   "id": "93315469",
   "metadata": {
    "papermill": {
     "duration": 0.026797,
     "end_time": "2024-02-26T14:34:54.310067",
     "exception": false,
     "start_time": "2024-02-26T14:34:54.283270",
     "status": "completed"
    },
    "tags": []
   },
   "source": [
    "# Baseline 3: XLM-RoBERTa as a Fixed Feature Extractor"
   ]
  },
  {
   "cell_type": "markdown",
   "id": "d592059c",
   "metadata": {
    "papermill": {
     "duration": 0.027017,
     "end_time": "2024-02-26T14:34:54.364006",
     "exception": false,
     "start_time": "2024-02-26T14:34:54.336989",
     "status": "completed"
    },
    "tags": []
   },
   "source": [
    "Hugging Face Transformers tends to be very enthusiastic about showing lots of warnings. Let's quieten it down:"
   ]
  },
  {
   "cell_type": "code",
   "execution_count": 18,
   "id": "a55507e3",
   "metadata": {
    "execution": {
     "iopub.execute_input": "2024-02-26T14:34:54.420928Z",
     "iopub.status.busy": "2024-02-26T14:34:54.420555Z",
     "iopub.status.idle": "2024-02-26T14:34:54.425485Z",
     "shell.execute_reply": "2024-02-26T14:34:54.424635Z"
    },
    "papermill": {
     "duration": 0.03564,
     "end_time": "2024-02-26T14:34:54.427636",
     "exception": false,
     "start_time": "2024-02-26T14:34:54.391996",
     "status": "completed"
    },
    "tags": []
   },
   "outputs": [],
   "source": [
    "import warnings\n",
    "import logging\n",
    "\n",
    "warnings.simplefilter('ignore')\n",
    "logging.disable(logging.WARNING)"
   ]
  },
  {
   "cell_type": "markdown",
   "id": "187ae30f",
   "metadata": {
    "papermill": {
     "duration": 0.026796,
     "end_time": "2024-02-26T14:34:54.481623",
     "exception": false,
     "start_time": "2024-02-26T14:34:54.454827",
     "status": "completed"
    },
    "tags": []
   },
   "source": [
    "In this baseline, we'll use the last hidden states of XLM-RoBERTa as fixed features and train a classifier on them, without modifying the pretrained model.\n",
    "\n",
    "XLM-RoBERTa comes in two sizes: `\"xlm-roberta-base\"` and `\"xlm-roberta-large\"`. We'll use the former."
   ]
  },
  {
   "cell_type": "code",
   "execution_count": 19,
   "id": "9be8f69e",
   "metadata": {
    "execution": {
     "iopub.execute_input": "2024-02-26T14:34:54.537244Z",
     "iopub.status.busy": "2024-02-26T14:34:54.537019Z",
     "iopub.status.idle": "2024-02-26T14:34:54.541145Z",
     "shell.execute_reply": "2024-02-26T14:34:54.540258Z"
    },
    "papermill": {
     "duration": 0.034251,
     "end_time": "2024-02-26T14:34:54.543245",
     "exception": false,
     "start_time": "2024-02-26T14:34:54.508994",
     "status": "completed"
    },
    "tags": []
   },
   "outputs": [],
   "source": [
    "checkpoint = \"xlm-roberta-base\""
   ]
  },
  {
   "cell_type": "markdown",
   "id": "51c8e52e",
   "metadata": {
    "papermill": {
     "duration": 0.026935,
     "end_time": "2024-02-26T14:34:54.598331",
     "exception": false,
     "start_time": "2024-02-26T14:34:54.571396",
     "status": "completed"
    },
    "tags": []
   },
   "source": [
    "First, we'll download the tokenizer."
   ]
  },
  {
   "cell_type": "code",
   "execution_count": 20,
   "id": "cae7ad34",
   "metadata": {
    "execution": {
     "iopub.execute_input": "2024-02-26T14:34:54.653813Z",
     "iopub.status.busy": "2024-02-26T14:34:54.653564Z",
     "iopub.status.idle": "2024-02-26T14:35:07.461156Z",
     "shell.execute_reply": "2024-02-26T14:35:07.460030Z"
    },
    "papermill": {
     "duration": 12.838384,
     "end_time": "2024-02-26T14:35:07.464013",
     "exception": false,
     "start_time": "2024-02-26T14:34:54.625629",
     "status": "completed"
    },
    "tags": []
   },
   "outputs": [
    {
     "data": {
      "application/vnd.jupyter.widget-view+json": {
       "model_id": "00bd26b786c54762a09cfa5110dc1e74",
       "version_major": 2,
       "version_minor": 0
      },
      "text/plain": [
       "Downloading (…)enizer_config.json\";:   0%|          | 0.00/25.0 [00:00<?, ?B/s]"
      ]
     },
     "metadata": {},
     "output_type": "display_data"
    },
    {
     "data": {
      "application/vnd.jupyter.widget-view+json": {
       "model_id": "e63803de71b4482e96f8f622d807327f",
       "version_major": 2,
       "version_minor": 0
      },
      "text/plain": [
       "Downloading (…)\"config.json\";:   0%|          | 0.00/615 [00:00<?, ?B/s]"
      ]
     },
     "metadata": {},
     "output_type": "display_data"
    },
    {
     "data": {
      "application/vnd.jupyter.widget-view+json": {
       "model_id": "c49d7fd710054717af1e454e6261f670",
       "version_major": 2,
       "version_minor": 0
      },
      "text/plain": [
       "Downloading (…)ncepiece.bpe.model\";:   0%|          | 0.00/5.07M [00:00<?, ?B/s]"
      ]
     },
     "metadata": {},
     "output_type": "display_data"
    },
    {
     "data": {
      "application/vnd.jupyter.widget-view+json": {
       "model_id": "793bb2cc842b437eaeae740c562fa6d7",
       "version_major": 2,
       "version_minor": 0
      },
      "text/plain": [
       "Downloading (…)\"tokenizer.json\";:   0%|          | 0.00/9.10M [00:00<?, ?B/s]"
      ]
     },
     "metadata": {},
     "output_type": "display_data"
    }
   ],
   "source": [
    "from transformers import AutoTokenizer\n",
    "\n",
    "tokenizer = AutoTokenizer.from_pretrained(checkpoint)"
   ]
  },
  {
   "cell_type": "markdown",
   "id": "df61e4a3",
   "metadata": {
    "papermill": {
     "duration": 0.028062,
     "end_time": "2024-02-26T14:35:07.520375",
     "exception": false,
     "start_time": "2024-02-26T14:35:07.492313",
     "status": "completed"
    },
    "tags": []
   },
   "source": [
    "Let's take a quick look at XLM-RoBERTa's special tokens and special IDs."
   ]
  },
  {
   "cell_type": "code",
   "execution_count": 21,
   "id": "1ce9be97",
   "metadata": {
    "execution": {
     "iopub.execute_input": "2024-02-26T14:35:07.578008Z",
     "iopub.status.busy": "2024-02-26T14:35:07.577452Z",
     "iopub.status.idle": "2024-02-26T14:35:07.584019Z",
     "shell.execute_reply": "2024-02-26T14:35:07.583082Z"
    },
    "papermill": {
     "duration": 0.037997,
     "end_time": "2024-02-26T14:35:07.586293",
     "exception": false,
     "start_time": "2024-02-26T14:35:07.548296",
     "status": "completed"
    },
    "tags": []
   },
   "outputs": [
    {
     "data": {
      "text/plain": [
       "['<s>', '</s>', '<unk>', '<pad>', '<mask>']"
      ]
     },
     "execution_count": 21,
     "metadata": {},
     "output_type": "execute_result"
    }
   ],
   "source": [
    "tokenizer.all_special_tokens"
   ]
  },
  {
   "cell_type": "code",
   "execution_count": 22,
   "id": "eaa95fa6",
   "metadata": {
    "execution": {
     "iopub.execute_input": "2024-02-26T14:35:07.643195Z",
     "iopub.status.busy": "2024-02-26T14:35:07.642969Z",
     "iopub.status.idle": "2024-02-26T14:35:07.649146Z",
     "shell.execute_reply": "2024-02-26T14:35:07.648197Z"
    },
    "papermill": {
     "duration": 0.03719,
     "end_time": "2024-02-26T14:35:07.651297",
     "exception": false,
     "start_time": "2024-02-26T14:35:07.614107",
     "status": "completed"
    },
    "tags": []
   },
   "outputs": [
    {
     "data": {
      "text/plain": [
       "[0, 2, 3, 1, 250001]"
      ]
     },
     "execution_count": 22,
     "metadata": {},
     "output_type": "execute_result"
    }
   ],
   "source": [
    "tokenizer.all_special_ids"
   ]
  },
  {
   "cell_type": "markdown",
   "id": "55bf21be",
   "metadata": {
    "papermill": {
     "duration": 0.027836,
     "end_time": "2024-02-26T14:35:07.707080",
     "exception": false,
     "start_time": "2024-02-26T14:35:07.679244",
     "status": "completed"
    },
    "tags": []
   },
   "source": [
    "Note that the `'<pad>'` token has ID `1`.\n",
    "\n",
    "To efficiently encode our texts, we'll first convert our training & validation sets to Hugging Face `Dataset` objects."
   ]
  },
  {
   "cell_type": "code",
   "execution_count": 23,
   "id": "8c26ed5a",
   "metadata": {
    "execution": {
     "iopub.execute_input": "2024-02-26T14:35:07.765284Z",
     "iopub.status.busy": "2024-02-26T14:35:07.764734Z",
     "iopub.status.idle": "2024-02-26T14:35:08.056559Z",
     "shell.execute_reply": "2024-02-26T14:35:08.055601Z"
    },
    "papermill": {
     "duration": 0.323707,
     "end_time": "2024-02-26T14:35:08.058972",
     "exception": false,
     "start_time": "2024-02-26T14:35:07.735265",
     "status": "completed"
    },
    "tags": []
   },
   "outputs": [
    {
     "data": {
      "text/plain": [
       "Dataset({\n",
       "    features: ['id', 'premise', 'hypothesis', 'lang_abv', 'language', 'label', 'text'],\n",
       "    num_rows: 9084\n",
       "})"
      ]
     },
     "execution_count": 23,
     "metadata": {},
     "output_type": "execute_result"
    }
   ],
   "source": [
    "from datasets import Dataset\n",
    "\n",
    "train_ds = Dataset.from_pandas(train_df)\n",
    "train_ds"
   ]
  },
  {
   "cell_type": "code",
   "execution_count": 24,
   "id": "adcefb36",
   "metadata": {
    "execution": {
     "iopub.execute_input": "2024-02-26T14:35:08.118998Z",
     "iopub.status.busy": "2024-02-26T14:35:08.118527Z",
     "iopub.status.idle": "2024-02-26T14:35:08.134263Z",
     "shell.execute_reply": "2024-02-26T14:35:08.133365Z"
    },
    "papermill": {
     "duration": 0.047345,
     "end_time": "2024-02-26T14:35:08.136351",
     "exception": false,
     "start_time": "2024-02-26T14:35:08.089006",
     "status": "completed"
    },
    "tags": []
   },
   "outputs": [
    {
     "data": {
      "text/plain": [
       "Dataset({\n",
       "    features: ['id', 'premise', 'hypothesis', 'lang_abv', 'language', 'label', 'text'],\n",
       "    num_rows: 3036\n",
       "})"
      ]
     },
     "execution_count": 24,
     "metadata": {},
     "output_type": "execute_result"
    }
   ],
   "source": [
    "val_ds = Dataset.from_pandas(val_df)\n",
    "val_ds"
   ]
  },
  {
   "cell_type": "markdown",
   "id": "f71dcdcb",
   "metadata": {
    "papermill": {
     "duration": 0.028127,
     "end_time": "2024-02-26T14:35:08.192711",
     "exception": false,
     "start_time": "2024-02-26T14:35:08.164584",
     "status": "completed"
    },
    "tags": []
   },
   "source": [
    "We'll be obtaining the last hidden states of XLM-RoBERTa by performing forward passes on batches of encoded texts. To simplify this process, we'll tokenize our datasets with *global padding*, which will ensure that all the encoded texts have the same length."
   ]
  },
  {
   "cell_type": "code",
   "execution_count": 25,
   "id": "2b6253b2",
   "metadata": {
    "execution": {
     "iopub.execute_input": "2024-02-26T14:35:08.251548Z",
     "iopub.status.busy": "2024-02-26T14:35:08.251007Z",
     "iopub.status.idle": "2024-02-26T14:35:08.255412Z",
     "shell.execute_reply": "2024-02-26T14:35:08.254505Z"
    },
    "papermill": {
     "duration": 0.035989,
     "end_time": "2024-02-26T14:35:08.257632",
     "exception": false,
     "start_time": "2024-02-26T14:35:08.221643",
     "status": "completed"
    },
    "tags": []
   },
   "outputs": [],
   "source": [
    "def tokenize(batch):\n",
    "    return tokenizer(batch['premise'], batch['hypothesis'], padding=True)"
   ]
  },
  {
   "cell_type": "code",
   "execution_count": 26,
   "id": "ced9e06f",
   "metadata": {
    "execution": {
     "iopub.execute_input": "2024-02-26T14:35:08.315573Z",
     "iopub.status.busy": "2024-02-26T14:35:08.315158Z",
     "iopub.status.idle": "2024-02-26T14:35:08.321485Z",
     "shell.execute_reply": "2024-02-26T14:35:08.320638Z"
    },
    "papermill": {
     "duration": 0.037478,
     "end_time": "2024-02-26T14:35:08.323652",
     "exception": false,
     "start_time": "2024-02-26T14:35:08.286174",
     "status": "completed"
    },
    "tags": []
   },
   "outputs": [
    {
     "data": {
      "text/plain": [
       "['id', 'premise', 'hypothesis', 'lang_abv', 'language', 'text']"
      ]
     },
     "execution_count": 26,
     "metadata": {},
     "output_type": "execute_result"
    }
   ],
   "source": [
    "cols_to_remove = list(train_df.columns)\n",
    "cols_to_remove.remove('label')\n",
    "cols_to_remove"
   ]
  },
  {
   "cell_type": "markdown",
   "id": "3e1feb61",
   "metadata": {
    "papermill": {
     "duration": 0.028387,
     "end_time": "2024-02-26T14:35:08.380551",
     "exception": false,
     "start_time": "2024-02-26T14:35:08.352164",
     "status": "completed"
    },
    "tags": []
   },
   "source": [
    "First, the training set:"
   ]
  },
  {
   "cell_type": "code",
   "execution_count": 27,
   "id": "fcc33c7a",
   "metadata": {
    "execution": {
     "iopub.execute_input": "2024-02-26T14:35:08.438360Z",
     "iopub.status.busy": "2024-02-26T14:35:08.438157Z",
     "iopub.status.idle": "2024-02-26T14:35:10.440135Z",
     "shell.execute_reply": "2024-02-26T14:35:10.439224Z"
    },
    "papermill": {
     "duration": 2.033578,
     "end_time": "2024-02-26T14:35:10.442411",
     "exception": false,
     "start_time": "2024-02-26T14:35:08.408833",
     "status": "completed"
    },
    "tags": []
   },
   "outputs": [
    {
     "data": {
      "application/vnd.jupyter.widget-view+json": {
       "model_id": "40e8b15c1a8c4748b33a4f7669c2964d",
       "version_major": 2,
       "version_minor": 0
      },
      "text/plain": [
       "  0%|          | 0/1 [00:00<?, ?ba/s]"
      ]
     },
     "metadata": {},
     "output_type": "display_data"
    },
    {
     "data": {
      "text/plain": [
       "Dataset({\n",
       "    features: ['label', 'input_ids', 'attention_mask'],\n",
       "    num_rows: 9084\n",
       "})"
      ]
     },
     "execution_count": 27,
     "metadata": {},
     "output_type": "execute_result"
    }
   ],
   "source": [
    "train_ds = train_ds.map(tokenize, batched=True, batch_size=None, remove_columns=cols_to_remove)\n",
    "train_ds"
   ]
  },
  {
   "cell_type": "markdown",
   "id": "3a8294f9",
   "metadata": {
    "papermill": {
     "duration": 0.030039,
     "end_time": "2024-02-26T14:35:10.502067",
     "exception": false,
     "start_time": "2024-02-26T14:35:10.472028",
     "status": "completed"
    },
    "tags": []
   },
   "source": [
    "**Note:** The combination of specifying `padding=True` in the call to `tokenizer()` and `batch_size=None` in the call to `map()` results in global padding.\n",
    "\n",
    "Next, the validation set:"
   ]
  },
  {
   "cell_type": "code",
   "execution_count": 28,
   "id": "fae78a2b",
   "metadata": {
    "execution": {
     "iopub.execute_input": "2024-02-26T14:35:10.561622Z",
     "iopub.status.busy": "2024-02-26T14:35:10.561369Z",
     "iopub.status.idle": "2024-02-26T14:35:11.167072Z",
     "shell.execute_reply": "2024-02-26T14:35:11.166201Z"
    },
    "papermill": {
     "duration": 0.637998,
     "end_time": "2024-02-26T14:35:11.169452",
     "exception": false,
     "start_time": "2024-02-26T14:35:10.531454",
     "status": "completed"
    },
    "tags": []
   },
   "outputs": [
    {
     "data": {
      "application/vnd.jupyter.widget-view+json": {
       "model_id": "787dc39227094f81ad80f393f4d0e061",
       "version_major": 2,
       "version_minor": 0
      },
      "text/plain": [
       "  0%|          | 0/1 [00:00<?, ?ba/s]"
      ]
     },
     "metadata": {},
     "output_type": "display_data"
    },
    {
     "data": {
      "text/plain": [
       "Dataset({\n",
       "    features: ['label', 'input_ids', 'attention_mask'],\n",
       "    num_rows: 3036\n",
       "})"
      ]
     },
     "execution_count": 28,
     "metadata": {},
     "output_type": "execute_result"
    }
   ],
   "source": [
    "val_ds = val_ds.map(tokenize, batched=True, batch_size=None, remove_columns=cols_to_remove)\n",
    "val_ds"
   ]
  },
  {
   "cell_type": "markdown",
   "id": "06ef4112",
   "metadata": {
    "papermill": {
     "duration": 0.029258,
     "end_time": "2024-02-26T14:35:11.228582",
     "exception": false,
     "start_time": "2024-02-26T14:35:11.199324",
     "status": "completed"
    },
    "tags": []
   },
   "source": [
    "Let's set the output format of the `Dataset` objects to `\"torch\"`, and examine the first couple of rows of the training set."
   ]
  },
  {
   "cell_type": "code",
   "execution_count": 29,
   "id": "231064cb",
   "metadata": {
    "execution": {
     "iopub.execute_input": "2024-02-26T14:35:11.289032Z",
     "iopub.status.busy": "2024-02-26T14:35:11.288333Z",
     "iopub.status.idle": "2024-02-26T14:35:13.423205Z",
     "shell.execute_reply": "2024-02-26T14:35:13.422198Z"
    },
    "papermill": {
     "duration": 2.16776,
     "end_time": "2024-02-26T14:35:13.425612",
     "exception": false,
     "start_time": "2024-02-26T14:35:11.257852",
     "status": "completed"
    },
    "tags": []
   },
   "outputs": [
    {
     "data": {
      "text/plain": [
       "{'label': tensor([1, 1]),\n",
       " 'input_ids': tensor([[     0,   1858,  82781,    224,  83314, 206368,      7,   1367,    122,\n",
       "          135430,   9570,   1479,    198,   1563,      4,    381,  83604,    122,\n",
       "          231715,     19, 149225,    186,  99165,     71,     68,  16089,    634,\n",
       "           38441,    122, 112269,      7,    429,   9491,  92169,  25482,     68,\n",
       "          131806,  37398,   1619,   9026,    563,  36256,      9,   6495,   2480,\n",
       "             372,   2242,   8266,      7,  19048,  96603,      4,  15887,     68,\n",
       "           54603,     33,   1918,  22003,    893,  57985,  13228,     68, 115051,\n",
       "             334, 146877,   1619,  88964,     33,      5,      2,      2,   1858,\n",
       "             563,  36256,      9,  10429,  39334,    642,   1419,  29528,     68,\n",
       "          140321,    122, 183044,   1462,  59953,     13,  15987,      4,     68,\n",
       "            1329,  20991,      5,      2,      1,      1,      1,      1,      1,\n",
       "               1,      1,      1,      1,      1,      1,      1,      1,      1,\n",
       "               1,      1,      1,      1,      1,      1,      1,      1,      1,\n",
       "               1,      1,      1,      1,      1,      1,      1,      1,      1,\n",
       "               1,      1,      1,      1,      1,      1,      1,      1,      1,\n",
       "               1,      1,      1,      1,      1,      1,      1,      1,      1,\n",
       "               1,      1,      1,      1,      1,      1,      1,      1,      1,\n",
       "               1,      1,      1,      1,      1,      1,      1,      1,      1,\n",
       "               1,      1,      1,      1,      1,      1,      1,      1,      1,\n",
       "               1,      1,      1,      1,      1,      1,      1,      1,      1,\n",
       "               1,      1,      1,      1,      1,      1,      1,      1,      1,\n",
       "               1,      1,      1,      1,      1,      1,      1,      1,      1,\n",
       "               1,      1,      1,      1,      1,      1,      1,      1,      1,\n",
       "               1,      1,      1,      1,      1,      1,      1,      1,      1,\n",
       "               1,      1,      1,      1,      1,      1,      1,      1,      1,\n",
       "               1,      1,      1,      1,      1,      1,      1,      1,      1,\n",
       "               1,      1,      1,      1,      1,      1,      1,      1,      1,\n",
       "               1,      1,      1],\n",
       "         [     0,   5036,    450,     25,      7,    142,  49041,   6275, 152725,\n",
       "              17,  29459,  24145,     70, 202702,    621,      2,      2,   9925,\n",
       "              83,   1632,    111,     70,   2684,  49041,   8966,   1672,    442,\n",
       "               5,      2,      1,      1,      1,      1,      1,      1,      1,\n",
       "               1,      1,      1,      1,      1,      1,      1,      1,      1,\n",
       "               1,      1,      1,      1,      1,      1,      1,      1,      1,\n",
       "               1,      1,      1,      1,      1,      1,      1,      1,      1,\n",
       "               1,      1,      1,      1,      1,      1,      1,      1,      1,\n",
       "               1,      1,      1,      1,      1,      1,      1,      1,      1,\n",
       "               1,      1,      1,      1,      1,      1,      1,      1,      1,\n",
       "               1,      1,      1,      1,      1,      1,      1,      1,      1,\n",
       "               1,      1,      1,      1,      1,      1,      1,      1,      1,\n",
       "               1,      1,      1,      1,      1,      1,      1,      1,      1,\n",
       "               1,      1,      1,      1,      1,      1,      1,      1,      1,\n",
       "               1,      1,      1,      1,      1,      1,      1,      1,      1,\n",
       "               1,      1,      1,      1,      1,      1,      1,      1,      1,\n",
       "               1,      1,      1,      1,      1,      1,      1,      1,      1,\n",
       "               1,      1,      1,      1,      1,      1,      1,      1,      1,\n",
       "               1,      1,      1,      1,      1,      1,      1,      1,      1,\n",
       "               1,      1,      1,      1,      1,      1,      1,      1,      1,\n",
       "               1,      1,      1,      1,      1,      1,      1,      1,      1,\n",
       "               1,      1,      1,      1,      1,      1,      1,      1,      1,\n",
       "               1,      1,      1,      1,      1,      1,      1,      1,      1,\n",
       "               1,      1,      1,      1,      1,      1,      1,      1,      1,\n",
       "               1,      1,      1,      1,      1,      1,      1,      1,      1,\n",
       "               1,      1,      1,      1,      1,      1,      1,      1,      1,\n",
       "               1,      1,      1,      1,      1,      1,      1,      1,      1,\n",
       "               1,      1,      1]]),\n",
       " 'attention_mask': tensor([[1, 1, 1, 1, 1, 1, 1, 1, 1, 1, 1, 1, 1, 1, 1, 1, 1, 1, 1, 1, 1, 1, 1, 1,\n",
       "          1, 1, 1, 1, 1, 1, 1, 1, 1, 1, 1, 1, 1, 1, 1, 1, 1, 1, 1, 1, 1, 1, 1, 1,\n",
       "          1, 1, 1, 1, 1, 1, 1, 1, 1, 1, 1, 1, 1, 1, 1, 1, 1, 1, 1, 1, 1, 1, 1, 1,\n",
       "          1, 1, 1, 1, 1, 1, 1, 1, 1, 1, 1, 1, 1, 1, 1, 1, 1, 1, 1, 1, 1, 1, 0, 0,\n",
       "          0, 0, 0, 0, 0, 0, 0, 0, 0, 0, 0, 0, 0, 0, 0, 0, 0, 0, 0, 0, 0, 0, 0, 0,\n",
       "          0, 0, 0, 0, 0, 0, 0, 0, 0, 0, 0, 0, 0, 0, 0, 0, 0, 0, 0, 0, 0, 0, 0, 0,\n",
       "          0, 0, 0, 0, 0, 0, 0, 0, 0, 0, 0, 0, 0, 0, 0, 0, 0, 0, 0, 0, 0, 0, 0, 0,\n",
       "          0, 0, 0, 0, 0, 0, 0, 0, 0, 0, 0, 0, 0, 0, 0, 0, 0, 0, 0, 0, 0, 0, 0, 0,\n",
       "          0, 0, 0, 0, 0, 0, 0, 0, 0, 0, 0, 0, 0, 0, 0, 0, 0, 0, 0, 0, 0, 0, 0, 0,\n",
       "          0, 0, 0, 0, 0, 0, 0, 0, 0, 0, 0, 0, 0, 0, 0, 0, 0, 0, 0, 0, 0, 0, 0, 0,\n",
       "          0, 0, 0, 0, 0, 0],\n",
       "         [1, 1, 1, 1, 1, 1, 1, 1, 1, 1, 1, 1, 1, 1, 1, 1, 1, 1, 1, 1, 1, 1, 1, 1,\n",
       "          1, 1, 1, 1, 1, 0, 0, 0, 0, 0, 0, 0, 0, 0, 0, 0, 0, 0, 0, 0, 0, 0, 0, 0,\n",
       "          0, 0, 0, 0, 0, 0, 0, 0, 0, 0, 0, 0, 0, 0, 0, 0, 0, 0, 0, 0, 0, 0, 0, 0,\n",
       "          0, 0, 0, 0, 0, 0, 0, 0, 0, 0, 0, 0, 0, 0, 0, 0, 0, 0, 0, 0, 0, 0, 0, 0,\n",
       "          0, 0, 0, 0, 0, 0, 0, 0, 0, 0, 0, 0, 0, 0, 0, 0, 0, 0, 0, 0, 0, 0, 0, 0,\n",
       "          0, 0, 0, 0, 0, 0, 0, 0, 0, 0, 0, 0, 0, 0, 0, 0, 0, 0, 0, 0, 0, 0, 0, 0,\n",
       "          0, 0, 0, 0, 0, 0, 0, 0, 0, 0, 0, 0, 0, 0, 0, 0, 0, 0, 0, 0, 0, 0, 0, 0,\n",
       "          0, 0, 0, 0, 0, 0, 0, 0, 0, 0, 0, 0, 0, 0, 0, 0, 0, 0, 0, 0, 0, 0, 0, 0,\n",
       "          0, 0, 0, 0, 0, 0, 0, 0, 0, 0, 0, 0, 0, 0, 0, 0, 0, 0, 0, 0, 0, 0, 0, 0,\n",
       "          0, 0, 0, 0, 0, 0, 0, 0, 0, 0, 0, 0, 0, 0, 0, 0, 0, 0, 0, 0, 0, 0, 0, 0,\n",
       "          0, 0, 0, 0, 0, 0]])}"
      ]
     },
     "execution_count": 29,
     "metadata": {},
     "output_type": "execute_result"
    }
   ],
   "source": [
    "train_ds.set_format(\"torch\")\n",
    "val_ds.set_format(\"torch\")\n",
    "train_ds[:2]"
   ]
  },
  {
   "cell_type": "markdown",
   "id": "87ab111c",
   "metadata": {
    "papermill": {
     "duration": 0.029068,
     "end_time": "2024-02-26T14:35:13.484464",
     "exception": false,
     "start_time": "2024-02-26T14:35:13.455396",
     "status": "completed"
    },
    "tags": []
   },
   "source": [
    "Perfect.\n",
    "\n",
    "Now, let's download the XLM-RoBERTa pretrained model, and move it to the GPU."
   ]
  },
  {
   "cell_type": "code",
   "execution_count": 30,
   "id": "52bc6ed9",
   "metadata": {
    "execution": {
     "iopub.execute_input": "2024-02-26T14:35:13.545133Z",
     "iopub.status.busy": "2024-02-26T14:35:13.544461Z",
     "iopub.status.idle": "2024-02-26T14:35:50.267081Z",
     "shell.execute_reply": "2024-02-26T14:35:50.265878Z"
    },
    "papermill": {
     "duration": 36.755989,
     "end_time": "2024-02-26T14:35:50.270145",
     "exception": false,
     "start_time": "2024-02-26T14:35:13.514156",
     "status": "completed"
    },
    "tags": []
   },
   "outputs": [
    {
     "name": "stdout",
     "output_type": "stream",
     "text": [
      "huggingface/tokenizers: The current process just got forked, after parallelism has already been used. Disabling parallelism to avoid deadlocks...\n",
      "To disable this warning, you can either:\n",
      "\t- Avoid using `tokenizers` before the fork if possible\n",
      "\t- Explicitly set the environment variable TOKENIZERS_PARALLELISM=(true | false)\n",
      "huggingface/tokenizers: The current process just got forked, after parallelism has already been used. Disabling parallelism to avoid deadlocks...\n",
      "To disable this warning, you can either:\n",
      "\t- Avoid using `tokenizers` before the fork if possible\n",
      "\t- Explicitly set the environment variable TOKENIZERS_PARALLELISM=(true | false)\n",
      "huggingface/tokenizers: The current process just got forked, after parallelism has already been used. Disabling parallelism to avoid deadlocks...\n",
      "To disable this warning, you can either:\n",
      "\t- Avoid using `tokenizers` before the fork if possible\n",
      "\t- Explicitly set the environment variable TOKENIZERS_PARALLELISM=(true | false)\n"
     ]
    },
    {
     "data": {
      "application/vnd.jupyter.widget-view+json": {
       "model_id": "16f08683b894404fb86b2bf6ad84bb5b",
       "version_major": 2,
       "version_minor": 0
      },
      "text/plain": [
       "Downloading (…)\"pytorch_model.bin\";:   0%|          | 0.00/1.12G [00:00<?, ?B/s]"
      ]
     },
     "metadata": {},
     "output_type": "display_data"
    }
   ],
   "source": [
    "import torch\n",
    "from transformers import AutoModel\n",
    "\n",
    "device = torch.device(\"cuda\" if torch.cuda.is_available() else \"cpu\")\n",
    "model = AutoModel.from_pretrained(checkpoint).to(device)"
   ]
  },
  {
   "cell_type": "markdown",
   "id": "8191b5c3",
   "metadata": {
    "papermill": {
     "duration": 0.038496,
     "end_time": "2024-02-26T14:35:50.349663",
     "exception": false,
     "start_time": "2024-02-26T14:35:50.311167",
     "status": "completed"
    },
    "tags": []
   },
   "source": [
    "Let's write a function to extract the last hidden states associated with the `'<s>'` token. (**Note:** This token is equivalent to the `'[CLS]'` token in BERT.) For text classification, it is common practice to use just the hidden states associated with this token as the input features."
   ]
  },
  {
   "cell_type": "code",
   "execution_count": 31,
   "id": "f4608591",
   "metadata": {
    "execution": {
     "iopub.execute_input": "2024-02-26T14:35:50.424299Z",
     "iopub.status.busy": "2024-02-26T14:35:50.423346Z",
     "iopub.status.idle": "2024-02-26T14:35:50.433081Z",
     "shell.execute_reply": "2024-02-26T14:35:50.432036Z"
    },
    "papermill": {
     "duration": 0.049403,
     "end_time": "2024-02-26T14:35:50.435981",
     "exception": false,
     "start_time": "2024-02-26T14:35:50.386578",
     "status": "completed"
    },
    "tags": []
   },
   "outputs": [],
   "source": [
    "def extract_hidden_states(batch):\n",
    "    # Place model inputs on the GPU:\n",
    "    inputs = {k: v.to(device) for k, v in batch.items() if k in tokenizer.model_input_names}\n",
    "    # Extract last hidden states:\n",
    "    with torch.no_grad():\n",
    "        last_hidden_state = model(**inputs).last_hidden_state\n",
    "    # Return vectors for the '<s>' token:\n",
    "    return {\"hidden_state\": last_hidden_state[:, 0].cpu().numpy()}"
   ]
  },
  {
   "cell_type": "markdown",
   "id": "4839f2bb",
   "metadata": {
    "papermill": {
     "duration": 0.03356,
     "end_time": "2024-02-26T14:35:50.505703",
     "exception": false,
     "start_time": "2024-02-26T14:35:50.472143",
     "status": "completed"
    },
    "tags": []
   },
   "source": [
    "Finally, let's add the last hidden states to our `Dataset` objects using the `map()` method. (Since we're performing forward passes this time, we'll use a smaller batch size.)"
   ]
  },
  {
   "cell_type": "code",
   "execution_count": 32,
   "id": "a5d9aa0c",
   "metadata": {
    "execution": {
     "iopub.execute_input": "2024-02-26T14:35:50.579715Z",
     "iopub.status.busy": "2024-02-26T14:35:50.579360Z",
     "iopub.status.idle": "2024-02-26T14:36:56.881260Z",
     "shell.execute_reply": "2024-02-26T14:36:56.880340Z"
    },
    "papermill": {
     "duration": 66.341337,
     "end_time": "2024-02-26T14:36:56.883625",
     "exception": false,
     "start_time": "2024-02-26T14:35:50.542288",
     "status": "completed"
    },
    "tags": []
   },
   "outputs": [
    {
     "data": {
      "application/vnd.jupyter.widget-view+json": {
       "model_id": "dc51f9f574ec44cda0da09d915818a43",
       "version_major": 2,
       "version_minor": 0
      },
      "text/plain": [
       "  0%|          | 0/71 [00:00<?, ?ba/s]"
      ]
     },
     "metadata": {},
     "output_type": "display_data"
    },
    {
     "data": {
      "text/plain": [
       "Dataset({\n",
       "    features: ['label', 'input_ids', 'attention_mask', 'hidden_state'],\n",
       "    num_rows: 9084\n",
       "})"
      ]
     },
     "execution_count": 32,
     "metadata": {},
     "output_type": "execute_result"
    }
   ],
   "source": [
    "train_ds = train_ds.map(extract_hidden_states, batched=True, batch_size=128)\n",
    "train_ds"
   ]
  },
  {
   "cell_type": "code",
   "execution_count": 33,
   "id": "bd675d71",
   "metadata": {
    "execution": {
     "iopub.execute_input": "2024-02-26T14:36:56.946095Z",
     "iopub.status.busy": "2024-02-26T14:36:56.945803Z",
     "iopub.status.idle": "2024-02-26T14:37:18.597717Z",
     "shell.execute_reply": "2024-02-26T14:37:18.596789Z"
    },
    "papermill": {
     "duration": 21.68538,
     "end_time": "2024-02-26T14:37:18.600021",
     "exception": false,
     "start_time": "2024-02-26T14:36:56.914641",
     "status": "completed"
    },
    "tags": []
   },
   "outputs": [
    {
     "data": {
      "application/vnd.jupyter.widget-view+json": {
       "model_id": "8fcb9c79b2fb49c1910a7c5ea75d8c5d",
       "version_major": 2,
       "version_minor": 0
      },
      "text/plain": [
       "  0%|          | 0/24 [00:00<?, ?ba/s]"
      ]
     },
     "metadata": {},
     "output_type": "display_data"
    },
    {
     "data": {
      "text/plain": [
       "Dataset({\n",
       "    features: ['label', 'input_ids', 'attention_mask', 'hidden_state'],\n",
       "    num_rows: 3036\n",
       "})"
      ]
     },
     "execution_count": 33,
     "metadata": {},
     "output_type": "execute_result"
    }
   ],
   "source": [
    "val_ds = val_ds.map(extract_hidden_states, batched=True, batch_size=128)\n",
    "val_ds"
   ]
  },
  {
   "cell_type": "markdown",
   "id": "9f2b159f",
   "metadata": {
    "papermill": {
     "duration": 0.030586,
     "end_time": "2024-02-26T14:37:18.661474",
     "exception": false,
     "start_time": "2024-02-26T14:37:18.630888",
     "status": "completed"
    },
    "tags": []
   },
   "source": [
    "We can now extract the `'hidden_state'` and `'label'` columns as NumPy arrays."
   ]
  },
  {
   "cell_type": "code",
   "execution_count": 34,
   "id": "18b41efd",
   "metadata": {
    "execution": {
     "iopub.execute_input": "2024-02-26T14:37:18.723516Z",
     "iopub.status.busy": "2024-02-26T14:37:18.722656Z",
     "iopub.status.idle": "2024-02-26T14:37:18.819769Z",
     "shell.execute_reply": "2024-02-26T14:37:18.818882Z"
    },
    "papermill": {
     "duration": 0.130429,
     "end_time": "2024-02-26T14:37:18.822075",
     "exception": false,
     "start_time": "2024-02-26T14:37:18.691646",
     "status": "completed"
    },
    "tags": []
   },
   "outputs": [
    {
     "data": {
      "text/plain": [
       "((9084, 768), (9084,))"
      ]
     },
     "execution_count": 34,
     "metadata": {},
     "output_type": "execute_result"
    }
   ],
   "source": [
    "X_train = np.array(train_ds['hidden_state'])\n",
    "y_train = np.array(train_ds['label'])\n",
    "X_train.shape, y_train.shape"
   ]
  },
  {
   "cell_type": "code",
   "execution_count": 35,
   "id": "137751a0",
   "metadata": {
    "execution": {
     "iopub.execute_input": "2024-02-26T14:37:18.884766Z",
     "iopub.status.busy": "2024-02-26T14:37:18.884533Z",
     "iopub.status.idle": "2024-02-26T14:37:18.916489Z",
     "shell.execute_reply": "2024-02-26T14:37:18.915611Z"
    },
    "papermill": {
     "duration": 0.065701,
     "end_time": "2024-02-26T14:37:18.918666",
     "exception": false,
     "start_time": "2024-02-26T14:37:18.852965",
     "status": "completed"
    },
    "tags": []
   },
   "outputs": [
    {
     "data": {
      "text/plain": [
       "((3036, 768), (3036,))"
      ]
     },
     "execution_count": 35,
     "metadata": {},
     "output_type": "execute_result"
    }
   ],
   "source": [
    "X_val = np.array(val_ds['hidden_state'])\n",
    "y_val = np.array(val_ds['label'])\n",
    "X_val.shape, y_val.shape"
   ]
  },
  {
   "cell_type": "markdown",
   "id": "e4e7f764",
   "metadata": {
    "papermill": {
     "duration": 0.030051,
     "end_time": "2024-02-26T14:37:18.979269",
     "exception": false,
     "start_time": "2024-02-26T14:37:18.949218",
     "status": "completed"
    },
    "tags": []
   },
   "source": [
    "Let's use these to train a logistic regression model, and obtain predictions on the validation set."
   ]
  },
  {
   "cell_type": "code",
   "execution_count": 36,
   "id": "eac40293",
   "metadata": {
    "execution": {
     "iopub.execute_input": "2024-02-26T14:37:19.040912Z",
     "iopub.status.busy": "2024-02-26T14:37:19.040664Z",
     "iopub.status.idle": "2024-02-26T14:37:35.557449Z",
     "shell.execute_reply": "2024-02-26T14:37:35.556443Z"
    },
    "papermill": {
     "duration": 16.551606,
     "end_time": "2024-02-26T14:37:35.561145",
     "exception": false,
     "start_time": "2024-02-26T14:37:19.009539",
     "status": "completed"
    },
    "tags": []
   },
   "outputs": [
    {
     "data": {
      "text/plain": [
       "(3036,)"
      ]
     },
     "execution_count": 36,
     "metadata": {},
     "output_type": "execute_result"
    }
   ],
   "source": [
    "from sklearn.linear_model import LogisticRegression\n",
    "\n",
    "# We increase `max_iter` to guarantee convergence:\n",
    "clf = LogisticRegression(max_iter=3000)\n",
    "clf.fit(X_train, y_train)\n",
    "preds_val = clf.predict(X_val)\n",
    "preds_val.shape"
   ]
  },
  {
   "cell_type": "markdown",
   "id": "78aa141b",
   "metadata": {
    "papermill": {
     "duration": 0.059021,
     "end_time": "2024-02-26T14:37:35.691762",
     "exception": false,
     "start_time": "2024-02-26T14:37:35.632741",
     "status": "completed"
    },
    "tags": []
   },
   "source": [
    "Accuracy score:"
   ]
  },
  {
   "cell_type": "code",
   "execution_count": 37,
   "id": "7e6a2ac3",
   "metadata": {
    "execution": {
     "iopub.execute_input": "2024-02-26T14:37:35.754971Z",
     "iopub.status.busy": "2024-02-26T14:37:35.754420Z",
     "iopub.status.idle": "2024-02-26T14:37:35.761416Z",
     "shell.execute_reply": "2024-02-26T14:37:35.760566Z"
    },
    "papermill": {
     "duration": 0.041011,
     "end_time": "2024-02-26T14:37:35.763532",
     "exception": false,
     "start_time": "2024-02-26T14:37:35.722521",
     "status": "completed"
    },
    "tags": []
   },
   "outputs": [
    {
     "data": {
      "text/plain": [
       "0.4670619235836627"
      ]
     },
     "execution_count": 37,
     "metadata": {},
     "output_type": "execute_result"
    }
   ],
   "source": [
    "accuracy_score(y_val, preds_val)"
   ]
  },
  {
   "cell_type": "markdown",
   "id": "add5c334",
   "metadata": {
    "papermill": {
     "duration": 0.030198,
     "end_time": "2024-02-26T14:37:35.824221",
     "exception": false,
     "start_time": "2024-02-26T14:37:35.794023",
     "status": "completed"
    },
    "tags": []
   },
   "source": [
    "We've managed to outperform Baseline 2.\n",
    "\n",
    "Let's see if we can improve the accuracy in the next baseline."
   ]
  },
  {
   "cell_type": "markdown",
   "id": "f15b28c4",
   "metadata": {
    "papermill": {
     "duration": 0.030076,
     "end_time": "2024-02-26T14:37:35.884601",
     "exception": false,
     "start_time": "2024-02-26T14:37:35.854525",
     "status": "completed"
    },
    "tags": []
   },
   "source": [
    "# Baseline 4: \"symanto/xlm-roberta-base-snli-mnli-anli-xnli\""
   ]
  },
  {
   "cell_type": "markdown",
   "id": "f19c42ab",
   "metadata": {
    "papermill": {
     "duration": 0.030969,
     "end_time": "2024-02-26T14:37:35.946138",
     "exception": false,
     "start_time": "2024-02-26T14:37:35.915169",
     "status": "completed"
    },
    "tags": []
   },
   "source": [
    "Several open Natural Language Inference (NLI) datasets are available. Among these, the most popular multilingual one is <a href=\"https://arxiv.org/abs/1809.05053\" target=\"_blank\">Cross-Lingual NLI Corpus (XNLI)</a>.\n",
    "\n",
    "I wanted to check if the <a href=\"https://huggingface.co/models\" target=\"_blank\">Hugging Face Hub</a> has any multilingual models that have been fine-tuned on the XNLI dataset. After searching on the Hub and then trying out a few, I found one that works quite well:\n",
    "\n",
    "> https://huggingface.co/symanto/xlm-roberta-base-snli-mnli-anli-xnli\n",
    "\n",
    "Let's use this model as is (i.e., without any fine-tuning) to obtain predictions on our validation set, and compute the accuracy score."
   ]
  },
  {
   "cell_type": "code",
   "execution_count": 38,
   "id": "a50d8384",
   "metadata": {
    "execution": {
     "iopub.execute_input": "2024-02-26T14:37:36.010161Z",
     "iopub.status.busy": "2024-02-26T14:37:36.009592Z",
     "iopub.status.idle": "2024-02-26T14:37:36.013914Z",
     "shell.execute_reply": "2024-02-26T14:37:36.013015Z"
    },
    "papermill": {
     "duration": 0.038519,
     "end_time": "2024-02-26T14:37:36.016030",
     "exception": false,
     "start_time": "2024-02-26T14:37:35.977511",
     "status": "completed"
    },
    "tags": []
   },
   "outputs": [],
   "source": [
    "checkpoint = \"symanto/xlm-roberta-base-snli-mnli-anli-xnli\""
   ]
  },
  {
   "cell_type": "markdown",
   "id": "e385a8e4",
   "metadata": {
    "papermill": {
     "duration": 0.03314,
     "end_time": "2024-02-26T14:37:36.081081",
     "exception": false,
     "start_time": "2024-02-26T14:37:36.047941",
     "status": "completed"
    },
    "tags": []
   },
   "source": [
    "First, we'll download the tokenizer and model."
   ]
  },
  {
   "cell_type": "code",
   "execution_count": 39,
   "id": "b0df0452",
   "metadata": {
    "execution": {
     "iopub.execute_input": "2024-02-26T14:37:36.146775Z",
     "iopub.status.busy": "2024-02-26T14:37:36.146562Z",
     "iopub.status.idle": "2024-02-26T14:38:14.791821Z",
     "shell.execute_reply": "2024-02-26T14:38:14.790922Z"
    },
    "papermill": {
     "duration": 38.680433,
     "end_time": "2024-02-26T14:38:14.794581",
     "exception": false,
     "start_time": "2024-02-26T14:37:36.114148",
     "status": "completed"
    },
    "tags": []
   },
   "outputs": [
    {
     "data": {
      "application/vnd.jupyter.widget-view+json": {
       "model_id": "49f03c1d8e084ee99bb7480da966b8dc",
       "version_major": 2,
       "version_minor": 0
      },
      "text/plain": [
       "Downloading (…)enizer_config.json\";:   0%|          | 0.00/398 [00:00<?, ?B/s]"
      ]
     },
     "metadata": {},
     "output_type": "display_data"
    },
    {
     "data": {
      "application/vnd.jupyter.widget-view+json": {
       "model_id": "66457de54811445ca4b2a006c52cdadf",
       "version_major": 2,
       "version_minor": 0
      },
      "text/plain": [
       "Downloading (…)ncepiece.bpe.model\";:   0%|          | 0.00/5.07M [00:00<?, ?B/s]"
      ]
     },
     "metadata": {},
     "output_type": "display_data"
    },
    {
     "data": {
      "application/vnd.jupyter.widget-view+json": {
       "model_id": "40f5e7731bc64608979cbd229421a85f",
       "version_major": 2,
       "version_minor": 0
      },
      "text/plain": [
       "Downloading (…)\"tokenizer.json\";:   0%|          | 0.00/9.08M [00:00<?, ?B/s]"
      ]
     },
     "metadata": {},
     "output_type": "display_data"
    },
    {
     "data": {
      "application/vnd.jupyter.widget-view+json": {
       "model_id": "91803f2019be403bb0a965acf0f5ab28",
       "version_major": 2,
       "version_minor": 0
      },
      "text/plain": [
       "Downloading (…)al_tokens_map.json\";:   0%|          | 0.00/239 [00:00<?, ?B/s]"
      ]
     },
     "metadata": {},
     "output_type": "display_data"
    },
    {
     "data": {
      "application/vnd.jupyter.widget-view+json": {
       "model_id": "04c6220ba98b47149bbc48aca1c4310f",
       "version_major": 2,
       "version_minor": 0
      },
      "text/plain": [
       "Downloading (…)\"config.json\";:   0%|          | 0.00/921 [00:00<?, ?B/s]"
      ]
     },
     "metadata": {},
     "output_type": "display_data"
    },
    {
     "data": {
      "application/vnd.jupyter.widget-view+json": {
       "model_id": "fd16e2318d41474db50f01c196360641",
       "version_major": 2,
       "version_minor": 0
      },
      "text/plain": [
       "Downloading (…)\"pytorch_model.bin\";:   0%|          | 0.00/1.11G [00:00<?, ?B/s]"
      ]
     },
     "metadata": {},
     "output_type": "display_data"
    }
   ],
   "source": [
    "from transformers import AutoModelForSequenceClassification\n",
    "\n",
    "tokenizer = AutoTokenizer.from_pretrained(checkpoint)\n",
    "model = AutoModelForSequenceClassification.from_pretrained(checkpoint)"
   ]
  },
  {
   "cell_type": "markdown",
   "id": "09f14bc8",
   "metadata": {
    "papermill": {
     "duration": 0.031817,
     "end_time": "2024-02-26T14:38:14.859779",
     "exception": false,
     "start_time": "2024-02-26T14:38:14.827962",
     "status": "completed"
    },
    "tags": []
   },
   "source": [
    "To easily obtain predictions on our validation set, we'll create a `Trainer` object."
   ]
  },
  {
   "cell_type": "code",
   "execution_count": 40,
   "id": "fa1812c8",
   "metadata": {
    "execution": {
     "iopub.execute_input": "2024-02-26T14:38:14.929630Z",
     "iopub.status.busy": "2024-02-26T14:38:14.928604Z",
     "iopub.status.idle": "2024-02-26T14:38:15.290697Z",
     "shell.execute_reply": "2024-02-26T14:38:15.289599Z"
    },
    "papermill": {
     "duration": 0.401753,
     "end_time": "2024-02-26T14:38:15.293517",
     "exception": false,
     "start_time": "2024-02-26T14:38:14.891764",
     "status": "completed"
    },
    "tags": []
   },
   "outputs": [],
   "source": [
    "from transformers import Trainer\n",
    "\n",
    "trainer = Trainer(model, tokenizer=tokenizer)"
   ]
  },
  {
   "cell_type": "markdown",
   "id": "c0f7fba7",
   "metadata": {
    "papermill": {
     "duration": 0.03262,
     "end_time": "2024-02-26T14:38:15.359050",
     "exception": false,
     "start_time": "2024-02-26T14:38:15.326430",
     "status": "completed"
    },
    "tags": []
   },
   "source": [
    "Next, we'll convert our validation `DataFrame` to a Hugging Face `Dataset`."
   ]
  },
  {
   "cell_type": "code",
   "execution_count": 41,
   "id": "4fc3020a",
   "metadata": {
    "execution": {
     "iopub.execute_input": "2024-02-26T14:38:15.426190Z",
     "iopub.status.busy": "2024-02-26T14:38:15.425455Z",
     "iopub.status.idle": "2024-02-26T14:38:15.440075Z",
     "shell.execute_reply": "2024-02-26T14:38:15.439184Z"
    },
    "papermill": {
     "duration": 0.05062,
     "end_time": "2024-02-26T14:38:15.442333",
     "exception": false,
     "start_time": "2024-02-26T14:38:15.391713",
     "status": "completed"
    },
    "tags": []
   },
   "outputs": [
    {
     "data": {
      "text/plain": [
       "Dataset({\n",
       "    features: ['id', 'premise', 'hypothesis', 'lang_abv', 'language', 'label', 'text'],\n",
       "    num_rows: 3036\n",
       "})"
      ]
     },
     "execution_count": 41,
     "metadata": {},
     "output_type": "execute_result"
    }
   ],
   "source": [
    "val_ds = Dataset.from_pandas(val_df)\n",
    "val_ds"
   ]
  },
  {
   "cell_type": "markdown",
   "id": "67a31b00",
   "metadata": {
    "papermill": {
     "duration": 0.033035,
     "end_time": "2024-02-26T14:38:15.508140",
     "exception": false,
     "start_time": "2024-02-26T14:38:15.475105",
     "status": "completed"
    },
    "tags": []
   },
   "source": [
    "We'll define a function to tokenize a batch of sequence pairs (where each sequence pair comprises a premise and a hypothesis)."
   ]
  },
  {
   "cell_type": "code",
   "execution_count": 42,
   "id": "7d7b4a22",
   "metadata": {
    "execution": {
     "iopub.execute_input": "2024-02-26T14:38:15.573559Z",
     "iopub.status.busy": "2024-02-26T14:38:15.573027Z",
     "iopub.status.idle": "2024-02-26T14:38:15.577359Z",
     "shell.execute_reply": "2024-02-26T14:38:15.576475Z"
    },
    "papermill": {
     "duration": 0.039117,
     "end_time": "2024-02-26T14:38:15.579432",
     "exception": false,
     "start_time": "2024-02-26T14:38:15.540315",
     "status": "completed"
    },
    "tags": []
   },
   "outputs": [],
   "source": [
    "def tokenize(batch):\n",
    "    return tokenizer(batch['premise'], batch['hypothesis'])"
   ]
  },
  {
   "cell_type": "markdown",
   "id": "742d37c2",
   "metadata": {
    "papermill": {
     "duration": 0.08937,
     "end_time": "2024-02-26T14:38:15.700531",
     "exception": false,
     "start_time": "2024-02-26T14:38:15.611161",
     "status": "completed"
    },
    "tags": []
   },
   "source": [
    "Mapping this function to our entire validation set, we get:"
   ]
  },
  {
   "cell_type": "code",
   "execution_count": 43,
   "id": "298ac3f1",
   "metadata": {
    "execution": {
     "iopub.execute_input": "2024-02-26T14:38:15.767660Z",
     "iopub.status.busy": "2024-02-26T14:38:15.766744Z",
     "iopub.status.idle": "2024-02-26T14:38:16.404996Z",
     "shell.execute_reply": "2024-02-26T14:38:16.404139Z"
    },
    "papermill": {
     "duration": 0.674758,
     "end_time": "2024-02-26T14:38:16.407243",
     "exception": false,
     "start_time": "2024-02-26T14:38:15.732485",
     "status": "completed"
    },
    "tags": []
   },
   "outputs": [
    {
     "data": {
      "application/vnd.jupyter.widget-view+json": {
       "model_id": "33ce7b9ee6f0461a8bb923022b57b099",
       "version_major": 2,
       "version_minor": 0
      },
      "text/plain": [
       "  0%|          | 0/4 [00:00<?, ?ba/s]"
      ]
     },
     "metadata": {},
     "output_type": "display_data"
    },
    {
     "data": {
      "text/plain": [
       "Dataset({\n",
       "    features: ['input_ids', 'attention_mask'],\n",
       "    num_rows: 3036\n",
       "})"
      ]
     },
     "execution_count": 43,
     "metadata": {},
     "output_type": "execute_result"
    }
   ],
   "source": [
    "val_ds = val_ds.map(tokenize, batched=True, remove_columns=list(val_df.columns))\n",
    "val_ds"
   ]
  },
  {
   "cell_type": "markdown",
   "id": "a65dd809",
   "metadata": {
    "papermill": {
     "duration": 0.033103,
     "end_time": "2024-02-26T14:38:16.473160",
     "exception": false,
     "start_time": "2024-02-26T14:38:16.440057",
     "status": "completed"
    },
    "tags": []
   },
   "source": [
    "Finally, we'll obtain our validation set predictions."
   ]
  },
  {
   "cell_type": "code",
   "execution_count": 44,
   "id": "793ce384",
   "metadata": {
    "execution": {
     "iopub.execute_input": "2024-02-26T14:38:16.540981Z",
     "iopub.status.busy": "2024-02-26T14:38:16.540727Z",
     "iopub.status.idle": "2024-02-26T14:38:25.469019Z",
     "shell.execute_reply": "2024-02-26T14:38:25.467946Z"
    },
    "papermill": {
     "duration": 8.964603,
     "end_time": "2024-02-26T14:38:25.471224",
     "exception": false,
     "start_time": "2024-02-26T14:38:16.506621",
     "status": "completed"
    },
    "tags": []
   },
   "outputs": [
    {
     "data": {
      "text/html": [],
      "text/plain": [
       "<IPython.core.display.HTML object>"
      ]
     },
     "metadata": {},
     "output_type": "display_data"
    },
    {
     "data": {
      "text/plain": [
       "(3036,)"
      ]
     },
     "execution_count": 44,
     "metadata": {},
     "output_type": "execute_result"
    }
   ],
   "source": [
    "preds_val = trainer.predict(val_ds).predictions.argmax(axis=-1)\n",
    "preds_val.shape"
   ]
  },
  {
   "cell_type": "markdown",
   "id": "11fc4bc0",
   "metadata": {
    "papermill": {
     "duration": 0.036147,
     "end_time": "2024-02-26T14:38:25.540482",
     "exception": false,
     "start_time": "2024-02-26T14:38:25.504335",
     "status": "completed"
    },
    "tags": []
   },
   "source": [
    "Accuracy score:"
   ]
  },
  {
   "cell_type": "code",
   "execution_count": 45,
   "id": "fd60b2ec",
   "metadata": {
    "execution": {
     "iopub.execute_input": "2024-02-26T14:38:25.606817Z",
     "iopub.status.busy": "2024-02-26T14:38:25.606560Z",
     "iopub.status.idle": "2024-02-26T14:38:25.613926Z",
     "shell.execute_reply": "2024-02-26T14:38:25.613079Z"
    },
    "papermill": {
     "duration": 0.043279,
     "end_time": "2024-02-26T14:38:25.616261",
     "exception": false,
     "start_time": "2024-02-26T14:38:25.572982",
     "status": "completed"
    },
    "tags": []
   },
   "outputs": [
    {
     "data": {
      "text/plain": [
       "0.9015151515151515"
      ]
     },
     "execution_count": 45,
     "metadata": {},
     "output_type": "execute_result"
    }
   ],
   "source": [
    "accuracy_score(val_df['label'], preds_val)"
   ]
  },
  {
   "cell_type": "markdown",
   "id": "decb6047",
   "metadata": {
    "papermill": {
     "duration": 0.032481,
     "end_time": "2024-02-26T14:38:25.682483",
     "exception": false,
     "start_time": "2024-02-26T14:38:25.650002",
     "status": "completed"
    },
    "tags": []
   },
   "source": [
    "Among our four baselines, this model has by far the highest accuracy.\n",
    "\n",
    "Let's understand the classes the model is struggling with by plotting a confusion matrix."
   ]
  },
  {
   "cell_type": "code",
   "execution_count": 46,
   "id": "8b78d41c",
   "metadata": {
    "execution": {
     "iopub.execute_input": "2024-02-26T14:38:25.749185Z",
     "iopub.status.busy": "2024-02-26T14:38:25.748943Z",
     "iopub.status.idle": "2024-02-26T14:38:25.755772Z",
     "shell.execute_reply": "2024-02-26T14:38:25.754773Z"
    },
    "papermill": {
     "duration": 0.042688,
     "end_time": "2024-02-26T14:38:25.758029",
     "exception": false,
     "start_time": "2024-02-26T14:38:25.715341",
     "status": "completed"
    },
    "tags": []
   },
   "outputs": [],
   "source": [
    "import matplotlib.pyplot as plt\n",
    "from sklearn.metrics import confusion_matrix, ConfusionMatrixDisplay\n",
    "\n",
    "def plot_confusion_matrix(y_true, y_preds, labels):\n",
    "    cm = confusion_matrix(y_true, y_preds, normalize=\"true\")\n",
    "    fig, ax = plt.subplots(figsize=(6, 6))\n",
    "    disp = ConfusionMatrixDisplay(confusion_matrix=cm, display_labels=labels)\n",
    "    disp.plot(cmap=\"Blues\", values_format=\".2f\", ax=ax, colorbar=False)\n",
    "    plt.title(\"Normalized Confusion Matrix\")\n",
    "    plt.show()"
   ]
  },
  {
   "cell_type": "markdown",
   "id": "42544248",
   "metadata": {
    "papermill": {
     "duration": 0.033636,
     "end_time": "2024-02-26T14:38:25.824270",
     "exception": false,
     "start_time": "2024-02-26T14:38:25.790634",
     "status": "completed"
    },
    "tags": []
   },
   "source": [
    "Description of the `normalize` parameter (from the <a href=\"https://scikit-learn.org/stable/modules/generated/sklearn.metrics.confusion_matrix.html\" target=\"_blank\">docs</a>):\n",
    "\n",
    "> `normalize : {'true', 'pred', 'all'}`, default=`None`\n",
    "\n",
    "> Normalizes confusion matrix over the true (rows, i.e., `axis=1`), predicted (columns, i.e., `axis=0`) conditions or all the population. If `None`, confusion matrix will not be normalized."
   ]
  },
  {
   "cell_type": "code",
   "execution_count": 47,
   "id": "c9043f8a",
   "metadata": {
    "execution": {
     "iopub.execute_input": "2024-02-26T14:38:25.890628Z",
     "iopub.status.busy": "2024-02-26T14:38:25.890384Z",
     "iopub.status.idle": "2024-02-26T14:38:26.163999Z",
     "shell.execute_reply": "2024-02-26T14:38:26.162951Z"
    },
    "papermill": {
     "duration": 0.30993,
     "end_time": "2024-02-26T14:38:26.166573",
     "exception": false,
     "start_time": "2024-02-26T14:38:25.856643",
     "status": "completed"
    },
    "tags": []
   },
   "outputs": [
    {
     "data": {
      "image/png": "[encoded data removed]",
      "text/plain": [
       "<Figure size 600x600 with 1 Axes>"
      ]
     },
     "metadata": {},
     "output_type": "display_data"
    }
   ],
   "source": [
    "labels = ['entailment', 'neutral', 'contradiction']\n",
    "plot_confusion_matrix(val_df['label'], preds_val, labels)"
   ]
  },
  {
   "cell_type": "markdown",
   "id": "176f3abf",
   "metadata": {
    "papermill": {
     "duration": 0.03316,
     "end_time": "2024-02-26T14:38:26.233367",
     "exception": false,
     "start_time": "2024-02-26T14:38:26.200207",
     "status": "completed"
    },
    "tags": []
   },
   "source": [
    "We see that the model most often confuses `'entailment'` with `'neutral'`."
   ]
  },
  {
   "cell_type": "markdown",
   "id": "117e2276",
   "metadata": {
    "papermill": {
     "duration": 0.03346,
     "end_time": "2024-02-26T14:38:26.299984",
     "exception": false,
     "start_time": "2024-02-26T14:38:26.266524",
     "status": "completed"
    },
    "tags": []
   },
   "source": [
    "# Test Set Predictions"
   ]
  },
  {
   "cell_type": "markdown",
   "id": "25cd00f0",
   "metadata": {
    "papermill": {
     "duration": 0.038206,
     "end_time": "2024-02-26T14:38:26.376215",
     "exception": false,
     "start_time": "2024-02-26T14:38:26.338009",
     "status": "completed"
    },
    "tags": []
   },
   "source": [
    "Baseline 4 performed the best. Let's use it to obtain our test set predictions.\n",
    "\n",
    "We can do this by simply repeating the steps we used for the validation set."
   ]
  },
  {
   "cell_type": "code",
   "execution_count": 48,
   "id": "778c1753",
   "metadata": {
    "execution": {
     "iopub.execute_input": "2024-02-26T14:38:26.456630Z",
     "iopub.status.busy": "2024-02-26T14:38:26.455759Z",
     "iopub.status.idle": "2024-02-26T14:38:42.204272Z",
     "shell.execute_reply": "2024-02-26T14:38:42.203304Z"
    },
    "papermill": {
     "duration": 15.791567,
     "end_time": "2024-02-26T14:38:42.206487",
     "exception": false,
     "start_time": "2024-02-26T14:38:26.414920",
     "status": "completed"
    },
    "tags": []
   },
   "outputs": [
    {
     "data": {
      "application/vnd.jupyter.widget-view+json": {
       "model_id": "acf5850a1e1c4e80b965b1a381fb2e11",
       "version_major": 2,
       "version_minor": 0
      },
      "text/plain": [
       "  0%|          | 0/6 [00:00<?, ?ba/s]"
      ]
     },
     "metadata": {},
     "output_type": "display_data"
    },
    {
     "data": {
      "text/html": [],
      "text/plain": [
       "<IPython.core.display.HTML object>"
      ]
     },
     "metadata": {},
     "output_type": "display_data"
    },
    {
     "data": {
      "text/plain": [
       "(5195,)"
      ]
     },
     "execution_count": 48,
     "metadata": {},
     "output_type": "execute_result"
    }
   ],
   "source": [
    "test_ds = Dataset.from_pandas(test_df)\n",
    "test_ds = test_ds.map(tokenize, batched=True, remove_columns=list(test_df.columns))\n",
    "preds_test = trainer.predict(test_ds).predictions.argmax(axis=-1)\n",
    "preds_test.shape"
   ]
  },
  {
   "cell_type": "markdown",
   "id": "fc049cd3",
   "metadata": {
    "papermill": {
     "duration": 0.033714,
     "end_time": "2024-02-26T14:38:42.274934",
     "exception": false,
     "start_time": "2024-02-26T14:38:42.241220",
     "status": "completed"
    },
    "tags": []
   },
   "source": [
    "Let's create our submission data frame."
   ]
  },
  {
   "cell_type": "code",
   "execution_count": 49,
   "id": "6421060b",
   "metadata": {
    "execution": {
     "iopub.execute_input": "2024-02-26T14:38:42.343707Z",
     "iopub.status.busy": "2024-02-26T14:38:42.343023Z",
     "iopub.status.idle": "2024-02-26T14:38:42.356677Z",
     "shell.execute_reply": "2024-02-26T14:38:42.355763Z"
    },
    "papermill": {
     "duration": 0.050371,
     "end_time": "2024-02-26T14:38:42.358937",
     "exception": false,
     "start_time": "2024-02-26T14:38:42.308566",
     "status": "completed"
    },
    "tags": []
   },
   "outputs": [
    {
     "data": {
      "text/html": [
       "<div>\n",
       "<style scoped>\n",
       "    .dataframe tbody tr th:only-of-type {\n",
       "        vertical-align: middle;\n",
       "    }\n",
       "\n",
       "    .dataframe tbody tr th {\n",
       "        vertical-align: top;\n",
       "    }\n",
       "\n",
       "    .dataframe thead th {\n",
       "        text-align: right;\n",
       "    }\n",
       "</style>\n",
       "<table border=\"1\" class=\"dataframe\">\n",
       "  <thead>\n",
       "    <tr style=\"text-align: right;\">\n",
       "      <th></th>\n",
       "      <th>id</th>\n",
       "      <th>prediction</th>\n",
       "    </tr>\n",
       "  </thead>\n",
       "  <tbody>\n",
       "    <tr>\n",
       "      <th>0</th>\n",
       "      <td>c6d58c3f69</td>\n",
       "      <td>2</td>\n",
       "    </tr>\n",
       "    <tr>\n",
       "      <th>1</th>\n",
       "      <td>cefcc82292</td>\n",
       "      <td>1</td>\n",
       "    </tr>\n",
       "    <tr>\n",
       "      <th>2</th>\n",
       "      <td>e98005252c</td>\n",
       "      <td>0</td>\n",
       "    </tr>\n",
       "    <tr>\n",
       "      <th>3</th>\n",
       "      <td>58518c10ba</td>\n",
       "      <td>1</td>\n",
       "    </tr>\n",
       "    <tr>\n",
       "      <th>4</th>\n",
       "      <td>c32b0d16df</td>\n",
       "      <td>1</td>\n",
       "    </tr>\n",
       "    <tr>\n",
       "      <th>...</th>\n",
       "      <td>...</td>\n",
       "      <td>...</td>\n",
       "    </tr>\n",
       "    <tr>\n",
       "      <th>5190</th>\n",
       "      <td>5f90dd59b0</td>\n",
       "      <td>1</td>\n",
       "    </tr>\n",
       "    <tr>\n",
       "      <th>5191</th>\n",
       "      <td>f357a04e86</td>\n",
       "      <td>1</td>\n",
       "    </tr>\n",
       "    <tr>\n",
       "      <th>5192</th>\n",
       "      <td>1f0ea92118</td>\n",
       "      <td>0</td>\n",
       "    </tr>\n",
       "    <tr>\n",
       "      <th>5193</th>\n",
       "      <td>0407b48afb</td>\n",
       "      <td>0</td>\n",
       "    </tr>\n",
       "    <tr>\n",
       "      <th>5194</th>\n",
       "      <td>16c2f2ab89</td>\n",
       "      <td>2</td>\n",
       "    </tr>\n",
       "  </tbody>\n",
       "</table>\n",
       "<p>5195 rows × 2 columns</p>\n",
       "</div>"
      ],
      "text/plain": [
       "              id  prediction\n",
       "0     c6d58c3f69  2         \n",
       "1     cefcc82292  1         \n",
       "2     e98005252c  0         \n",
       "3     58518c10ba  1         \n",
       "4     c32b0d16df  1         \n",
       "...          ... ..         \n",
       "5190  5f90dd59b0  1         \n",
       "5191  f357a04e86  1         \n",
       "5192  1f0ea92118  0         \n",
       "5193  0407b48afb  0         \n",
       "5194  16c2f2ab89  2         \n",
       "\n",
       "[5195 rows x 2 columns]"
      ]
     },
     "execution_count": 49,
     "metadata": {},
     "output_type": "execute_result"
    }
   ],
   "source": [
    "submission = pd.DataFrame({'id': test_df['id'], 'prediction': preds_test})\n",
    "submission"
   ]
  },
  {
   "cell_type": "markdown",
   "id": "9c3daa60",
   "metadata": {
    "papermill": {
     "duration": 0.033562,
     "end_time": "2024-02-26T14:38:42.426599",
     "exception": false,
     "start_time": "2024-02-26T14:38:42.393037",
     "status": "completed"
    },
    "tags": []
   },
   "source": [
    "Finally, let's save it to disk."
   ]
  },
  {
   "cell_type": "code",
   "execution_count": 50,
   "id": "ae39dc06",
   "metadata": {
    "execution": {
     "iopub.execute_input": "2024-02-26T14:38:42.495470Z",
     "iopub.status.busy": "2024-02-26T14:38:42.494681Z",
     "iopub.status.idle": "2024-02-26T14:38:42.511093Z",
     "shell.execute_reply": "2024-02-26T14:38:42.510080Z"
    },
    "papermill": {
     "duration": 0.053295,
     "end_time": "2024-02-26T14:38:42.513500",
     "exception": false,
     "start_time": "2024-02-26T14:38:42.460205",
     "status": "completed"
    },
    "tags": []
   },
   "outputs": [],
   "source": [
    "submission.to_csv('submission.csv', index=False)"
   ]
  },
  {
   "cell_type": "code",
   "execution_count": null,
   "id": "b9fcb1b8",
   "metadata": {
    "papermill": {
     "duration": 0.033501,
     "end_time": "2024-02-26T14:38:42.580699",
     "exception": false,
     "start_time": "2024-02-26T14:38:42.547198",
     "status": "completed"
    },
    "tags": []
   },
   "outputs": [],
   "source": []
  }
 ],
 "metadata": {
  "kaggle": {
   "accelerator": "gpu",
   "dataSources": [
    {
     "databundleVersionId": 1408234,
     "sourceId": 21733,
     "sourceType": "competition"
    },
    {
     "sourceId": 121530201,
     "sourceType": "kernelVersion"
    }
   ],
   "dockerImageVersionId": 30408,
   "isGpuEnabled": true,
   "isInternetEnabled": true,
   "language": "python",
   "sourceType": "notebook"
  },
  "kernelspec": {
   "display_name": "Python 3",
   "language": "python",
   "name": "python3"
  },
  "language_info": {
   "codemirror_mode": {
    "name": "ipython",
    "version": 3
   },
   "file_extension": ".py",
   "mimetype": "text/x-python",
   "name": "python",
   "nbconvert_exporter": "python",
   "pygments_lexer": "ipython3",
   "version": "3.7.12"
  },
  "papermill": {
   "default_parameters": {},
   "duration": 260.209186,
   "end_time": "2024-02-26T14:38:45.724199",
   "environment_variables": {},
   "exception": null,
   "input_path": "__notebook__.ipynb",
   "output_path": "__notebook__.ipynb",
   "parameters": {},
   "start_time": "2024-02-26T14:34:25.515013",
   "version": "2.4.0"
  },
  "widgets": {
   "application/vnd.jupyter.widget-state+json": {
    "state": {
     "00bd26b786c54762a09cfa5110dc1e74": {
      "model_module": "@jupyter-widgets/controls",
      "model_module_version": "1.5.0",
      "model_name": "HBoxModel",
      "state": {
       "_dom_classes": [],
       "_model_module": "@jupyter-widgets/controls",
       "_model_module_version": "1.5.0",
       "_model_name": "HBoxModel",
       "_view_count": null,
       "_view_module": "@jupyter-widgets/controls",
       "_view_module_version": "1.5.0",
       "_view_name": "HBoxView",
       "box_style": "",
       "children": [
        "IPY_MODEL_f7af07185bc741f28a500c6ddec52519",
        "IPY_MODEL_2c0fd6193d5546c1b452691d4d47afb5",
        "IPY_MODEL_23f0289708824e9e9dec6f91b903c468"
       ],
       "layout": "IPY_MODEL_9142fe4fe7ef443b943462a90b9bc637"
      }
     },
     "019871ff8a794fdf8b856730c3a0eb6f": {
      "model_module": "@jupyter-widgets/base",
      "model_module_version": "1.2.0",
      "model_name": "LayoutModel",
      "state": {
       "_model_module": "@jupyter-widgets/base",
       "_model_module_version": "1.2.0",
       "_model_name": "LayoutModel",
       "_view_count": null,
       "_view_module": "@jupyter-widgets/base",
       "_view_module_version": "1.2.0",
       "_view_name": "LayoutView",
       "align_content": null,
       "align_items": null,
       "align_self": null,
       "border": null,
       "bottom": null,
       "display": null,
       "flex": null,
       "flex_flow": null,
       "grid_area": null,
       "grid_auto_columns": null,
       "grid_auto_flow": null,
       "grid_auto_rows": null,
       "grid_column": null,
       "grid_gap": null,
       "grid_row": null,
       "grid_template_areas": null,
       "grid_template_columns": null,
       "grid_template_rows": null,
       "height": null,
       "justify_content": null,
       "justify_items": null,
       "left": null,
       "margin": null,
       "max_height": null,
       "max_width": null,
       "min_height": null,
       "min_width": null,
       "object_fit": null,
       "object_position": null,
       "order": null,
       "overflow": null,
       "overflow_x": null,
       "overflow_y": null,
       "padding": null,
       "right": null,
       "top": null,
       "visibility": null,
       "width": null
      }
     },
     "03c79a1207864bfab918f083d37b3bf4": {
      "model_module": "@jupyter-widgets/controls",
      "model_module_version": "1.5.0",
      "model_name": "DescriptionStyleModel",
      "state": {
       "_model_module": "@jupyter-widgets/controls",
       "_model_module_version": "1.5.0",
       "_model_name": "DescriptionStyleModel",
       "_view_count": null,
       "_view_module": "@jupyter-widgets/base",
       "_view_module_version": "1.2.0",
       "_view_name": "StyleView",
       "description_width": ""
      }
     },
     "03d0fbad9d0c472393383c34f5ddc5b5": {
      "model_module": "@jupyter-widgets/controls",
      "model_module_version": "1.5.0",
      "model_name": "FloatProgressModel",
      "state": {
       "_dom_classes": [],
       "_model_module": "@jupyter-widgets/controls",
       "_model_module_version": "1.5.0",
       "_model_name": "FloatProgressModel",
       "_view_count": null,
       "_view_module": "@jupyter-widgets/controls",
       "_view_module_version": "1.5.0",
       "_view_name": "ProgressView",
       "bar_style": "success",
       "description": "",
       "description_tooltip": null,
       "layout": "IPY_MODEL_0c98a1f8476c49f4b4c5ee44a1359414",
       "max": 9096718.0,
       "min": 0.0,
       "orientation": "horizontal",
       "style": "IPY_MODEL_af211a44f8cc4c5e9d096ccb35b73791",
       "value": 9096718.0
      }
     },
     "041ef96b280f460984a289f2e24ad702": {
      "model_module": "@jupyter-widgets/controls",
      "model_module_version": "1.5.0",
      "model_name": "HTMLModel",
      "state": {
       "_dom_classes": [],
       "_model_module": "@jupyter-widgets/controls",
       "_model_module_version": "1.5.0",
       "_model_name": "HTMLModel",
       "_view_count": null,
       "_view_module": "@jupyter-widgets/controls",
       "_view_module_version": "1.5.0",
       "_view_name": "HTMLView",
       "description": "",
       "description_tooltip": null,
       "layout": "IPY_MODEL_4a934b3bbe7f499e9afac6c47a2c0c8f",
       "placeholder": "​",
       "style": "IPY_MODEL_d7cb67fff62846f795c76c0cc7c8b9a7",
       "value": "Downloading (…)ncepiece.bpe.model&quot;;: 100%"
      }
     },
     "0474cddd877a4ae9b151839c22a5e2d6": {
      "model_module": "@jupyter-widgets/controls",
      "model_module_version": "1.5.0",
      "model_name": "DescriptionStyleModel",
      "state": {
       "_model_module": "@jupyter-widgets/controls",
       "_model_module_version": "1.5.0",
       "_model_name": "DescriptionStyleModel",
       "_view_count": null,
       "_view_module": "@jupyter-widgets/base",
       "_view_module_version": "1.2.0",
       "_view_name": "StyleView",
       "description_width": ""
      }
     },
     "04c6220ba98b47149bbc48aca1c4310f": {
      "model_module": "@jupyter-widgets/controls",
      "model_module_version": "1.5.0",
      "model_name": "HBoxModel",
      "state": {
       "_dom_classes": [],
       "_model_module": "@jupyter-widgets/controls",
       "_model_module_version": "1.5.0",
       "_model_name": "HBoxModel",
       "_view_count": null,
       "_view_module": "@jupyter-widgets/controls",
       "_view_module_version": "1.5.0",
       "_view_name": "HBoxView",
       "box_style": "",
       "children": [
        "IPY_MODEL_8e4a007bfa044a259d0ae63be3eb970a",
        "IPY_MODEL_4db961ebbf834ee3b852aad42378df3b",
        "IPY_MODEL_60316a6a67174620baf748f4b2580a19"
       ],
       "layout": "IPY_MODEL_eaed73ec00bc40778a6cde0e3e64ed7c"
      }
     },
     "079e488136f147adaed4e3463496a044": {
      "model_module": "@jupyter-widgets/controls",
      "model_module_version": "1.5.0",
      "model_name": "ProgressStyleModel",
      "state": {
       "_model_module": "@jupyter-widgets/controls",
       "_model_module_version": "1.5.0",
       "_model_name": "ProgressStyleModel",
       "_view_count": null,
       "_view_module": "@jupyter-widgets/base",
       "_view_module_version": "1.2.0",
       "_view_name": "StyleView",
       "bar_color": null,
       "description_width": ""
      }
     },
     "08ceca06e4a347bca344b9f0383b9c4a": {
      "model_module": "@jupyter-widgets/base",
      "model_module_version": "1.2.0",
      "model_name": "LayoutModel",
      "state": {
       "_model_module": "@jupyter-widgets/base",
       "_model_module_version": "1.2.0",
       "_model_name": "LayoutModel",
       "_view_count": null,
       "_view_module": "@jupyter-widgets/base",
       "_view_module_version": "1.2.0",
       "_view_name": "LayoutView",
       "align_content": null,
       "align_items": null,
       "align_self": null,
       "border": null,
       "bottom": null,
       "display": null,
       "flex": null,
       "flex_flow": null,
       "grid_area": null,
       "grid_auto_columns": null,
       "grid_auto_flow": null,
       "grid_auto_rows": null,
       "grid_column": null,
       "grid_gap": null,
       "grid_row": null,
       "grid_template_areas": null,
       "grid_template_columns": null,
       "grid_template_rows": null,
       "height": null,
       "justify_content": null,
       "justify_items": null,
       "left": null,
       "margin": null,
       "max_height": null,
       "max_width": null,
       "min_height": null,
       "min_width": null,
       "object_fit": null,
       "object_position": null,
       "order": null,
       "overflow": null,
       "overflow_x": null,
       "overflow_y": null,
       "padding": null,
       "right": null,
       "top": null,
       "visibility": null,
       "width": null
      }
     },
     "0b63371deb9c45cc93f5f640309a38a3": {
      "model_module": "@jupyter-widgets/base",
      "model_module_version": "1.2.0",
      "model_name": "LayoutModel",
      "state": {
       "_model_module": "@jupyter-widgets/base",
       "_model_module_version": "1.2.0",
       "_model_name": "LayoutModel",
       "_view_count": null,
       "_view_module": "@jupyter-widgets/base",
       "_view_module_version": "1.2.0",
       "_view_name": "LayoutView",
       "align_content": null,
       "align_items": null,
       "align_self": null,
       "border": null,
       "bottom": null,
       "display": null,
       "flex": null,
       "flex_flow": null,
       "grid_area": null,
       "grid_auto_columns": null,
       "grid_auto_flow": null,
       "grid_auto_rows": null,
       "grid_column": null,
       "grid_gap": null,
       "grid_row": null,
       "grid_template_areas": null,
       "grid_template_columns": null,
       "grid_template_rows": null,
       "height": null,
       "justify_content": null,
       "justify_items": null,
       "left": null,
       "margin": null,
       "max_height": null,
       "max_width": null,
       "min_height": null,
       "min_width": null,
       "object_fit": null,
       "object_position": null,
       "order": null,
       "overflow": null,
       "overflow_x": null,
       "overflow_y": null,
       "padding": null,
       "right": null,
       "top": null,
       "visibility": null,
       "width": null
      }
     },
     "0bde16b7ffa7486fb01d5169417945da": {
      "model_module": "@jupyter-widgets/controls",
      "model_module_version": "1.5.0",
      "model_name": "DescriptionStyleModel",
      "state": {
       "_model_module": "@jupyter-widgets/controls",
       "_model_module_version": "1.5.0",
       "_model_name": "DescriptionStyleModel",
       "_view_count": null,
       "_view_module": "@jupyter-widgets/base",
       "_view_module_version": "1.2.0",
       "_view_name": "StyleView",
       "description_width": ""
      }
     },
     "0c111fb4719a4c3c8653b7856d8e4f00": {
      "model_module": "@jupyter-widgets/controls",
      "model_module_version": "1.5.0",
      "model_name": "HTMLModel",
      "state": {
       "_dom_classes": [],
       "_model_module": "@jupyter-widgets/controls",
       "_model_module_version": "1.5.0",
       "_model_name": "HTMLModel",
       "_view_count": null,
       "_view_module": "@jupyter-widgets/controls",
       "_view_module_version": "1.5.0",
       "_view_name": "HTMLView",
       "description": "",
       "description_tooltip": null,
       "layout": "IPY_MODEL_4775154d22744e9097787a16e7eb9557",
       "placeholder": "​",
       "style": "IPY_MODEL_42719cf6d7ee4ddcae63899be0634934",
       "value": "Downloading (…)&quot;tokenizer.json&quot;;: 100%"
      }
     },
     "0c98a1f8476c49f4b4c5ee44a1359414": {
      "model_module": "@jupyter-widgets/base",
      "model_module_version": "1.2.0",
      "model_name": "LayoutModel",
      "state": {
       "_model_module": "@jupyter-widgets/base",
       "_model_module_version": "1.2.0",
       "_model_name": "LayoutModel",
       "_view_count": null,
       "_view_module": "@jupyter-widgets/base",
       "_view_module_version": "1.2.0",
       "_view_name": "LayoutView",
       "align_content": null,
       "align_items": null,
       "align_self": null,
       "border": null,
       "bottom": null,
       "display": null,
       "flex": null,
       "flex_flow": null,
       "grid_area": null,
       "grid_auto_columns": null,
       "grid_auto_flow": null,
       "grid_auto_rows": null,
       "grid_column": null,
       "grid_gap": null,
       "grid_row": null,
       "grid_template_areas": null,
       "grid_template_columns": null,
       "grid_template_rows": null,
       "height": null,
       "justify_content": null,
       "justify_items": null,
       "left": null,
       "margin": null,
       "max_height": null,
       "max_width": null,
       "min_height": null,
       "min_width": null,
       "object_fit": null,
       "object_position": null,
       "order": null,
       "overflow": null,
       "overflow_x": null,
       "overflow_y": null,
       "padding": null,
       "right": null,
       "top": null,
       "visibility": null,
       "width": null
      }
     },
     "0f9c30e6a85d4628911ebcf8bdb1774a": {
      "model_module": "@jupyter-widgets/base",
      "model_module_version": "1.2.0",
      "model_name": "LayoutModel",
      "state": {
       "_model_module": "@jupyter-widgets/base",
       "_model_module_version": "1.2.0",
       "_model_name": "LayoutModel",
       "_view_count": null,
       "_view_module": "@jupyter-widgets/base",
       "_view_module_version": "1.2.0",
       "_view_name": "LayoutView",
       "align_content": null,
       "align_items": null,
       "align_self": null,
       "border": null,
       "bottom": null,
       "display": null,
       "flex": null,
       "flex_flow": null,
       "grid_area": null,
       "grid_auto_columns": null,
       "grid_auto_flow": null,
       "grid_auto_rows": null,
       "grid_column": null,
       "grid_gap": null,
       "grid_row": null,
       "grid_template_areas": null,
       "grid_template_columns": null,
       "grid_template_rows": null,
       "height": null,
       "justify_content": null,
       "justify_items": null,
       "left": null,
       "margin": null,
       "max_height": null,
       "max_width": null,
       "min_height": null,
       "min_width": null,
       "object_fit": null,
       "object_position": null,
       "order": null,
       "overflow": null,
       "overflow_x": null,
       "overflow_y": null,
       "padding": null,
       "right": null,
       "top": null,
       "visibility": null,
       "width": null
      }
     },
     "0fcaa59258ad4f838db65e0f19baee43": {
      "model_module": "@jupyter-widgets/base",
      "model_module_version": "1.2.0",
      "model_name": "LayoutModel",
      "state": {
       "_model_module": "@jupyter-widgets/base",
       "_model_module_version": "1.2.0",
       "_model_name": "LayoutModel",
       "_view_count": null,
       "_view_module": "@jupyter-widgets/base",
       "_view_module_version": "1.2.0",
       "_view_name": "LayoutView",
       "align_content": null,
       "align_items": null,
       "align_self": null,
       "border": null,
       "bottom": null,
       "display": null,
       "flex": null,
       "flex_flow": null,
       "grid_area": null,
       "grid_auto_columns": null,
       "grid_auto_flow": null,
       "grid_auto_rows": null,
       "grid_column": null,
       "grid_gap": null,
       "grid_row": null,
       "grid_template_areas": null,
       "grid_template_columns": null,
       "grid_template_rows": null,
       "height": null,
       "justify_content": null,
       "justify_items": null,
       "left": null,
       "margin": null,
       "max_height": null,
       "max_width": null,
       "min_height": null,
       "min_width": null,
       "object_fit": null,
       "object_position": null,
       "order": null,
       "overflow": null,
       "overflow_x": null,
       "overflow_y": null,
       "padding": null,
       "right": null,
       "top": null,
       "visibility": null,
       "width": null
      }
     },
     "10b493eba7654294bfff8dc2a316fa28": {
      "model_module": "@jupyter-widgets/base",
      "model_module_version": "1.2.0",
      "model_name": "LayoutModel",
      "state": {
       "_model_module": "@jupyter-widgets/base",
       "_model_module_version": "1.2.0",
       "_model_name": "LayoutModel",
       "_view_count": null,
       "_view_module": "@jupyter-widgets/base",
       "_view_module_version": "1.2.0",
       "_view_name": "LayoutView",
       "align_content": null,
       "align_items": null,
       "align_self": null,
       "border": null,
       "bottom": null,
       "display": null,
       "flex": null,
       "flex_flow": null,
       "grid_area": null,
       "grid_auto_columns": null,
       "grid_auto_flow": null,
       "grid_auto_rows": null,
       "grid_column": null,
       "grid_gap": null,
       "grid_row": null,
       "grid_template_areas": null,
       "grid_template_columns": null,
       "grid_template_rows": null,
       "height": null,
       "justify_content": null,
       "justify_items": null,
       "left": null,
       "margin": null,
       "max_height": null,
       "max_width": null,
       "min_height": null,
       "min_width": null,
       "object_fit": null,
       "object_position": null,
       "order": null,
       "overflow": null,
       "overflow_x": null,
       "overflow_y": null,
       "padding": null,
       "right": null,
       "top": null,
       "visibility": null,
       "width": null
      }
     },
     "10ebcdfb496a4d2e8544ed9317260d97": {
      "model_module": "@jupyter-widgets/base",
      "model_module_version": "1.2.0",
      "model_name": "LayoutModel",
      "state": {
       "_model_module": "@jupyter-widgets/base",
       "_model_module_version": "1.2.0",
       "_model_name": "LayoutModel",
       "_view_count": null,
       "_view_module": "@jupyter-widgets/base",
       "_view_module_version": "1.2.0",
       "_view_name": "LayoutView",
       "align_content": null,
       "align_items": null,
       "align_self": null,
       "border": null,
       "bottom": null,
       "display": null,
       "flex": null,
       "flex_flow": null,
       "grid_area": null,
       "grid_auto_columns": null,
       "grid_auto_flow": null,
       "grid_auto_rows": null,
       "grid_column": null,
       "grid_gap": null,
       "grid_row": null,
       "grid_template_areas": null,
       "grid_template_columns": null,
       "grid_template_rows": null,
       "height": null,
       "justify_content": null,
       "justify_items": null,
       "left": null,
       "margin": null,
       "max_height": null,
       "max_width": null,
       "min_height": null,
       "min_width": null,
       "object_fit": null,
       "object_position": null,
       "order": null,
       "overflow": null,
       "overflow_x": null,
       "overflow_y": null,
       "padding": null,
       "right": null,
       "top": null,
       "visibility": null,
       "width": null
      }
     },
     "15d4b1ca0ae74210b144d29a6c215c80": {
      "model_module": "@jupyter-widgets/controls",
      "model_module_version": "1.5.0",
      "model_name": "HTMLModel",
      "state": {
       "_dom_classes": [],
       "_model_module": "@jupyter-widgets/controls",
       "_model_module_version": "1.5.0",
       "_model_name": "HTMLModel",
       "_view_count": null,
       "_view_module": "@jupyter-widgets/controls",
       "_view_module_version": "1.5.0",
       "_view_name": "HTMLView",
       "description": "",
       "description_tooltip": null,
       "layout": "IPY_MODEL_7a57ddb5a2a14f7a8b971a861dbaf8e0",
       "placeholder": "​",
       "style": "IPY_MODEL_d81bc497869440368b048edf2f2cf745",
       "value": " 9.10M/9.10M [00:01&lt;00:00, 9.15MB/s]"
      }
     },
     "16a78aae578f4c92933a483054e3defe": {
      "model_module": "@jupyter-widgets/controls",
      "model_module_version": "1.5.0",
      "model_name": "DescriptionStyleModel",
      "state": {
       "_model_module": "@jupyter-widgets/controls",
       "_model_module_version": "1.5.0",
       "_model_name": "DescriptionStyleModel",
       "_view_count": null,
       "_view_module": "@jupyter-widgets/base",
       "_view_module_version": "1.2.0",
       "_view_name": "StyleView",
       "description_width": ""
      }
     },
     "16f08683b894404fb86b2bf6ad84bb5b": {
      "model_module": "@jupyter-widgets/controls",
      "model_module_version": "1.5.0",
      "model_name": "HBoxModel",
      "state": {
       "_dom_classes": [],
       "_model_module": "@jupyter-widgets/controls",
       "_model_module_version": "1.5.0",
       "_model_name": "HBoxModel",
       "_view_count": null,
       "_view_module": "@jupyter-widgets/controls",
       "_view_module_version": "1.5.0",
       "_view_name": "HBoxView",
       "box_style": "",
       "children": [
        "IPY_MODEL_9d665cea4ce944288890d7cb474f58d1",
        "IPY_MODEL_7ed81d6f46b04e55a42c4d2e5c2417c1",
        "IPY_MODEL_b742816cfe4743acab462916aac67852"
       ],
       "layout": "IPY_MODEL_b51806e2da614e25a8ef222db2e259dd"
      }
     },
     "1717e78b4f3246438e7e9c40ad74adf2": {
      "model_module": "@jupyter-widgets/controls",
      "model_module_version": "1.5.0",
      "model_name": "HTMLModel",
      "state": {
       "_dom_classes": [],
       "_model_module": "@jupyter-widgets/controls",
       "_model_module_version": "1.5.0",
       "_model_name": "HTMLModel",
       "_view_count": null,
       "_view_module": "@jupyter-widgets/controls",
       "_view_module_version": "1.5.0",
       "_view_name": "HTMLView",
       "description": "",
       "description_tooltip": null,
       "layout": "IPY_MODEL_82391c1f119841088aa51f6ae3c4bcf8",
       "placeholder": "​",
       "style": "IPY_MODEL_88d949f358944ee09d1eff0beff3804d",
       "value": "Downloading (…)&quot;tokenizer.json&quot;;: 100%"
      }
     },
     "1dbbd3a6e5f7492b9bc36330a1731e8a": {
      "model_module": "@jupyter-widgets/controls",
      "model_module_version": "1.5.0",
      "model_name": "DescriptionStyleModel",
      "state": {
       "_model_module": "@jupyter-widgets/controls",
       "_model_module_version": "1.5.0",
       "_model_name": "DescriptionStyleModel",
       "_view_count": null,
       "_view_module": "@jupyter-widgets/base",
       "_view_module_version": "1.2.0",
       "_view_name": "StyleView",
       "description_width": ""
      }
     },
     "1e50597b5120416fa4156aab848dfa61": {
      "model_module": "@jupyter-widgets/base",
      "model_module_version": "1.2.0",
      "model_name": "LayoutModel",
      "state": {
       "_model_module": "@jupyter-widgets/base",
       "_model_module_version": "1.2.0",
       "_model_name": "LayoutModel",
       "_view_count": null,
       "_view_module": "@jupyter-widgets/base",
       "_view_module_version": "1.2.0",
       "_view_name": "LayoutView",
       "align_content": null,
       "align_items": null,
       "align_self": null,
       "border": null,
       "bottom": null,
       "display": null,
       "flex": null,
       "flex_flow": null,
       "grid_area": null,
       "grid_auto_columns": null,
       "grid_auto_flow": null,
       "grid_auto_rows": null,
       "grid_column": null,
       "grid_gap": null,
       "grid_row": null,
       "grid_template_areas": null,
       "grid_template_columns": null,
       "grid_template_rows": null,
       "height": null,
       "justify_content": null,
       "justify_items": null,
       "left": null,
       "margin": null,
       "max_height": null,
       "max_width": null,
       "min_height": null,
       "min_width": null,
       "object_fit": null,
       "object_position": null,
       "order": null,
       "overflow": null,
       "overflow_x": null,
       "overflow_y": null,
       "padding": null,
       "right": null,
       "top": null,
       "visibility": null,
       "width": null
      }
     },
     "1f8e81f0b7414a0a92c9e96dd501007f": {
      "model_module": "@jupyter-widgets/controls",
      "model_module_version": "1.5.0",
      "model_name": "DescriptionStyleModel",
      "state": {
       "_model_module": "@jupyter-widgets/controls",
       "_model_module_version": "1.5.0",
       "_model_name": "DescriptionStyleModel",
       "_view_count": null,
       "_view_module": "@jupyter-widgets/base",
       "_view_module_version": "1.2.0",
       "_view_name": "StyleView",
       "description_width": ""
      }
     },
     "223fd6e4442a4962bbdaff32fc2361d8": {
      "model_module": "@jupyter-widgets/base",
      "model_module_version": "1.2.0",
      "model_name": "LayoutModel",
      "state": {
       "_model_module": "@jupyter-widgets/base",
       "_model_module_version": "1.2.0",
       "_model_name": "LayoutModel",
       "_view_count": null,
       "_view_module": "@jupyter-widgets/base",
       "_view_module_version": "1.2.0",
       "_view_name": "LayoutView",
       "align_content": null,
       "align_items": null,
       "align_self": null,
       "border": null,
       "bottom": null,
       "display": null,
       "flex": null,
       "flex_flow": null,
       "grid_area": null,
       "grid_auto_columns": null,
       "grid_auto_flow": null,
       "grid_auto_rows": null,
       "grid_column": null,
       "grid_gap": null,
       "grid_row": null,
       "grid_template_areas": null,
       "grid_template_columns": null,
       "grid_template_rows": null,
       "height": null,
       "justify_content": null,
       "justify_items": null,
       "left": null,
       "margin": null,
       "max_height": null,
       "max_width": null,
       "min_height": null,
       "min_width": null,
       "object_fit": null,
       "object_position": null,
       "order": null,
       "overflow": null,
       "overflow_x": null,
       "overflow_y": null,
       "padding": null,
       "right": null,
       "top": null,
       "visibility": null,
       "width": null
      }
     },
     "226036c443864b1db87a416fa4551a0c": {
      "model_module": "@jupyter-widgets/controls",
      "model_module_version": "1.5.0",
      "model_name": "HTMLModel",
      "state": {
       "_dom_classes": [],
       "_model_module": "@jupyter-widgets/controls",
       "_model_module_version": "1.5.0",
       "_model_name": "HTMLModel",
       "_view_count": null,
       "_view_module": "@jupyter-widgets/controls",
       "_view_module_version": "1.5.0",
       "_view_name": "HTMLView",
       "description": "",
       "description_tooltip": null,
       "layout": "IPY_MODEL_cc335e38b08b42dd96b0cb2355a2657f",
       "placeholder": "​",
       "style": "IPY_MODEL_9d1d94f947924a059979ab2591776eb9",
       "value": " 1/1 [00:01&lt;00:00,  1.97s/ba]"
      }
     },
     "23f0289708824e9e9dec6f91b903c468": {
      "model_module": "@jupyter-widgets/controls",
      "model_module_version": "1.5.0",
      "model_name": "HTMLModel",
      "state": {
       "_dom_classes": [],
       "_model_module": "@jupyter-widgets/controls",
       "_model_module_version": "1.5.0",
       "_model_name": "HTMLModel",
       "_view_count": null,
       "_view_module": "@jupyter-widgets/controls",
       "_view_module_version": "1.5.0",
       "_view_name": "HTMLView",
       "description": "",
       "description_tooltip": null,
       "layout": "IPY_MODEL_019871ff8a794fdf8b856730c3a0eb6f",
       "placeholder": "​",
       "style": "IPY_MODEL_90c0f51556d74bd4ad5dc9a31e04ee7f",
       "value": " 25.0/25.0 [00:00&lt;00:00, 1.16kB/s]"
      }
     },
     "26a4de8bbe704de194fcc5a0498eb391": {
      "model_module": "@jupyter-widgets/base",
      "model_module_version": "1.2.0",
      "model_name": "LayoutModel",
      "state": {
       "_model_module": "@jupyter-widgets/base",
       "_model_module_version": "1.2.0",
       "_model_name": "LayoutModel",
       "_view_count": null,
       "_view_module": "@jupyter-widgets/base",
       "_view_module_version": "1.2.0",
       "_view_name": "LayoutView",
       "align_content": null,
       "align_items": null,
       "align_self": null,
       "border": null,
       "bottom": null,
       "display": null,
       "flex": null,
       "flex_flow": null,
       "grid_area": null,
       "grid_auto_columns": null,
       "grid_auto_flow": null,
       "grid_auto_rows": null,
       "grid_column": null,
       "grid_gap": null,
       "grid_row": null,
       "grid_template_areas": null,
       "grid_template_columns": null,
       "grid_template_rows": null,
       "height": null,
       "justify_content": null,
       "justify_items": null,
       "left": null,
       "margin": null,
       "max_height": null,
       "max_width": null,
       "min_height": null,
       "min_width": null,
       "object_fit": null,
       "object_position": null,
       "order": null,
       "overflow": null,
       "overflow_x": null,
       "overflow_y": null,
       "padding": null,
       "right": null,
       "top": null,
       "visibility": null,
       "width": null
      }
     },
     "2bc9cc68839a45f38a1a908f233a5dbb": {
      "model_module": "@jupyter-widgets/base",
      "model_module_version": "1.2.0",
      "model_name": "LayoutModel",
      "state": {
       "_model_module": "@jupyter-widgets/base",
       "_model_module_version": "1.2.0",
       "_model_name": "LayoutModel",
       "_view_count": null,
       "_view_module": "@jupyter-widgets/base",
       "_view_module_version": "1.2.0",
       "_view_name": "LayoutView",
       "align_content": null,
       "align_items": null,
       "align_self": null,
       "border": null,
       "bottom": null,
       "display": null,
       "flex": null,
       "flex_flow": null,
       "grid_area": null,
       "grid_auto_columns": null,
       "grid_auto_flow": null,
       "grid_auto_rows": null,
       "grid_column": null,
       "grid_gap": null,
       "grid_row": null,
       "grid_template_areas": null,
       "grid_template_columns": null,
       "grid_template_rows": null,
       "height": null,
       "justify_content": null,
       "justify_items": null,
       "left": null,
       "margin": null,
       "max_height": null,
       "max_width": null,
       "min_height": null,
       "min_width": null,
       "object_fit": null,
       "object_position": null,
       "order": null,
       "overflow": null,
       "overflow_x": null,
       "overflow_y": null,
       "padding": null,
       "right": null,
       "top": null,
       "visibility": null,
       "width": null
      }
     },
     "2c0fd6193d5546c1b452691d4d47afb5": {
      "model_module": "@jupyter-widgets/controls",
      "model_module_version": "1.5.0",
      "model_name": "FloatProgressModel",
      "state": {
       "_dom_classes": [],
       "_model_module": "@jupyter-widgets/controls",
       "_model_module_version": "1.5.0",
       "_model_name": "FloatProgressModel",
       "_view_count": null,
       "_view_module": "@jupyter-widgets/controls",
       "_view_module_version": "1.5.0",
       "_view_name": "ProgressView",
       "bar_style": "success",
       "description": "",
       "description_tooltip": null,
       "layout": "IPY_MODEL_9b52a5962d56418ca7d044db3ce96cc9",
       "max": 25.0,
       "min": 0.0,
       "orientation": "horizontal",
       "style": "IPY_MODEL_fd2ca7535caa4458aa2a7177e4699f32",
       "value": 25.0
      }
     },
     "2cd4f413bc384f45a7207b42296b9028": {
      "model_module": "@jupyter-widgets/base",
      "model_module_version": "1.2.0",
      "model_name": "LayoutModel",
      "state": {
       "_model_module": "@jupyter-widgets/base",
       "_model_module_version": "1.2.0",
       "_model_name": "LayoutModel",
       "_view_count": null,
       "_view_module": "@jupyter-widgets/base",
       "_view_module_version": "1.2.0",
       "_view_name": "LayoutView",
       "align_content": null,
       "align_items": null,
       "align_self": null,
       "border": null,
       "bottom": null,
       "display": null,
       "flex": null,
       "flex_flow": null,
       "grid_area": null,
       "grid_auto_columns": null,
       "grid_auto_flow": null,
       "grid_auto_rows": null,
       "grid_column": null,
       "grid_gap": null,
       "grid_row": null,
       "grid_template_areas": null,
       "grid_template_columns": null,
       "grid_template_rows": null,
       "height": null,
       "justify_content": null,
       "justify_items": null,
       "left": null,
       "margin": null,
       "max_height": null,
       "max_width": null,
       "min_height": null,
       "min_width": null,
       "object_fit": null,
       "object_position": null,
       "order": null,
       "overflow": null,
       "overflow_x": null,
       "overflow_y": null,
       "padding": null,
       "right": null,
       "top": null,
       "visibility": null,
       "width": null
      }
     },
     "2d41618793724356a5b62bfcab43d14e": {
      "model_module": "@jupyter-widgets/controls",
      "model_module_version": "1.5.0",
      "model_name": "FloatProgressModel",
      "state": {
       "_dom_classes": [],
       "_model_module": "@jupyter-widgets/controls",
       "_model_module_version": "1.5.0",
       "_model_name": "FloatProgressModel",
       "_view_count": null,
       "_view_module": "@jupyter-widgets/controls",
       "_view_module_version": "1.5.0",
       "_view_name": "ProgressView",
       "bar_style": "success",
       "description": "",
       "description_tooltip": null,
       "layout": "IPY_MODEL_75629ae6b8ba427b88719fb1ac3d613c",
       "max": 6.0,
       "min": 0.0,
       "orientation": "horizontal",
       "style": "IPY_MODEL_9a56bcabb72e413289694d8a0b0c2d12",
       "value": 6.0
      }
     },
     "2d72b261477a4301a1d28ed31523382f": {
      "model_module": "@jupyter-widgets/controls",
      "model_module_version": "1.5.0",
      "model_name": "DescriptionStyleModel",
      "state": {
       "_model_module": "@jupyter-widgets/controls",
       "_model_module_version": "1.5.0",
       "_model_name": "DescriptionStyleModel",
       "_view_count": null,
       "_view_module": "@jupyter-widgets/base",
       "_view_module_version": "1.2.0",
       "_view_name": "StyleView",
       "description_width": ""
      }
     },
     "32a46d70bcba44a4a3adc62726d92935": {
      "model_module": "@jupyter-widgets/controls",
      "model_module_version": "1.5.0",
      "model_name": "FloatProgressModel",
      "state": {
       "_dom_classes": [],
       "_model_module": "@jupyter-widgets/controls",
       "_model_module_version": "1.5.0",
       "_model_name": "FloatProgressModel",
       "_view_count": null,
       "_view_module": "@jupyter-widgets/controls",
       "_view_module_version": "1.5.0",
       "_view_name": "ProgressView",
       "bar_style": "success",
       "description": "",
       "description_tooltip": null,
       "layout": "IPY_MODEL_7cdd22f0a7374d7e9008409fa6ae7094",
       "max": 71.0,
       "min": 0.0,
       "orientation": "horizontal",
       "style": "IPY_MODEL_583798faf8184dea9b9f769774318286",
       "value": 71.0
      }
     },
     "33ce7b9ee6f0461a8bb923022b57b099": {
      "model_module": "@jupyter-widgets/controls",
      "model_module_version": "1.5.0",
      "model_name": "HBoxModel",
      "state": {
       "_dom_classes": [],
       "_model_module": "@jupyter-widgets/controls",
       "_model_module_version": "1.5.0",
       "_model_name": "HBoxModel",
       "_view_count": null,
       "_view_module": "@jupyter-widgets/controls",
       "_view_module_version": "1.5.0",
       "_view_name": "HBoxView",
       "box_style": "",
       "children": [
        "IPY_MODEL_89f21bed3e984d32b1f3f2af48873056",
        "IPY_MODEL_83adb5d6119441b99c7da4f9a438df60",
        "IPY_MODEL_dcf58125f28b4078a0e87f338ef89530"
       ],
       "layout": "IPY_MODEL_91399afcb325416cad351a8bb32d5dbd"
      }
     },
     "3c771594bd394f768e3a22bd201056be": {
      "model_module": "@jupyter-widgets/base",
      "model_module_version": "1.2.0",
      "model_name": "LayoutModel",
      "state": {
       "_model_module": "@jupyter-widgets/base",
       "_model_module_version": "1.2.0",
       "_model_name": "LayoutModel",
       "_view_count": null,
       "_view_module": "@jupyter-widgets/base",
       "_view_module_version": "1.2.0",
       "_view_name": "LayoutView",
       "align_content": null,
       "align_items": null,
       "align_self": null,
       "border": null,
       "bottom": null,
       "display": null,
       "flex": null,
       "flex_flow": null,
       "grid_area": null,
       "grid_auto_columns": null,
       "grid_auto_flow": null,
       "grid_auto_rows": null,
       "grid_column": null,
       "grid_gap": null,
       "grid_row": null,
       "grid_template_areas": null,
       "grid_template_columns": null,
       "grid_template_rows": null,
       "height": null,
       "justify_content": null,
       "justify_items": null,
       "left": null,
       "margin": null,
       "max_height": null,
       "max_width": null,
       "min_height": null,
       "min_width": null,
       "object_fit": null,
       "object_position": null,
       "order": null,
       "overflow": null,
       "overflow_x": null,
       "overflow_y": null,
       "padding": null,
       "right": null,
       "top": null,
       "visibility": null,
       "width": null
      }
     },
     "3db7c3c05bc54cac984532bb896132b6": {
      "model_module": "@jupyter-widgets/base",
      "model_module_version": "1.2.0",
      "model_name": "LayoutModel",
      "state": {
       "_model_module": "@jupyter-widgets/base",
       "_model_module_version": "1.2.0",
       "_model_name": "LayoutModel",
       "_view_count": null,
       "_view_module": "@jupyter-widgets/base",
       "_view_module_version": "1.2.0",
       "_view_name": "LayoutView",
       "align_content": null,
       "align_items": null,
       "align_self": null,
       "border": null,
       "bottom": null,
       "display": null,
       "flex": null,
       "flex_flow": null,
       "grid_area": null,
       "grid_auto_columns": null,
       "grid_auto_flow": null,
       "grid_auto_rows": null,
       "grid_column": null,
       "grid_gap": null,
       "grid_row": null,
       "grid_template_areas": null,
       "grid_template_columns": null,
       "grid_template_rows": null,
       "height": null,
       "justify_content": null,
       "justify_items": null,
       "left": null,
       "margin": null,
       "max_height": null,
       "max_width": null,
       "min_height": null,
       "min_width": null,
       "object_fit": null,
       "object_position": null,
       "order": null,
       "overflow": null,
       "overflow_x": null,
       "overflow_y": null,
       "padding": null,
       "right": null,
       "top": null,
       "visibility": null,
       "width": null
      }
     },
     "3dbcc77dfa824b06a8278cc6d8d655fc": {
      "model_module": "@jupyter-widgets/controls",
      "model_module_version": "1.5.0",
      "model_name": "HTMLModel",
      "state": {
       "_dom_classes": [],
       "_model_module": "@jupyter-widgets/controls",
       "_model_module_version": "1.5.0",
       "_model_name": "HTMLModel",
       "_view_count": null,
       "_view_module": "@jupyter-widgets/controls",
       "_view_module_version": "1.5.0",
       "_view_name": "HTMLView",
       "description": "",
       "description_tooltip": null,
       "layout": "IPY_MODEL_944db858a5a7405e89bdc6302983c5cf",
       "placeholder": "​",
       "style": "IPY_MODEL_16a78aae578f4c92933a483054e3defe",
       "value": " 239/239 [00:00&lt;00:00, 15.9kB/s]"
      }
     },
     "3e6c0f55f24546a29a25c419d0a765cf": {
      "model_module": "@jupyter-widgets/controls",
      "model_module_version": "1.5.0",
      "model_name": "HTMLModel",
      "state": {
       "_dom_classes": [],
       "_model_module": "@jupyter-widgets/controls",
       "_model_module_version": "1.5.0",
       "_model_name": "HTMLModel",
       "_view_count": null,
       "_view_module": "@jupyter-widgets/controls",
       "_view_module_version": "1.5.0",
       "_view_name": "HTMLView",
       "description": "",
       "description_tooltip": null,
       "layout": "IPY_MODEL_3f1e29a0aa114f6e9ef021861f2c8c2f",
       "placeholder": "​",
       "style": "IPY_MODEL_6aa5454ab7d54b4b96b05f963d2ebb90",
       "value": " 5.07M/5.07M [00:00&lt;00:00, 5.89MB/s]"
      }
     },
     "3f13b8fe422a4dfe8b49a52c5d9fdaa1": {
      "model_module": "@jupyter-widgets/controls",
      "model_module_version": "1.5.0",
      "model_name": "HTMLModel",
      "state": {
       "_dom_classes": [],
       "_model_module": "@jupyter-widgets/controls",
       "_model_module_version": "1.5.0",
       "_model_name": "HTMLModel",
       "_view_count": null,
       "_view_module": "@jupyter-widgets/controls",
       "_view_module_version": "1.5.0",
       "_view_name": "HTMLView",
       "description": "",
       "description_tooltip": null,
       "layout": "IPY_MODEL_77ded1eb7a2e4e41a3b357dd01bbc7b4",
       "placeholder": "​",
       "style": "IPY_MODEL_c85ea7d47472405abe2097966e57b99a",
       "value": "100%"
      }
     },
     "3f1e29a0aa114f6e9ef021861f2c8c2f": {
      "model_module": "@jupyter-widgets/base",
      "model_module_version": "1.2.0",
      "model_name": "LayoutModel",
      "state": {
       "_model_module": "@jupyter-widgets/base",
       "_model_module_version": "1.2.0",
       "_model_name": "LayoutModel",
       "_view_count": null,
       "_view_module": "@jupyter-widgets/base",
       "_view_module_version": "1.2.0",
       "_view_name": "LayoutView",
       "align_content": null,
       "align_items": null,
       "align_self": null,
       "border": null,
       "bottom": null,
       "display": null,
       "flex": null,
       "flex_flow": null,
       "grid_area": null,
       "grid_auto_columns": null,
       "grid_auto_flow": null,
       "grid_auto_rows": null,
       "grid_column": null,
       "grid_gap": null,
       "grid_row": null,
       "grid_template_areas": null,
       "grid_template_columns": null,
       "grid_template_rows": null,
       "height": null,
       "justify_content": null,
       "justify_items": null,
       "left": null,
       "margin": null,
       "max_height": null,
       "max_width": null,
       "min_height": null,
       "min_width": null,
       "object_fit": null,
       "object_position": null,
       "order": null,
       "overflow": null,
       "overflow_x": null,
       "overflow_y": null,
       "padding": null,
       "right": null,
       "top": null,
       "visibility": null,
       "width": null
      }
     },
     "3f60673f548b45049e7db9c299064c9e": {
      "model_module": "@jupyter-widgets/controls",
      "model_module_version": "1.5.0",
      "model_name": "HTMLModel",
      "state": {
       "_dom_classes": [],
       "_model_module": "@jupyter-widgets/controls",
       "_model_module_version": "1.5.0",
       "_model_name": "HTMLModel",
       "_view_count": null,
       "_view_module": "@jupyter-widgets/controls",
       "_view_module_version": "1.5.0",
       "_view_name": "HTMLView",
       "description": "",
       "description_tooltip": null,
       "layout": "IPY_MODEL_da5e71b4e957431ba0450937448f59b4",
       "placeholder": "​",
       "style": "IPY_MODEL_2d72b261477a4301a1d28ed31523382f",
       "value": "Downloading (…)ncepiece.bpe.model&quot;;: 100%"
      }
     },
     "40e8b15c1a8c4748b33a4f7669c2964d": {
      "model_module": "@jupyter-widgets/controls",
      "model_module_version": "1.5.0",
      "model_name": "HBoxModel",
      "state": {
       "_dom_classes": [],
       "_model_module": "@jupyter-widgets/controls",
       "_model_module_version": "1.5.0",
       "_model_name": "HBoxModel",
       "_view_count": null,
       "_view_module": "@jupyter-widgets/controls",
       "_view_module_version": "1.5.0",
       "_view_name": "HBoxView",
       "box_style": "",
       "children": [
        "IPY_MODEL_be62eecc5fc146e6856c5066e6f267de",
        "IPY_MODEL_a07cb707b97c45908aed85f6667f0fac",
        "IPY_MODEL_226036c443864b1db87a416fa4551a0c"
       ],
       "layout": "IPY_MODEL_2bc9cc68839a45f38a1a908f233a5dbb"
      }
     },
     "40f5e7731bc64608979cbd229421a85f": {
      "model_module": "@jupyter-widgets/controls",
      "model_module_version": "1.5.0",
      "model_name": "HBoxModel",
      "state": {
       "_dom_classes": [],
       "_model_module": "@jupyter-widgets/controls",
       "_model_module_version": "1.5.0",
       "_model_name": "HBoxModel",
       "_view_count": null,
       "_view_module": "@jupyter-widgets/controls",
       "_view_module_version": "1.5.0",
       "_view_name": "HBoxView",
       "box_style": "",
       "children": [
        "IPY_MODEL_1717e78b4f3246438e7e9c40ad74adf2",
        "IPY_MODEL_44e589c252514a7f92e86a186b142f1d",
        "IPY_MODEL_687e0e3b8c174349b3414118201f2325"
       ],
       "layout": "IPY_MODEL_84c5353ab7034b66b12c26e463336e13"
      }
     },
     "42719cf6d7ee4ddcae63899be0634934": {
      "model_module": "@jupyter-widgets/controls",
      "model_module_version": "1.5.0",
      "model_name": "DescriptionStyleModel",
      "state": {
       "_model_module": "@jupyter-widgets/controls",
       "_model_module_version": "1.5.0",
       "_model_name": "DescriptionStyleModel",
       "_view_count": null,
       "_view_module": "@jupyter-widgets/base",
       "_view_module_version": "1.2.0",
       "_view_name": "StyleView",
       "description_width": ""
      }
     },
     "427ed986089c4ee79b796f4495dabf2c": {
      "model_module": "@jupyter-widgets/controls",
      "model_module_version": "1.5.0",
      "model_name": "HTMLModel",
      "state": {
       "_dom_classes": [],
       "_model_module": "@jupyter-widgets/controls",
       "_model_module_version": "1.5.0",
       "_model_name": "HTMLModel",
       "_view_count": null,
       "_view_module": "@jupyter-widgets/controls",
       "_view_module_version": "1.5.0",
       "_view_name": "HTMLView",
       "description": "",
       "description_tooltip": null,
       "layout": "IPY_MODEL_0fcaa59258ad4f838db65e0f19baee43",
       "placeholder": "​",
       "style": "IPY_MODEL_7a55dda953f643d69b4c49c36de8e2b1",
       "value": "Downloading (…)&quot;pytorch_model.bin&quot;;: 100%"
      }
     },
     "4310a5a0c7a9444e8a8a83709e6af63e": {
      "model_module": "@jupyter-widgets/controls",
      "model_module_version": "1.5.0",
      "model_name": "DescriptionStyleModel",
      "state": {
       "_model_module": "@jupyter-widgets/controls",
       "_model_module_version": "1.5.0",
       "_model_name": "DescriptionStyleModel",
       "_view_count": null,
       "_view_module": "@jupyter-widgets/base",
       "_view_module_version": "1.2.0",
       "_view_name": "StyleView",
       "description_width": ""
      }
     },
     "44e589c252514a7f92e86a186b142f1d": {
      "model_module": "@jupyter-widgets/controls",
      "model_module_version": "1.5.0",
      "model_name": "FloatProgressModel",
      "state": {
       "_dom_classes": [],
       "_model_module": "@jupyter-widgets/controls",
       "_model_module_version": "1.5.0",
       "_model_name": "FloatProgressModel",
       "_view_count": null,
       "_view_module": "@jupyter-widgets/controls",
       "_view_module_version": "1.5.0",
       "_view_name": "ProgressView",
       "bar_style": "success",
       "description": "",
       "description_tooltip": null,
       "layout": "IPY_MODEL_26a4de8bbe704de194fcc5a0498eb391",
       "max": 9081351.0,
       "min": 0.0,
       "orientation": "horizontal",
       "style": "IPY_MODEL_6fba40724fa34b478ce89d8702f13498",
       "value": 9081351.0
      }
     },
     "466f40e4bd0d4525a72ed16537a89c9e": {
      "model_module": "@jupyter-widgets/base",
      "model_module_version": "1.2.0",
      "model_name": "LayoutModel",
      "state": {
       "_model_module": "@jupyter-widgets/base",
       "_model_module_version": "1.2.0",
       "_model_name": "LayoutModel",
       "_view_count": null,
       "_view_module": "@jupyter-widgets/base",
       "_view_module_version": "1.2.0",
       "_view_name": "LayoutView",
       "align_content": null,
       "align_items": null,
       "align_self": null,
       "border": null,
       "bottom": null,
       "display": null,
       "flex": null,
       "flex_flow": null,
       "grid_area": null,
       "grid_auto_columns": null,
       "grid_auto_flow": null,
       "grid_auto_rows": null,
       "grid_column": null,
       "grid_gap": null,
       "grid_row": null,
       "grid_template_areas": null,
       "grid_template_columns": null,
       "grid_template_rows": null,
       "height": null,
       "justify_content": null,
       "justify_items": null,
       "left": null,
       "margin": null,
       "max_height": null,
       "max_width": null,
       "min_height": null,
       "min_width": null,
       "object_fit": null,
       "object_position": null,
       "order": null,
       "overflow": null,
       "overflow_x": null,
       "overflow_y": null,
       "padding": null,
       "right": null,
       "top": null,
       "visibility": null,
       "width": null
      }
     },
     "47627521fa264abbad37545b9faacbc4": {
      "model_module": "@jupyter-widgets/controls",
      "model_module_version": "1.5.0",
      "model_name": "HTMLModel",
      "state": {
       "_dom_classes": [],
       "_model_module": "@jupyter-widgets/controls",
       "_model_module_version": "1.5.0",
       "_model_name": "HTMLModel",
       "_view_count": null,
       "_view_module": "@jupyter-widgets/controls",
       "_view_module_version": "1.5.0",
       "_view_name": "HTMLView",
       "description": "",
       "description_tooltip": null,
       "layout": "IPY_MODEL_8537150ff65846df913409ccdab6dc78",
       "placeholder": "​",
       "style": "IPY_MODEL_7714822e96444134b6518a34edc015c2",
       "value": "Downloading (…)&quot;config.json&quot;;: 100%"
      }
     },
     "4775154d22744e9097787a16e7eb9557": {
      "model_module": "@jupyter-widgets/base",
      "model_module_version": "1.2.0",
      "model_name": "LayoutModel",
      "state": {
       "_model_module": "@jupyter-widgets/base",
       "_model_module_version": "1.2.0",
       "_model_name": "LayoutModel",
       "_view_count": null,
       "_view_module": "@jupyter-widgets/base",
       "_view_module_version": "1.2.0",
       "_view_name": "LayoutView",
       "align_content": null,
       "align_items": null,
       "align_self": null,
       "border": null,
       "bottom": null,
       "display": null,
       "flex": null,
       "flex_flow": null,
       "grid_area": null,
       "grid_auto_columns": null,
       "grid_auto_flow": null,
       "grid_auto_rows": null,
       "grid_column": null,
       "grid_gap": null,
       "grid_row": null,
       "grid_template_areas": null,
       "grid_template_columns": null,
       "grid_template_rows": null,
       "height": null,
       "justify_content": null,
       "justify_items": null,
       "left": null,
       "margin": null,
       "max_height": null,
       "max_width": null,
       "min_height": null,
       "min_width": null,
       "object_fit": null,
       "object_position": null,
       "order": null,
       "overflow": null,
       "overflow_x": null,
       "overflow_y": null,
       "padding": null,
       "right": null,
       "top": null,
       "visibility": null,
       "width": null
      }
     },
     "4904a30f6a3643d6b9e27eaa4a6de4ea": {
      "model_module": "@jupyter-widgets/base",
      "model_module_version": "1.2.0",
      "model_name": "LayoutModel",
      "state": {
       "_model_module": "@jupyter-widgets/base",
       "_model_module_version": "1.2.0",
       "_model_name": "LayoutModel",
       "_view_count": null,
       "_view_module": "@jupyter-widgets/base",
       "_view_module_version": "1.2.0",
       "_view_name": "LayoutView",
       "align_content": null,
       "align_items": null,
       "align_self": null,
       "border": null,
       "bottom": null,
       "display": null,
       "flex": null,
       "flex_flow": null,
       "grid_area": null,
       "grid_auto_columns": null,
       "grid_auto_flow": null,
       "grid_auto_rows": null,
       "grid_column": null,
       "grid_gap": null,
       "grid_row": null,
       "grid_template_areas": null,
       "grid_template_columns": null,
       "grid_template_rows": null,
       "height": null,
       "justify_content": null,
       "justify_items": null,
       "left": null,
       "margin": null,
       "max_height": null,
       "max_width": null,
       "min_height": null,
       "min_width": null,
       "object_fit": null,
       "object_position": null,
       "order": null,
       "overflow": null,
       "overflow_x": null,
       "overflow_y": null,
       "padding": null,
       "right": null,
       "top": null,
       "visibility": null,
       "width": null
      }
     },
     "49773c5f3ed3457480b70442f95db0e9": {
      "model_module": "@jupyter-widgets/controls",
      "model_module_version": "1.5.0",
      "model_name": "FloatProgressModel",
      "state": {
       "_dom_classes": [],
       "_model_module": "@jupyter-widgets/controls",
       "_model_module_version": "1.5.0",
       "_model_name": "FloatProgressModel",
       "_view_count": null,
       "_view_module": "@jupyter-widgets/controls",
       "_view_module_version": "1.5.0",
       "_view_name": "ProgressView",
       "bar_style": "success",
       "description": "",
       "description_tooltip": null,
       "layout": "IPY_MODEL_466f40e4bd0d4525a72ed16537a89c9e",
       "max": 1.0,
       "min": 0.0,
       "orientation": "horizontal",
       "style": "IPY_MODEL_a4915199431c494e81638359de404a0c",
       "value": 1.0
      }
     },
     "49f03c1d8e084ee99bb7480da966b8dc": {
      "model_module": "@jupyter-widgets/controls",
      "model_module_version": "1.5.0",
      "model_name": "HBoxModel",
      "state": {
       "_dom_classes": [],
       "_model_module": "@jupyter-widgets/controls",
       "_model_module_version": "1.5.0",
       "_model_name": "HBoxModel",
       "_view_count": null,
       "_view_module": "@jupyter-widgets/controls",
       "_view_module_version": "1.5.0",
       "_view_name": "HBoxView",
       "box_style": "",
       "children": [
        "IPY_MODEL_549ea3f680734169aa15e9ffe37821fa",
        "IPY_MODEL_fc00170194c44f3e974ec1437f664bca",
        "IPY_MODEL_d80899046530445286748b5a910982d3"
       ],
       "layout": "IPY_MODEL_76135fc479584ecfaf94c3cbd95fd34c"
      }
     },
     "4a934b3bbe7f499e9afac6c47a2c0c8f": {
      "model_module": "@jupyter-widgets/base",
      "model_module_version": "1.2.0",
      "model_name": "LayoutModel",
      "state": {
       "_model_module": "@jupyter-widgets/base",
       "_model_module_version": "1.2.0",
       "_model_name": "LayoutModel",
       "_view_count": null,
       "_view_module": "@jupyter-widgets/base",
       "_view_module_version": "1.2.0",
       "_view_name": "LayoutView",
       "align_content": null,
       "align_items": null,
       "align_self": null,
       "border": null,
       "bottom": null,
       "display": null,
       "flex": null,
       "flex_flow": null,
       "grid_area": null,
       "grid_auto_columns": null,
       "grid_auto_flow": null,
       "grid_auto_rows": null,
       "grid_column": null,
       "grid_gap": null,
       "grid_row": null,
       "grid_template_areas": null,
       "grid_template_columns": null,
       "grid_template_rows": null,
       "height": null,
       "justify_content": null,
       "justify_items": null,
       "left": null,
       "margin": null,
       "max_height": null,
       "max_width": null,
       "min_height": null,
       "min_width": null,
       "object_fit": null,
       "object_position": null,
       "order": null,
       "overflow": null,
       "overflow_x": null,
       "overflow_y": null,
       "padding": null,
       "right": null,
       "top": null,
       "visibility": null,
       "width": null
      }
     },
     "4db961ebbf834ee3b852aad42378df3b": {
      "model_module": "@jupyter-widgets/controls",
      "model_module_version": "1.5.0",
      "model_name": "FloatProgressModel",
      "state": {
       "_dom_classes": [],
       "_model_module": "@jupyter-widgets/controls",
       "_model_module_version": "1.5.0",
       "_model_name": "FloatProgressModel",
       "_view_count": null,
       "_view_module": "@jupyter-widgets/controls",
       "_view_module_version": "1.5.0",
       "_view_name": "ProgressView",
       "bar_style": "success",
       "description": "",
       "description_tooltip": null,
       "layout": "IPY_MODEL_2cd4f413bc384f45a7207b42296b9028",
       "max": 921.0,
       "min": 0.0,
       "orientation": "horizontal",
       "style": "IPY_MODEL_bf9a866d03ad4cf98e83ceaeebca2e47",
       "value": 921.0
      }
     },
     "5130d6df15b2446ca36d329c65f4da13": {
      "model_module": "@jupyter-widgets/base",
      "model_module_version": "1.2.0",
      "model_name": "LayoutModel",
      "state": {
       "_model_module": "@jupyter-widgets/base",
       "_model_module_version": "1.2.0",
       "_model_name": "LayoutModel",
       "_view_count": null,
       "_view_module": "@jupyter-widgets/base",
       "_view_module_version": "1.2.0",
       "_view_name": "LayoutView",
       "align_content": null,
       "align_items": null,
       "align_self": null,
       "border": null,
       "bottom": null,
       "display": null,
       "flex": null,
       "flex_flow": null,
       "grid_area": null,
       "grid_auto_columns": null,
       "grid_auto_flow": null,
       "grid_auto_rows": null,
       "grid_column": null,
       "grid_gap": null,
       "grid_row": null,
       "grid_template_areas": null,
       "grid_template_columns": null,
       "grid_template_rows": null,
       "height": null,
       "justify_content": null,
       "justify_items": null,
       "left": null,
       "margin": null,
       "max_height": null,
       "max_width": null,
       "min_height": null,
       "min_width": null,
       "object_fit": null,
       "object_position": null,
       "order": null,
       "overflow": null,
       "overflow_x": null,
       "overflow_y": null,
       "padding": null,
       "right": null,
       "top": null,
       "visibility": null,
       "width": null
      }
     },
     "5155098a31e44e4995d61b484f64f4b6": {
      "model_module": "@jupyter-widgets/controls",
      "model_module_version": "1.5.0",
      "model_name": "DescriptionStyleModel",
      "state": {
       "_model_module": "@jupyter-widgets/controls",
       "_model_module_version": "1.5.0",
       "_model_name": "DescriptionStyleModel",
       "_view_count": null,
       "_view_module": "@jupyter-widgets/base",
       "_view_module_version": "1.2.0",
       "_view_name": "StyleView",
       "description_width": ""
      }
     },
     "519c066a6a194a5aafea3f53577caa4e": {
      "model_module": "@jupyter-widgets/controls",
      "model_module_version": "1.5.0",
      "model_name": "DescriptionStyleModel",
      "state": {
       "_model_module": "@jupyter-widgets/controls",
       "_model_module_version": "1.5.0",
       "_model_name": "DescriptionStyleModel",
       "_view_count": null,
       "_view_module": "@jupyter-widgets/base",
       "_view_module_version": "1.2.0",
       "_view_name": "StyleView",
       "description_width": ""
      }
     },
     "549ea3f680734169aa15e9ffe37821fa": {
      "model_module": "@jupyter-widgets/controls",
      "model_module_version": "1.5.0",
      "model_name": "HTMLModel",
      "state": {
       "_dom_classes": [],
       "_model_module": "@jupyter-widgets/controls",
       "_model_module_version": "1.5.0",
       "_model_name": "HTMLModel",
       "_view_count": null,
       "_view_module": "@jupyter-widgets/controls",
       "_view_module_version": "1.5.0",
       "_view_name": "HTMLView",
       "description": "",
       "description_tooltip": null,
       "layout": "IPY_MODEL_9077e6f59ddd4a18a9afb62034d1e748",
       "placeholder": "​",
       "style": "IPY_MODEL_519c066a6a194a5aafea3f53577caa4e",
       "value": "Downloading (…)enizer_config.json&quot;;: 100%"
      }
     },
     "583798faf8184dea9b9f769774318286": {
      "model_module": "@jupyter-widgets/controls",
      "model_module_version": "1.5.0",
      "model_name": "ProgressStyleModel",
      "state": {
       "_model_module": "@jupyter-widgets/controls",
       "_model_module_version": "1.5.0",
       "_model_name": "ProgressStyleModel",
       "_view_count": null,
       "_view_module": "@jupyter-widgets/base",
       "_view_module_version": "1.2.0",
       "_view_name": "StyleView",
       "bar_color": null,
       "description_width": ""
      }
     },
     "5900532fff0a43c0b08ad0323ef88ed9": {
      "model_module": "@jupyter-widgets/controls",
      "model_module_version": "1.5.0",
      "model_name": "ProgressStyleModel",
      "state": {
       "_model_module": "@jupyter-widgets/controls",
       "_model_module_version": "1.5.0",
       "_model_name": "ProgressStyleModel",
       "_view_count": null,
       "_view_module": "@jupyter-widgets/base",
       "_view_module_version": "1.2.0",
       "_view_name": "StyleView",
       "bar_color": null,
       "description_width": ""
      }
     },
     "596b4812a6f04bfd9e7fa0a2fee0d7de": {
      "model_module": "@jupyter-widgets/base",
      "model_module_version": "1.2.0",
      "model_name": "LayoutModel",
      "state": {
       "_model_module": "@jupyter-widgets/base",
       "_model_module_version": "1.2.0",
       "_model_name": "LayoutModel",
       "_view_count": null,
       "_view_module": "@jupyter-widgets/base",
       "_view_module_version": "1.2.0",
       "_view_name": "LayoutView",
       "align_content": null,
       "align_items": null,
       "align_self": null,
       "border": null,
       "bottom": null,
       "display": null,
       "flex": null,
       "flex_flow": null,
       "grid_area": null,
       "grid_auto_columns": null,
       "grid_auto_flow": null,
       "grid_auto_rows": null,
       "grid_column": null,
       "grid_gap": null,
       "grid_row": null,
       "grid_template_areas": null,
       "grid_template_columns": null,
       "grid_template_rows": null,
       "height": null,
       "justify_content": null,
       "justify_items": null,
       "left": null,
       "margin": null,
       "max_height": null,
       "max_width": null,
       "min_height": null,
       "min_width": null,
       "object_fit": null,
       "object_position": null,
       "order": null,
       "overflow": null,
       "overflow_x": null,
       "overflow_y": null,
       "padding": null,
       "right": null,
       "top": null,
       "visibility": null,
       "width": null
      }
     },
     "5c3cb3f2efb04f6bacb9e297845e514c": {
      "model_module": "@jupyter-widgets/base",
      "model_module_version": "1.2.0",
      "model_name": "LayoutModel",
      "state": {
       "_model_module": "@jupyter-widgets/base",
       "_model_module_version": "1.2.0",
       "_model_name": "LayoutModel",
       "_view_count": null,
       "_view_module": "@jupyter-widgets/base",
       "_view_module_version": "1.2.0",
       "_view_name": "LayoutView",
       "align_content": null,
       "align_items": null,
       "align_self": null,
       "border": null,
       "bottom": null,
       "display": null,
       "flex": null,
       "flex_flow": null,
       "grid_area": null,
       "grid_auto_columns": null,
       "grid_auto_flow": null,
       "grid_auto_rows": null,
       "grid_column": null,
       "grid_gap": null,
       "grid_row": null,
       "grid_template_areas": null,
       "grid_template_columns": null,
       "grid_template_rows": null,
       "height": null,
       "justify_content": null,
       "justify_items": null,
       "left": null,
       "margin": null,
       "max_height": null,
       "max_width": null,
       "min_height": null,
       "min_width": null,
       "object_fit": null,
       "object_position": null,
       "order": null,
       "overflow": null,
       "overflow_x": null,
       "overflow_y": null,
       "padding": null,
       "right": null,
       "top": null,
       "visibility": null,
       "width": null
      }
     },
     "5d7c3631e3a14313a0ef2b2cd2f3323b": {
      "model_module": "@jupyter-widgets/controls",
      "model_module_version": "1.5.0",
      "model_name": "DescriptionStyleModel",
      "state": {
       "_model_module": "@jupyter-widgets/controls",
       "_model_module_version": "1.5.0",
       "_model_name": "DescriptionStyleModel",
       "_view_count": null,
       "_view_module": "@jupyter-widgets/base",
       "_view_module_version": "1.2.0",
       "_view_name": "StyleView",
       "description_width": ""
      }
     },
     "5e60aa2df0e745518fa1d83702ac9a4c": {
      "model_module": "@jupyter-widgets/base",
      "model_module_version": "1.2.0",
      "model_name": "LayoutModel",
      "state": {
       "_model_module": "@jupyter-widgets/base",
       "_model_module_version": "1.2.0",
       "_model_name": "LayoutModel",
       "_view_count": null,
       "_view_module": "@jupyter-widgets/base",
       "_view_module_version": "1.2.0",
       "_view_name": "LayoutView",
       "align_content": null,
       "align_items": null,
       "align_self": null,
       "border": null,
       "bottom": null,
       "display": null,
       "flex": null,
       "flex_flow": null,
       "grid_area": null,
       "grid_auto_columns": null,
       "grid_auto_flow": null,
       "grid_auto_rows": null,
       "grid_column": null,
       "grid_gap": null,
       "grid_row": null,
       "grid_template_areas": null,
       "grid_template_columns": null,
       "grid_template_rows": null,
       "height": null,
       "justify_content": null,
       "justify_items": null,
       "left": null,
       "margin": null,
       "max_height": null,
       "max_width": null,
       "min_height": null,
       "min_width": null,
       "object_fit": null,
       "object_position": null,
       "order": null,
       "overflow": null,
       "overflow_x": null,
       "overflow_y": null,
       "padding": null,
       "right": null,
       "top": null,
       "visibility": null,
       "width": null
      }
     },
     "5f6b430e2ad24a52843d202d65920014": {
      "model_module": "@jupyter-widgets/controls",
      "model_module_version": "1.5.0",
      "model_name": "ProgressStyleModel",
      "state": {
       "_model_module": "@jupyter-widgets/controls",
       "_model_module_version": "1.5.0",
       "_model_name": "ProgressStyleModel",
       "_view_count": null,
       "_view_module": "@jupyter-widgets/base",
       "_view_module_version": "1.2.0",
       "_view_name": "StyleView",
       "bar_color": null,
       "description_width": ""
      }
     },
     "60316a6a67174620baf748f4b2580a19": {
      "model_module": "@jupyter-widgets/controls",
      "model_module_version": "1.5.0",
      "model_name": "HTMLModel",
      "state": {
       "_dom_classes": [],
       "_model_module": "@jupyter-widgets/controls",
       "_model_module_version": "1.5.0",
       "_model_name": "HTMLModel",
       "_view_count": null,
       "_view_module": "@jupyter-widgets/controls",
       "_view_module_version": "1.5.0",
       "_view_name": "HTMLView",
       "description": "",
       "description_tooltip": null,
       "layout": "IPY_MODEL_8dc79e5f428340b5bac29a2f9b8d455b",
       "placeholder": "​",
       "style": "IPY_MODEL_0bde16b7ffa7486fb01d5169417945da",
       "value": " 921/921 [00:00&lt;00:00, 60.3kB/s]"
      }
     },
     "653cc29b1de642719681d2500cd61558": {
      "model_module": "@jupyter-widgets/base",
      "model_module_version": "1.2.0",
      "model_name": "LayoutModel",
      "state": {
       "_model_module": "@jupyter-widgets/base",
       "_model_module_version": "1.2.0",
       "_model_name": "LayoutModel",
       "_view_count": null,
       "_view_module": "@jupyter-widgets/base",
       "_view_module_version": "1.2.0",
       "_view_name": "LayoutView",
       "align_content": null,
       "align_items": null,
       "align_self": null,
       "border": null,
       "bottom": null,
       "display": null,
       "flex": null,
       "flex_flow": null,
       "grid_area": null,
       "grid_auto_columns": null,
       "grid_auto_flow": null,
       "grid_auto_rows": null,
       "grid_column": null,
       "grid_gap": null,
       "grid_row": null,
       "grid_template_areas": null,
       "grid_template_columns": null,
       "grid_template_rows": null,
       "height": null,
       "justify_content": null,
       "justify_items": null,
       "left": null,
       "margin": null,
       "max_height": null,
       "max_width": null,
       "min_height": null,
       "min_width": null,
       "object_fit": null,
       "object_position": null,
       "order": null,
       "overflow": null,
       "overflow_x": null,
       "overflow_y": null,
       "padding": null,
       "right": null,
       "top": null,
       "visibility": null,
       "width": null
      }
     },
     "66457de54811445ca4b2a006c52cdadf": {
      "model_module": "@jupyter-widgets/controls",
      "model_module_version": "1.5.0",
      "model_name": "HBoxModel",
      "state": {
       "_dom_classes": [],
       "_model_module": "@jupyter-widgets/controls",
       "_model_module_version": "1.5.0",
       "_model_name": "HBoxModel",
       "_view_count": null,
       "_view_module": "@jupyter-widgets/controls",
       "_view_module_version": "1.5.0",
       "_view_name": "HBoxView",
       "box_style": "",
       "children": [
        "IPY_MODEL_041ef96b280f460984a289f2e24ad702",
        "IPY_MODEL_b404e4e9b1484d55a4f0c1493322c41a",
        "IPY_MODEL_3e6c0f55f24546a29a25c419d0a765cf"
       ],
       "layout": "IPY_MODEL_93d7956b18a340829c0542152ab76c65"
      }
     },
     "687e0e3b8c174349b3414118201f2325": {
      "model_module": "@jupyter-widgets/controls",
      "model_module_version": "1.5.0",
      "model_name": "HTMLModel",
      "state": {
       "_dom_classes": [],
       "_model_module": "@jupyter-widgets/controls",
       "_model_module_version": "1.5.0",
       "_model_name": "HTMLModel",
       "_view_count": null,
       "_view_module": "@jupyter-widgets/controls",
       "_view_module_version": "1.5.0",
       "_view_name": "HTMLView",
       "description": "",
       "description_tooltip": null,
       "layout": "IPY_MODEL_5130d6df15b2446ca36d329c65f4da13",
       "placeholder": "​",
       "style": "IPY_MODEL_b96a8e02851e410da44444eafee3b7c4",
       "value": " 9.08M/9.08M [00:00&lt;00:00, 9.22MB/s]"
      }
     },
     "693011a11bdd489b9be569d2ac7939bd": {
      "model_module": "@jupyter-widgets/base",
      "model_module_version": "1.2.0",
      "model_name": "LayoutModel",
      "state": {
       "_model_module": "@jupyter-widgets/base",
       "_model_module_version": "1.2.0",
       "_model_name": "LayoutModel",
       "_view_count": null,
       "_view_module": "@jupyter-widgets/base",
       "_view_module_version": "1.2.0",
       "_view_name": "LayoutView",
       "align_content": null,
       "align_items": null,
       "align_self": null,
       "border": null,
       "bottom": null,
       "display": null,
       "flex": null,
       "flex_flow": null,
       "grid_area": null,
       "grid_auto_columns": null,
       "grid_auto_flow": null,
       "grid_auto_rows": null,
       "grid_column": null,
       "grid_gap": null,
       "grid_row": null,
       "grid_template_areas": null,
       "grid_template_columns": null,
       "grid_template_rows": null,
       "height": null,
       "justify_content": null,
       "justify_items": null,
       "left": null,
       "margin": null,
       "max_height": null,
       "max_width": null,
       "min_height": null,
       "min_width": null,
       "object_fit": null,
       "object_position": null,
       "order": null,
       "overflow": null,
       "overflow_x": null,
       "overflow_y": null,
       "padding": null,
       "right": null,
       "top": null,
       "visibility": null,
       "width": null
      }
     },
     "6a882065e3e2474bb917c73d39a41384": {
      "model_module": "@jupyter-widgets/base",
      "model_module_version": "1.2.0",
      "model_name": "LayoutModel",
      "state": {
       "_model_module": "@jupyter-widgets/base",
       "_model_module_version": "1.2.0",
       "_model_name": "LayoutModel",
       "_view_count": null,
       "_view_module": "@jupyter-widgets/base",
       "_view_module_version": "1.2.0",
       "_view_name": "LayoutView",
       "align_content": null,
       "align_items": null,
       "align_self": null,
       "border": null,
       "bottom": null,
       "display": null,
       "flex": null,
       "flex_flow": null,
       "grid_area": null,
       "grid_auto_columns": null,
       "grid_auto_flow": null,
       "grid_auto_rows": null,
       "grid_column": null,
       "grid_gap": null,
       "grid_row": null,
       "grid_template_areas": null,
       "grid_template_columns": null,
       "grid_template_rows": null,
       "height": null,
       "justify_content": null,
       "justify_items": null,
       "left": null,
       "margin": null,
       "max_height": null,
       "max_width": null,
       "min_height": null,
       "min_width": null,
       "object_fit": null,
       "object_position": null,
       "order": null,
       "overflow": null,
       "overflow_x": null,
       "overflow_y": null,
       "padding": null,
       "right": null,
       "top": null,
       "visibility": null,
       "width": null
      }
     },
     "6aa5454ab7d54b4b96b05f963d2ebb90": {
      "model_module": "@jupyter-widgets/controls",
      "model_module_version": "1.5.0",
      "model_name": "DescriptionStyleModel",
      "state": {
       "_model_module": "@jupyter-widgets/controls",
       "_model_module_version": "1.5.0",
       "_model_name": "DescriptionStyleModel",
       "_view_count": null,
       "_view_module": "@jupyter-widgets/base",
       "_view_module_version": "1.2.0",
       "_view_name": "StyleView",
       "description_width": ""
      }
     },
     "6bcca81180744905a1e920c633d61236": {
      "model_module": "@jupyter-widgets/controls",
      "model_module_version": "1.5.0",
      "model_name": "HTMLModel",
      "state": {
       "_dom_classes": [],
       "_model_module": "@jupyter-widgets/controls",
       "_model_module_version": "1.5.0",
       "_model_name": "HTMLModel",
       "_view_count": null,
       "_view_module": "@jupyter-widgets/controls",
       "_view_module_version": "1.5.0",
       "_view_name": "HTMLView",
       "description": "",
       "description_tooltip": null,
       "layout": "IPY_MODEL_3db7c3c05bc54cac984532bb896132b6",
       "placeholder": "​",
       "style": "IPY_MODEL_99165e9e83c4445eb2757786c5bb6c56",
       "value": "100%"
      }
     },
     "6fba40724fa34b478ce89d8702f13498": {
      "model_module": "@jupyter-widgets/controls",
      "model_module_version": "1.5.0",
      "model_name": "ProgressStyleModel",
      "state": {
       "_model_module": "@jupyter-widgets/controls",
       "_model_module_version": "1.5.0",
       "_model_name": "ProgressStyleModel",
       "_view_count": null,
       "_view_module": "@jupyter-widgets/base",
       "_view_module_version": "1.2.0",
       "_view_name": "StyleView",
       "bar_color": null,
       "description_width": ""
      }
     },
     "71d4162a1a8e4556a02d16e2c7b89d1a": {
      "model_module": "@jupyter-widgets/base",
      "model_module_version": "1.2.0",
      "model_name": "LayoutModel",
      "state": {
       "_model_module": "@jupyter-widgets/base",
       "_model_module_version": "1.2.0",
       "_model_name": "LayoutModel",
       "_view_count": null,
       "_view_module": "@jupyter-widgets/base",
       "_view_module_version": "1.2.0",
       "_view_name": "LayoutView",
       "align_content": null,
       "align_items": null,
       "align_self": null,
       "border": null,
       "bottom": null,
       "display": null,
       "flex": null,
       "flex_flow": null,
       "grid_area": null,
       "grid_auto_columns": null,
       "grid_auto_flow": null,
       "grid_auto_rows": null,
       "grid_column": null,
       "grid_gap": null,
       "grid_row": null,
       "grid_template_areas": null,
       "grid_template_columns": null,
       "grid_template_rows": null,
       "height": null,
       "justify_content": null,
       "justify_items": null,
       "left": null,
       "margin": null,
       "max_height": null,
       "max_width": null,
       "min_height": null,
       "min_width": null,
       "object_fit": null,
       "object_position": null,
       "order": null,
       "overflow": null,
       "overflow_x": null,
       "overflow_y": null,
       "padding": null,
       "right": null,
       "top": null,
       "visibility": null,
       "width": null
      }
     },
     "737ef2af22d0467393c16a4c1c23ffed": {
      "model_module": "@jupyter-widgets/controls",
      "model_module_version": "1.5.0",
      "model_name": "DescriptionStyleModel",
      "state": {
       "_model_module": "@jupyter-widgets/controls",
       "_model_module_version": "1.5.0",
       "_model_name": "DescriptionStyleModel",
       "_view_count": null,
       "_view_module": "@jupyter-widgets/base",
       "_view_module_version": "1.2.0",
       "_view_name": "StyleView",
       "description_width": ""
      }
     },
     "7401e92b5e124f5caf22b6945c4416e8": {
      "model_module": "@jupyter-widgets/controls",
      "model_module_version": "1.5.0",
      "model_name": "DescriptionStyleModel",
      "state": {
       "_model_module": "@jupyter-widgets/controls",
       "_model_module_version": "1.5.0",
       "_model_name": "DescriptionStyleModel",
       "_view_count": null,
       "_view_module": "@jupyter-widgets/base",
       "_view_module_version": "1.2.0",
       "_view_name": "StyleView",
       "description_width": ""
      }
     },
     "75629ae6b8ba427b88719fb1ac3d613c": {
      "model_module": "@jupyter-widgets/base",
      "model_module_version": "1.2.0",
      "model_name": "LayoutModel",
      "state": {
       "_model_module": "@jupyter-widgets/base",
       "_model_module_version": "1.2.0",
       "_model_name": "LayoutModel",
       "_view_count": null,
       "_view_module": "@jupyter-widgets/base",
       "_view_module_version": "1.2.0",
       "_view_name": "LayoutView",
       "align_content": null,
       "align_items": null,
       "align_self": null,
       "border": null,
       "bottom": null,
       "display": null,
       "flex": null,
       "flex_flow": null,
       "grid_area": null,
       "grid_auto_columns": null,
       "grid_auto_flow": null,
       "grid_auto_rows": null,
       "grid_column": null,
       "grid_gap": null,
       "grid_row": null,
       "grid_template_areas": null,
       "grid_template_columns": null,
       "grid_template_rows": null,
       "height": null,
       "justify_content": null,
       "justify_items": null,
       "left": null,
       "margin": null,
       "max_height": null,
       "max_width": null,
       "min_height": null,
       "min_width": null,
       "object_fit": null,
       "object_position": null,
       "order": null,
       "overflow": null,
       "overflow_x": null,
       "overflow_y": null,
       "padding": null,
       "right": null,
       "top": null,
       "visibility": null,
       "width": null
      }
     },
     "76135fc479584ecfaf94c3cbd95fd34c": {
      "model_module": "@jupyter-widgets/base",
      "model_module_version": "1.2.0",
      "model_name": "LayoutModel",
      "state": {
       "_model_module": "@jupyter-widgets/base",
       "_model_module_version": "1.2.0",
       "_model_name": "LayoutModel",
       "_view_count": null,
       "_view_module": "@jupyter-widgets/base",
       "_view_module_version": "1.2.0",
       "_view_name": "LayoutView",
       "align_content": null,
       "align_items": null,
       "align_self": null,
       "border": null,
       "bottom": null,
       "display": null,
       "flex": null,
       "flex_flow": null,
       "grid_area": null,
       "grid_auto_columns": null,
       "grid_auto_flow": null,
       "grid_auto_rows": null,
       "grid_column": null,
       "grid_gap": null,
       "grid_row": null,
       "grid_template_areas": null,
       "grid_template_columns": null,
       "grid_template_rows": null,
       "height": null,
       "justify_content": null,
       "justify_items": null,
       "left": null,
       "margin": null,
       "max_height": null,
       "max_width": null,
       "min_height": null,
       "min_width": null,
       "object_fit": null,
       "object_position": null,
       "order": null,
       "overflow": null,
       "overflow_x": null,
       "overflow_y": null,
       "padding": null,
       "right": null,
       "top": null,
       "visibility": null,
       "width": null
      }
     },
     "7714822e96444134b6518a34edc015c2": {
      "model_module": "@jupyter-widgets/controls",
      "model_module_version": "1.5.0",
      "model_name": "DescriptionStyleModel",
      "state": {
       "_model_module": "@jupyter-widgets/controls",
       "_model_module_version": "1.5.0",
       "_model_name": "DescriptionStyleModel",
       "_view_count": null,
       "_view_module": "@jupyter-widgets/base",
       "_view_module_version": "1.2.0",
       "_view_name": "StyleView",
       "description_width": ""
      }
     },
     "773b6732479c4015b896bffb116a07ff": {
      "model_module": "@jupyter-widgets/controls",
      "model_module_version": "1.5.0",
      "model_name": "DescriptionStyleModel",
      "state": {
       "_model_module": "@jupyter-widgets/controls",
       "_model_module_version": "1.5.0",
       "_model_name": "DescriptionStyleModel",
       "_view_count": null,
       "_view_module": "@jupyter-widgets/base",
       "_view_module_version": "1.2.0",
       "_view_name": "StyleView",
       "description_width": ""
      }
     },
     "77ded1eb7a2e4e41a3b357dd01bbc7b4": {
      "model_module": "@jupyter-widgets/base",
      "model_module_version": "1.2.0",
      "model_name": "LayoutModel",
      "state": {
       "_model_module": "@jupyter-widgets/base",
       "_model_module_version": "1.2.0",
       "_model_name": "LayoutModel",
       "_view_count": null,
       "_view_module": "@jupyter-widgets/base",
       "_view_module_version": "1.2.0",
       "_view_name": "LayoutView",
       "align_content": null,
       "align_items": null,
       "align_self": null,
       "border": null,
       "bottom": null,
       "display": null,
       "flex": null,
       "flex_flow": null,
       "grid_area": null,
       "grid_auto_columns": null,
       "grid_auto_flow": null,
       "grid_auto_rows": null,
       "grid_column": null,
       "grid_gap": null,
       "grid_row": null,
       "grid_template_areas": null,
       "grid_template_columns": null,
       "grid_template_rows": null,
       "height": null,
       "justify_content": null,
       "justify_items": null,
       "left": null,
       "margin": null,
       "max_height": null,
       "max_width": null,
       "min_height": null,
       "min_width": null,
       "object_fit": null,
       "object_position": null,
       "order": null,
       "overflow": null,
       "overflow_x": null,
       "overflow_y": null,
       "padding": null,
       "right": null,
       "top": null,
       "visibility": null,
       "width": null
      }
     },
     "787dc39227094f81ad80f393f4d0e061": {
      "model_module": "@jupyter-widgets/controls",
      "model_module_version": "1.5.0",
      "model_name": "HBoxModel",
      "state": {
       "_dom_classes": [],
       "_model_module": "@jupyter-widgets/controls",
       "_model_module_version": "1.5.0",
       "_model_name": "HBoxModel",
       "_view_count": null,
       "_view_module": "@jupyter-widgets/controls",
       "_view_module_version": "1.5.0",
       "_view_name": "HBoxView",
       "box_style": "",
       "children": [
        "IPY_MODEL_3f13b8fe422a4dfe8b49a52c5d9fdaa1",
        "IPY_MODEL_49773c5f3ed3457480b70442f95db0e9",
        "IPY_MODEL_f68986adeaca4f7e8f143580540db8d2"
       ],
       "layout": "IPY_MODEL_caba842bd7c4488a8bd6b8294cfd838d"
      }
     },
     "793bb2cc842b437eaeae740c562fa6d7": {
      "model_module": "@jupyter-widgets/controls",
      "model_module_version": "1.5.0",
      "model_name": "HBoxModel",
      "state": {
       "_dom_classes": [],
       "_model_module": "@jupyter-widgets/controls",
       "_model_module_version": "1.5.0",
       "_model_name": "HBoxModel",
       "_view_count": null,
       "_view_module": "@jupyter-widgets/controls",
       "_view_module_version": "1.5.0",
       "_view_name": "HBoxView",
       "box_style": "",
       "children": [
        "IPY_MODEL_0c111fb4719a4c3c8653b7856d8e4f00",
        "IPY_MODEL_03d0fbad9d0c472393383c34f5ddc5b5",
        "IPY_MODEL_15d4b1ca0ae74210b144d29a6c215c80"
       ],
       "layout": "IPY_MODEL_b8c3a1a47dde440abf270d76974017d3"
      }
     },
     "7a2b26f8d2274410ae9ec3e263dcaf91": {
      "model_module": "@jupyter-widgets/controls",
      "model_module_version": "1.5.0",
      "model_name": "ProgressStyleModel",
      "state": {
       "_model_module": "@jupyter-widgets/controls",
       "_model_module_version": "1.5.0",
       "_model_name": "ProgressStyleModel",
       "_view_count": null,
       "_view_module": "@jupyter-widgets/base",
       "_view_module_version": "1.2.0",
       "_view_name": "StyleView",
       "bar_color": null,
       "description_width": ""
      }
     },
     "7a55dda953f643d69b4c49c36de8e2b1": {
      "model_module": "@jupyter-widgets/controls",
      "model_module_version": "1.5.0",
      "model_name": "DescriptionStyleModel",
      "state": {
       "_model_module": "@jupyter-widgets/controls",
       "_model_module_version": "1.5.0",
       "_model_name": "DescriptionStyleModel",
       "_view_count": null,
       "_view_module": "@jupyter-widgets/base",
       "_view_module_version": "1.2.0",
       "_view_name": "StyleView",
       "description_width": ""
      }
     },
     "7a57ddb5a2a14f7a8b971a861dbaf8e0": {
      "model_module": "@jupyter-widgets/base",
      "model_module_version": "1.2.0",
      "model_name": "LayoutModel",
      "state": {
       "_model_module": "@jupyter-widgets/base",
       "_model_module_version": "1.2.0",
       "_model_name": "LayoutModel",
       "_view_count": null,
       "_view_module": "@jupyter-widgets/base",
       "_view_module_version": "1.2.0",
       "_view_name": "LayoutView",
       "align_content": null,
       "align_items": null,
       "align_self": null,
       "border": null,
       "bottom": null,
       "display": null,
       "flex": null,
       "flex_flow": null,
       "grid_area": null,
       "grid_auto_columns": null,
       "grid_auto_flow": null,
       "grid_auto_rows": null,
       "grid_column": null,
       "grid_gap": null,
       "grid_row": null,
       "grid_template_areas": null,
       "grid_template_columns": null,
       "grid_template_rows": null,
       "height": null,
       "justify_content": null,
       "justify_items": null,
       "left": null,
       "margin": null,
       "max_height": null,
       "max_width": null,
       "min_height": null,
       "min_width": null,
       "object_fit": null,
       "object_position": null,
       "order": null,
       "overflow": null,
       "overflow_x": null,
       "overflow_y": null,
       "padding": null,
       "right": null,
       "top": null,
       "visibility": null,
       "width": null
      }
     },
     "7be6bd4c48bb459595f7761de50c3f02": {
      "model_module": "@jupyter-widgets/base",
      "model_module_version": "1.2.0",
      "model_name": "LayoutModel",
      "state": {
       "_model_module": "@jupyter-widgets/base",
       "_model_module_version": "1.2.0",
       "_model_name": "LayoutModel",
       "_view_count": null,
       "_view_module": "@jupyter-widgets/base",
       "_view_module_version": "1.2.0",
       "_view_name": "LayoutView",
       "align_content": null,
       "align_items": null,
       "align_self": null,
       "border": null,
       "bottom": null,
       "display": null,
       "flex": null,
       "flex_flow": null,
       "grid_area": null,
       "grid_auto_columns": null,
       "grid_auto_flow": null,
       "grid_auto_rows": null,
       "grid_column": null,
       "grid_gap": null,
       "grid_row": null,
       "grid_template_areas": null,
       "grid_template_columns": null,
       "grid_template_rows": null,
       "height": null,
       "justify_content": null,
       "justify_items": null,
       "left": null,
       "margin": null,
       "max_height": null,
       "max_width": null,
       "min_height": null,
       "min_width": null,
       "object_fit": null,
       "object_position": null,
       "order": null,
       "overflow": null,
       "overflow_x": null,
       "overflow_y": null,
       "padding": null,
       "right": null,
       "top": null,
       "visibility": null,
       "width": null
      }
     },
     "7cdd22f0a7374d7e9008409fa6ae7094": {
      "model_module": "@jupyter-widgets/base",
      "model_module_version": "1.2.0",
      "model_name": "LayoutModel",
      "state": {
       "_model_module": "@jupyter-widgets/base",
       "_model_module_version": "1.2.0",
       "_model_name": "LayoutModel",
       "_view_count": null,
       "_view_module": "@jupyter-widgets/base",
       "_view_module_version": "1.2.0",
       "_view_name": "LayoutView",
       "align_content": null,
       "align_items": null,
       "align_self": null,
       "border": null,
       "bottom": null,
       "display": null,
       "flex": null,
       "flex_flow": null,
       "grid_area": null,
       "grid_auto_columns": null,
       "grid_auto_flow": null,
       "grid_auto_rows": null,
       "grid_column": null,
       "grid_gap": null,
       "grid_row": null,
       "grid_template_areas": null,
       "grid_template_columns": null,
       "grid_template_rows": null,
       "height": null,
       "justify_content": null,
       "justify_items": null,
       "left": null,
       "margin": null,
       "max_height": null,
       "max_width": null,
       "min_height": null,
       "min_width": null,
       "object_fit": null,
       "object_position": null,
       "order": null,
       "overflow": null,
       "overflow_x": null,
       "overflow_y": null,
       "padding": null,
       "right": null,
       "top": null,
       "visibility": null,
       "width": null
      }
     },
     "7ebf377a6dc642c7bd503f3a330b4c96": {
      "model_module": "@jupyter-widgets/controls",
      "model_module_version": "1.5.0",
      "model_name": "ProgressStyleModel",
      "state": {
       "_model_module": "@jupyter-widgets/controls",
       "_model_module_version": "1.5.0",
       "_model_name": "ProgressStyleModel",
       "_view_count": null,
       "_view_module": "@jupyter-widgets/base",
       "_view_module_version": "1.2.0",
       "_view_name": "StyleView",
       "bar_color": null,
       "description_width": ""
      }
     },
     "7ed81d6f46b04e55a42c4d2e5c2417c1": {
      "model_module": "@jupyter-widgets/controls",
      "model_module_version": "1.5.0",
      "model_name": "FloatProgressModel",
      "state": {
       "_dom_classes": [],
       "_model_module": "@jupyter-widgets/controls",
       "_model_module_version": "1.5.0",
       "_model_name": "FloatProgressModel",
       "_view_count": null,
       "_view_module": "@jupyter-widgets/controls",
       "_view_module_version": "1.5.0",
       "_view_name": "ProgressView",
       "bar_style": "success",
       "description": "",
       "description_tooltip": null,
       "layout": "IPY_MODEL_223fd6e4442a4962bbdaff32fc2361d8",
       "max": 1115590446.0,
       "min": 0.0,
       "orientation": "horizontal",
       "style": "IPY_MODEL_079e488136f147adaed4e3463496a044",
       "value": 1115590446.0
      }
     },
     "7fb4d865a3034357a4d196ea008b3171": {
      "model_module": "@jupyter-widgets/controls",
      "model_module_version": "1.5.0",
      "model_name": "DescriptionStyleModel",
      "state": {
       "_model_module": "@jupyter-widgets/controls",
       "_model_module_version": "1.5.0",
       "_model_name": "DescriptionStyleModel",
       "_view_count": null,
       "_view_module": "@jupyter-widgets/base",
       "_view_module_version": "1.2.0",
       "_view_name": "StyleView",
       "description_width": ""
      }
     },
     "82391c1f119841088aa51f6ae3c4bcf8": {
      "model_module": "@jupyter-widgets/base",
      "model_module_version": "1.2.0",
      "model_name": "LayoutModel",
      "state": {
       "_model_module": "@jupyter-widgets/base",
       "_model_module_version": "1.2.0",
       "_model_name": "LayoutModel",
       "_view_count": null,
       "_view_module": "@jupyter-widgets/base",
       "_view_module_version": "1.2.0",
       "_view_name": "LayoutView",
       "align_content": null,
       "align_items": null,
       "align_self": null,
       "border": null,
       "bottom": null,
       "display": null,
       "flex": null,
       "flex_flow": null,
       "grid_area": null,
       "grid_auto_columns": null,
       "grid_auto_flow": null,
       "grid_auto_rows": null,
       "grid_column": null,
       "grid_gap": null,
       "grid_row": null,
       "grid_template_areas": null,
       "grid_template_columns": null,
       "grid_template_rows": null,
       "height": null,
       "justify_content": null,
       "justify_items": null,
       "left": null,
       "margin": null,
       "max_height": null,
       "max_width": null,
       "min_height": null,
       "min_width": null,
       "object_fit": null,
       "object_position": null,
       "order": null,
       "overflow": null,
       "overflow_x": null,
       "overflow_y": null,
       "padding": null,
       "right": null,
       "top": null,
       "visibility": null,
       "width": null
      }
     },
     "83648729cc884105aa62bf850c624914": {
      "model_module": "@jupyter-widgets/controls",
      "model_module_version": "1.5.0",
      "model_name": "HTMLModel",
      "state": {
       "_dom_classes": [],
       "_model_module": "@jupyter-widgets/controls",
       "_model_module_version": "1.5.0",
       "_model_name": "HTMLModel",
       "_view_count": null,
       "_view_module": "@jupyter-widgets/controls",
       "_view_module_version": "1.5.0",
       "_view_name": "HTMLView",
       "description": "",
       "description_tooltip": null,
       "layout": "IPY_MODEL_6a882065e3e2474bb917c73d39a41384",
       "placeholder": "​",
       "style": "IPY_MODEL_98b728db01624aa887a0676113477c49",
       "value": " 1.11G/1.11G [00:27&lt;00:00, 41.8MB/s]"
      }
     },
     "83adb5d6119441b99c7da4f9a438df60": {
      "model_module": "@jupyter-widgets/controls",
      "model_module_version": "1.5.0",
      "model_name": "FloatProgressModel",
      "state": {
       "_dom_classes": [],
       "_model_module": "@jupyter-widgets/controls",
       "_model_module_version": "1.5.0",
       "_model_name": "FloatProgressModel",
       "_view_count": null,
       "_view_module": "@jupyter-widgets/controls",
       "_view_module_version": "1.5.0",
       "_view_name": "ProgressView",
       "bar_style": "success",
       "description": "",
       "description_tooltip": null,
       "layout": "IPY_MODEL_0b63371deb9c45cc93f5f640309a38a3",
       "max": 4.0,
       "min": 0.0,
       "orientation": "horizontal",
       "style": "IPY_MODEL_7ebf377a6dc642c7bd503f3a330b4c96",
       "value": 4.0
      }
     },
     "83e616f4b2ee4afb93c88322420900ea": {
      "model_module": "@jupyter-widgets/base",
      "model_module_version": "1.2.0",
      "model_name": "LayoutModel",
      "state": {
       "_model_module": "@jupyter-widgets/base",
       "_model_module_version": "1.2.0",
       "_model_name": "LayoutModel",
       "_view_count": null,
       "_view_module": "@jupyter-widgets/base",
       "_view_module_version": "1.2.0",
       "_view_name": "LayoutView",
       "align_content": null,
       "align_items": null,
       "align_self": null,
       "border": null,
       "bottom": null,
       "display": null,
       "flex": null,
       "flex_flow": null,
       "grid_area": null,
       "grid_auto_columns": null,
       "grid_auto_flow": null,
       "grid_auto_rows": null,
       "grid_column": null,
       "grid_gap": null,
       "grid_row": null,
       "grid_template_areas": null,
       "grid_template_columns": null,
       "grid_template_rows": null,
       "height": null,
       "justify_content": null,
       "justify_items": null,
       "left": null,
       "margin": null,
       "max_height": null,
       "max_width": null,
       "min_height": null,
       "min_width": null,
       "object_fit": null,
       "object_position": null,
       "order": null,
       "overflow": null,
       "overflow_x": null,
       "overflow_y": null,
       "padding": null,
       "right": null,
       "top": null,
       "visibility": null,
       "width": null
      }
     },
     "84c5353ab7034b66b12c26e463336e13": {
      "model_module": "@jupyter-widgets/base",
      "model_module_version": "1.2.0",
      "model_name": "LayoutModel",
      "state": {
       "_model_module": "@jupyter-widgets/base",
       "_model_module_version": "1.2.0",
       "_model_name": "LayoutModel",
       "_view_count": null,
       "_view_module": "@jupyter-widgets/base",
       "_view_module_version": "1.2.0",
       "_view_name": "LayoutView",
       "align_content": null,
       "align_items": null,
       "align_self": null,
       "border": null,
       "bottom": null,
       "display": null,
       "flex": null,
       "flex_flow": null,
       "grid_area": null,
       "grid_auto_columns": null,
       "grid_auto_flow": null,
       "grid_auto_rows": null,
       "grid_column": null,
       "grid_gap": null,
       "grid_row": null,
       "grid_template_areas": null,
       "grid_template_columns": null,
       "grid_template_rows": null,
       "height": null,
       "justify_content": null,
       "justify_items": null,
       "left": null,
       "margin": null,
       "max_height": null,
       "max_width": null,
       "min_height": null,
       "min_width": null,
       "object_fit": null,
       "object_position": null,
       "order": null,
       "overflow": null,
       "overflow_x": null,
       "overflow_y": null,
       "padding": null,
       "right": null,
       "top": null,
       "visibility": null,
       "width": null
      }
     },
     "84f0376d0c6343f1b6c3f8b4a65db55d": {
      "model_module": "@jupyter-widgets/controls",
      "model_module_version": "1.5.0",
      "model_name": "ProgressStyleModel",
      "state": {
       "_model_module": "@jupyter-widgets/controls",
       "_model_module_version": "1.5.0",
       "_model_name": "ProgressStyleModel",
       "_view_count": null,
       "_view_module": "@jupyter-widgets/base",
       "_view_module_version": "1.2.0",
       "_view_name": "StyleView",
       "bar_color": null,
       "description_width": ""
      }
     },
     "8537150ff65846df913409ccdab6dc78": {
      "model_module": "@jupyter-widgets/base",
      "model_module_version": "1.2.0",
      "model_name": "LayoutModel",
      "state": {
       "_model_module": "@jupyter-widgets/base",
       "_model_module_version": "1.2.0",
       "_model_name": "LayoutModel",
       "_view_count": null,
       "_view_module": "@jupyter-widgets/base",
       "_view_module_version": "1.2.0",
       "_view_name": "LayoutView",
       "align_content": null,
       "align_items": null,
       "align_self": null,
       "border": null,
       "bottom": null,
       "display": null,
       "flex": null,
       "flex_flow": null,
       "grid_area": null,
       "grid_auto_columns": null,
       "grid_auto_flow": null,
       "grid_auto_rows": null,
       "grid_column": null,
       "grid_gap": null,
       "grid_row": null,
       "grid_template_areas": null,
       "grid_template_columns": null,
       "grid_template_rows": null,
       "height": null,
       "justify_content": null,
       "justify_items": null,
       "left": null,
       "margin": null,
       "max_height": null,
       "max_width": null,
       "min_height": null,
       "min_width": null,
       "object_fit": null,
       "object_position": null,
       "order": null,
       "overflow": null,
       "overflow_x": null,
       "overflow_y": null,
       "padding": null,
       "right": null,
       "top": null,
       "visibility": null,
       "width": null
      }
     },
     "88d949f358944ee09d1eff0beff3804d": {
      "model_module": "@jupyter-widgets/controls",
      "model_module_version": "1.5.0",
      "model_name": "DescriptionStyleModel",
      "state": {
       "_model_module": "@jupyter-widgets/controls",
       "_model_module_version": "1.5.0",
       "_model_name": "DescriptionStyleModel",
       "_view_count": null,
       "_view_module": "@jupyter-widgets/base",
       "_view_module_version": "1.2.0",
       "_view_name": "StyleView",
       "description_width": ""
      }
     },
     "893b84e906ba41efbcf52d0cab890a45": {
      "model_module": "@jupyter-widgets/controls",
      "model_module_version": "1.5.0",
      "model_name": "HTMLModel",
      "state": {
       "_dom_classes": [],
       "_model_module": "@jupyter-widgets/controls",
       "_model_module_version": "1.5.0",
       "_model_name": "HTMLModel",
       "_view_count": null,
       "_view_module": "@jupyter-widgets/controls",
       "_view_module_version": "1.5.0",
       "_view_name": "HTMLView",
       "description": "",
       "description_tooltip": null,
       "layout": "IPY_MODEL_653cc29b1de642719681d2500cd61558",
       "placeholder": "​",
       "style": "IPY_MODEL_7401e92b5e124f5caf22b6945c4416e8",
       "value": " 6/6 [00:00&lt;00:00,  9.78ba/s]"
      }
     },
     "89df4df9f74c4dc7a8bc62d9fa6bf3ec": {
      "model_module": "@jupyter-widgets/controls",
      "model_module_version": "1.5.0",
      "model_name": "DescriptionStyleModel",
      "state": {
       "_model_module": "@jupyter-widgets/controls",
       "_model_module_version": "1.5.0",
       "_model_name": "DescriptionStyleModel",
       "_view_count": null,
       "_view_module": "@jupyter-widgets/base",
       "_view_module_version": "1.2.0",
       "_view_name": "StyleView",
       "description_width": ""
      }
     },
     "89f21bed3e984d32b1f3f2af48873056": {
      "model_module": "@jupyter-widgets/controls",
      "model_module_version": "1.5.0",
      "model_name": "HTMLModel",
      "state": {
       "_dom_classes": [],
       "_model_module": "@jupyter-widgets/controls",
       "_model_module_version": "1.5.0",
       "_model_name": "HTMLModel",
       "_view_count": null,
       "_view_module": "@jupyter-widgets/controls",
       "_view_module_version": "1.5.0",
       "_view_name": "HTMLView",
       "description": "",
       "description_tooltip": null,
       "layout": "IPY_MODEL_96a85684e44e4ad6b4f4f9b7e334f26a",
       "placeholder": "​",
       "style": "IPY_MODEL_5d7c3631e3a14313a0ef2b2cd2f3323b",
       "value": "100%"
      }
     },
     "8bc11606e0a94860bc27af058c4f14dd": {
      "model_module": "@jupyter-widgets/base",
      "model_module_version": "1.2.0",
      "model_name": "LayoutModel",
      "state": {
       "_model_module": "@jupyter-widgets/base",
       "_model_module_version": "1.2.0",
       "_model_name": "LayoutModel",
       "_view_count": null,
       "_view_module": "@jupyter-widgets/base",
       "_view_module_version": "1.2.0",
       "_view_name": "LayoutView",
       "align_content": null,
       "align_items": null,
       "align_self": null,
       "border": null,
       "bottom": null,
       "display": null,
       "flex": null,
       "flex_flow": null,
       "grid_area": null,
       "grid_auto_columns": null,
       "grid_auto_flow": null,
       "grid_auto_rows": null,
       "grid_column": null,
       "grid_gap": null,
       "grid_row": null,
       "grid_template_areas": null,
       "grid_template_columns": null,
       "grid_template_rows": null,
       "height": null,
       "justify_content": null,
       "justify_items": null,
       "left": null,
       "margin": null,
       "max_height": null,
       "max_width": null,
       "min_height": null,
       "min_width": null,
       "object_fit": null,
       "object_position": null,
       "order": null,
       "overflow": null,
       "overflow_x": null,
       "overflow_y": null,
       "padding": null,
       "right": null,
       "top": null,
       "visibility": null,
       "width": null
      }
     },
     "8dc79e5f428340b5bac29a2f9b8d455b": {
      "model_module": "@jupyter-widgets/base",
      "model_module_version": "1.2.0",
      "model_name": "LayoutModel",
      "state": {
       "_model_module": "@jupyter-widgets/base",
       "_model_module_version": "1.2.0",
       "_model_name": "LayoutModel",
       "_view_count": null,
       "_view_module": "@jupyter-widgets/base",
       "_view_module_version": "1.2.0",
       "_view_name": "LayoutView",
       "align_content": null,
       "align_items": null,
       "align_self": null,
       "border": null,
       "bottom": null,
       "display": null,
       "flex": null,
       "flex_flow": null,
       "grid_area": null,
       "grid_auto_columns": null,
       "grid_auto_flow": null,
       "grid_auto_rows": null,
       "grid_column": null,
       "grid_gap": null,
       "grid_row": null,
       "grid_template_areas": null,
       "grid_template_columns": null,
       "grid_template_rows": null,
       "height": null,
       "justify_content": null,
       "justify_items": null,
       "left": null,
       "margin": null,
       "max_height": null,
       "max_width": null,
       "min_height": null,
       "min_width": null,
       "object_fit": null,
       "object_position": null,
       "order": null,
       "overflow": null,
       "overflow_x": null,
       "overflow_y": null,
       "padding": null,
       "right": null,
       "top": null,
       "visibility": null,
       "width": null
      }
     },
     "8e4a007bfa044a259d0ae63be3eb970a": {
      "model_module": "@jupyter-widgets/controls",
      "model_module_version": "1.5.0",
      "model_name": "HTMLModel",
      "state": {
       "_dom_classes": [],
       "_model_module": "@jupyter-widgets/controls",
       "_model_module_version": "1.5.0",
       "_model_name": "HTMLModel",
       "_view_count": null,
       "_view_module": "@jupyter-widgets/controls",
       "_view_module_version": "1.5.0",
       "_view_name": "HTMLView",
       "description": "",
       "description_tooltip": null,
       "layout": "IPY_MODEL_987e10bbce104ccfa7a7e787292dfd5b",
       "placeholder": "​",
       "style": "IPY_MODEL_bbc3f6d5ceca4d88a42fdce43521e452",
       "value": "Downloading (…)&quot;config.json&quot;;: 100%"
      }
     },
     "8fcb9c79b2fb49c1910a7c5ea75d8c5d": {
      "model_module": "@jupyter-widgets/controls",
      "model_module_version": "1.5.0",
      "model_name": "HBoxModel",
      "state": {
       "_dom_classes": [],
       "_model_module": "@jupyter-widgets/controls",
       "_model_module_version": "1.5.0",
       "_model_name": "HBoxModel",
       "_view_count": null,
       "_view_module": "@jupyter-widgets/controls",
       "_view_module_version": "1.5.0",
       "_view_name": "HBoxView",
       "box_style": "",
       "children": [
        "IPY_MODEL_6bcca81180744905a1e920c633d61236",
        "IPY_MODEL_e410dc5ef30c44ea9fa38f2ee9a9fafd",
        "IPY_MODEL_fe1f68c43a86464c838927c91c1ce1dc"
       ],
       "layout": "IPY_MODEL_5e60aa2df0e745518fa1d83702ac9a4c"
      }
     },
     "9077e6f59ddd4a18a9afb62034d1e748": {
      "model_module": "@jupyter-widgets/base",
      "model_module_version": "1.2.0",
      "model_name": "LayoutModel",
      "state": {
       "_model_module": "@jupyter-widgets/base",
       "_model_module_version": "1.2.0",
       "_model_name": "LayoutModel",
       "_view_count": null,
       "_view_module": "@jupyter-widgets/base",
       "_view_module_version": "1.2.0",
       "_view_name": "LayoutView",
       "align_content": null,
       "align_items": null,
       "align_self": null,
       "border": null,
       "bottom": null,
       "display": null,
       "flex": null,
       "flex_flow": null,
       "grid_area": null,
       "grid_auto_columns": null,
       "grid_auto_flow": null,
       "grid_auto_rows": null,
       "grid_column": null,
       "grid_gap": null,
       "grid_row": null,
       "grid_template_areas": null,
       "grid_template_columns": null,
       "grid_template_rows": null,
       "height": null,
       "justify_content": null,
       "justify_items": null,
       "left": null,
       "margin": null,
       "max_height": null,
       "max_width": null,
       "min_height": null,
       "min_width": null,
       "object_fit": null,
       "object_position": null,
       "order": null,
       "overflow": null,
       "overflow_x": null,
       "overflow_y": null,
       "padding": null,
       "right": null,
       "top": null,
       "visibility": null,
       "width": null
      }
     },
     "90c0f51556d74bd4ad5dc9a31e04ee7f": {
      "model_module": "@jupyter-widgets/controls",
      "model_module_version": "1.5.0",
      "model_name": "DescriptionStyleModel",
      "state": {
       "_model_module": "@jupyter-widgets/controls",
       "_model_module_version": "1.5.0",
       "_model_name": "DescriptionStyleModel",
       "_view_count": null,
       "_view_module": "@jupyter-widgets/base",
       "_view_module_version": "1.2.0",
       "_view_name": "StyleView",
       "description_width": ""
      }
     },
     "91399afcb325416cad351a8bb32d5dbd": {
      "model_module": "@jupyter-widgets/base",
      "model_module_version": "1.2.0",
      "model_name": "LayoutModel",
      "state": {
       "_model_module": "@jupyter-widgets/base",
       "_model_module_version": "1.2.0",
       "_model_name": "LayoutModel",
       "_view_count": null,
       "_view_module": "@jupyter-widgets/base",
       "_view_module_version": "1.2.0",
       "_view_name": "LayoutView",
       "align_content": null,
       "align_items": null,
       "align_self": null,
       "border": null,
       "bottom": null,
       "display": null,
       "flex": null,
       "flex_flow": null,
       "grid_area": null,
       "grid_auto_columns": null,
       "grid_auto_flow": null,
       "grid_auto_rows": null,
       "grid_column": null,
       "grid_gap": null,
       "grid_row": null,
       "grid_template_areas": null,
       "grid_template_columns": null,
       "grid_template_rows": null,
       "height": null,
       "justify_content": null,
       "justify_items": null,
       "left": null,
       "margin": null,
       "max_height": null,
       "max_width": null,
       "min_height": null,
       "min_width": null,
       "object_fit": null,
       "object_position": null,
       "order": null,
       "overflow": null,
       "overflow_x": null,
       "overflow_y": null,
       "padding": null,
       "right": null,
       "top": null,
       "visibility": null,
       "width": null
      }
     },
     "9142fe4fe7ef443b943462a90b9bc637": {
      "model_module": "@jupyter-widgets/base",
      "model_module_version": "1.2.0",
      "model_name": "LayoutModel",
      "state": {
       "_model_module": "@jupyter-widgets/base",
       "_model_module_version": "1.2.0",
       "_model_name": "LayoutModel",
       "_view_count": null,
       "_view_module": "@jupyter-widgets/base",
       "_view_module_version": "1.2.0",
       "_view_name": "LayoutView",
       "align_content": null,
       "align_items": null,
       "align_self": null,
       "border": null,
       "bottom": null,
       "display": null,
       "flex": null,
       "flex_flow": null,
       "grid_area": null,
       "grid_auto_columns": null,
       "grid_auto_flow": null,
       "grid_auto_rows": null,
       "grid_column": null,
       "grid_gap": null,
       "grid_row": null,
       "grid_template_areas": null,
       "grid_template_columns": null,
       "grid_template_rows": null,
       "height": null,
       "justify_content": null,
       "justify_items": null,
       "left": null,
       "margin": null,
       "max_height": null,
       "max_width": null,
       "min_height": null,
       "min_width": null,
       "object_fit": null,
       "object_position": null,
       "order": null,
       "overflow": null,
       "overflow_x": null,
       "overflow_y": null,
       "padding": null,
       "right": null,
       "top": null,
       "visibility": null,
       "width": null
      }
     },
     "91803f2019be403bb0a965acf0f5ab28": {
      "model_module": "@jupyter-widgets/controls",
      "model_module_version": "1.5.0",
      "model_name": "HBoxModel",
      "state": {
       "_dom_classes": [],
       "_model_module": "@jupyter-widgets/controls",
       "_model_module_version": "1.5.0",
       "_model_name": "HBoxModel",
       "_view_count": null,
       "_view_module": "@jupyter-widgets/controls",
       "_view_module_version": "1.5.0",
       "_view_name": "HBoxView",
       "box_style": "",
       "children": [
        "IPY_MODEL_cfe7fc80224c4e4985dad8b7fedf52bb",
        "IPY_MODEL_d78ab976175f4a499114f6dfc5d8c00d",
        "IPY_MODEL_3dbcc77dfa824b06a8278cc6d8d655fc"
       ],
       "layout": "IPY_MODEL_fabaa7302a2d4c39a69d97bd23fe82a5"
      }
     },
     "92d41627c1f44152ab673d98770b77dc": {
      "model_module": "@jupyter-widgets/base",
      "model_module_version": "1.2.0",
      "model_name": "LayoutModel",
      "state": {
       "_model_module": "@jupyter-widgets/base",
       "_model_module_version": "1.2.0",
       "_model_name": "LayoutModel",
       "_view_count": null,
       "_view_module": "@jupyter-widgets/base",
       "_view_module_version": "1.2.0",
       "_view_name": "LayoutView",
       "align_content": null,
       "align_items": null,
       "align_self": null,
       "border": null,
       "bottom": null,
       "display": null,
       "flex": null,
       "flex_flow": null,
       "grid_area": null,
       "grid_auto_columns": null,
       "grid_auto_flow": null,
       "grid_auto_rows": null,
       "grid_column": null,
       "grid_gap": null,
       "grid_row": null,
       "grid_template_areas": null,
       "grid_template_columns": null,
       "grid_template_rows": null,
       "height": null,
       "justify_content": null,
       "justify_items": null,
       "left": null,
       "margin": null,
       "max_height": null,
       "max_width": null,
       "min_height": null,
       "min_width": null,
       "object_fit": null,
       "object_position": null,
       "order": null,
       "overflow": null,
       "overflow_x": null,
       "overflow_y": null,
       "padding": null,
       "right": null,
       "top": null,
       "visibility": null,
       "width": null
      }
     },
     "93d7956b18a340829c0542152ab76c65": {
      "model_module": "@jupyter-widgets/base",
      "model_module_version": "1.2.0",
      "model_name": "LayoutModel",
      "state": {
       "_model_module": "@jupyter-widgets/base",
       "_model_module_version": "1.2.0",
       "_model_name": "LayoutModel",
       "_view_count": null,
       "_view_module": "@jupyter-widgets/base",
       "_view_module_version": "1.2.0",
       "_view_name": "LayoutView",
       "align_content": null,
       "align_items": null,
       "align_self": null,
       "border": null,
       "bottom": null,
       "display": null,
       "flex": null,
       "flex_flow": null,
       "grid_area": null,
       "grid_auto_columns": null,
       "grid_auto_flow": null,
       "grid_auto_rows": null,
       "grid_column": null,
       "grid_gap": null,
       "grid_row": null,
       "grid_template_areas": null,
       "grid_template_columns": null,
       "grid_template_rows": null,
       "height": null,
       "justify_content": null,
       "justify_items": null,
       "left": null,
       "margin": null,
       "max_height": null,
       "max_width": null,
       "min_height": null,
       "min_width": null,
       "object_fit": null,
       "object_position": null,
       "order": null,
       "overflow": null,
       "overflow_x": null,
       "overflow_y": null,
       "padding": null,
       "right": null,
       "top": null,
       "visibility": null,
       "width": null
      }
     },
     "944db858a5a7405e89bdc6302983c5cf": {
      "model_module": "@jupyter-widgets/base",
      "model_module_version": "1.2.0",
      "model_name": "LayoutModel",
      "state": {
       "_model_module": "@jupyter-widgets/base",
       "_model_module_version": "1.2.0",
       "_model_name": "LayoutModel",
       "_view_count": null,
       "_view_module": "@jupyter-widgets/base",
       "_view_module_version": "1.2.0",
       "_view_name": "LayoutView",
       "align_content": null,
       "align_items": null,
       "align_self": null,
       "border": null,
       "bottom": null,
       "display": null,
       "flex": null,
       "flex_flow": null,
       "grid_area": null,
       "grid_auto_columns": null,
       "grid_auto_flow": null,
       "grid_auto_rows": null,
       "grid_column": null,
       "grid_gap": null,
       "grid_row": null,
       "grid_template_areas": null,
       "grid_template_columns": null,
       "grid_template_rows": null,
       "height": null,
       "justify_content": null,
       "justify_items": null,
       "left": null,
       "margin": null,
       "max_height": null,
       "max_width": null,
       "min_height": null,
       "min_width": null,
       "object_fit": null,
       "object_position": null,
       "order": null,
       "overflow": null,
       "overflow_x": null,
       "overflow_y": null,
       "padding": null,
       "right": null,
       "top": null,
       "visibility": null,
       "width": null
      }
     },
     "96a85684e44e4ad6b4f4f9b7e334f26a": {
      "model_module": "@jupyter-widgets/base",
      "model_module_version": "1.2.0",
      "model_name": "LayoutModel",
      "state": {
       "_model_module": "@jupyter-widgets/base",
       "_model_module_version": "1.2.0",
       "_model_name": "LayoutModel",
       "_view_count": null,
       "_view_module": "@jupyter-widgets/base",
       "_view_module_version": "1.2.0",
       "_view_name": "LayoutView",
       "align_content": null,
       "align_items": null,
       "align_self": null,
       "border": null,
       "bottom": null,
       "display": null,
       "flex": null,
       "flex_flow": null,
       "grid_area": null,
       "grid_auto_columns": null,
       "grid_auto_flow": null,
       "grid_auto_rows": null,
       "grid_column": null,
       "grid_gap": null,
       "grid_row": null,
       "grid_template_areas": null,
       "grid_template_columns": null,
       "grid_template_rows": null,
       "height": null,
       "justify_content": null,
       "justify_items": null,
       "left": null,
       "margin": null,
       "max_height": null,
       "max_width": null,
       "min_height": null,
       "min_width": null,
       "object_fit": null,
       "object_position": null,
       "order": null,
       "overflow": null,
       "overflow_x": null,
       "overflow_y": null,
       "padding": null,
       "right": null,
       "top": null,
       "visibility": null,
       "width": null
      }
     },
     "9770b2c308cf4b6d8e3367e0bb5b4f8c": {
      "model_module": "@jupyter-widgets/controls",
      "model_module_version": "1.5.0",
      "model_name": "HTMLModel",
      "state": {
       "_dom_classes": [],
       "_model_module": "@jupyter-widgets/controls",
       "_model_module_version": "1.5.0",
       "_model_name": "HTMLModel",
       "_view_count": null,
       "_view_module": "@jupyter-widgets/controls",
       "_view_module_version": "1.5.0",
       "_view_name": "HTMLView",
       "description": "",
       "description_tooltip": null,
       "layout": "IPY_MODEL_5c3cb3f2efb04f6bacb9e297845e514c",
       "placeholder": "​",
       "style": "IPY_MODEL_0474cddd877a4ae9b151839c22a5e2d6",
       "value": "100%"
      }
     },
     "987e10bbce104ccfa7a7e787292dfd5b": {
      "model_module": "@jupyter-widgets/base",
      "model_module_version": "1.2.0",
      "model_name": "LayoutModel",
      "state": {
       "_model_module": "@jupyter-widgets/base",
       "_model_module_version": "1.2.0",
       "_model_name": "LayoutModel",
       "_view_count": null,
       "_view_module": "@jupyter-widgets/base",
       "_view_module_version": "1.2.0",
       "_view_name": "LayoutView",
       "align_content": null,
       "align_items": null,
       "align_self": null,
       "border": null,
       "bottom": null,
       "display": null,
       "flex": null,
       "flex_flow": null,
       "grid_area": null,
       "grid_auto_columns": null,
       "grid_auto_flow": null,
       "grid_auto_rows": null,
       "grid_column": null,
       "grid_gap": null,
       "grid_row": null,
       "grid_template_areas": null,
       "grid_template_columns": null,
       "grid_template_rows": null,
       "height": null,
       "justify_content": null,
       "justify_items": null,
       "left": null,
       "margin": null,
       "max_height": null,
       "max_width": null,
       "min_height": null,
       "min_width": null,
       "object_fit": null,
       "object_position": null,
       "order": null,
       "overflow": null,
       "overflow_x": null,
       "overflow_y": null,
       "padding": null,
       "right": null,
       "top": null,
       "visibility": null,
       "width": null
      }
     },
     "98b728db01624aa887a0676113477c49": {
      "model_module": "@jupyter-widgets/controls",
      "model_module_version": "1.5.0",
      "model_name": "DescriptionStyleModel",
      "state": {
       "_model_module": "@jupyter-widgets/controls",
       "_model_module_version": "1.5.0",
       "_model_name": "DescriptionStyleModel",
       "_view_count": null,
       "_view_module": "@jupyter-widgets/base",
       "_view_module_version": "1.2.0",
       "_view_name": "StyleView",
       "description_width": ""
      }
     },
     "99165e9e83c4445eb2757786c5bb6c56": {
      "model_module": "@jupyter-widgets/controls",
      "model_module_version": "1.5.0",
      "model_name": "DescriptionStyleModel",
      "state": {
       "_model_module": "@jupyter-widgets/controls",
       "_model_module_version": "1.5.0",
       "_model_name": "DescriptionStyleModel",
       "_view_count": null,
       "_view_module": "@jupyter-widgets/base",
       "_view_module_version": "1.2.0",
       "_view_name": "StyleView",
       "description_width": ""
      }
     },
     "9a2d4de8670b4b629e668fe2ad39dcd5": {
      "model_module": "@jupyter-widgets/controls",
      "model_module_version": "1.5.0",
      "model_name": "ProgressStyleModel",
      "state": {
       "_model_module": "@jupyter-widgets/controls",
       "_model_module_version": "1.5.0",
       "_model_name": "ProgressStyleModel",
       "_view_count": null,
       "_view_module": "@jupyter-widgets/base",
       "_view_module_version": "1.2.0",
       "_view_name": "StyleView",
       "bar_color": null,
       "description_width": ""
      }
     },
     "9a56bcabb72e413289694d8a0b0c2d12": {
      "model_module": "@jupyter-widgets/controls",
      "model_module_version": "1.5.0",
      "model_name": "ProgressStyleModel",
      "state": {
       "_model_module": "@jupyter-widgets/controls",
       "_model_module_version": "1.5.0",
       "_model_name": "ProgressStyleModel",
       "_view_count": null,
       "_view_module": "@jupyter-widgets/base",
       "_view_module_version": "1.2.0",
       "_view_name": "StyleView",
       "bar_color": null,
       "description_width": ""
      }
     },
     "9b52a5962d56418ca7d044db3ce96cc9": {
      "model_module": "@jupyter-widgets/base",
      "model_module_version": "1.2.0",
      "model_name": "LayoutModel",
      "state": {
       "_model_module": "@jupyter-widgets/base",
       "_model_module_version": "1.2.0",
       "_model_name": "LayoutModel",
       "_view_count": null,
       "_view_module": "@jupyter-widgets/base",
       "_view_module_version": "1.2.0",
       "_view_name": "LayoutView",
       "align_content": null,
       "align_items": null,
       "align_self": null,
       "border": null,
       "bottom": null,
       "display": null,
       "flex": null,
       "flex_flow": null,
       "grid_area": null,
       "grid_auto_columns": null,
       "grid_auto_flow": null,
       "grid_auto_rows": null,
       "grid_column": null,
       "grid_gap": null,
       "grid_row": null,
       "grid_template_areas": null,
       "grid_template_columns": null,
       "grid_template_rows": null,
       "height": null,
       "justify_content": null,
       "justify_items": null,
       "left": null,
       "margin": null,
       "max_height": null,
       "max_width": null,
       "min_height": null,
       "min_width": null,
       "object_fit": null,
       "object_position": null,
       "order": null,
       "overflow": null,
       "overflow_x": null,
       "overflow_y": null,
       "padding": null,
       "right": null,
       "top": null,
       "visibility": null,
       "width": null
      }
     },
     "9d1d94f947924a059979ab2591776eb9": {
      "model_module": "@jupyter-widgets/controls",
      "model_module_version": "1.5.0",
      "model_name": "DescriptionStyleModel",
      "state": {
       "_model_module": "@jupyter-widgets/controls",
       "_model_module_version": "1.5.0",
       "_model_name": "DescriptionStyleModel",
       "_view_count": null,
       "_view_module": "@jupyter-widgets/base",
       "_view_module_version": "1.2.0",
       "_view_name": "StyleView",
       "description_width": ""
      }
     },
     "9d665cea4ce944288890d7cb474f58d1": {
      "model_module": "@jupyter-widgets/controls",
      "model_module_version": "1.5.0",
      "model_name": "HTMLModel",
      "state": {
       "_dom_classes": [],
       "_model_module": "@jupyter-widgets/controls",
       "_model_module_version": "1.5.0",
       "_model_name": "HTMLModel",
       "_view_count": null,
       "_view_module": "@jupyter-widgets/controls",
       "_view_module_version": "1.5.0",
       "_view_name": "HTMLView",
       "description": "",
       "description_tooltip": null,
       "layout": "IPY_MODEL_aec80921c13546378208ce0271bc63b9",
       "placeholder": "​",
       "style": "IPY_MODEL_4310a5a0c7a9444e8a8a83709e6af63e",
       "value": "Downloading (…)&quot;pytorch_model.bin&quot;;: 100%"
      }
     },
     "9ee7c73a5faa41308f5b6a3a3f5708fe": {
      "model_module": "@jupyter-widgets/base",
      "model_module_version": "1.2.0",
      "model_name": "LayoutModel",
      "state": {
       "_model_module": "@jupyter-widgets/base",
       "_model_module_version": "1.2.0",
       "_model_name": "LayoutModel",
       "_view_count": null,
       "_view_module": "@jupyter-widgets/base",
       "_view_module_version": "1.2.0",
       "_view_name": "LayoutView",
       "align_content": null,
       "align_items": null,
       "align_self": null,
       "border": null,
       "bottom": null,
       "display": null,
       "flex": null,
       "flex_flow": null,
       "grid_area": null,
       "grid_auto_columns": null,
       "grid_auto_flow": null,
       "grid_auto_rows": null,
       "grid_column": null,
       "grid_gap": null,
       "grid_row": null,
       "grid_template_areas": null,
       "grid_template_columns": null,
       "grid_template_rows": null,
       "height": null,
       "justify_content": null,
       "justify_items": null,
       "left": null,
       "margin": null,
       "max_height": null,
       "max_width": null,
       "min_height": null,
       "min_width": null,
       "object_fit": null,
       "object_position": null,
       "order": null,
       "overflow": null,
       "overflow_x": null,
       "overflow_y": null,
       "padding": null,
       "right": null,
       "top": null,
       "visibility": null,
       "width": null
      }
     },
     "9fa2872f5ee64f60bc2e015271d495c8": {
      "model_module": "@jupyter-widgets/base",
      "model_module_version": "1.2.0",
      "model_name": "LayoutModel",
      "state": {
       "_model_module": "@jupyter-widgets/base",
       "_model_module_version": "1.2.0",
       "_model_name": "LayoutModel",
       "_view_count": null,
       "_view_module": "@jupyter-widgets/base",
       "_view_module_version": "1.2.0",
       "_view_name": "LayoutView",
       "align_content": null,
       "align_items": null,
       "align_self": null,
       "border": null,
       "bottom": null,
       "display": null,
       "flex": null,
       "flex_flow": null,
       "grid_area": null,
       "grid_auto_columns": null,
       "grid_auto_flow": null,
       "grid_auto_rows": null,
       "grid_column": null,
       "grid_gap": null,
       "grid_row": null,
       "grid_template_areas": null,
       "grid_template_columns": null,
       "grid_template_rows": null,
       "height": null,
       "justify_content": null,
       "justify_items": null,
       "left": null,
       "margin": null,
       "max_height": null,
       "max_width": null,
       "min_height": null,
       "min_width": null,
       "object_fit": null,
       "object_position": null,
       "order": null,
       "overflow": null,
       "overflow_x": null,
       "overflow_y": null,
       "padding": null,
       "right": null,
       "top": null,
       "visibility": null,
       "width": null
      }
     },
     "a07cb707b97c45908aed85f6667f0fac": {
      "model_module": "@jupyter-widgets/controls",
      "model_module_version": "1.5.0",
      "model_name": "FloatProgressModel",
      "state": {
       "_dom_classes": [],
       "_model_module": "@jupyter-widgets/controls",
       "_model_module_version": "1.5.0",
       "_model_name": "FloatProgressModel",
       "_view_count": null,
       "_view_module": "@jupyter-widgets/controls",
       "_view_module_version": "1.5.0",
       "_view_name": "ProgressView",
       "bar_style": "success",
       "description": "",
       "description_tooltip": null,
       "layout": "IPY_MODEL_71d4162a1a8e4556a02d16e2c7b89d1a",
       "max": 1.0,
       "min": 0.0,
       "orientation": "horizontal",
       "style": "IPY_MODEL_a6c28a3b425b4ff083f99c9f5ec584b2",
       "value": 1.0
      }
     },
     "a3d1806b23d64902a139bd83c17e6488": {
      "model_module": "@jupyter-widgets/base",
      "model_module_version": "1.2.0",
      "model_name": "LayoutModel",
      "state": {
       "_model_module": "@jupyter-widgets/base",
       "_model_module_version": "1.2.0",
       "_model_name": "LayoutModel",
       "_view_count": null,
       "_view_module": "@jupyter-widgets/base",
       "_view_module_version": "1.2.0",
       "_view_name": "LayoutView",
       "align_content": null,
       "align_items": null,
       "align_self": null,
       "border": null,
       "bottom": null,
       "display": null,
       "flex": null,
       "flex_flow": null,
       "grid_area": null,
       "grid_auto_columns": null,
       "grid_auto_flow": null,
       "grid_auto_rows": null,
       "grid_column": null,
       "grid_gap": null,
       "grid_row": null,
       "grid_template_areas": null,
       "grid_template_columns": null,
       "grid_template_rows": null,
       "height": null,
       "justify_content": null,
       "justify_items": null,
       "left": null,
       "margin": null,
       "max_height": null,
       "max_width": null,
       "min_height": null,
       "min_width": null,
       "object_fit": null,
       "object_position": null,
       "order": null,
       "overflow": null,
       "overflow_x": null,
       "overflow_y": null,
       "padding": null,
       "right": null,
       "top": null,
       "visibility": null,
       "width": null
      }
     },
     "a4915199431c494e81638359de404a0c": {
      "model_module": "@jupyter-widgets/controls",
      "model_module_version": "1.5.0",
      "model_name": "ProgressStyleModel",
      "state": {
       "_model_module": "@jupyter-widgets/controls",
       "_model_module_version": "1.5.0",
       "_model_name": "ProgressStyleModel",
       "_view_count": null,
       "_view_module": "@jupyter-widgets/base",
       "_view_module_version": "1.2.0",
       "_view_name": "StyleView",
       "bar_color": null,
       "description_width": ""
      }
     },
     "a668f54b214641cbb5c21bce97863703": {
      "model_module": "@jupyter-widgets/controls",
      "model_module_version": "1.5.0",
      "model_name": "FloatProgressModel",
      "state": {
       "_dom_classes": [],
       "_model_module": "@jupyter-widgets/controls",
       "_model_module_version": "1.5.0",
       "_model_name": "FloatProgressModel",
       "_view_count": null,
       "_view_module": "@jupyter-widgets/controls",
       "_view_module_version": "1.5.0",
       "_view_name": "ProgressView",
       "bar_style": "success",
       "description": "",
       "description_tooltip": null,
       "layout": "IPY_MODEL_596b4812a6f04bfd9e7fa0a2fee0d7de",
       "max": 5069051.0,
       "min": 0.0,
       "orientation": "horizontal",
       "style": "IPY_MODEL_7a2b26f8d2274410ae9ec3e263dcaf91",
       "value": 5069051.0
      }
     },
     "a6c28a3b425b4ff083f99c9f5ec584b2": {
      "model_module": "@jupyter-widgets/controls",
      "model_module_version": "1.5.0",
      "model_name": "ProgressStyleModel",
      "state": {
       "_model_module": "@jupyter-widgets/controls",
       "_model_module_version": "1.5.0",
       "_model_name": "ProgressStyleModel",
       "_view_count": null,
       "_view_module": "@jupyter-widgets/base",
       "_view_module_version": "1.2.0",
       "_view_name": "StyleView",
       "bar_color": null,
       "description_width": ""
      }
     },
     "a8561641d9a343c5833a31212132dd05": {
      "model_module": "@jupyter-widgets/controls",
      "model_module_version": "1.5.0",
      "model_name": "DescriptionStyleModel",
      "state": {
       "_model_module": "@jupyter-widgets/controls",
       "_model_module_version": "1.5.0",
       "_model_name": "DescriptionStyleModel",
       "_view_count": null,
       "_view_module": "@jupyter-widgets/base",
       "_view_module_version": "1.2.0",
       "_view_name": "StyleView",
       "description_width": ""
      }
     },
     "acf5850a1e1c4e80b965b1a381fb2e11": {
      "model_module": "@jupyter-widgets/controls",
      "model_module_version": "1.5.0",
      "model_name": "HBoxModel",
      "state": {
       "_dom_classes": [],
       "_model_module": "@jupyter-widgets/controls",
       "_model_module_version": "1.5.0",
       "_model_name": "HBoxModel",
       "_view_count": null,
       "_view_module": "@jupyter-widgets/controls",
       "_view_module_version": "1.5.0",
       "_view_name": "HBoxView",
       "box_style": "",
       "children": [
        "IPY_MODEL_d350b63e0c1f414a8c713a128f4cb950",
        "IPY_MODEL_2d41618793724356a5b62bfcab43d14e",
        "IPY_MODEL_893b84e906ba41efbcf52d0cab890a45"
       ],
       "layout": "IPY_MODEL_4904a30f6a3643d6b9e27eaa4a6de4ea"
      }
     },
     "ad14b2ad977143e18087a632cd9b5f57": {
      "model_module": "@jupyter-widgets/controls",
      "model_module_version": "1.5.0",
      "model_name": "HTMLModel",
      "state": {
       "_dom_classes": [],
       "_model_module": "@jupyter-widgets/controls",
       "_model_module_version": "1.5.0",
       "_model_name": "HTMLModel",
       "_view_count": null,
       "_view_module": "@jupyter-widgets/controls",
       "_view_module_version": "1.5.0",
       "_view_name": "HTMLView",
       "description": "",
       "description_tooltip": null,
       "layout": "IPY_MODEL_e61c2ee0a86546bbb91276618df07a6e",
       "placeholder": "​",
       "style": "IPY_MODEL_1f8e81f0b7414a0a92c9e96dd501007f",
       "value": " 71/71 [01:06&lt;00:00,  1.10ba/s]"
      }
     },
     "adcfffd574804960a2e38772740e903f": {
      "model_module": "@jupyter-widgets/base",
      "model_module_version": "1.2.0",
      "model_name": "LayoutModel",
      "state": {
       "_model_module": "@jupyter-widgets/base",
       "_model_module_version": "1.2.0",
       "_model_name": "LayoutModel",
       "_view_count": null,
       "_view_module": "@jupyter-widgets/base",
       "_view_module_version": "1.2.0",
       "_view_name": "LayoutView",
       "align_content": null,
       "align_items": null,
       "align_self": null,
       "border": null,
       "bottom": null,
       "display": null,
       "flex": null,
       "flex_flow": null,
       "grid_area": null,
       "grid_auto_columns": null,
       "grid_auto_flow": null,
       "grid_auto_rows": null,
       "grid_column": null,
       "grid_gap": null,
       "grid_row": null,
       "grid_template_areas": null,
       "grid_template_columns": null,
       "grid_template_rows": null,
       "height": null,
       "justify_content": null,
       "justify_items": null,
       "left": null,
       "margin": null,
       "max_height": null,
       "max_width": null,
       "min_height": null,
       "min_width": null,
       "object_fit": null,
       "object_position": null,
       "order": null,
       "overflow": null,
       "overflow_x": null,
       "overflow_y": null,
       "padding": null,
       "right": null,
       "top": null,
       "visibility": null,
       "width": null
      }
     },
     "aec80921c13546378208ce0271bc63b9": {
      "model_module": "@jupyter-widgets/base",
      "model_module_version": "1.2.0",
      "model_name": "LayoutModel",
      "state": {
       "_model_module": "@jupyter-widgets/base",
       "_model_module_version": "1.2.0",
       "_model_name": "LayoutModel",
       "_view_count": null,
       "_view_module": "@jupyter-widgets/base",
       "_view_module_version": "1.2.0",
       "_view_name": "LayoutView",
       "align_content": null,
       "align_items": null,
       "align_self": null,
       "border": null,
       "bottom": null,
       "display": null,
       "flex": null,
       "flex_flow": null,
       "grid_area": null,
       "grid_auto_columns": null,
       "grid_auto_flow": null,
       "grid_auto_rows": null,
       "grid_column": null,
       "grid_gap": null,
       "grid_row": null,
       "grid_template_areas": null,
       "grid_template_columns": null,
       "grid_template_rows": null,
       "height": null,
       "justify_content": null,
       "justify_items": null,
       "left": null,
       "margin": null,
       "max_height": null,
       "max_width": null,
       "min_height": null,
       "min_width": null,
       "object_fit": null,
       "object_position": null,
       "order": null,
       "overflow": null,
       "overflow_x": null,
       "overflow_y": null,
       "padding": null,
       "right": null,
       "top": null,
       "visibility": null,
       "width": null
      }
     },
     "af211a44f8cc4c5e9d096ccb35b73791": {
      "model_module": "@jupyter-widgets/controls",
      "model_module_version": "1.5.0",
      "model_name": "ProgressStyleModel",
      "state": {
       "_model_module": "@jupyter-widgets/controls",
       "_model_module_version": "1.5.0",
       "_model_name": "ProgressStyleModel",
       "_view_count": null,
       "_view_module": "@jupyter-widgets/base",
       "_view_module_version": "1.2.0",
       "_view_name": "StyleView",
       "bar_color": null,
       "description_width": ""
      }
     },
     "b00ab7fa4dd94562831a3f71d9039878": {
      "model_module": "@jupyter-widgets/controls",
      "model_module_version": "1.5.0",
      "model_name": "HTMLModel",
      "state": {
       "_dom_classes": [],
       "_model_module": "@jupyter-widgets/controls",
       "_model_module_version": "1.5.0",
       "_model_name": "HTMLModel",
       "_view_count": null,
       "_view_module": "@jupyter-widgets/controls",
       "_view_module_version": "1.5.0",
       "_view_name": "HTMLView",
       "description": "",
       "description_tooltip": null,
       "layout": "IPY_MODEL_3c771594bd394f768e3a22bd201056be",
       "placeholder": "​",
       "style": "IPY_MODEL_7fb4d865a3034357a4d196ea008b3171",
       "value": " 615/615 [00:00&lt;00:00, 30.8kB/s]"
      }
     },
     "b404e4e9b1484d55a4f0c1493322c41a": {
      "model_module": "@jupyter-widgets/controls",
      "model_module_version": "1.5.0",
      "model_name": "FloatProgressModel",
      "state": {
       "_dom_classes": [],
       "_model_module": "@jupyter-widgets/controls",
       "_model_module_version": "1.5.0",
       "_model_name": "FloatProgressModel",
       "_view_count": null,
       "_view_module": "@jupyter-widgets/controls",
       "_view_module_version": "1.5.0",
       "_view_name": "ProgressView",
       "bar_style": "success",
       "description": "",
       "description_tooltip": null,
       "layout": "IPY_MODEL_a3d1806b23d64902a139bd83c17e6488",
       "max": 5069051.0,
       "min": 0.0,
       "orientation": "horizontal",
       "style": "IPY_MODEL_5900532fff0a43c0b08ad0323ef88ed9",
       "value": 5069051.0
      }
     },
     "b51806e2da614e25a8ef222db2e259dd": {
      "model_module": "@jupyter-widgets/base",
      "model_module_version": "1.2.0",
      "model_name": "LayoutModel",
      "state": {
       "_model_module": "@jupyter-widgets/base",
       "_model_module_version": "1.2.0",
       "_model_name": "LayoutModel",
       "_view_count": null,
       "_view_module": "@jupyter-widgets/base",
       "_view_module_version": "1.2.0",
       "_view_name": "LayoutView",
       "align_content": null,
       "align_items": null,
       "align_self": null,
       "border": null,
       "bottom": null,
       "display": null,
       "flex": null,
       "flex_flow": null,
       "grid_area": null,
       "grid_auto_columns": null,
       "grid_auto_flow": null,
       "grid_auto_rows": null,
       "grid_column": null,
       "grid_gap": null,
       "grid_row": null,
       "grid_template_areas": null,
       "grid_template_columns": null,
       "grid_template_rows": null,
       "height": null,
       "justify_content": null,
       "justify_items": null,
       "left": null,
       "margin": null,
       "max_height": null,
       "max_width": null,
       "min_height": null,
       "min_width": null,
       "object_fit": null,
       "object_position": null,
       "order": null,
       "overflow": null,
       "overflow_x": null,
       "overflow_y": null,
       "padding": null,
       "right": null,
       "top": null,
       "visibility": null,
       "width": null
      }
     },
     "b5f3b38a30994dd5b45486b387efeb17": {
      "model_module": "@jupyter-widgets/controls",
      "model_module_version": "1.5.0",
      "model_name": "FloatProgressModel",
      "state": {
       "_dom_classes": [],
       "_model_module": "@jupyter-widgets/controls",
       "_model_module_version": "1.5.0",
       "_model_name": "FloatProgressModel",
       "_view_count": null,
       "_view_module": "@jupyter-widgets/controls",
       "_view_module_version": "1.5.0",
       "_view_name": "ProgressView",
       "bar_style": "success",
       "description": "",
       "description_tooltip": null,
       "layout": "IPY_MODEL_83e616f4b2ee4afb93c88322420900ea",
       "max": 1112266413.0,
       "min": 0.0,
       "orientation": "horizontal",
       "style": "IPY_MODEL_c485ace26c8a4f1bb3dfc353e40e88e4",
       "value": 1112266413.0
      }
     },
     "b742816cfe4743acab462916aac67852": {
      "model_module": "@jupyter-widgets/controls",
      "model_module_version": "1.5.0",
      "model_name": "HTMLModel",
      "state": {
       "_dom_classes": [],
       "_model_module": "@jupyter-widgets/controls",
       "_model_module_version": "1.5.0",
       "_model_name": "HTMLModel",
       "_view_count": null,
       "_view_module": "@jupyter-widgets/controls",
       "_view_module_version": "1.5.0",
       "_view_name": "HTMLView",
       "description": "",
       "description_tooltip": null,
       "layout": "IPY_MODEL_8bc11606e0a94860bc27af058c4f14dd",
       "placeholder": "​",
       "style": "IPY_MODEL_f85170a23a394e098aaa6b35e43031d3",
       "value": " 1.12G/1.12G [00:27&lt;00:00, 42.6MB/s]"
      }
     },
     "b8c3a1a47dde440abf270d76974017d3": {
      "model_module": "@jupyter-widgets/base",
      "model_module_version": "1.2.0",
      "model_name": "LayoutModel",
      "state": {
       "_model_module": "@jupyter-widgets/base",
       "_model_module_version": "1.2.0",
       "_model_name": "LayoutModel",
       "_view_count": null,
       "_view_module": "@jupyter-widgets/base",
       "_view_module_version": "1.2.0",
       "_view_name": "LayoutView",
       "align_content": null,
       "align_items": null,
       "align_self": null,
       "border": null,
       "bottom": null,
       "display": null,
       "flex": null,
       "flex_flow": null,
       "grid_area": null,
       "grid_auto_columns": null,
       "grid_auto_flow": null,
       "grid_auto_rows": null,
       "grid_column": null,
       "grid_gap": null,
       "grid_row": null,
       "grid_template_areas": null,
       "grid_template_columns": null,
       "grid_template_rows": null,
       "height": null,
       "justify_content": null,
       "justify_items": null,
       "left": null,
       "margin": null,
       "max_height": null,
       "max_width": null,
       "min_height": null,
       "min_width": null,
       "object_fit": null,
       "object_position": null,
       "order": null,
       "overflow": null,
       "overflow_x": null,
       "overflow_y": null,
       "padding": null,
       "right": null,
       "top": null,
       "visibility": null,
       "width": null
      }
     },
     "b96a8e02851e410da44444eafee3b7c4": {
      "model_module": "@jupyter-widgets/controls",
      "model_module_version": "1.5.0",
      "model_name": "DescriptionStyleModel",
      "state": {
       "_model_module": "@jupyter-widgets/controls",
       "_model_module_version": "1.5.0",
       "_model_name": "DescriptionStyleModel",
       "_view_count": null,
       "_view_module": "@jupyter-widgets/base",
       "_view_module_version": "1.2.0",
       "_view_name": "StyleView",
       "description_width": ""
      }
     },
     "bbc3f6d5ceca4d88a42fdce43521e452": {
      "model_module": "@jupyter-widgets/controls",
      "model_module_version": "1.5.0",
      "model_name": "DescriptionStyleModel",
      "state": {
       "_model_module": "@jupyter-widgets/controls",
       "_model_module_version": "1.5.0",
       "_model_name": "DescriptionStyleModel",
       "_view_count": null,
       "_view_module": "@jupyter-widgets/base",
       "_view_module_version": "1.2.0",
       "_view_name": "StyleView",
       "description_width": ""
      }
     },
     "be62eecc5fc146e6856c5066e6f267de": {
      "model_module": "@jupyter-widgets/controls",
      "model_module_version": "1.5.0",
      "model_name": "HTMLModel",
      "state": {
       "_dom_classes": [],
       "_model_module": "@jupyter-widgets/controls",
       "_model_module_version": "1.5.0",
       "_model_name": "HTMLModel",
       "_view_count": null,
       "_view_module": "@jupyter-widgets/controls",
       "_view_module_version": "1.5.0",
       "_view_name": "HTMLView",
       "description": "",
       "description_tooltip": null,
       "layout": "IPY_MODEL_693011a11bdd489b9be569d2ac7939bd",
       "placeholder": "​",
       "style": "IPY_MODEL_cbcb92b00d884dd0be361c5ddf7459d7",
       "value": "100%"
      }
     },
     "bf9a866d03ad4cf98e83ceaeebca2e47": {
      "model_module": "@jupyter-widgets/controls",
      "model_module_version": "1.5.0",
      "model_name": "ProgressStyleModel",
      "state": {
       "_model_module": "@jupyter-widgets/controls",
       "_model_module_version": "1.5.0",
       "_model_name": "ProgressStyleModel",
       "_view_count": null,
       "_view_module": "@jupyter-widgets/base",
       "_view_module_version": "1.2.0",
       "_view_name": "StyleView",
       "bar_color": null,
       "description_width": ""
      }
     },
     "c485ace26c8a4f1bb3dfc353e40e88e4": {
      "model_module": "@jupyter-widgets/controls",
      "model_module_version": "1.5.0",
      "model_name": "ProgressStyleModel",
      "state": {
       "_model_module": "@jupyter-widgets/controls",
       "_model_module_version": "1.5.0",
       "_model_name": "ProgressStyleModel",
       "_view_count": null,
       "_view_module": "@jupyter-widgets/base",
       "_view_module_version": "1.2.0",
       "_view_name": "StyleView",
       "bar_color": null,
       "description_width": ""
      }
     },
     "c49d7fd710054717af1e454e6261f670": {
      "model_module": "@jupyter-widgets/controls",
      "model_module_version": "1.5.0",
      "model_name": "HBoxModel",
      "state": {
       "_dom_classes": [],
       "_model_module": "@jupyter-widgets/controls",
       "_model_module_version": "1.5.0",
       "_model_name": "HBoxModel",
       "_view_count": null,
       "_view_module": "@jupyter-widgets/controls",
       "_view_module_version": "1.5.0",
       "_view_name": "HBoxView",
       "box_style": "",
       "children": [
        "IPY_MODEL_3f60673f548b45049e7db9c299064c9e",
        "IPY_MODEL_a668f54b214641cbb5c21bce97863703",
        "IPY_MODEL_e6fefa89e9f044f6ba16ddf89cd8cabb"
       ],
       "layout": "IPY_MODEL_92d41627c1f44152ab673d98770b77dc"
      }
     },
     "c85ea7d47472405abe2097966e57b99a": {
      "model_module": "@jupyter-widgets/controls",
      "model_module_version": "1.5.0",
      "model_name": "DescriptionStyleModel",
      "state": {
       "_model_module": "@jupyter-widgets/controls",
       "_model_module_version": "1.5.0",
       "_model_name": "DescriptionStyleModel",
       "_view_count": null,
       "_view_module": "@jupyter-widgets/base",
       "_view_module_version": "1.2.0",
       "_view_name": "StyleView",
       "description_width": ""
      }
     },
     "ca313674b8df488cba2f1fbfdcb55acd": {
      "model_module": "@jupyter-widgets/controls",
      "model_module_version": "1.5.0",
      "model_name": "DescriptionStyleModel",
      "state": {
       "_model_module": "@jupyter-widgets/controls",
       "_model_module_version": "1.5.0",
       "_model_name": "DescriptionStyleModel",
       "_view_count": null,
       "_view_module": "@jupyter-widgets/base",
       "_view_module_version": "1.2.0",
       "_view_name": "StyleView",
       "description_width": ""
      }
     },
     "caba842bd7c4488a8bd6b8294cfd838d": {
      "model_module": "@jupyter-widgets/base",
      "model_module_version": "1.2.0",
      "model_name": "LayoutModel",
      "state": {
       "_model_module": "@jupyter-widgets/base",
       "_model_module_version": "1.2.0",
       "_model_name": "LayoutModel",
       "_view_count": null,
       "_view_module": "@jupyter-widgets/base",
       "_view_module_version": "1.2.0",
       "_view_name": "LayoutView",
       "align_content": null,
       "align_items": null,
       "align_self": null,
       "border": null,
       "bottom": null,
       "display": null,
       "flex": null,
       "flex_flow": null,
       "grid_area": null,
       "grid_auto_columns": null,
       "grid_auto_flow": null,
       "grid_auto_rows": null,
       "grid_column": null,
       "grid_gap": null,
       "grid_row": null,
       "grid_template_areas": null,
       "grid_template_columns": null,
       "grid_template_rows": null,
       "height": null,
       "justify_content": null,
       "justify_items": null,
       "left": null,
       "margin": null,
       "max_height": null,
       "max_width": null,
       "min_height": null,
       "min_width": null,
       "object_fit": null,
       "object_position": null,
       "order": null,
       "overflow": null,
       "overflow_x": null,
       "overflow_y": null,
       "padding": null,
       "right": null,
       "top": null,
       "visibility": null,
       "width": null
      }
     },
     "cbcb92b00d884dd0be361c5ddf7459d7": {
      "model_module": "@jupyter-widgets/controls",
      "model_module_version": "1.5.0",
      "model_name": "DescriptionStyleModel",
      "state": {
       "_model_module": "@jupyter-widgets/controls",
       "_model_module_version": "1.5.0",
       "_model_name": "DescriptionStyleModel",
       "_view_count": null,
       "_view_module": "@jupyter-widgets/base",
       "_view_module_version": "1.2.0",
       "_view_name": "StyleView",
       "description_width": ""
      }
     },
     "cc335e38b08b42dd96b0cb2355a2657f": {
      "model_module": "@jupyter-widgets/base",
      "model_module_version": "1.2.0",
      "model_name": "LayoutModel",
      "state": {
       "_model_module": "@jupyter-widgets/base",
       "_model_module_version": "1.2.0",
       "_model_name": "LayoutModel",
       "_view_count": null,
       "_view_module": "@jupyter-widgets/base",
       "_view_module_version": "1.2.0",
       "_view_name": "LayoutView",
       "align_content": null,
       "align_items": null,
       "align_self": null,
       "border": null,
       "bottom": null,
       "display": null,
       "flex": null,
       "flex_flow": null,
       "grid_area": null,
       "grid_auto_columns": null,
       "grid_auto_flow": null,
       "grid_auto_rows": null,
       "grid_column": null,
       "grid_gap": null,
       "grid_row": null,
       "grid_template_areas": null,
       "grid_template_columns": null,
       "grid_template_rows": null,
       "height": null,
       "justify_content": null,
       "justify_items": null,
       "left": null,
       "margin": null,
       "max_height": null,
       "max_width": null,
       "min_height": null,
       "min_width": null,
       "object_fit": null,
       "object_position": null,
       "order": null,
       "overflow": null,
       "overflow_x": null,
       "overflow_y": null,
       "padding": null,
       "right": null,
       "top": null,
       "visibility": null,
       "width": null
      }
     },
     "cfe7fc80224c4e4985dad8b7fedf52bb": {
      "model_module": "@jupyter-widgets/controls",
      "model_module_version": "1.5.0",
      "model_name": "HTMLModel",
      "state": {
       "_dom_classes": [],
       "_model_module": "@jupyter-widgets/controls",
       "_model_module_version": "1.5.0",
       "_model_name": "HTMLModel",
       "_view_count": null,
       "_view_module": "@jupyter-widgets/controls",
       "_view_module_version": "1.5.0",
       "_view_name": "HTMLView",
       "description": "",
       "description_tooltip": null,
       "layout": "IPY_MODEL_0f9c30e6a85d4628911ebcf8bdb1774a",
       "placeholder": "​",
       "style": "IPY_MODEL_737ef2af22d0467393c16a4c1c23ffed",
       "value": "Downloading (…)al_tokens_map.json&quot;;: 100%"
      }
     },
     "d350b63e0c1f414a8c713a128f4cb950": {
      "model_module": "@jupyter-widgets/controls",
      "model_module_version": "1.5.0",
      "model_name": "HTMLModel",
      "state": {
       "_dom_classes": [],
       "_model_module": "@jupyter-widgets/controls",
       "_model_module_version": "1.5.0",
       "_model_name": "HTMLModel",
       "_view_count": null,
       "_view_module": "@jupyter-widgets/controls",
       "_view_module_version": "1.5.0",
       "_view_name": "HTMLView",
       "description": "",
       "description_tooltip": null,
       "layout": "IPY_MODEL_adcfffd574804960a2e38772740e903f",
       "placeholder": "​",
       "style": "IPY_MODEL_89df4df9f74c4dc7a8bc62d9fa6bf3ec",
       "value": "100%"
      }
     },
     "d78ab976175f4a499114f6dfc5d8c00d": {
      "model_module": "@jupyter-widgets/controls",
      "model_module_version": "1.5.0",
      "model_name": "FloatProgressModel",
      "state": {
       "_dom_classes": [],
       "_model_module": "@jupyter-widgets/controls",
       "_model_module_version": "1.5.0",
       "_model_name": "FloatProgressModel",
       "_view_count": null,
       "_view_module": "@jupyter-widgets/controls",
       "_view_module_version": "1.5.0",
       "_view_name": "ProgressView",
       "bar_style": "success",
       "description": "",
       "description_tooltip": null,
       "layout": "IPY_MODEL_08ceca06e4a347bca344b9f0383b9c4a",
       "max": 239.0,
       "min": 0.0,
       "orientation": "horizontal",
       "style": "IPY_MODEL_84f0376d0c6343f1b6c3f8b4a65db55d",
       "value": 239.0
      }
     },
     "d7cb67fff62846f795c76c0cc7c8b9a7": {
      "model_module": "@jupyter-widgets/controls",
      "model_module_version": "1.5.0",
      "model_name": "DescriptionStyleModel",
      "state": {
       "_model_module": "@jupyter-widgets/controls",
       "_model_module_version": "1.5.0",
       "_model_name": "DescriptionStyleModel",
       "_view_count": null,
       "_view_module": "@jupyter-widgets/base",
       "_view_module_version": "1.2.0",
       "_view_name": "StyleView",
       "description_width": ""
      }
     },
     "d80899046530445286748b5a910982d3": {
      "model_module": "@jupyter-widgets/controls",
      "model_module_version": "1.5.0",
      "model_name": "HTMLModel",
      "state": {
       "_dom_classes": [],
       "_model_module": "@jupyter-widgets/controls",
       "_model_module_version": "1.5.0",
       "_model_name": "HTMLModel",
       "_view_count": null,
       "_view_module": "@jupyter-widgets/controls",
       "_view_module_version": "1.5.0",
       "_view_name": "HTMLView",
       "description": "",
       "description_tooltip": null,
       "layout": "IPY_MODEL_e36d4a418f034121a75347d2fb8e85ad",
       "placeholder": "​",
       "style": "IPY_MODEL_03c79a1207864bfab918f083d37b3bf4",
       "value": " 398/398 [00:00&lt;00:00, 21.9kB/s]"
      }
     },
     "d81bc497869440368b048edf2f2cf745": {
      "model_module": "@jupyter-widgets/controls",
      "model_module_version": "1.5.0",
      "model_name": "DescriptionStyleModel",
      "state": {
       "_model_module": "@jupyter-widgets/controls",
       "_model_module_version": "1.5.0",
       "_model_name": "DescriptionStyleModel",
       "_view_count": null,
       "_view_module": "@jupyter-widgets/base",
       "_view_module_version": "1.2.0",
       "_view_name": "StyleView",
       "description_width": ""
      }
     },
     "da5e71b4e957431ba0450937448f59b4": {
      "model_module": "@jupyter-widgets/base",
      "model_module_version": "1.2.0",
      "model_name": "LayoutModel",
      "state": {
       "_model_module": "@jupyter-widgets/base",
       "_model_module_version": "1.2.0",
       "_model_name": "LayoutModel",
       "_view_count": null,
       "_view_module": "@jupyter-widgets/base",
       "_view_module_version": "1.2.0",
       "_view_name": "LayoutView",
       "align_content": null,
       "align_items": null,
       "align_self": null,
       "border": null,
       "bottom": null,
       "display": null,
       "flex": null,
       "flex_flow": null,
       "grid_area": null,
       "grid_auto_columns": null,
       "grid_auto_flow": null,
       "grid_auto_rows": null,
       "grid_column": null,
       "grid_gap": null,
       "grid_row": null,
       "grid_template_areas": null,
       "grid_template_columns": null,
       "grid_template_rows": null,
       "height": null,
       "justify_content": null,
       "justify_items": null,
       "left": null,
       "margin": null,
       "max_height": null,
       "max_width": null,
       "min_height": null,
       "min_width": null,
       "object_fit": null,
       "object_position": null,
       "order": null,
       "overflow": null,
       "overflow_x": null,
       "overflow_y": null,
       "padding": null,
       "right": null,
       "top": null,
       "visibility": null,
       "width": null
      }
     },
     "dc51f9f574ec44cda0da09d915818a43": {
      "model_module": "@jupyter-widgets/controls",
      "model_module_version": "1.5.0",
      "model_name": "HBoxModel",
      "state": {
       "_dom_classes": [],
       "_model_module": "@jupyter-widgets/controls",
       "_model_module_version": "1.5.0",
       "_model_name": "HBoxModel",
       "_view_count": null,
       "_view_module": "@jupyter-widgets/controls",
       "_view_module_version": "1.5.0",
       "_view_name": "HBoxView",
       "box_style": "",
       "children": [
        "IPY_MODEL_9770b2c308cf4b6d8e3367e0bb5b4f8c",
        "IPY_MODEL_32a46d70bcba44a4a3adc62726d92935",
        "IPY_MODEL_ad14b2ad977143e18087a632cd9b5f57"
       ],
       "layout": "IPY_MODEL_1e50597b5120416fa4156aab848dfa61"
      }
     },
     "dcf58125f28b4078a0e87f338ef89530": {
      "model_module": "@jupyter-widgets/controls",
      "model_module_version": "1.5.0",
      "model_name": "HTMLModel",
      "state": {
       "_dom_classes": [],
       "_model_module": "@jupyter-widgets/controls",
       "_model_module_version": "1.5.0",
       "_model_name": "HTMLModel",
       "_view_count": null,
       "_view_module": "@jupyter-widgets/controls",
       "_view_module_version": "1.5.0",
       "_view_name": "HTMLView",
       "description": "",
       "description_tooltip": null,
       "layout": "IPY_MODEL_9ee7c73a5faa41308f5b6a3a3f5708fe",
       "placeholder": "​",
       "style": "IPY_MODEL_a8561641d9a343c5833a31212132dd05",
       "value": " 4/4 [00:00&lt;00:00,  5.45ba/s]"
      }
     },
     "ddcda6f3a7894fc28b397d62bab55c7a": {
      "model_module": "@jupyter-widgets/controls",
      "model_module_version": "1.5.0",
      "model_name": "FloatProgressModel",
      "state": {
       "_dom_classes": [],
       "_model_module": "@jupyter-widgets/controls",
       "_model_module_version": "1.5.0",
       "_model_name": "FloatProgressModel",
       "_view_count": null,
       "_view_module": "@jupyter-widgets/controls",
       "_view_module_version": "1.5.0",
       "_view_name": "ProgressView",
       "bar_style": "success",
       "description": "",
       "description_tooltip": null,
       "layout": "IPY_MODEL_7be6bd4c48bb459595f7761de50c3f02",
       "max": 615.0,
       "min": 0.0,
       "orientation": "horizontal",
       "style": "IPY_MODEL_e983c261a6364656a26b45eddb1b22ee",
       "value": 615.0
      }
     },
     "e36d4a418f034121a75347d2fb8e85ad": {
      "model_module": "@jupyter-widgets/base",
      "model_module_version": "1.2.0",
      "model_name": "LayoutModel",
      "state": {
       "_model_module": "@jupyter-widgets/base",
       "_model_module_version": "1.2.0",
       "_model_name": "LayoutModel",
       "_view_count": null,
       "_view_module": "@jupyter-widgets/base",
       "_view_module_version": "1.2.0",
       "_view_name": "LayoutView",
       "align_content": null,
       "align_items": null,
       "align_self": null,
       "border": null,
       "bottom": null,
       "display": null,
       "flex": null,
       "flex_flow": null,
       "grid_area": null,
       "grid_auto_columns": null,
       "grid_auto_flow": null,
       "grid_auto_rows": null,
       "grid_column": null,
       "grid_gap": null,
       "grid_row": null,
       "grid_template_areas": null,
       "grid_template_columns": null,
       "grid_template_rows": null,
       "height": null,
       "justify_content": null,
       "justify_items": null,
       "left": null,
       "margin": null,
       "max_height": null,
       "max_width": null,
       "min_height": null,
       "min_width": null,
       "object_fit": null,
       "object_position": null,
       "order": null,
       "overflow": null,
       "overflow_x": null,
       "overflow_y": null,
       "padding": null,
       "right": null,
       "top": null,
       "visibility": null,
       "width": null
      }
     },
     "e410dc5ef30c44ea9fa38f2ee9a9fafd": {
      "model_module": "@jupyter-widgets/controls",
      "model_module_version": "1.5.0",
      "model_name": "FloatProgressModel",
      "state": {
       "_dom_classes": [],
       "_model_module": "@jupyter-widgets/controls",
       "_model_module_version": "1.5.0",
       "_model_name": "FloatProgressModel",
       "_view_count": null,
       "_view_module": "@jupyter-widgets/controls",
       "_view_module_version": "1.5.0",
       "_view_name": "ProgressView",
       "bar_style": "success",
       "description": "",
       "description_tooltip": null,
       "layout": "IPY_MODEL_fcb9d6b5f3c246f69c9c069a9ff55bb7",
       "max": 24.0,
       "min": 0.0,
       "orientation": "horizontal",
       "style": "IPY_MODEL_9a2d4de8670b4b629e668fe2ad39dcd5",
       "value": 24.0
      }
     },
     "e61c2ee0a86546bbb91276618df07a6e": {
      "model_module": "@jupyter-widgets/base",
      "model_module_version": "1.2.0",
      "model_name": "LayoutModel",
      "state": {
       "_model_module": "@jupyter-widgets/base",
       "_model_module_version": "1.2.0",
       "_model_name": "LayoutModel",
       "_view_count": null,
       "_view_module": "@jupyter-widgets/base",
       "_view_module_version": "1.2.0",
       "_view_name": "LayoutView",
       "align_content": null,
       "align_items": null,
       "align_self": null,
       "border": null,
       "bottom": null,
       "display": null,
       "flex": null,
       "flex_flow": null,
       "grid_area": null,
       "grid_auto_columns": null,
       "grid_auto_flow": null,
       "grid_auto_rows": null,
       "grid_column": null,
       "grid_gap": null,
       "grid_row": null,
       "grid_template_areas": null,
       "grid_template_columns": null,
       "grid_template_rows": null,
       "height": null,
       "justify_content": null,
       "justify_items": null,
       "left": null,
       "margin": null,
       "max_height": null,
       "max_width": null,
       "min_height": null,
       "min_width": null,
       "object_fit": null,
       "object_position": null,
       "order": null,
       "overflow": null,
       "overflow_x": null,
       "overflow_y": null,
       "padding": null,
       "right": null,
       "top": null,
       "visibility": null,
       "width": null
      }
     },
     "e63803de71b4482e96f8f622d807327f": {
      "model_module": "@jupyter-widgets/controls",
      "model_module_version": "1.5.0",
      "model_name": "HBoxModel",
      "state": {
       "_dom_classes": [],
       "_model_module": "@jupyter-widgets/controls",
       "_model_module_version": "1.5.0",
       "_model_name": "HBoxModel",
       "_view_count": null,
       "_view_module": "@jupyter-widgets/controls",
       "_view_module_version": "1.5.0",
       "_view_name": "HBoxView",
       "box_style": "",
       "children": [
        "IPY_MODEL_47627521fa264abbad37545b9faacbc4",
        "IPY_MODEL_ddcda6f3a7894fc28b397d62bab55c7a",
        "IPY_MODEL_b00ab7fa4dd94562831a3f71d9039878"
       ],
       "layout": "IPY_MODEL_f9b97554d07840848469e041168e7254"
      }
     },
     "e6fefa89e9f044f6ba16ddf89cd8cabb": {
      "model_module": "@jupyter-widgets/controls",
      "model_module_version": "1.5.0",
      "model_name": "HTMLModel",
      "state": {
       "_dom_classes": [],
       "_model_module": "@jupyter-widgets/controls",
       "_model_module_version": "1.5.0",
       "_model_name": "HTMLModel",
       "_view_count": null,
       "_view_module": "@jupyter-widgets/controls",
       "_view_module_version": "1.5.0",
       "_view_name": "HTMLView",
       "description": "",
       "description_tooltip": null,
       "layout": "IPY_MODEL_f9e40ba2d502465c85cacfc6bf97f65b",
       "placeholder": "​",
       "style": "IPY_MODEL_5155098a31e44e4995d61b484f64f4b6",
       "value": " 5.07M/5.07M [00:01&lt;00:00, 4.29MB/s]"
      }
     },
     "e73efbdba64f4282938c69e8162d269d": {
      "model_module": "@jupyter-widgets/base",
      "model_module_version": "1.2.0",
      "model_name": "LayoutModel",
      "state": {
       "_model_module": "@jupyter-widgets/base",
       "_model_module_version": "1.2.0",
       "_model_name": "LayoutModel",
       "_view_count": null,
       "_view_module": "@jupyter-widgets/base",
       "_view_module_version": "1.2.0",
       "_view_name": "LayoutView",
       "align_content": null,
       "align_items": null,
       "align_self": null,
       "border": null,
       "bottom": null,
       "display": null,
       "flex": null,
       "flex_flow": null,
       "grid_area": null,
       "grid_auto_columns": null,
       "grid_auto_flow": null,
       "grid_auto_rows": null,
       "grid_column": null,
       "grid_gap": null,
       "grid_row": null,
       "grid_template_areas": null,
       "grid_template_columns": null,
       "grid_template_rows": null,
       "height": null,
       "justify_content": null,
       "justify_items": null,
       "left": null,
       "margin": null,
       "max_height": null,
       "max_width": null,
       "min_height": null,
       "min_width": null,
       "object_fit": null,
       "object_position": null,
       "order": null,
       "overflow": null,
       "overflow_x": null,
       "overflow_y": null,
       "padding": null,
       "right": null,
       "top": null,
       "visibility": null,
       "width": null
      }
     },
     "e983c261a6364656a26b45eddb1b22ee": {
      "model_module": "@jupyter-widgets/controls",
      "model_module_version": "1.5.0",
      "model_name": "ProgressStyleModel",
      "state": {
       "_model_module": "@jupyter-widgets/controls",
       "_model_module_version": "1.5.0",
       "_model_name": "ProgressStyleModel",
       "_view_count": null,
       "_view_module": "@jupyter-widgets/base",
       "_view_module_version": "1.2.0",
       "_view_name": "StyleView",
       "bar_color": null,
       "description_width": ""
      }
     },
     "eaed73ec00bc40778a6cde0e3e64ed7c": {
      "model_module": "@jupyter-widgets/base",
      "model_module_version": "1.2.0",
      "model_name": "LayoutModel",
      "state": {
       "_model_module": "@jupyter-widgets/base",
       "_model_module_version": "1.2.0",
       "_model_name": "LayoutModel",
       "_view_count": null,
       "_view_module": "@jupyter-widgets/base",
       "_view_module_version": "1.2.0",
       "_view_name": "LayoutView",
       "align_content": null,
       "align_items": null,
       "align_self": null,
       "border": null,
       "bottom": null,
       "display": null,
       "flex": null,
       "flex_flow": null,
       "grid_area": null,
       "grid_auto_columns": null,
       "grid_auto_flow": null,
       "grid_auto_rows": null,
       "grid_column": null,
       "grid_gap": null,
       "grid_row": null,
       "grid_template_areas": null,
       "grid_template_columns": null,
       "grid_template_rows": null,
       "height": null,
       "justify_content": null,
       "justify_items": null,
       "left": null,
       "margin": null,
       "max_height": null,
       "max_width": null,
       "min_height": null,
       "min_width": null,
       "object_fit": null,
       "object_position": null,
       "order": null,
       "overflow": null,
       "overflow_x": null,
       "overflow_y": null,
       "padding": null,
       "right": null,
       "top": null,
       "visibility": null,
       "width": null
      }
     },
     "ed5ff4d0f1d14a6ab59d763075d43510": {
      "model_module": "@jupyter-widgets/base",
      "model_module_version": "1.2.0",
      "model_name": "LayoutModel",
      "state": {
       "_model_module": "@jupyter-widgets/base",
       "_model_module_version": "1.2.0",
       "_model_name": "LayoutModel",
       "_view_count": null,
       "_view_module": "@jupyter-widgets/base",
       "_view_module_version": "1.2.0",
       "_view_name": "LayoutView",
       "align_content": null,
       "align_items": null,
       "align_self": null,
       "border": null,
       "bottom": null,
       "display": null,
       "flex": null,
       "flex_flow": null,
       "grid_area": null,
       "grid_auto_columns": null,
       "grid_auto_flow": null,
       "grid_auto_rows": null,
       "grid_column": null,
       "grid_gap": null,
       "grid_row": null,
       "grid_template_areas": null,
       "grid_template_columns": null,
       "grid_template_rows": null,
       "height": null,
       "justify_content": null,
       "justify_items": null,
       "left": null,
       "margin": null,
       "max_height": null,
       "max_width": null,
       "min_height": null,
       "min_width": null,
       "object_fit": null,
       "object_position": null,
       "order": null,
       "overflow": null,
       "overflow_x": null,
       "overflow_y": null,
       "padding": null,
       "right": null,
       "top": null,
       "visibility": null,
       "width": null
      }
     },
     "f68986adeaca4f7e8f143580540db8d2": {
      "model_module": "@jupyter-widgets/controls",
      "model_module_version": "1.5.0",
      "model_name": "HTMLModel",
      "state": {
       "_dom_classes": [],
       "_model_module": "@jupyter-widgets/controls",
       "_model_module_version": "1.5.0",
       "_model_name": "HTMLModel",
       "_view_count": null,
       "_view_module": "@jupyter-widgets/controls",
       "_view_module_version": "1.5.0",
       "_view_name": "HTMLView",
       "description": "",
       "description_tooltip": null,
       "layout": "IPY_MODEL_10b493eba7654294bfff8dc2a316fa28",
       "placeholder": "​",
       "style": "IPY_MODEL_ca313674b8df488cba2f1fbfdcb55acd",
       "value": " 1/1 [00:00&lt;00:00,  1.70ba/s]"
      }
     },
     "f7af07185bc741f28a500c6ddec52519": {
      "model_module": "@jupyter-widgets/controls",
      "model_module_version": "1.5.0",
      "model_name": "HTMLModel",
      "state": {
       "_dom_classes": [],
       "_model_module": "@jupyter-widgets/controls",
       "_model_module_version": "1.5.0",
       "_model_name": "HTMLModel",
       "_view_count": null,
       "_view_module": "@jupyter-widgets/controls",
       "_view_module_version": "1.5.0",
       "_view_name": "HTMLView",
       "description": "",
       "description_tooltip": null,
       "layout": "IPY_MODEL_10ebcdfb496a4d2e8544ed9317260d97",
       "placeholder": "​",
       "style": "IPY_MODEL_1dbbd3a6e5f7492b9bc36330a1731e8a",
       "value": "Downloading (…)enizer_config.json&quot;;: 100%"
      }
     },
     "f85170a23a394e098aaa6b35e43031d3": {
      "model_module": "@jupyter-widgets/controls",
      "model_module_version": "1.5.0",
      "model_name": "DescriptionStyleModel",
      "state": {
       "_model_module": "@jupyter-widgets/controls",
       "_model_module_version": "1.5.0",
       "_model_name": "DescriptionStyleModel",
       "_view_count": null,
       "_view_module": "@jupyter-widgets/base",
       "_view_module_version": "1.2.0",
       "_view_name": "StyleView",
       "description_width": ""
      }
     },
     "f9b97554d07840848469e041168e7254": {
      "model_module": "@jupyter-widgets/base",
      "model_module_version": "1.2.0",
      "model_name": "LayoutModel",
      "state": {
       "_model_module": "@jupyter-widgets/base",
       "_model_module_version": "1.2.0",
       "_model_name": "LayoutModel",
       "_view_count": null,
       "_view_module": "@jupyter-widgets/base",
       "_view_module_version": "1.2.0",
       "_view_name": "LayoutView",
       "align_content": null,
       "align_items": null,
       "align_self": null,
       "border": null,
       "bottom": null,
       "display": null,
       "flex": null,
       "flex_flow": null,
       "grid_area": null,
       "grid_auto_columns": null,
       "grid_auto_flow": null,
       "grid_auto_rows": null,
       "grid_column": null,
       "grid_gap": null,
       "grid_row": null,
       "grid_template_areas": null,
       "grid_template_columns": null,
       "grid_template_rows": null,
       "height": null,
       "justify_content": null,
       "justify_items": null,
       "left": null,
       "margin": null,
       "max_height": null,
       "max_width": null,
       "min_height": null,
       "min_width": null,
       "object_fit": null,
       "object_position": null,
       "order": null,
       "overflow": null,
       "overflow_x": null,
       "overflow_y": null,
       "padding": null,
       "right": null,
       "top": null,
       "visibility": null,
       "width": null
      }
     },
     "f9e40ba2d502465c85cacfc6bf97f65b": {
      "model_module": "@jupyter-widgets/base",
      "model_module_version": "1.2.0",
      "model_name": "LayoutModel",
      "state": {
       "_model_module": "@jupyter-widgets/base",
       "_model_module_version": "1.2.0",
       "_model_name": "LayoutModel",
       "_view_count": null,
       "_view_module": "@jupyter-widgets/base",
       "_view_module_version": "1.2.0",
       "_view_name": "LayoutView",
       "align_content": null,
       "align_items": null,
       "align_self": null,
       "border": null,
       "bottom": null,
       "display": null,
       "flex": null,
       "flex_flow": null,
       "grid_area": null,
       "grid_auto_columns": null,
       "grid_auto_flow": null,
       "grid_auto_rows": null,
       "grid_column": null,
       "grid_gap": null,
       "grid_row": null,
       "grid_template_areas": null,
       "grid_template_columns": null,
       "grid_template_rows": null,
       "height": null,
       "justify_content": null,
       "justify_items": null,
       "left": null,
       "margin": null,
       "max_height": null,
       "max_width": null,
       "min_height": null,
       "min_width": null,
       "object_fit": null,
       "object_position": null,
       "order": null,
       "overflow": null,
       "overflow_x": null,
       "overflow_y": null,
       "padding": null,
       "right": null,
       "top": null,
       "visibility": null,
       "width": null
      }
     },
     "fabaa7302a2d4c39a69d97bd23fe82a5": {
      "model_module": "@jupyter-widgets/base",
      "model_module_version": "1.2.0",
      "model_name": "LayoutModel",
      "state": {
       "_model_module": "@jupyter-widgets/base",
       "_model_module_version": "1.2.0",
       "_model_name": "LayoutModel",
       "_view_count": null,
       "_view_module": "@jupyter-widgets/base",
       "_view_module_version": "1.2.0",
       "_view_name": "LayoutView",
       "align_content": null,
       "align_items": null,
       "align_self": null,
       "border": null,
       "bottom": null,
       "display": null,
       "flex": null,
       "flex_flow": null,
       "grid_area": null,
       "grid_auto_columns": null,
       "grid_auto_flow": null,
       "grid_auto_rows": null,
       "grid_column": null,
       "grid_gap": null,
       "grid_row": null,
       "grid_template_areas": null,
       "grid_template_columns": null,
       "grid_template_rows": null,
       "height": null,
       "justify_content": null,
       "justify_items": null,
       "left": null,
       "margin": null,
       "max_height": null,
       "max_width": null,
       "min_height": null,
       "min_width": null,
       "object_fit": null,
       "object_position": null,
       "order": null,
       "overflow": null,
       "overflow_x": null,
       "overflow_y": null,
       "padding": null,
       "right": null,
       "top": null,
       "visibility": null,
       "width": null
      }
     },
     "fc00170194c44f3e974ec1437f664bca": {
      "model_module": "@jupyter-widgets/controls",
      "model_module_version": "1.5.0",
      "model_name": "FloatProgressModel",
      "state": {
       "_dom_classes": [],
       "_model_module": "@jupyter-widgets/controls",
       "_model_module_version": "1.5.0",
       "_model_name": "FloatProgressModel",
       "_view_count": null,
       "_view_module": "@jupyter-widgets/controls",
       "_view_module_version": "1.5.0",
       "_view_name": "ProgressView",
       "bar_style": "success",
       "description": "",
       "description_tooltip": null,
       "layout": "IPY_MODEL_ed5ff4d0f1d14a6ab59d763075d43510",
       "max": 398.0,
       "min": 0.0,
       "orientation": "horizontal",
       "style": "IPY_MODEL_5f6b430e2ad24a52843d202d65920014",
       "value": 398.0
      }
     },
     "fcb9d6b5f3c246f69c9c069a9ff55bb7": {
      "model_module": "@jupyter-widgets/base",
      "model_module_version": "1.2.0",
      "model_name": "LayoutModel",
      "state": {
       "_model_module": "@jupyter-widgets/base",
       "_model_module_version": "1.2.0",
       "_model_name": "LayoutModel",
       "_view_count": null,
       "_view_module": "@jupyter-widgets/base",
       "_view_module_version": "1.2.0",
       "_view_name": "LayoutView",
       "align_content": null,
       "align_items": null,
       "align_self": null,
       "border": null,
       "bottom": null,
       "display": null,
       "flex": null,
       "flex_flow": null,
       "grid_area": null,
       "grid_auto_columns": null,
       "grid_auto_flow": null,
       "grid_auto_rows": null,
       "grid_column": null,
       "grid_gap": null,
       "grid_row": null,
       "grid_template_areas": null,
       "grid_template_columns": null,
       "grid_template_rows": null,
       "height": null,
       "justify_content": null,
       "justify_items": null,
       "left": null,
       "margin": null,
       "max_height": null,
       "max_width": null,
       "min_height": null,
       "min_width": null,
       "object_fit": null,
       "object_position": null,
       "order": null,
       "overflow": null,
       "overflow_x": null,
       "overflow_y": null,
       "padding": null,
       "right": null,
       "top": null,
       "visibility": null,
       "width": null
      }
     },
     "fd16e2318d41474db50f01c196360641": {
      "model_module": "@jupyter-widgets/controls",
      "model_module_version": "1.5.0",
      "model_name": "HBoxModel",
      "state": {
       "_dom_classes": [],
       "_model_module": "@jupyter-widgets/controls",
       "_model_module_version": "1.5.0",
       "_model_name": "HBoxModel",
       "_view_count": null,
       "_view_module": "@jupyter-widgets/controls",
       "_view_module_version": "1.5.0",
       "_view_name": "HBoxView",
       "box_style": "",
       "children": [
        "IPY_MODEL_427ed986089c4ee79b796f4495dabf2c",
        "IPY_MODEL_b5f3b38a30994dd5b45486b387efeb17",
        "IPY_MODEL_83648729cc884105aa62bf850c624914"
       ],
       "layout": "IPY_MODEL_9fa2872f5ee64f60bc2e015271d495c8"
      }
     },
     "fd2ca7535caa4458aa2a7177e4699f32": {
      "model_module": "@jupyter-widgets/controls",
      "model_module_version": "1.5.0",
      "model_name": "ProgressStyleModel",
      "state": {
       "_model_module": "@jupyter-widgets/controls",
       "_model_module_version": "1.5.0",
       "_model_name": "ProgressStyleModel",
       "_view_count": null,
       "_view_module": "@jupyter-widgets/base",
       "_view_module_version": "1.2.0",
       "_view_name": "StyleView",
       "bar_color": null,
       "description_width": ""
      }
     },
     "fe1f68c43a86464c838927c91c1ce1dc": {
      "model_module": "@jupyter-widgets/controls",
      "model_module_version": "1.5.0",
      "model_name": "HTMLModel",
      "state": {
       "_dom_classes": [],
       "_model_module": "@jupyter-widgets/controls",
       "_model_module_version": "1.5.0",
       "_model_name": "HTMLModel",
       "_view_count": null,
       "_view_module": "@jupyter-widgets/controls",
       "_view_module_version": "1.5.0",
       "_view_name": "HTMLView",
       "description": "",
       "description_tooltip": null,
       "layout": "IPY_MODEL_e73efbdba64f4282938c69e8162d269d",
       "placeholder": "​",
       "style": "IPY_MODEL_773b6732479c4015b896bffb116a07ff",
       "value": " 24/24 [00:21&lt;00:00,  1.20ba/s]"
      }
     }
    },
    "version_major": 2,
    "version_minor": 0
   }
  }
 },
 "nbformat": 4,
 "nbformat_minor": 5
}
